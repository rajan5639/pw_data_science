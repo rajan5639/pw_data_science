{
  "cells": [
    {
      "cell_type": "markdown",
      "metadata": {
        "id": "view-in-github",
        "colab_type": "text"
      },
      "source": [
        "<a href=\"https://colab.research.google.com/github/rajan5639/pw_data_science/blob/main/Copy_of_1_Numpy_basics.ipynb\" target=\"_parent\"><img src=\"https://colab.research.google.com/assets/colab-badge.svg\" alt=\"Open In Colab\"/></a>"
      ]
    },
    {
      "cell_type": "code",
      "execution_count": null,
      "id": "0c11627c-28be-4891-aa4e-a13d83f0a4e0",
      "metadata": {
        "id": "0c11627c-28be-4891-aa4e-a13d83f0a4e0"
      },
      "outputs": [],
      "source": [
        "#numpy>> numerical python\n",
        "#2005 by Travis Oliphant\n",
        "#before 2005 there were special mathematical tools (similar to Tora, Linga)"
      ]
    },
    {
      "cell_type": "code",
      "execution_count": null,
      "id": "92cc0cd6-d200-4cc5-86b7-fc0ca5bcfd7d",
      "metadata": {
        "id": "92cc0cd6-d200-4cc5-86b7-fc0ca5bcfd7d"
      },
      "outputs": [],
      "source": [
        "import numpy as np #as is alias"
      ]
    },
    {
      "cell_type": "code",
      "execution_count": null,
      "id": "715f59f2-67b8-4282-b292-4a1c8a12d227",
      "metadata": {
        "id": "715f59f2-67b8-4282-b292-4a1c8a12d227",
        "outputId": "b80ae453-fa20-4081-b641-bfd36b31b19f"
      },
      "outputs": [
        {
          "data": {
            "text/plain": [
              "'1.23.5'"
            ]
          },
          "execution_count": 3,
          "metadata": {},
          "output_type": "execute_result"
        }
      ],
      "source": [
        "np.__version__"
      ]
    },
    {
      "cell_type": "code",
      "execution_count": null,
      "id": "6d8987e1-1b58-46a7-b4fe-967c575d9b2f",
      "metadata": {
        "id": "6d8987e1-1b58-46a7-b4fe-967c575d9b2f",
        "outputId": "13d46d0f-54e2-44a7-d55d-1bd19de6750d"
      },
      "outputs": [
        {
          "name": "stdout",
          "output_type": "stream",
          "text": [
            "\n",
            "NumPy\n",
            "=====\n",
            "\n",
            "Provides\n",
            "  1. An array object of arbitrary homogeneous items\n",
            "  2. Fast mathematical operations over arrays\n",
            "  3. Linear Algebra, Fourier Transforms, Random Number Generation\n",
            "\n",
            "How to use the documentation\n",
            "----------------------------\n",
            "Documentation is available in two forms: docstrings provided\n",
            "with the code, and a loose standing reference guide, available from\n",
            "`the NumPy homepage <https://numpy.org>`_.\n",
            "\n",
            "We recommend exploring the docstrings using\n",
            "`IPython <https://ipython.org>`_, an advanced Python shell with\n",
            "TAB-completion and introspection capabilities.  See below for further\n",
            "instructions.\n",
            "\n",
            "The docstring examples assume that `numpy` has been imported as `np`::\n",
            "\n",
            "  >>> import numpy as np\n",
            "\n",
            "Code snippets are indicated by three greater-than signs::\n",
            "\n",
            "  >>> x = 42\n",
            "  >>> x = x + 1\n",
            "\n",
            "Use the built-in ``help`` function to view a function's docstring::\n",
            "\n",
            "  >>> help(np.sort)\n",
            "  ... # doctest: +SKIP\n",
            "\n",
            "For some objects, ``np.info(obj)`` may provide additional help.  This is\n",
            "particularly true if you see the line \"Help on ufunc object:\" at the top\n",
            "of the help() page.  Ufuncs are implemented in C, not Python, for speed.\n",
            "The native Python help() does not know how to view their help, but our\n",
            "np.info() function does.\n",
            "\n",
            "To search for documents containing a keyword, do::\n",
            "\n",
            "  >>> np.lookfor('keyword')\n",
            "  ... # doctest: +SKIP\n",
            "\n",
            "General-purpose documents like a glossary and help on the basic concepts\n",
            "of numpy are available under the ``doc`` sub-module::\n",
            "\n",
            "  >>> from numpy import doc\n",
            "  >>> help(doc)\n",
            "  ... # doctest: +SKIP\n",
            "\n",
            "Available subpackages\n",
            "---------------------\n",
            "lib\n",
            "    Basic functions used by several sub-packages.\n",
            "random\n",
            "    Core Random Tools\n",
            "linalg\n",
            "    Core Linear Algebra Tools\n",
            "fft\n",
            "    Core FFT routines\n",
            "polynomial\n",
            "    Polynomial tools\n",
            "testing\n",
            "    NumPy testing tools\n",
            "distutils\n",
            "    Enhancements to distutils with support for\n",
            "    Fortran compilers support and more.\n",
            "\n",
            "Utilities\n",
            "---------\n",
            "test\n",
            "    Run numpy unittests\n",
            "show_config\n",
            "    Show numpy build configuration\n",
            "dual\n",
            "    Overwrite certain functions with high-performance SciPy tools.\n",
            "    Note: `numpy.dual` is deprecated.  Use the functions from NumPy or Scipy\n",
            "    directly instead of importing them from `numpy.dual`.\n",
            "matlib\n",
            "    Make everything matrices.\n",
            "__version__\n",
            "    NumPy version string\n",
            "\n",
            "Viewing documentation using IPython\n",
            "-----------------------------------\n",
            "Start IPython with the NumPy profile (``ipython -p numpy``), which will\n",
            "import `numpy` under the alias `np`.  Then, use the ``cpaste`` command to\n",
            "paste examples into the shell.  To see which functions are available in\n",
            "`numpy`, type ``np.<TAB>`` (where ``<TAB>`` refers to the TAB key), or use\n",
            "``np.*cos*?<ENTER>`` (where ``<ENTER>`` refers to the ENTER key) to narrow\n",
            "down the list.  To view the docstring for a function, use\n",
            "``np.cos?<ENTER>`` (to view the docstring) and ``np.cos??<ENTER>`` (to view\n",
            "the source code).\n",
            "\n",
            "Copies vs. in-place operation\n",
            "-----------------------------\n",
            "Most of the functions in `numpy` return a copy of the array argument\n",
            "(e.g., `np.sort`).  In-place versions of these functions are often\n",
            "available as array methods, i.e. ``x = np.array([1,2,3]); x.sort()``.\n",
            "Exceptions to this rule are documented.\n",
            "\n",
            "\n"
          ]
        }
      ],
      "source": [
        "print(np.__doc__)"
      ]
    },
    {
      "cell_type": "code",
      "execution_count": null,
      "id": "8b525f66-0bac-47ff-9c1d-856b3e904ea7",
      "metadata": {
        "id": "8b525f66-0bac-47ff-9c1d-856b3e904ea7",
        "outputId": "86ff7dbd-e514-42c2-9b9c-c01e64277456"
      },
      "outputs": [
        {
          "data": {
            "text/plain": [
              "list"
            ]
          },
          "execution_count": 5,
          "metadata": {},
          "output_type": "execute_result"
        }
      ],
      "source": [
        "lis = [1, 2, 3, \"pwskills\", 3+5j, True, 1.2] #list stores heterogenous data\n",
        "type(lis)"
      ]
    },
    {
      "cell_type": "code",
      "execution_count": null,
      "id": "5304f690-0e53-4730-bbfd-5c29a52bb22d",
      "metadata": {
        "id": "5304f690-0e53-4730-bbfd-5c29a52bb22d"
      },
      "outputs": [],
      "source": [
        "#Numpy stored the data in a numpy array\n",
        "#An array is a container/data structure used to store data of same data type>> homogenous"
      ]
    },
    {
      "cell_type": "code",
      "execution_count": null,
      "id": "ed243b2a-61d1-4859-9ee1-5f0ae599c152",
      "metadata": {
        "id": "ed243b2a-61d1-4859-9ee1-5f0ae599c152"
      },
      "outputs": [],
      "source": [
        "#why numpy? already we have list, C is one of the fastest programming language after c++\n",
        "#numpy is built using C>> Numpy computation is fast\n",
        "#due to array>>since it stores only homogenous data, numpy array is faster\n",
        "#since it stores homogenous data>> contiguous/continuous memory location\n",
        "#Mathematical computation is fast"
      ]
    },
    {
      "cell_type": "code",
      "execution_count": null,
      "id": "71e5a1d5-fb8d-4603-9153-86c4347b4e6d",
      "metadata": {
        "id": "71e5a1d5-fb8d-4603-9153-86c4347b4e6d"
      },
      "outputs": [],
      "source": [
        "l = [1, 2, 3, 4, 5] #numpy array is homogenous>>all elements can be interger, float, string"
      ]
    },
    {
      "cell_type": "code",
      "execution_count": null,
      "id": "6e47d24d-a888-4eee-a667-e1703ee429d3",
      "metadata": {
        "id": "6e47d24d-a888-4eee-a667-e1703ee429d3"
      },
      "outputs": [],
      "source": [
        "arr = np.array(l) #numpy.ndarray>>n dimensional array"
      ]
    },
    {
      "cell_type": "code",
      "execution_count": null,
      "id": "41b76bbd-1d1d-463e-95a2-f25804c92b92",
      "metadata": {
        "id": "41b76bbd-1d1d-463e-95a2-f25804c92b92",
        "outputId": "71926171-646b-456c-94b7-41f0ffbc3f91"
      },
      "outputs": [
        {
          "data": {
            "text/plain": [
              "numpy.ndarray"
            ]
          },
          "execution_count": 11,
          "metadata": {},
          "output_type": "execute_result"
        }
      ],
      "source": [
        "type(arr)"
      ]
    },
    {
      "cell_type": "code",
      "execution_count": null,
      "id": "f5f74c84-892a-46e5-9333-74589de23110",
      "metadata": {
        "id": "f5f74c84-892a-46e5-9333-74589de23110",
        "outputId": "cd3548e9-0346-4708-d5f6-0c795823b427"
      },
      "outputs": [
        {
          "data": {
            "text/plain": [
              "array([1, 2, 3, 4, 5])"
            ]
          },
          "execution_count": 13,
          "metadata": {},
          "output_type": "execute_result"
        }
      ],
      "source": [
        "arr"
      ]
    },
    {
      "cell_type": "code",
      "execution_count": null,
      "id": "dec833ce-4d9b-40fc-9012-1193c08116d7",
      "metadata": {
        "id": "dec833ce-4d9b-40fc-9012-1193c08116d7",
        "outputId": "713513a3-8424-43a6-9702-cf1cb5454c1f"
      },
      "outputs": [
        {
          "data": {
            "text/plain": [
              "array(['1', '2', '3', '4', '5', 'Ajay'], dtype='<U21')"
            ]
          },
          "execution_count": 12,
          "metadata": {},
          "output_type": "execute_result"
        }
      ],
      "source": [
        "l = [1, 2, 3, 4, 5, \"Ajay\"]\n",
        "np.array(l)"
      ]
    },
    {
      "cell_type": "code",
      "execution_count": null,
      "id": "e60b4290-1c5d-4781-8b9f-afe63fd7fef1",
      "metadata": {
        "id": "e60b4290-1c5d-4781-8b9f-afe63fd7fef1"
      },
      "outputs": [],
      "source": [
        "#array stores homogenous data"
      ]
    },
    {
      "cell_type": "code",
      "execution_count": null,
      "id": "d75db728-8203-474d-af7a-6609bbb0259e",
      "metadata": {
        "id": "d75db728-8203-474d-af7a-6609bbb0259e",
        "outputId": "1d35103f-5920-4ed7-e87a-acd85fd3c2dc"
      },
      "outputs": [
        {
          "data": {
            "text/plain": [
              "array([1. , 2. , 3. , 4. , 5. , 2.5])"
            ]
          },
          "execution_count": 14,
          "metadata": {},
          "output_type": "execute_result"
        }
      ],
      "source": [
        "l = [1, 2, 3, 4, 5, 2.5]\n",
        "np.array(l)"
      ]
    },
    {
      "cell_type": "code",
      "execution_count": null,
      "id": "2c43feb2-119f-45ce-8d61-b3146a6bc42d",
      "metadata": {
        "id": "2c43feb2-119f-45ce-8d61-b3146a6bc42d",
        "outputId": "6336a594-40d2-420e-bd68-05af6ac55c99"
      },
      "outputs": [
        {
          "data": {
            "text/plain": [
              "array(['1', '2', '3', '4', '5', '2.5', 'pwskills'], dtype='<U32')"
            ]
          },
          "execution_count": 15,
          "metadata": {},
          "output_type": "execute_result"
        }
      ],
      "source": [
        "l = [1, 2, 3, 4, 5, 2.5, \"pwskills\"]\n",
        "np.array(l)"
      ]
    },
    {
      "cell_type": "code",
      "execution_count": null,
      "id": "63df7c3e-a659-4150-8ab3-3f2c955e18c3",
      "metadata": {
        "id": "63df7c3e-a659-4150-8ab3-3f2c955e18c3",
        "outputId": "f8ac41c4-415e-49b6-96fc-3b3350b8466f"
      },
      "outputs": [
        {
          "data": {
            "text/plain": [
              "numpy.ndarray"
            ]
          },
          "execution_count": 16,
          "metadata": {},
          "output_type": "execute_result"
        }
      ],
      "source": [
        "type(arr)"
      ]
    },
    {
      "cell_type": "code",
      "execution_count": null,
      "id": "a759a228-12ed-4e56-ba44-8e293848fa2b",
      "metadata": {
        "id": "a759a228-12ed-4e56-ba44-8e293848fa2b",
        "outputId": "15b219da-adb3-4938-b17a-39e3de26941d"
      },
      "outputs": [
        {
          "data": {
            "text/plain": [
              "array([1, 2, 3, 4, 5])"
            ]
          },
          "execution_count": 17,
          "metadata": {},
          "output_type": "execute_result"
        }
      ],
      "source": [
        "arr"
      ]
    },
    {
      "cell_type": "code",
      "execution_count": null,
      "id": "5a111f78-520c-4c04-b264-e1a866f1a34e",
      "metadata": {
        "id": "5a111f78-520c-4c04-b264-e1a866f1a34e",
        "outputId": "08e5d0fd-2928-4ce2-a50e-7dbbe56f4522"
      },
      "outputs": [
        {
          "data": {
            "text/plain": [
              "1"
            ]
          },
          "execution_count": 18,
          "metadata": {},
          "output_type": "execute_result"
        }
      ],
      "source": [
        "arr.ndim #arr has only rows"
      ]
    },
    {
      "cell_type": "code",
      "execution_count": null,
      "id": "3f0de339-cb9e-45d8-b3d3-21ca151d1dbf",
      "metadata": {
        "id": "3f0de339-cb9e-45d8-b3d3-21ca151d1dbf"
      },
      "outputs": [],
      "source": [
        "arr1 = np.array([[1, 2, 3], [4, 5, 6]])"
      ]
    },
    {
      "cell_type": "code",
      "execution_count": null,
      "id": "2a0eb8d8-097f-4860-85c4-5d21965733e6",
      "metadata": {
        "id": "2a0eb8d8-097f-4860-85c4-5d21965733e6",
        "outputId": "59720aca-3012-4de2-fc1a-d2202aeafee1"
      },
      "outputs": [
        {
          "data": {
            "text/plain": [
              "array([[1, 2, 3],\n",
              "       [4, 5, 6]])"
            ]
          },
          "execution_count": 21,
          "metadata": {},
          "output_type": "execute_result"
        }
      ],
      "source": [
        "arr1"
      ]
    },
    {
      "cell_type": "code",
      "execution_count": null,
      "id": "afe7ecb7-bbc5-4009-8577-414a180ac521",
      "metadata": {
        "id": "afe7ecb7-bbc5-4009-8577-414a180ac521",
        "outputId": "858fa9c9-1183-4357-bcc1-8533426e83eb"
      },
      "outputs": [
        {
          "data": {
            "text/plain": [
              "2"
            ]
          },
          "execution_count": 22,
          "metadata": {},
          "output_type": "execute_result"
        }
      ],
      "source": [
        "arr1.ndim"
      ]
    },
    {
      "cell_type": "code",
      "execution_count": null,
      "id": "bd4b9850-0d4b-4ae7-b2dc-e73d41e265f9",
      "metadata": {
        "id": "bd4b9850-0d4b-4ae7-b2dc-e73d41e265f9"
      },
      "outputs": [],
      "source": [
        "mat = np.matrix([1, 2, 3, 4]) #matrix is a specialised array of 2 dimension"
      ]
    },
    {
      "cell_type": "code",
      "execution_count": null,
      "id": "93c3a4d2-468b-4833-9d36-33f5014a687e",
      "metadata": {
        "id": "93c3a4d2-468b-4833-9d36-33f5014a687e",
        "outputId": "71a07063-acd7-4478-e959-4a16173d0c3d"
      },
      "outputs": [
        {
          "data": {
            "text/plain": [
              "numpy.matrix"
            ]
          },
          "execution_count": 25,
          "metadata": {},
          "output_type": "execute_result"
        }
      ],
      "source": [
        "type(mat)"
      ]
    },
    {
      "cell_type": "code",
      "execution_count": null,
      "id": "b864d965-5568-4e73-b3e7-ecc406a8c95e",
      "metadata": {
        "id": "b864d965-5568-4e73-b3e7-ecc406a8c95e",
        "outputId": "4c9b3be7-940e-4246-e9a1-16c3ce6205ac"
      },
      "outputs": [
        {
          "data": {
            "text/plain": [
              "2"
            ]
          },
          "execution_count": 26,
          "metadata": {},
          "output_type": "execute_result"
        }
      ],
      "source": [
        "mat.ndim"
      ]
    },
    {
      "cell_type": "code",
      "execution_count": null,
      "id": "9eeb54b3-1bd3-42ec-b0b4-b02eb886fa19",
      "metadata": {
        "id": "9eeb54b3-1bd3-42ec-b0b4-b02eb886fa19",
        "outputId": "aa4401f6-7650-4bcb-8db2-39af8edbccae"
      },
      "outputs": [
        {
          "data": {
            "text/plain": [
              "matrix([[1, 2, 3, 4]])"
            ]
          },
          "execution_count": 27,
          "metadata": {},
          "output_type": "execute_result"
        }
      ],
      "source": [
        "mat"
      ]
    },
    {
      "cell_type": "code",
      "execution_count": null,
      "id": "a8b53d7d-9c36-498f-b454-61c706c5bd81",
      "metadata": {
        "id": "a8b53d7d-9c36-498f-b454-61c706c5bd81"
      },
      "outputs": [],
      "source": [
        "#To understand the dimension, see the no of opening/closing square bracket"
      ]
    },
    {
      "cell_type": "code",
      "execution_count": null,
      "id": "ab0a3dc4-d13c-4e3e-b454-3bee823fc0e4",
      "metadata": {
        "id": "ab0a3dc4-d13c-4e3e-b454-3bee823fc0e4",
        "outputId": "39b9d28f-75ab-43e5-fd1f-f1509bf6a846"
      },
      "outputs": [
        {
          "ename": "ValueError",
          "evalue": "matrix must be 2-dimensional",
          "output_type": "error",
          "traceback": [
            "\u001b[0;31m---------------------------------------------------------------------------\u001b[0m",
            "\u001b[0;31mValueError\u001b[0m                                Traceback (most recent call last)",
            "Cell \u001b[0;32mIn[28], line 1\u001b[0m\n\u001b[0;32m----> 1\u001b[0m \u001b[43mnp\u001b[49m\u001b[38;5;241;43m.\u001b[39;49m\u001b[43mmatrix\u001b[49m\u001b[43m(\u001b[49m\u001b[43m[\u001b[49m\u001b[43m[\u001b[49m\u001b[43m[\u001b[49m\u001b[38;5;241;43m1\u001b[39;49m\u001b[43m,\u001b[49m\u001b[43m \u001b[49m\u001b[38;5;241;43m2\u001b[39;49m\u001b[43m]\u001b[49m\u001b[43m,\u001b[49m\u001b[43m \u001b[49m\u001b[43m[\u001b[49m\u001b[38;5;241;43m1\u001b[39;49m\u001b[43m,\u001b[49m\u001b[43m \u001b[49m\u001b[38;5;241;43m5\u001b[39;49m\u001b[43m]\u001b[49m\u001b[43m,\u001b[49m\u001b[43m \u001b[49m\u001b[43m[\u001b[49m\u001b[38;5;241;43m3\u001b[39;49m\u001b[43m,\u001b[49m\u001b[43m \u001b[49m\u001b[38;5;241;43m6\u001b[39;49m\u001b[43m]\u001b[49m\u001b[43m]\u001b[49m\u001b[43m]\u001b[49m\u001b[43m)\u001b[49m\n",
            "File \u001b[0;32m/opt/conda/lib/python3.10/site-packages/numpy/matrixlib/defmatrix.py:149\u001b[0m, in \u001b[0;36mmatrix.__new__\u001b[0;34m(subtype, data, dtype, copy)\u001b[0m\n\u001b[1;32m    147\u001b[0m shape \u001b[38;5;241m=\u001b[39m arr\u001b[38;5;241m.\u001b[39mshape\n\u001b[1;32m    148\u001b[0m \u001b[38;5;28;01mif\u001b[39;00m (ndim \u001b[38;5;241m>\u001b[39m \u001b[38;5;241m2\u001b[39m):\n\u001b[0;32m--> 149\u001b[0m     \u001b[38;5;28;01mraise\u001b[39;00m \u001b[38;5;167;01mValueError\u001b[39;00m(\u001b[38;5;124m\"\u001b[39m\u001b[38;5;124mmatrix must be 2-dimensional\u001b[39m\u001b[38;5;124m\"\u001b[39m)\n\u001b[1;32m    150\u001b[0m \u001b[38;5;28;01melif\u001b[39;00m ndim \u001b[38;5;241m==\u001b[39m \u001b[38;5;241m0\u001b[39m:\n\u001b[1;32m    151\u001b[0m     shape \u001b[38;5;241m=\u001b[39m (\u001b[38;5;241m1\u001b[39m, \u001b[38;5;241m1\u001b[39m)\n",
            "\u001b[0;31mValueError\u001b[0m: matrix must be 2-dimensional"
          ]
        }
      ],
      "source": [
        "np.matrix([[[1, 2], [1, 5], [3, 6]]]) #will throw error-matrix must be 2-dimensional"
      ]
    },
    {
      "cell_type": "code",
      "execution_count": null,
      "id": "e5fd0146-e441-4cc6-bf33-828fd0f4c220",
      "metadata": {
        "id": "e5fd0146-e441-4cc6-bf33-828fd0f4c220"
      },
      "outputs": [],
      "source": [
        "arr3 = np.array([[[1, 2], [1, 5], [3, 6]]])"
      ]
    },
    {
      "cell_type": "code",
      "execution_count": null,
      "id": "fdb3a490-e44e-4a41-83ae-71c20ab14f4f",
      "metadata": {
        "id": "fdb3a490-e44e-4a41-83ae-71c20ab14f4f",
        "outputId": "5ab5c10c-30b6-4a9a-df5f-23bd58411477"
      },
      "outputs": [
        {
          "data": {
            "text/plain": [
              "array([[[1, 2],\n",
              "        [1, 5],\n",
              "        [3, 6]]])"
            ]
          },
          "execution_count": 30,
          "metadata": {},
          "output_type": "execute_result"
        }
      ],
      "source": [
        "arr3"
      ]
    },
    {
      "cell_type": "code",
      "execution_count": null,
      "id": "dd2e2ebd-d308-40ad-9542-05244da4c959",
      "metadata": {
        "id": "dd2e2ebd-d308-40ad-9542-05244da4c959",
        "outputId": "5a1cd83b-1315-41b7-c8b9-5bc6f8e99073"
      },
      "outputs": [
        {
          "data": {
            "text/plain": [
              "3"
            ]
          },
          "execution_count": 31,
          "metadata": {},
          "output_type": "execute_result"
        }
      ],
      "source": [
        "arr3.ndim"
      ]
    },
    {
      "cell_type": "code",
      "execution_count": null,
      "id": "4cbe0c35-44f7-4c5e-a6b4-fdd8177c62a7",
      "metadata": {
        "id": "4cbe0c35-44f7-4c5e-a6b4-fdd8177c62a7",
        "outputId": "b9101632-7caa-4d24-ae09-0452e94e94e1"
      },
      "outputs": [
        {
          "data": {
            "text/plain": [
              "array([1, 2, 3])"
            ]
          },
          "execution_count": 32,
          "metadata": {},
          "output_type": "execute_result"
        }
      ],
      "source": [
        "#more ways to array\n",
        "l = [1, 2, 3]\n",
        "np.asarray(l)       #initial function asarray to convert to an array, np.array came after this"
      ]
    },
    {
      "cell_type": "code",
      "execution_count": null,
      "id": "3e6e7343-439b-4276-86bc-4665ce4ce2d5",
      "metadata": {
        "id": "3e6e7343-439b-4276-86bc-4665ce4ce2d5",
        "outputId": "fb2cfa97-1dc2-4416-efcc-3d2edad7415d"
      },
      "outputs": [
        {
          "data": {
            "text/plain": [
              "array([1, 2, 3])"
            ]
          },
          "execution_count": 34,
          "metadata": {},
          "output_type": "execute_result"
        }
      ],
      "source": [
        "np.asanyarray([1, 2, 3])"
      ]
    },
    {
      "cell_type": "code",
      "execution_count": null,
      "id": "f765619b-f848-4f6a-a5c5-f70f4f6efea7",
      "metadata": {
        "id": "f765619b-f848-4f6a-a5c5-f70f4f6efea7"
      },
      "outputs": [],
      "source": [
        "#asanyarray will contert the input to an ndarray, but pass ndarray subclasses through\n",
        "#if something is already an array or part of array, it will simply allow to pass through it"
      ]
    },
    {
      "cell_type": "code",
      "execution_count": null,
      "id": "20911fa7-6004-443b-a51b-96f09752c33e",
      "metadata": {
        "id": "20911fa7-6004-443b-a51b-96f09752c33e",
        "outputId": "592e0887-bd46-4500-9d28-4f49477ed8e4"
      },
      "outputs": [
        {
          "data": {
            "text/plain": [
              "array([1, 2, 3])"
            ]
          },
          "execution_count": 36,
          "metadata": {},
          "output_type": "execute_result"
        }
      ],
      "source": [
        "np.asanyarray([1, 2, 3])"
      ]
    },
    {
      "cell_type": "code",
      "execution_count": null,
      "id": "a056ad6d-8f55-4937-9f1e-da4d94f36ab0",
      "metadata": {
        "id": "a056ad6d-8f55-4937-9f1e-da4d94f36ab0",
        "outputId": "4e6ee720-fb40-4f09-add0-aa465a340535"
      },
      "outputs": [
        {
          "data": {
            "text/plain": [
              "matrix([[1, 2, 3, 4]])"
            ]
          },
          "execution_count": 37,
          "metadata": {},
          "output_type": "execute_result"
        }
      ],
      "source": [
        "mat"
      ]
    },
    {
      "cell_type": "code",
      "execution_count": null,
      "id": "4edccf37-3690-4a52-97d2-fd081c4d7b8a",
      "metadata": {
        "id": "4edccf37-3690-4a52-97d2-fd081c4d7b8a",
        "outputId": "99e50aec-2106-46c2-a59f-126ee570daef"
      },
      "outputs": [
        {
          "data": {
            "text/plain": [
              "matrix([[1, 2, 3, 4]])"
            ]
          },
          "execution_count": 38,
          "metadata": {},
          "output_type": "execute_result"
        }
      ],
      "source": [
        "np.asanyarray(mat)"
      ]
    },
    {
      "cell_type": "code",
      "execution_count": null,
      "id": "8f563aa7-26cc-4719-8329-1b44c6903ae3",
      "metadata": {
        "id": "8f563aa7-26cc-4719-8329-1b44c6903ae3",
        "outputId": "01d5fbb3-97b3-4531-bd93-290be8930b3f"
      },
      "outputs": [
        {
          "data": {
            "text/plain": [
              "tuple"
            ]
          },
          "execution_count": 39,
          "metadata": {},
          "output_type": "execute_result"
        }
      ],
      "source": [
        "t = ([1, 2, 3], [4, 5, 6])\n",
        "type(t)"
      ]
    },
    {
      "cell_type": "code",
      "execution_count": null,
      "id": "38386803-89aa-4663-98a3-977807a9179e",
      "metadata": {
        "id": "38386803-89aa-4663-98a3-977807a9179e",
        "outputId": "7dd4f227-16fd-470a-b6fd-829b25caeba5"
      },
      "outputs": [
        {
          "data": {
            "text/plain": [
              "array([[1, 2, 3],\n",
              "       [4, 5, 6]])"
            ]
          },
          "execution_count": 40,
          "metadata": {},
          "output_type": "execute_result"
        }
      ],
      "source": [
        "np.array(t)"
      ]
    },
    {
      "cell_type": "code",
      "execution_count": null,
      "id": "e45f392a-01cb-4539-ad88-4368dada3015",
      "metadata": {
        "id": "e45f392a-01cb-4539-ad88-4368dada3015",
        "outputId": "45ea1e47-e560-4914-9ce7-591b9531ed80"
      },
      "outputs": [
        {
          "data": {
            "text/plain": [
              "array([1, 2, 3, 4, 5])"
            ]
          },
          "execution_count": 41,
          "metadata": {},
          "output_type": "execute_result"
        }
      ],
      "source": [
        "arr"
      ]
    },
    {
      "cell_type": "code",
      "execution_count": null,
      "id": "c2f04929-a8b0-4c86-aa2d-e1324e770d31",
      "metadata": {
        "id": "c2f04929-a8b0-4c86-aa2d-e1324e770d31",
        "outputId": "41987157-1f39-4213-9dd7-3f90d61dc877"
      },
      "outputs": [
        {
          "data": {
            "text/plain": [
              "1"
            ]
          },
          "execution_count": 43,
          "metadata": {},
          "output_type": "execute_result"
        }
      ],
      "source": [
        "#accessing elements of the array\n",
        "arr[0]"
      ]
    },
    {
      "cell_type": "code",
      "execution_count": null,
      "id": "ca7086f3-932e-4a2f-93c1-671838132099",
      "metadata": {
        "id": "ca7086f3-932e-4a2f-93c1-671838132099"
      },
      "outputs": [],
      "source": [
        "#array is mutable\n",
        "arr[0] = 1000"
      ]
    },
    {
      "cell_type": "code",
      "execution_count": null,
      "id": "cf8cb290-a39c-42b2-96e7-84658c328864",
      "metadata": {
        "id": "cf8cb290-a39c-42b2-96e7-84658c328864",
        "outputId": "81140dff-a5f1-4d76-c95e-ffabdac1acb0"
      },
      "outputs": [
        {
          "data": {
            "text/plain": [
              "array([1000,    2,    3,    4,    5])"
            ]
          },
          "execution_count": 45,
          "metadata": {},
          "output_type": "execute_result"
        }
      ],
      "source": [
        "arr"
      ]
    },
    {
      "cell_type": "code",
      "execution_count": null,
      "id": "2a76e927-0858-49c9-a909-79d0055bdc7d",
      "metadata": {
        "id": "2a76e927-0858-49c9-a909-79d0055bdc7d",
        "outputId": "9ab9d8db-e30c-40ef-a399-75f4551f6b47"
      },
      "outputs": [
        {
          "data": {
            "text/plain": [
              "array([1000,    2,    3,    4,    5])"
            ]
          },
          "execution_count": 46,
          "metadata": {},
          "output_type": "execute_result"
        }
      ],
      "source": [
        "arr"
      ]
    },
    {
      "cell_type": "code",
      "execution_count": null,
      "id": "0808f384-c518-497f-9898-c27f3e9c3bcc",
      "metadata": {
        "id": "0808f384-c518-497f-9898-c27f3e9c3bcc"
      },
      "outputs": [],
      "source": [
        "#a and arr will point to same memory location, so if there is change is a or arr\n",
        "#it will reflect on both\n",
        "\n",
        "a = arr"
      ]
    },
    {
      "cell_type": "code",
      "execution_count": null,
      "id": "a8ff514c-8e00-4135-a251-095f3b1cc203",
      "metadata": {
        "id": "a8ff514c-8e00-4135-a251-095f3b1cc203",
        "outputId": "ffd929f4-3d42-4bd6-fa90-5eee3392e625"
      },
      "outputs": [
        {
          "data": {
            "text/plain": [
              "array([1000,    2,    3,    4,    5])"
            ]
          },
          "execution_count": 49,
          "metadata": {},
          "output_type": "execute_result"
        }
      ],
      "source": [
        "a"
      ]
    },
    {
      "cell_type": "code",
      "execution_count": null,
      "id": "84fad9d3-138a-490c-8e61-0f277ff6b0c5",
      "metadata": {
        "id": "84fad9d3-138a-490c-8e61-0f277ff6b0c5",
        "outputId": "564ff3c8-18c6-4439-8b25-4bd5387ec615"
      },
      "outputs": [
        {
          "data": {
            "text/plain": [
              "array([1000,    2,    3,    4,    5])"
            ]
          },
          "execution_count": 50,
          "metadata": {},
          "output_type": "execute_result"
        }
      ],
      "source": [
        "arr"
      ]
    },
    {
      "cell_type": "code",
      "execution_count": null,
      "id": "4c103cd3-695e-47d6-9ff9-d4ed8b77eaa8",
      "metadata": {
        "id": "4c103cd3-695e-47d6-9ff9-d4ed8b77eaa8"
      },
      "outputs": [],
      "source": [
        "#shallow copy>> change in one array will lead to change in another"
      ]
    },
    {
      "cell_type": "code",
      "execution_count": null,
      "id": "cd0ebd2d-d7b5-48e1-a5c1-5eeecc4daf3b",
      "metadata": {
        "id": "cd0ebd2d-d7b5-48e1-a5c1-5eeecc4daf3b"
      },
      "outputs": [],
      "source": [
        "a[0] = 5000"
      ]
    },
    {
      "cell_type": "code",
      "execution_count": null,
      "id": "715ddc5c-279c-4157-b73e-aa0fe348faf6",
      "metadata": {
        "id": "715ddc5c-279c-4157-b73e-aa0fe348faf6",
        "outputId": "26a67267-b0c3-4570-f2f0-5a91211f4892"
      },
      "outputs": [
        {
          "data": {
            "text/plain": [
              "array([5000,    2,    3,    4,    5])"
            ]
          },
          "execution_count": 55,
          "metadata": {},
          "output_type": "execute_result"
        }
      ],
      "source": [
        "a"
      ]
    },
    {
      "cell_type": "code",
      "execution_count": null,
      "id": "6e25eff7-6bc1-4388-b00e-3aa5855855b5",
      "metadata": {
        "id": "6e25eff7-6bc1-4388-b00e-3aa5855855b5",
        "outputId": "40cff42b-a99a-4bf6-ec03-761cca3002d7"
      },
      "outputs": [
        {
          "data": {
            "text/plain": [
              "array([5000,    2,    3,    4,    5])"
            ]
          },
          "execution_count": 56,
          "metadata": {},
          "output_type": "execute_result"
        }
      ],
      "source": [
        "arr"
      ]
    },
    {
      "cell_type": "code",
      "execution_count": null,
      "id": "3cf19183-f630-4618-b07c-496d30380748",
      "metadata": {
        "id": "3cf19183-f630-4618-b07c-496d30380748",
        "outputId": "9655fb40-f46f-49cf-fef6-c69352f09a75"
      },
      "outputs": [
        {
          "data": {
            "text/plain": [
              "array([5000,    2,    3,    4,    5])"
            ]
          },
          "execution_count": 57,
          "metadata": {},
          "output_type": "execute_result"
        }
      ],
      "source": [
        "arr"
      ]
    },
    {
      "cell_type": "code",
      "execution_count": null,
      "id": "6db68fa3-e34c-4012-ae2f-bb9364da6e20",
      "metadata": {
        "id": "6db68fa3-e34c-4012-ae2f-bb9364da6e20"
      },
      "outputs": [],
      "source": [
        "b = arr.copy() #deep copy>> change in one array will not reflect in another"
      ]
    },
    {
      "cell_type": "code",
      "execution_count": null,
      "id": "04c42086-126d-416c-819c-397b4b5a87d9",
      "metadata": {
        "id": "04c42086-126d-416c-819c-397b4b5a87d9",
        "outputId": "ac1a1e16-8734-4ccb-cc3f-93ee87066a14"
      },
      "outputs": [
        {
          "data": {
            "text/plain": [
              "array([5000,    2,    3,    4,    5])"
            ]
          },
          "execution_count": 59,
          "metadata": {},
          "output_type": "execute_result"
        }
      ],
      "source": [
        "b"
      ]
    },
    {
      "cell_type": "code",
      "execution_count": null,
      "id": "da4a67b0-9d15-4474-b244-47e16e3f8544",
      "metadata": {
        "id": "da4a67b0-9d15-4474-b244-47e16e3f8544"
      },
      "outputs": [],
      "source": [
        "b[0] = 11000"
      ]
    },
    {
      "cell_type": "code",
      "execution_count": null,
      "id": "92659063-a36b-4638-824a-65cbfdcaee2a",
      "metadata": {
        "id": "92659063-a36b-4638-824a-65cbfdcaee2a",
        "outputId": "3b8cb2cb-43cf-4f76-e05f-190c70a65ffe"
      },
      "outputs": [
        {
          "data": {
            "text/plain": [
              "array([11000,     2,     3,     4,     5])"
            ]
          },
          "execution_count": 63,
          "metadata": {},
          "output_type": "execute_result"
        }
      ],
      "source": [
        "b"
      ]
    },
    {
      "cell_type": "code",
      "execution_count": null,
      "id": "085e7d66-2d44-4245-a472-3006ab4db428",
      "metadata": {
        "id": "085e7d66-2d44-4245-a472-3006ab4db428",
        "outputId": "10b1fa40-042e-4b68-dd3d-53dd62445ef2"
      },
      "outputs": [
        {
          "data": {
            "text/plain": [
              "array([5000,    2,    3,    4,    5])"
            ]
          },
          "execution_count": 64,
          "metadata": {},
          "output_type": "execute_result"
        }
      ],
      "source": [
        "arr"
      ]
    },
    {
      "cell_type": "code",
      "execution_count": null,
      "id": "3713b891-3822-441d-a627-8e28bfab9664",
      "metadata": {
        "id": "3713b891-3822-441d-a627-8e28bfab9664"
      },
      "outputs": [],
      "source": [
        "#To create an array>> np.array, np.asarray, np.asany array"
      ]
    },
    {
      "cell_type": "code",
      "execution_count": null,
      "id": "574bd2ce-ef5d-40ee-9cad-896b67d9f926",
      "metadata": {
        "id": "574bd2ce-ef5d-40ee-9cad-896b67d9f926"
      },
      "outputs": [],
      "source": [
        "#multiple approaches to generate any array"
      ]
    },
    {
      "cell_type": "code",
      "execution_count": null,
      "id": "5f765530-df5d-4d4f-99d2-8e95e284e44a",
      "metadata": {
        "id": "5f765530-df5d-4d4f-99d2-8e95e284e44a"
      },
      "outputs": [],
      "source": [
        "arr1 = np.fromfunction(lambda i, j: i==j, (3,3)) #Construct an array by executing a function over each coordinate"
      ]
    },
    {
      "cell_type": "code",
      "execution_count": null,
      "id": "324b9125-b3e0-4c94-94e7-00f974c79803",
      "metadata": {
        "id": "324b9125-b3e0-4c94-94e7-00f974c79803",
        "outputId": "4f0c4b03-9f86-4c50-fc81-23420992f5fc"
      },
      "outputs": [
        {
          "data": {
            "text/plain": [
              "array([[ True, False, False],\n",
              "       [False,  True, False],\n",
              "       [False, False,  True]])"
            ]
          },
          "execution_count": 70,
          "metadata": {},
          "output_type": "execute_result"
        }
      ],
      "source": [
        "arr1"
      ]
    },
    {
      "cell_type": "code",
      "execution_count": null,
      "id": "dbf7b7bb-ad34-4d84-a72b-6e924a4fb85f",
      "metadata": {
        "id": "dbf7b7bb-ad34-4d84-a72b-6e924a4fb85f",
        "outputId": "62e54b36-2c6b-4fc4-a6c7-104af47bf805"
      },
      "outputs": [
        {
          "data": {
            "text/plain": [
              "2"
            ]
          },
          "execution_count": 71,
          "metadata": {},
          "output_type": "execute_result"
        }
      ],
      "source": [
        "arr1.ndim"
      ]
    },
    {
      "cell_type": "code",
      "execution_count": null,
      "id": "c3d83b2a-3062-43f0-9daf-e6961564bc50",
      "metadata": {
        "id": "c3d83b2a-3062-43f0-9daf-e6961564bc50",
        "outputId": "27c9e037-a24e-42e8-a0ca-5df8a80ee823"
      },
      "outputs": [
        {
          "data": {
            "text/plain": [
              "(3, 3)"
            ]
          },
          "execution_count": 72,
          "metadata": {},
          "output_type": "execute_result"
        }
      ],
      "source": [
        "arr1.shape #shape of array"
      ]
    },
    {
      "cell_type": "code",
      "execution_count": null,
      "id": "791b2e10-042c-43e1-9789-f0003e2cd575",
      "metadata": {
        "id": "791b2e10-042c-43e1-9789-f0003e2cd575",
        "outputId": "8b162142-80ea-4ba1-bdf6-e9bdebe65d8b"
      },
      "outputs": [
        {
          "data": {
            "text/plain": [
              "9"
            ]
          },
          "execution_count": 73,
          "metadata": {},
          "output_type": "execute_result"
        }
      ],
      "source": [
        "arr1.size #no of elements in array"
      ]
    },
    {
      "cell_type": "code",
      "execution_count": null,
      "id": "4347c541-0be1-4615-94f5-9d02d15a83ba",
      "metadata": {
        "id": "4347c541-0be1-4615-94f5-9d02d15a83ba",
        "outputId": "17874b55-fe7e-486c-b3f1-4cc9abfa523b"
      },
      "outputs": [
        {
          "data": {
            "text/plain": [
              "1"
            ]
          },
          "execution_count": 74,
          "metadata": {},
          "output_type": "execute_result"
        }
      ],
      "source": [
        "#True is stored as 1 and False 0 in python\n",
        "True-False"
      ]
    },
    {
      "cell_type": "code",
      "execution_count": null,
      "id": "9d8d4299-dbee-4d65-8102-e53a96075300",
      "metadata": {
        "id": "9d8d4299-dbee-4d65-8102-e53a96075300"
      },
      "outputs": [],
      "source": [
        "arr2 = np.fromfunction(lambda i, j: i*j, (3,3))"
      ]
    },
    {
      "cell_type": "code",
      "execution_count": null,
      "id": "7edfbcc8-565e-4014-a853-17b21f211400",
      "metadata": {
        "id": "7edfbcc8-565e-4014-a853-17b21f211400",
        "outputId": "a698a5f4-8f93-4db7-e9ea-4db59f6e32f2"
      },
      "outputs": [
        {
          "data": {
            "text/plain": [
              "array([[0., 0., 0.],\n",
              "       [0., 1., 2.],\n",
              "       [0., 2., 4.]])"
            ]
          },
          "execution_count": 77,
          "metadata": {},
          "output_type": "execute_result"
        }
      ],
      "source": [
        "arr2"
      ]
    },
    {
      "cell_type": "code",
      "execution_count": null,
      "id": "62539b09-106d-403b-bf31-8d30893534af",
      "metadata": {
        "id": "62539b09-106d-403b-bf31-8d30893534af",
        "outputId": "169da309-88ee-441d-a2ea-ec6f2bc5f938"
      },
      "outputs": [
        {
          "data": {
            "text/plain": [
              "2"
            ]
          },
          "execution_count": 78,
          "metadata": {},
          "output_type": "execute_result"
        }
      ],
      "source": [
        "arr2.ndim"
      ]
    },
    {
      "cell_type": "code",
      "execution_count": null,
      "id": "fd764eb4-6057-47b9-8185-28246667291b",
      "metadata": {
        "id": "fd764eb4-6057-47b9-8185-28246667291b",
        "outputId": "2a89816b-056a-4c1d-b295-13d781b19a9a"
      },
      "outputs": [
        {
          "data": {
            "text/plain": [
              "(3, 3)"
            ]
          },
          "execution_count": 79,
          "metadata": {},
          "output_type": "execute_result"
        }
      ],
      "source": [
        "arr2.shape"
      ]
    },
    {
      "cell_type": "code",
      "execution_count": null,
      "id": "87b1aac4-f0df-45c0-b8d1-5893f62df6e7",
      "metadata": {
        "id": "87b1aac4-f0df-45c0-b8d1-5893f62df6e7",
        "outputId": "850107c9-0c6a-44d8-b819-b255cbee4821"
      },
      "outputs": [
        {
          "data": {
            "text/plain": [
              "9"
            ]
          },
          "execution_count": 80,
          "metadata": {},
          "output_type": "execute_result"
        }
      ],
      "source": [
        "arr2.size"
      ]
    },
    {
      "cell_type": "code",
      "execution_count": null,
      "id": "32583e12-29fe-4f1e-88ab-0d5b8f15ce81",
      "metadata": {
        "id": "32583e12-29fe-4f1e-88ab-0d5b8f15ce81",
        "outputId": "9d312faf-f520-4c20-b5c2-47ca35d361da"
      },
      "outputs": [
        {
          "name": "stdout",
          "output_type": "stream",
          "text": [
            "0\n",
            "1\n",
            "2\n",
            "3\n",
            "4\n"
          ]
        }
      ],
      "source": [
        "for i in range(5):\n",
        "    print(i)"
      ]
    },
    {
      "cell_type": "code",
      "execution_count": null,
      "id": "e44f9ca6-a883-4223-959b-a45bbe300aa1",
      "metadata": {
        "id": "e44f9ca6-a883-4223-959b-a45bbe300aa1",
        "outputId": "06b0804c-3646-46b7-9c63-c2a14697f81d"
      },
      "outputs": [
        {
          "data": {
            "text/plain": [
              "[0, 1, 2, 3, 4]"
            ]
          },
          "execution_count": 82,
          "metadata": {},
          "output_type": "execute_result"
        }
      ],
      "source": [
        "[i for i in range(5)]"
      ]
    },
    {
      "cell_type": "code",
      "execution_count": null,
      "id": "226363a7-5805-4211-b070-0b638b8327fa",
      "metadata": {
        "id": "226363a7-5805-4211-b070-0b638b8327fa",
        "outputId": "bea1c0d1-3f32-4324-bf0f-35743a0c74a8"
      },
      "outputs": [
        {
          "data": {
            "text/plain": [
              "<generator object <genexpr> at 0x7faf30183c30>"
            ]
          },
          "execution_count": 85,
          "metadata": {},
          "output_type": "execute_result"
        }
      ],
      "source": [
        "(i for i in range(5))"
      ]
    },
    {
      "cell_type": "code",
      "execution_count": null,
      "id": "b1c337c2-ba54-463b-bdb2-d6e76c424d9f",
      "metadata": {
        "id": "b1c337c2-ba54-463b-bdb2-d6e76c424d9f",
        "outputId": "940bdfff-4215-4b6c-d747-ee019def0a9c"
      },
      "outputs": [
        {
          "data": {
            "text/plain": [
              "[0, 1, 2, 3, 4]"
            ]
          },
          "execution_count": 86,
          "metadata": {},
          "output_type": "execute_result"
        }
      ],
      "source": [
        "list((i for i in range(5)))"
      ]
    },
    {
      "cell_type": "code",
      "execution_count": null,
      "id": "96d772d7-ee29-483d-b31a-9eb890fa12b5",
      "metadata": {
        "id": "96d772d7-ee29-483d-b31a-9eb890fa12b5"
      },
      "outputs": [],
      "source": [
        "iterator = (i for i in range(5))"
      ]
    },
    {
      "cell_type": "code",
      "execution_count": null,
      "id": "ac3e98c1-9fcf-4faa-81dd-29f9b4e2ab1f",
      "metadata": {
        "id": "ac3e98c1-9fcf-4faa-81dd-29f9b4e2ab1f",
        "outputId": "9fcb00bf-a2db-485c-8fb5-1d7b1f795e84"
      },
      "outputs": [
        {
          "data": {
            "text/plain": [
              "<generator object <genexpr> at 0x7faf300645f0>"
            ]
          },
          "execution_count": 99,
          "metadata": {},
          "output_type": "execute_result"
        }
      ],
      "source": [
        "iterator"
      ]
    },
    {
      "cell_type": "code",
      "execution_count": null,
      "id": "5bb0e056-efe9-4a2d-b288-974338ea47af",
      "metadata": {
        "id": "5bb0e056-efe9-4a2d-b288-974338ea47af",
        "outputId": "7fc02e17-b509-46bd-dcf6-54a332b02b01"
      },
      "outputs": [
        {
          "data": {
            "text/plain": [
              "array([0., 1., 2., 3., 4.])"
            ]
          },
          "execution_count": 100,
          "metadata": {},
          "output_type": "execute_result"
        }
      ],
      "source": [
        "np.fromiter(iterator, float) #Create a new 1-dimensional array from an iterable object."
      ]
    },
    {
      "cell_type": "code",
      "execution_count": null,
      "id": "7166e3fc-8eae-4bff-bebd-8b0260506d44",
      "metadata": {
        "id": "7166e3fc-8eae-4bff-bebd-8b0260506d44",
        "outputId": "0afa1e76-2d0a-4f0a-cd9f-4a40bb4eb514"
      },
      "outputs": [
        {
          "data": {
            "text/plain": [
              "array([22., 23., 24.])"
            ]
          },
          "execution_count": 90,
          "metadata": {},
          "output_type": "execute_result"
        }
      ],
      "source": [
        "np.fromstring('22 23 24', sep = \" \")"
      ]
    },
    {
      "cell_type": "code",
      "execution_count": null,
      "id": "0498212e-8e67-44d8-bbd4-17019bd2d57b",
      "metadata": {
        "id": "0498212e-8e67-44d8-bbd4-17019bd2d57b",
        "outputId": "73b6e2c8-2344-45cb-e1f6-4a011915d5fd"
      },
      "outputs": [
        {
          "data": {
            "text/plain": [
              "array([22, 23, 24])"
            ]
          },
          "execution_count": 102,
          "metadata": {},
          "output_type": "execute_result"
        }
      ],
      "source": [
        "np.fromstring('22 23 24', sep = \" \", dtype = int) #by default is float, values inside string should be nuerical"
      ]
    },
    {
      "cell_type": "code",
      "execution_count": null,
      "id": "0d8d98f1-60c9-4a18-b08c-3d11ec97375d",
      "metadata": {
        "id": "0d8d98f1-60c9-4a18-b08c-3d11ec97375d",
        "outputId": "c1d04683-b540-4e60-fd93-8d6ca84fc962"
      },
      "outputs": [
        {
          "data": {
            "text/plain": [
              "['Ajay', ' Bijay', ' Sanjay']"
            ]
          },
          "execution_count": 103,
          "metadata": {},
          "output_type": "execute_result"
        }
      ],
      "source": [
        "#for string character you have to use split\n",
        "string = \"Ajay, Bijay, Sanjay\"\n",
        "string.split(\",\")"
      ]
    },
    {
      "cell_type": "code",
      "execution_count": null,
      "id": "77748eef-803b-4144-972c-4d9acfd23c04",
      "metadata": {
        "id": "77748eef-803b-4144-972c-4d9acfd23c04",
        "outputId": "68048793-5aeb-4bf2-800e-533a1a737922"
      },
      "outputs": [
        {
          "data": {
            "text/plain": [
              "array(['Ajay', ' Bijay', ' Sanjay'], dtype='<U7')"
            ]
          },
          "execution_count": 104,
          "metadata": {},
          "output_type": "execute_result"
        }
      ],
      "source": [
        "np.array(string.split(\",\"))"
      ]
    },
    {
      "cell_type": "code",
      "execution_count": null,
      "id": "163d9b1b-8f90-41ef-97df-85685f918fe6",
      "metadata": {
        "id": "163d9b1b-8f90-41ef-97df-85685f918fe6",
        "outputId": "45c6ebc7-1ad3-4b29-a159-a5968bf71cd6"
      },
      "outputs": [
        {
          "data": {
            "text/plain": [
              "[0, 1, 2, 3, 4, 5, 6, 7, 8, 9]"
            ]
          },
          "execution_count": 106,
          "metadata": {},
          "output_type": "execute_result"
        }
      ],
      "source": [
        "list(range(10))"
      ]
    },
    {
      "cell_type": "code",
      "execution_count": null,
      "id": "843a5e1c-63d6-4c96-83ac-f765d86616f2",
      "metadata": {
        "id": "843a5e1c-63d6-4c96-83ac-f765d86616f2",
        "outputId": "e9d3959b-81c4-4eb2-a68e-6106f8c4ed09"
      },
      "outputs": [
        {
          "data": {
            "text/plain": [
              "range(0, 10)"
            ]
          },
          "execution_count": 108,
          "metadata": {},
          "output_type": "execute_result"
        }
      ],
      "source": [
        "range(10)"
      ]
    },
    {
      "cell_type": "code",
      "execution_count": null,
      "id": "b01fcff2-73e5-49a2-a30e-8fc2dd214e11",
      "metadata": {
        "id": "b01fcff2-73e5-49a2-a30e-8fc2dd214e11",
        "outputId": "e99e89de-e552-4f3c-800f-6c516f6e9118"
      },
      "outputs": [
        {
          "data": {
            "text/plain": [
              "array([1, 2, 3, 4, 5, 6, 7, 8, 9])"
            ]
          },
          "execution_count": 107,
          "metadata": {},
          "output_type": "execute_result"
        }
      ],
      "source": [
        "#other method of numpy >> To generate a sequence of number\n",
        "np.arange(1, 10) #arange returns evenly spacified values within a given interval, by default step is 1"
      ]
    },
    {
      "cell_type": "code",
      "execution_count": null,
      "id": "b1b10fa9-c1c8-4d2e-a152-110dda7178ee",
      "metadata": {
        "id": "b1b10fa9-c1c8-4d2e-a152-110dda7178ee",
        "outputId": "a33742f8-83e7-47bd-ca95-4c874e1877ad"
      },
      "outputs": [
        {
          "data": {
            "text/plain": [
              "array([1. , 1.1, 1.2, 1.3, 1.4, 1.5, 1.6, 1.7, 1.8, 1.9, 2. , 2.1, 2.2,\n",
              "       2.3, 2.4, 2.5, 2.6, 2.7, 2.8, 2.9, 3. , 3.1, 3.2, 3.3, 3.4, 3.5,\n",
              "       3.6, 3.7, 3.8, 3.9, 4. , 4.1, 4.2, 4.3, 4.4, 4.5, 4.6, 4.7, 4.8,\n",
              "       4.9, 5. , 5.1, 5.2, 5.3, 5.4, 5.5, 5.6, 5.7, 5.8, 5.9, 6. , 6.1,\n",
              "       6.2, 6.3, 6.4, 6.5, 6.6, 6.7, 6.8, 6.9, 7. , 7.1, 7.2, 7.3, 7.4,\n",
              "       7.5, 7.6, 7.7, 7.8, 7.9, 8. , 8.1, 8.2, 8.3, 8.4, 8.5, 8.6, 8.7,\n",
              "       8.8, 8.9, 9. , 9.1, 9.2, 9.3, 9.4, 9.5, 9.6, 9.7, 9.8, 9.9])"
            ]
          },
          "execution_count": 109,
          "metadata": {},
          "output_type": "execute_result"
        }
      ],
      "source": [
        "np.arange(1, 10, 0.1)"
      ]
    },
    {
      "cell_type": "code",
      "execution_count": null,
      "id": "a814c139-8c74-4285-b59a-6e73f06ae2d6",
      "metadata": {
        "id": "a814c139-8c74-4285-b59a-6e73f06ae2d6",
        "outputId": "8b12849e-8c5d-4f54-effa-eb3e70bbf2fe"
      },
      "outputs": [
        {
          "data": {
            "text/plain": [
              "array([1.        , 1.44444444, 1.88888889, 2.33333333, 2.77777778,\n",
              "       3.22222222, 3.66666667, 4.11111111, 4.55555556, 5.        ])"
            ]
          },
          "execution_count": 110,
          "metadata": {},
          "output_type": "execute_result"
        }
      ],
      "source": [
        "np.linspace(1,5, 10) #give me 10 numbers between 1 and 5"
      ]
    },
    {
      "cell_type": "code",
      "execution_count": null,
      "id": "cf2c7f30-4b22-4a9e-95a9-bf243e17e25f",
      "metadata": {
        "id": "cf2c7f30-4b22-4a9e-95a9-bf243e17e25f"
      },
      "outputs": [],
      "source": []
    }
  ],
  "metadata": {
    "kernelspec": {
      "display_name": "Python 3 (ipykernel)",
      "language": "python",
      "name": "python3"
    },
    "language_info": {
      "codemirror_mode": {
        "name": "ipython",
        "version": 3
      },
      "file_extension": ".py",
      "mimetype": "text/x-python",
      "name": "python",
      "nbconvert_exporter": "python",
      "pygments_lexer": "ipython3",
      "version": "3.10.8"
    },
    "colab": {
      "provenance": [],
      "include_colab_link": true
    }
  },
  "nbformat": 4,
  "nbformat_minor": 5
}