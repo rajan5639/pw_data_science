{
  "nbformat": 4,
  "nbformat_minor": 0,
  "metadata": {
    "colab": {
      "provenance": [],
      "authorship_tag": "ABX9TyPgBFFjEMNa706n9p17kfn6",
      "include_colab_link": true
    },
    "kernelspec": {
      "name": "python3",
      "display_name": "Python 3"
    },
    "language_info": {
      "name": "python"
    }
  },
  "cells": [
    {
      "cell_type": "markdown",
      "metadata": {
        "id": "view-in-github",
        "colab_type": "text"
      },
      "source": [
        "<a href=\"https://colab.research.google.com/github/rajan5639/pw_data_science/blob/main/ML_Module2.ipynb\" target=\"_parent\"><img src=\"https://colab.research.google.com/assets/colab-badge.svg\" alt=\"Open In Colab\"/></a>"
      ]
    },
    {
      "cell_type": "code",
      "execution_count": null,
      "metadata": {
        "id": "cTMjxkCp-fuP"
      },
      "outputs": [],
      "source": []
    },
    {
      "cell_type": "code",
      "source": [
        "# ---\n",
        "\n",
        "# **1. What is a parameter?**\n",
        "# - A parameter is an internal variable used by a machine learning model to make predictions.\n",
        "# - Parameters are learned from the training data, not manually set.\n",
        "# - For example, in linear regression, the slope and intercept are parameters.\n",
        "# - During training, optimization algorithms like Gradient Descent adjust these parameters to minimize the loss function.\n",
        "# - Parameters differ from hyperparameters, which are set before the training process begins.\n",
        "# - Good parameter estimation is essential for high model accuracy.\n",
        "\n",
        "# ---\n",
        "\n",
        "# **2. What is correlation?**\n",
        "# - Correlation measures the strength and direction of the linear relationship between two variables.\n",
        "# - The value of correlation ranges from -1 to +1.\n",
        "# - A value of +1 indicates a perfect positive correlation, -1 a perfect negative correlation, and 0 no correlation.\n",
        "# - Correlation is widely used in Exploratory Data Analysis (EDA) to understand dependencies between variables.\n",
        "# - Pearson’s correlation coefficient is the most commonly used measure.\n",
        "# - Correlation helps in feature selection by identifying redundant or influential features.\n",
        "\n",
        "# ---\n",
        "\n",
        "# **3. What does negative correlation mean?**\n",
        "# - Negative correlation occurs when one variable increases and the other decreases.\n",
        "# - A correlation value close to -1 indicates a strong negative relationship.\n",
        "# - Example: As temperature increases, the use of heaters decreases. Hence, temperature and heater usage have a negative correlation.\n",
        "# - Negative correlation helps in identifying inversely related features.\n",
        "# - It can guide feature engineering and model interpretation.\n",
        "# - Visualizing with scatter plots helps in understanding the strength of negative correlation.\n",
        "\n",
        "# ---\n",
        "\n",
        "# **4. Define Machine Learning.**\n",
        "# - Machine Learning (ML) is a subset of Artificial Intelligence (AI) that enables computers to learn from data and improve over time without being explicitly programmed.\n",
        "# - It involves building algorithms that can recognize patterns and make decisions.\n",
        "# - There are three main types of ML: supervised, unsupervised, and reinforcement learning.\n",
        "# - ML is used in various domains such as healthcare, finance, marketing, and automation.\n",
        "# - It relies on training data, models, features, and evaluation metrics.\n",
        "# - ML enables predictive analytics, automation, personalization, and intelligent decision-making.\n",
        "\n",
        "# ---\n",
        "\n",
        "# **5. What are the main components in Machine Learning?**\n",
        "# - **Data**: The foundation of any ML project. It includes features (inputs) and labels (outputs).\n",
        "# - **Model**: The algorithm used to learn patterns from the data.\n",
        "# - **Training**: The process of feeding data into the model to learn parameters.\n",
        "# - **Testing**: Evaluating the model performance on unseen data.\n",
        "# - **Loss Function**: Measures how well the model is performing.\n",
        "# - **Optimizer**: Algorithm to adjust model parameters and reduce loss.\n",
        "# - Together, these components allow for building robust and accurate ML systems.\n",
        "\n",
        "# ---\n"
      ],
      "metadata": {
        "id": "wAnKWKcl-s9a"
      },
      "execution_count": null,
      "outputs": []
    },
    {
      "cell_type": "code",
      "source": [
        "\n",
        "'''\n",
        "\n",
        "6. How does loss value help in determining whether the model is good or not?\n",
        "The loss value tells how well or poorly a model is performing during training or testing.\n",
        "\n",
        "It is calculated by comparing the model’s predicted values with the actual values (also known as ground truth).\n",
        "\n",
        "A lower loss means the model’s predictions are close to the true values — hence, better performance.\n",
        "\n",
        "A higher loss means the model is making large errors — hence, poorer performance.\n",
        "\n",
        "There are different loss functions depending on the task:\n",
        "\n",
        "Mean Squared Error (MSE) for regression.\n",
        "\n",
        "Cross-Entropy Loss for classification.\n",
        "\n",
        "Loss value helps to guide the optimization algorithm like gradient descent in adjusting model parameters.\n",
        "\n",
        "During training, we aim to minimize the loss value using optimization.\n",
        "\n",
        "If the loss remains high, it signals that the model may need more training, better features, or hyperparameter tuning.\n",
        "\n",
        "Loss value is different from accuracy; accuracy measures correct predictions, but loss provides more detailed error information.\n",
        "\n",
        "Monitoring the validation loss is also crucial — if training loss is low but validation loss is high, the model may be overfitting.\n",
        "\n",
        "Overall, loss helps in evaluating, comparing, and improving machine learning models.\n",
        "'''"
      ],
      "metadata": {
        "id": "R4_y0UY1-s6L"
      },
      "execution_count": null,
      "outputs": []
    },
    {
      "cell_type": "code",
      "source": [],
      "metadata": {
        "id": "qWdNBqV7-s3p"
      },
      "execution_count": null,
      "outputs": []
    },
    {
      "cell_type": "code",
      "source": [
        "'''\n",
        "7. What are continuous and categorical variables?\n",
        "Continuous variables can take any numerical value within a range.\n",
        "\n",
        "Examples: height, weight, temperature, price, age.\n",
        "\n",
        "These are measurable quantities.\n",
        "\n",
        "Categorical variables represent groups or categories.\n",
        "\n",
        "Examples: gender (male/female), color (red/green/blue), city names.\n",
        "\n",
        "These are not numerical by default.\n",
        "\n",
        "Categorical variables are further divided:\n",
        "\n",
        "Nominal: No order (e.g., fruit types: apple, banana, orange).\n",
        "\n",
        "Ordinal: Have a defined order (e.g., education level: high school < graduate < post-graduate).\n",
        "\n",
        "Continuous variables are used directly in most models.\n",
        "\n",
        "Categorical variables must be converted to numerical format using encoding techniques before training models.\n",
        "'''"
      ],
      "metadata": {
        "id": "CtqPmv0N-s1a"
      },
      "execution_count": null,
      "outputs": []
    },
    {
      "cell_type": "code",
      "source": [],
      "metadata": {
        "id": "p4-MdSdk-syu"
      },
      "execution_count": null,
      "outputs": []
    },
    {
      "cell_type": "code",
      "source": [
        "'''\n",
        "\n",
        "8. How do we handle categorical variables in Machine Learning? What are the common techniques?\n",
        "Categorical variables must be converted into numerical values for ML models to understand them.\n",
        "\n",
        "Common techniques:\n",
        "\n",
        "Label Encoding: Assigns a unique number to each category.\n",
        "\n",
        "Example: Male → 0, Female → 1.\n",
        "\n",
        "One-Hot Encoding: Creates a binary column for each category.\n",
        "\n",
        "Example: Red, Blue → [1, 0], [0, 1].\n",
        "\n",
        "Ordinal Encoding: Used when categories have a natural order.\n",
        "\n",
        "Example: Low → 0, Medium → 1, High → 2.\n",
        "\n",
        "Frequency Encoding: Replaces categories with frequency counts.\n",
        "\n",
        "Target Encoding: Uses the average value of the target variable for each category.\n",
        "\n",
        "Choice of method depends on the dataset and model.\n",
        "\n",
        "One-Hot Encoding is widely used with tree-based and linear models.\n",
        "\n",
        "Encoding is done using sklearn.preprocessing or pandas.get_dummies.\n",
        "\n",
        "'''\n"
      ],
      "metadata": {
        "id": "iajZLg0Z-swO"
      },
      "execution_count": null,
      "outputs": []
    },
    {
      "cell_type": "code",
      "source": [],
      "metadata": {
        "id": "iwZVpuAt-sto"
      },
      "execution_count": null,
      "outputs": []
    },
    {
      "cell_type": "code",
      "source": [
        "'''\n",
        "9. What do you mean by training and testing a dataset?\n",
        "A dataset is split into two parts:\n",
        "\n",
        "Training Set: Used to train the model.\n",
        "\n",
        "Testing Set: Used to evaluate how well the model performs on new, unseen data.\n",
        "\n",
        "Training allows the model to learn patterns from the data.\n",
        "\n",
        "Testing helps to check if the model can generalize well.\n",
        "\n",
        "Example:\n",
        "\n",
        "You train a spam classifier using past emails (training set).\n",
        "\n",
        "Then you test its performance using new emails (testing set).\n",
        "\n",
        "The typical split ratio is 80% training and 20% testing, or 70/30.\n",
        "\n",
        "If testing accuracy is low, the model may need better features or more data.\n",
        "'''"
      ],
      "metadata": {
        "id": "0NSMpa7q-srY"
      },
      "execution_count": null,
      "outputs": []
    },
    {
      "cell_type": "code",
      "source": [
        "'''\n",
        "10. What is sklearn.preprocessing?\n",
        "sklearn.preprocessing is a module in Scikit-learn used for data preprocessing tasks.\n",
        "\n",
        "It helps prepare data for machine learning models.\n",
        "\n",
        "Key functionalities include:\n",
        "\n",
        "Scaling: Normalize numerical features using StandardScaler, MinMaxScaler.\n",
        "\n",
        "Encoding: Convert categorical variables using LabelEncoder, OneHotEncoder.\n",
        "\n",
        "Binarization: Convert numerical values to binary (0 or 1).\n",
        "\n",
        "Imputation: Handle missing values using SimpleImputer.\n",
        "\n",
        "Polynomial features: Create new features using existing ones.\n",
        "\n",
        "Example usage:\n",
        "\n",
        "python\n",
        "Copy\n",
        "Edit\n",
        "from sklearn.preprocessing import StandardScaler\n",
        "scaler = StandardScaler()\n",
        "scaled_data = scaler.fit_transform(data)\n",
        "It’s essential to use fit() and transform() properly:\n",
        "\n",
        "fit() learns the parameters from training data.\n",
        "\n",
        "transform() applies the transformation.\n",
        "'''"
      ],
      "metadata": {
        "id": "Rfan-V2E-soh"
      },
      "execution_count": null,
      "outputs": []
    },
    {
      "cell_type": "code",
      "source": [
        "# 11. What is a Test set?\n",
        "# The Test set is a portion of the dataset used after training a model to evaluate its performance.\n",
        "\n",
        "# It does not participate in training. The model has never seen this data.\n",
        "\n",
        "# The idea is to simulate real-world data and check how well the model performs on unseen examples.\n",
        "\n",
        "# The main purpose of the test set is to measure:\n",
        "\n",
        "# Model accuracy\n",
        "\n",
        "# Model generalization\n",
        "\n",
        "# Detect overfitting or underfitting\n",
        "\n",
        "# A good practice is to split the original dataset into:\n",
        "\n",
        "# Training set: ~70–80% (for learning)\n",
        "\n",
        "# Test set: ~20–30% (for evaluation)\n",
        "\n",
        "\n",
        "\n",
        "\n",
        "# from sklearn.model_selection import train_test_split\n",
        "# X_train, X_test, y_train, y_test = train_test_split(X, y, test_size=0.2)"
      ],
      "metadata": {
        "id": "fQiA9V8DCRKC"
      },
      "execution_count": null,
      "outputs": []
    },
    {
      "cell_type": "code",
      "source": [
        "\n",
        "# 12. How do we split data for model fitting (training and testing) in Python?\n",
        "# We use train_test_split() from sklearn.model_selection.\n",
        "\n",
        "# This function splits arrays or matrices into random train and test subsets.\n",
        "\n",
        "\n",
        "# from sklearn.model_selection import train_test_split\n",
        "# X_train, X_test, y_train, y_test = train_test_split(X, y, test_size=0.2, random_state=42)\n",
        "# Parameters:\n",
        "\n",
        "# X: Features (independent variables)\n",
        "\n",
        "# y: Target (dependent variable)\n",
        "\n",
        "# test_size: Percentage of data for testing (e.g., 0.2 means 20%)\n",
        "\n",
        "# random_state: Fixes the random seed for reproducibility\n",
        "\n",
        "# # This helps prevent data leakage and ensures reliable evaluation."
      ],
      "metadata": {
        "id": "ZleU_lUMCYwf"
      },
      "execution_count": null,
      "outputs": []
    },
    {
      "cell_type": "code",
      "source": [
        "\n",
        "# 13. How do you approach a Machine Learning problem?\n",
        "# A step-by-step approach:\n",
        "\n",
        "# Understand the problem – What is the objective? (e.g., classification, regression)\n",
        "\n",
        "# Gather data – Use reliable sources or datasets.\n",
        "\n",
        "# Perform EDA (Exploratory Data Analysis) – Understand the patterns, missing values, outliers.\n",
        "\n",
        "# Preprocess the data – Handle missing values, encode categories, scale features.\n",
        "\n",
        "# Split the data – Use train/test split.\n",
        "\n",
        "# Choose a model – Based on the problem type.\n",
        "\n",
        "# Train the model – Fit it to the training data.\n",
        "\n",
        "# Evaluate the model – Use metrics like accuracy, MSE, etc.\n",
        "\n",
        "# Tune hyperparameters – Improve performance using GridSearchCV.\n",
        "\n",
        "# Deploy – Save and use the model in real applications.\n",
        "\n",
        "# Each step is crucial to ensure a robust and accurate model.\n"
      ],
      "metadata": {
        "id": "onqQWfOlChuc"
      },
      "execution_count": null,
      "outputs": []
    },
    {
      "cell_type": "code",
      "source": [
        "# 14. Why do we have to perform EDA before fitting a model to the data?\n",
        "# EDA = Exploratory Data Analysis\n",
        "\n",
        "# It involves:\n",
        "\n",
        "# Summarizing main features of the dataset\n",
        "\n",
        "# Understanding distributions\n",
        "\n",
        "# Visualizing trends\n",
        "\n",
        "# Reasons to perform EDA:\n",
        "\n",
        "# Detect missing values\n",
        "\n",
        "# Find outliers that affect accuracy\n",
        "\n",
        "# Understand relationships between variables (correlation)\n",
        "\n",
        "# Get a sense of feature importance\n",
        "\n",
        "# Helps in feature engineering\n",
        "\n",
        "# Common EDA tools:\n",
        "\n",
        "# Pandas (.describe(), .info())\n",
        "\n",
        "# Visualization using Matplotlib/Seaborn (histograms, heatmaps)\n",
        "\n",
        "# It helps in making informed decisions before model fitting.\n",
        "\n",
        "# Without EDA, models may be trained on dirty or irrelevant data."
      ],
      "metadata": {
        "id": "PUadADeYCnAM"
      },
      "execution_count": null,
      "outputs": []
    },
    {
      "cell_type": "code",
      "source": [
        "# 15. What is correlation? What does negative correlation mean? How can you find correlation between variables in Python?\n",
        "# Correlation measures how two variables move in relation to each other.\n",
        "\n",
        "# Positive Correlation: Both increase or decrease together.\n",
        "\n",
        "# Negative Correlation: One increases, the other decreases.\n",
        "\n",
        "# Negative correlation means:\n",
        "\n",
        "# When one variable goes up, the other tends to go down.\n",
        "\n",
        "# Example: As exercise time increases, body weight might decrease.\n",
        "\n",
        "# Range of correlation coefficient (r):\n",
        "\n",
        "# +1: Perfect positive\n",
        "\n",
        "# 0: No correlation\n",
        "\n",
        "# -1: Perfect negative\n",
        "\n",
        "\n",
        "# df.corr()\n",
        "\n",
        "# import seaborn as sns\n",
        "# import matplotlib.pyplot as plt\n",
        "# sns.heatmap(df.corr(), annot=True)\n",
        "# plt.show()\n",
        "# Correlation is important for feature selection in ML.\n",
        "\n"
      ],
      "metadata": {
        "id": "PmVPTJsL-smL"
      },
      "execution_count": null,
      "outputs": []
    },
    {
      "cell_type": "code",
      "source": [
        "# Question 16 (Inferred): Using Matplotlib and NumPy, create a histogram of randomly generated data from a normal distribution. Overlay a line plot representing its probability density function (PDF). Label the x-axis as 'Value' and the y-axis as 'Frequency/Probability'. Set the title of the plot as 'Histogram with PDF Overlay'."
      ],
      "metadata": {
        "id": "iCDO4w8nE5Lq"
      },
      "execution_count": null,
      "outputs": []
    },
    {
      "cell_type": "code",
      "source": [
        "import numpy as np\n",
        "import matplotlib.pyplot as plt\n",
        "from scipy.stats import norm # To calculate the PDF\n",
        "\n",
        "# 1. Generate random data from a normal distribution\n",
        "data = np.random.normal(loc=0, scale=1, size=1000) # Mean=0, Standard Deviation=1, 1000 data points\n",
        "\n",
        "# 2. Plot the histogram\n",
        "# 'density=True' normalizes the histogram so that the area sums to 1,\n",
        "# which is necessary to overlay a PDF correctly.\n",
        "plt.hist(data, bins=30, density=True, alpha=0.6, color='skyblue', label='Histogram')\n",
        "\n",
        "# 3. Overlay the Probability Density Function (PDF)\n",
        "# Fit a normal distribution to the data to get its estimated mean and standard deviation\n",
        "mu, std = norm.fit(data)\n",
        "\n",
        "# Create a range of x values for the PDF curve\n",
        "xmin, xmax = plt.xlim() # Get the current x-axis limits from the histogram\n",
        "x = np.linspace(xmin, xmax, 100) # Generate 100 points between xmin and xmax\n",
        "\n",
        "# Calculate the PDF for these x values\n",
        "p = norm.pdf(x, mu, std)\n",
        "\n",
        "# Plot the PDF\n",
        "plt.plot(x, p, 'k', linewidth=2, label='Normal PDF') # 'k' for black line\n",
        "\n",
        "# 4. Label the axes and set the title\n",
        "plt.xlabel('Value')\n",
        "plt.ylabel('Frequency/Probability')\n",
        "plt.title('Histogram with PDF Overlay')\n",
        "\n",
        "# Add a legend to distinguish the histogram from the PDF\n",
        "plt.legend()\n",
        "\n",
        "# Show the plot\n",
        "plt.show()"
      ],
      "metadata": {
        "colab": {
          "base_uri": "https://localhost:8080/",
          "height": 472
        },
        "id": "9AkgI_Hk-sjc",
        "outputId": "4e984fdc-10a3-44ee-9a3f-0bd022d5efd1"
      },
      "execution_count": 4,
      "outputs": [
        {
          "output_type": "display_data",
          "data": {
            "text/plain": [
              "<Figure size 640x480 with 1 Axes>"
            ],
            "image/png": "[encoded data removed]"
          },
          "metadata": {}
        }
      ]
    },
    {
      "cell_type": "code",
      "source": [
        "# Question 18: Using Bokeh, plot a line chart of a sine wave function, add grid lines, label the axes, and set the title as 'Sine Wave Function'."
      ],
      "metadata": {
        "id": "MbdDxF7w-sg2"
      },
      "execution_count": null,
      "outputs": []
    },
    {
      "cell_type": "code",
      "source": [
        "from bokeh.plotting import figure, show\n",
        "from bokeh.models import Grid, LinearAxis\n",
        "import numpy as np\n",
        "\n",
        "# Generate data for a sine wave\n",
        "x = np.linspace(0, 4*np.pi, 200)\n",
        "y = np.sin(x)\n",
        "\n",
        "# Create a new plot with a title and axis labels\n",
        "p = figure(title=\"Sine Wave Function\", x_axis_label=\"X-axis\", y_axis_label=\"Y-axis\",\n",
        "           height=300, width=600)\n",
        "\n",
        "# Add a line renderer with legend and line thickness\n",
        "p.line(x, y, legend_label=\"sin(x)\", line_width=2)\n",
        "\n",
        "# Add grid lines\n",
        "p.xgrid.grid_line_color = 'gray'\n",
        "p.xgrid.grid_line_alpha = 0.5\n",
        "p.xgrid.grid_line_dash = 'dotted'\n",
        "\n",
        "p.ygrid.grid_line_color = 'gray'\n",
        "p.ygrid.grid_line_alpha = 0.5\n",
        "p.ygrid.grid_line_dash = 'dotted'\n",
        "\n",
        "# Show the results\n",
        "show(p)"
      ],
      "metadata": {
        "id": "m6Krikqb-seP"
      },
      "execution_count": 1,
      "outputs": []
    },
    {
      "cell_type": "code",
      "source": [],
      "metadata": {
        "id": "9c4FOAr1-sbd"
      },
      "execution_count": null,
      "outputs": []
    },
    {
      "cell_type": "code",
      "source": [
        "#Question 19: Using Bokeh, generate a bar chart of randomly generated categorical data, color bars based on their values, add hover tooltips to display exact values, label the axes, and set the title as 'Random Categorical Bar Chart'."
      ],
      "metadata": {
        "id": "DIGvAUEh-sYt"
      },
      "execution_count": null,
      "outputs": []
    },
    {
      "cell_type": "code",
      "source": [
        "from bokeh.plotting import figure, show\n",
        "from bokeh.models import ColumnDataSource, HoverTool\n",
        "from bokeh.palettes import Category10\n",
        "import random\n",
        "\n",
        "# Generate random categorical data\n",
        "categories = ['A', 'B', 'C', 'D', 'E', 'F']\n",
        "values = [random.randint(10, 100) for _ in categories]\n",
        "\n",
        "# Create a ColumnDataSource\n",
        "source = ColumnDataSource(data=dict(categories=categories, values=values, color=Category10[len(categories)]))\n",
        "\n",
        "# Create a new plot with a title and axis labels\n",
        "p = figure(x_range=categories, height=300, title=\"Random Categorical Bar Chart\",\n",
        "           x_axis_label=\"Category\", y_axis_label=\"Value\")\n",
        "\n",
        "# Add a bar renderer\n",
        "p.vbar(x='categories', top='values', width=0.9, source=source, legend_field=\"categories\",\n",
        "       line_color='white', fill_color='color')\n",
        "\n",
        "# Add hover tooltips\n",
        "hover = HoverTool(tooltips=[\n",
        "    (\"Category\", \"@categories\"),\n",
        "    (\"Value\", \"@values\")\n",
        "])\n",
        "p.add_tools(hover)\n",
        "\n",
        "# Hide the legend if desired, or place it appropriately\n",
        "p.legend.visible = False # Or p.legend.location = \"top_left\" etc.\n",
        "\n",
        "# Show the results\n",
        "show(p)"
      ],
      "metadata": {
        "id": "6lqFHtIj-sWT"
      },
      "execution_count": 2,
      "outputs": []
    },
    {
      "cell_type": "code",
      "source": [],
      "metadata": {
        "id": "RFTyFh7q-sTm"
      },
      "execution_count": null,
      "outputs": []
    },
    {
      "cell_type": "code",
      "source": [
        "#Question 20: Using Plotly, create a basic line plot of a randomly generated dataset, label the axes, and set the title as 'Simple Line Plot'."
      ],
      "metadata": {
        "id": "Wn5bJmT_-sQk"
      },
      "execution_count": null,
      "outputs": []
    },
    {
      "cell_type": "code",
      "source": [
        "import plotly.graph_objects as go\n",
        "import numpy as np\n",
        "import random\n",
        "\n",
        "# Generate random data\n",
        "x = np.arange(0, 10, 0.1)\n",
        "y = [random.uniform(val - 1, val + 1) for val in np.sin(x) * 5 + 10] # Example: sin wave with noise\n",
        "\n",
        "# Create a Scatter plot (line plot)\n",
        "fig = go.Figure(data=go.Scatter(x=x, y=y, mode='lines'))\n",
        "\n",
        "# Update layout for title and axis labels\n",
        "fig.update_layout(\n",
        "    title='Simple Line Plot',\n",
        "    xaxis_title='X-axis Label',\n",
        "    yaxis_title='Y-axis Label'\n",
        ")\n",
        "\n",
        "# Show the plot\n",
        "fig.show()"
      ],
      "metadata": {
        "colab": {
          "base_uri": "https://localhost:8080/",
          "height": 542
        },
        "id": "c6qpScFy-sN2",
        "outputId": "a03d742b-d578-4c07-b7fa-a1481051d981"
      },
      "execution_count": 3,
      "outputs": [
        {
          "output_type": "display_data",
          "data": {
            "text/html": [
              "<html>\n",
              "<head><meta charset=\"utf-8\" /></head>\n",
              "<body>\n",
              "    <div>            <script src=\"https://cdnjs.cloudflare.com/ajax/libs/mathjax/2.7.5/MathJax.js?config=TeX-AMS-MML_SVG\"></script><script type=\"text/javascript\">if (window.MathJax && window.MathJax.Hub && window.MathJax.Hub.Config) {window.MathJax.Hub.Config({SVG: {font: \"STIX-Web\"}});}</script>                <script type=\"text/javascript\">window.PlotlyConfig = {MathJaxConfig: 'local'};</script>\n",
              "        <script charset=\"utf-8\" src=\"https://cdn.plot.ly/plotly-2.35.2.min.js\"></script>                <div id=\"87303367-2d5e-4f23-8f23-7500fe87b225\" class=\"plotly-graph-div\" style=\"height:525px; width:100%;\"></div>            <script type=\"text/javascript\">                                    window.PLOTLYENV=window.PLOTLYENV || {};                                    if (document.getElementById(\"87303367-2d5e-4f23-8f23-7500fe87b225\")) {                    Plotly.newPlot(                        \"87303367-2d5e-4f23-8f23-7500fe87b225\",                        [{\"mode\":\"lines\",\"x\":[0.0,0.1,0.2,0.30000000000000004,0.4,0.5,0.6000000000000001,0.7000000000000001,0.8,0.9,1.0,1.1,1.2000000000000002,1.3,1.4000000000000001,1.5,1.6,1.7000000000000002,1.8,1.9000000000000001,2.0,2.1,2.2,2.3000000000000003,2.4000000000000004,2.5,2.6,2.7,2.8000000000000003,2.9000000000000004,3.0,3.1,3.2,3.3000000000000003,3.4000000000000004,3.5,3.6,3.7,3.8000000000000003,3.9000000000000004,4.0,4.1000000000000005,4.2,4.3,4.4,4.5,4.6000000000000005,4.7,4.800000000000001,4.9,5.0,5.1000000000000005,5.2,5.300000000000001,5.4,5.5,5.6000000000000005,5.7,5.800000000000001,5.9,6.0,6.1000000000000005,6.2,6.300000000000001,6.4,6.5,6.6000000000000005,6.7,6.800000000000001,6.9,7.0,7.1000000000000005,7.2,7.300000000000001,7.4,7.5,7.6000000000000005,7.7,7.800000000000001,7.9,8.0,8.1,8.200000000000001,8.3,8.4,8.5,8.6,8.700000000000001,8.8,8.9,9.0,9.1,9.200000000000001,9.3,9.4,9.5,9.600000000000001,9.700000000000001,9.8,9.9],\"y\":[10.727647386583044,11.040683726071139,11.097369014850578,10.765677043853685,12.20467757194669,11.590494516340963,13.193617923453383,12.302632604481241,13.026498131980404,13.247565944027901,13.34981230396588,15.120169480395973,15.062685722715184,14.539284906297002,15.791548788711893,14.648188321368687,15.526346776596558,15.94837716360061,15.369905509831089,14.921559300129854,13.908662729517225,15.127403540757943,13.54743761226388,14.112028203018932,12.584107211718697,12.92328046168944,11.924768529106666,13.08330898460413,12.412302867032635,11.696467505018934,10.74435669625916,10.185864135084103,9.434049687851019,8.651071296620236,9.347585105190708,7.695842141332493,6.996134415929809,7.926067512684468,6.341947979691124,7.556066606000275,5.654904854214367,6.36163035465376,5.080504891829139,5.888640171542287,5.267754269906295,4.343884311435082,5.552207607614255,4.331960920297485,4.870019967471521,5.4420562926161224,6.172094514338322,6.145574109907816,4.908689053994023,6.37437048064568,5.968483301222829,5.9989459978484785,6.305245414219167,7.227803628998676,6.720113555844621,7.78235450375449,9.29584979439956,9.098621131742547,8.704570577829092,10.58180201794487,9.942092955043865,11.071017933392513,10.710689344697292,12.801686801842724,13.004372124251287,13.746937448038251,14.040794214379266,14.24334298963211,14.765161942137421,13.568391201609016,13.720946264234462,15.646274283213714,14.29744628263454,15.897142011317342,14.009122122213608,14.630248326847271,15.507566181070493,14.886675896875744,14.685901953798178,14.670118724833893,14.115272314556801,13.841004937896736,13.538011291221206,13.210065657285716,13.317322380993328,12.535147968674494,12.920097584204509,11.567423068580641,10.550131528170642,11.186924005709393,10.314753670696112,9.491531695669707,9.50976356537012,7.818433329994001,8.488264312830843,7.433280945320519],\"type\":\"scatter\"}],                        {\"template\":{\"data\":{\"histogram2dcontour\":[{\"type\":\"histogram2dcontour\",\"colorbar\":{\"outlinewidth\":0,\"ticks\":\"\"},\"colorscale\":[[0.0,\"#0d0887\"],[0.1111111111111111,\"#46039f\"],[0.2222222222222222,\"#7201a8\"],[0.3333333333333333,\"#9c179e\"],[0.4444444444444444,\"#bd3786\"],[0.5555555555555556,\"#d8576b\"],[0.6666666666666666,\"#ed7953\"],[0.7777777777777778,\"#fb9f3a\"],[0.8888888888888888,\"#fdca26\"],[1.0,\"#f0f921\"]]}],\"choropleth\":[{\"type\":\"choropleth\",\"colorbar\":{\"outlinewidth\":0,\"ticks\":\"\"}}],\"histogram2d\":[{\"type\":\"histogram2d\",\"colorbar\":{\"outlinewidth\":0,\"ticks\":\"\"},\"colorscale\":[[0.0,\"#0d0887\"],[0.1111111111111111,\"#46039f\"],[0.2222222222222222,\"#7201a8\"],[0.3333333333333333,\"#9c179e\"],[0.4444444444444444,\"#bd3786\"],[0.5555555555555556,\"#d8576b\"],[0.6666666666666666,\"#ed7953\"],[0.7777777777777778,\"#fb9f3a\"],[0.8888888888888888,\"#fdca26\"],[1.0,\"#f0f921\"]]}],\"heatmap\":[{\"type\":\"heatmap\",\"colorbar\":{\"outlinewidth\":0,\"ticks\":\"\"},\"colorscale\":[[0.0,\"#0d0887\"],[0.1111111111111111,\"#46039f\"],[0.2222222222222222,\"#7201a8\"],[0.3333333333333333,\"#9c179e\"],[0.4444444444444444,\"#bd3786\"],[0.5555555555555556,\"#d8576b\"],[0.6666666666666666,\"#ed7953\"],[0.7777777777777778,\"#fb9f3a\"],[0.8888888888888888,\"#fdca26\"],[1.0,\"#f0f921\"]]}],\"heatmapgl\":[{\"type\":\"heatmapgl\",\"colorbar\":{\"outlinewidth\":0,\"ticks\":\"\"},\"colorscale\":[[0.0,\"#0d0887\"],[0.1111111111111111,\"#46039f\"],[0.2222222222222222,\"#7201a8\"],[0.3333333333333333,\"#9c179e\"],[0.4444444444444444,\"#bd3786\"],[0.5555555555555556,\"#d8576b\"],[0.6666666666666666,\"#ed7953\"],[0.7777777777777778,\"#fb9f3a\"],[0.8888888888888888,\"#fdca26\"],[1.0,\"#f0f921\"]]}],\"contourcarpet\":[{\"type\":\"contourcarpet\",\"colorbar\":{\"outlinewidth\":0,\"ticks\":\"\"}}],\"contour\":[{\"type\":\"contour\",\"colorbar\":{\"outlinewidth\":0,\"ticks\":\"\"},\"colorscale\":[[0.0,\"#0d0887\"],[0.1111111111111111,\"#46039f\"],[0.2222222222222222,\"#7201a8\"],[0.3333333333333333,\"#9c179e\"],[0.4444444444444444,\"#bd3786\"],[0.5555555555555556,\"#d8576b\"],[0.6666666666666666,\"#ed7953\"],[0.7777777777777778,\"#fb9f3a\"],[0.8888888888888888,\"#fdca26\"],[1.0,\"#f0f921\"]]}],\"surface\":[{\"type\":\"surface\",\"colorbar\":{\"outlinewidth\":0,\"ticks\":\"\"},\"colorscale\":[[0.0,\"#0d0887\"],[0.1111111111111111,\"#46039f\"],[0.2222222222222222,\"#7201a8\"],[0.3333333333333333,\"#9c179e\"],[0.4444444444444444,\"#bd3786\"],[0.5555555555555556,\"#d8576b\"],[0.6666666666666666,\"#ed7953\"],[0.7777777777777778,\"#fb9f3a\"],[0.8888888888888888,\"#fdca26\"],[1.0,\"#f0f921\"]]}],\"mesh3d\":[{\"type\":\"mesh3d\",\"colorbar\":{\"outlinewidth\":0,\"ticks\":\"\"}}],\"scatter\":[{\"fillpattern\":{\"fillmode\":\"overlay\",\"size\":10,\"solidity\":0.2},\"type\":\"scatter\"}],\"parcoords\":[{\"type\":\"parcoords\",\"line\":{\"colorbar\":{\"outlinewidth\":0,\"ticks\":\"\"}}}],\"scatterpolargl\":[{\"type\":\"scatterpolargl\",\"marker\":{\"colorbar\":{\"outlinewidth\":0,\"ticks\":\"\"}}}],\"bar\":[{\"error_x\":{\"color\":\"#2a3f5f\"},\"error_y\":{\"color\":\"#2a3f5f\"},\"marker\":{\"line\":{\"color\":\"#E5ECF6\",\"width\":0.5},\"pattern\":{\"fillmode\":\"overlay\",\"size\":10,\"solidity\":0.2}},\"type\":\"bar\"}],\"scattergeo\":[{\"type\":\"scattergeo\",\"marker\":{\"colorbar\":{\"outlinewidth\":0,\"ticks\":\"\"}}}],\"scatterpolar\":[{\"type\":\"scatterpolar\",\"marker\":{\"colorbar\":{\"outlinewidth\":0,\"ticks\":\"\"}}}],\"histogram\":[{\"marker\":{\"pattern\":{\"fillmode\":\"overlay\",\"size\":10,\"solidity\":0.2}},\"type\":\"histogram\"}],\"scattergl\":[{\"type\":\"scattergl\",\"marker\":{\"colorbar\":{\"outlinewidth\":0,\"ticks\":\"\"}}}],\"scatter3d\":[{\"type\":\"scatter3d\",\"line\":{\"colorbar\":{\"outlinewidth\":0,\"ticks\":\"\"}},\"marker\":{\"colorbar\":{\"outlinewidth\":0,\"ticks\":\"\"}}}],\"scattermapbox\":[{\"type\":\"scattermapbox\",\"marker\":{\"colorbar\":{\"outlinewidth\":0,\"ticks\":\"\"}}}],\"scatterternary\":[{\"type\":\"scatterternary\",\"marker\":{\"colorbar\":{\"outlinewidth\":0,\"ticks\":\"\"}}}],\"scattercarpet\":[{\"type\":\"scattercarpet\",\"marker\":{\"colorbar\":{\"outlinewidth\":0,\"ticks\":\"\"}}}],\"carpet\":[{\"aaxis\":{\"endlinecolor\":\"#2a3f5f\",\"gridcolor\":\"white\",\"linecolor\":\"white\",\"minorgridcolor\":\"white\",\"startlinecolor\":\"#2a3f5f\"},\"baxis\":{\"endlinecolor\":\"#2a3f5f\",\"gridcolor\":\"white\",\"linecolor\":\"white\",\"minorgridcolor\":\"white\",\"startlinecolor\":\"#2a3f5f\"},\"type\":\"carpet\"}],\"table\":[{\"cells\":{\"fill\":{\"color\":\"#EBF0F8\"},\"line\":{\"color\":\"white\"}},\"header\":{\"fill\":{\"color\":\"#C8D4E3\"},\"line\":{\"color\":\"white\"}},\"type\":\"table\"}],\"barpolar\":[{\"marker\":{\"line\":{\"color\":\"#E5ECF6\",\"width\":0.5},\"pattern\":{\"fillmode\":\"overlay\",\"size\":10,\"solidity\":0.2}},\"type\":\"barpolar\"}],\"pie\":[{\"automargin\":true,\"type\":\"pie\"}]},\"layout\":{\"autotypenumbers\":\"strict\",\"colorway\":[\"#636efa\",\"#EF553B\",\"#00cc96\",\"#ab63fa\",\"#FFA15A\",\"#19d3f3\",\"#FF6692\",\"#B6E880\",\"#FF97FF\",\"#FECB52\"],\"font\":{\"color\":\"#2a3f5f\"},\"hovermode\":\"closest\",\"hoverlabel\":{\"align\":\"left\"},\"paper_bgcolor\":\"white\",\"plot_bgcolor\":\"#E5ECF6\",\"polar\":{\"bgcolor\":\"#E5ECF6\",\"angularaxis\":{\"gridcolor\":\"white\",\"linecolor\":\"white\",\"ticks\":\"\"},\"radialaxis\":{\"gridcolor\":\"white\",\"linecolor\":\"white\",\"ticks\":\"\"}},\"ternary\":{\"bgcolor\":\"#E5ECF6\",\"aaxis\":{\"gridcolor\":\"white\",\"linecolor\":\"white\",\"ticks\":\"\"},\"baxis\":{\"gridcolor\":\"white\",\"linecolor\":\"white\",\"ticks\":\"\"},\"caxis\":{\"gridcolor\":\"white\",\"linecolor\":\"white\",\"ticks\":\"\"}},\"coloraxis\":{\"colorbar\":{\"outlinewidth\":0,\"ticks\":\"\"}},\"colorscale\":{\"sequential\":[[0.0,\"#0d0887\"],[0.1111111111111111,\"#46039f\"],[0.2222222222222222,\"#7201a8\"],[0.3333333333333333,\"#9c179e\"],[0.4444444444444444,\"#bd3786\"],[0.5555555555555556,\"#d8576b\"],[0.6666666666666666,\"#ed7953\"],[0.7777777777777778,\"#fb9f3a\"],[0.8888888888888888,\"#fdca26\"],[1.0,\"#f0f921\"]],\"sequentialminus\":[[0.0,\"#0d0887\"],[0.1111111111111111,\"#46039f\"],[0.2222222222222222,\"#7201a8\"],[0.3333333333333333,\"#9c179e\"],[0.4444444444444444,\"#bd3786\"],[0.5555555555555556,\"#d8576b\"],[0.6666666666666666,\"#ed7953\"],[0.7777777777777778,\"#fb9f3a\"],[0.8888888888888888,\"#fdca26\"],[1.0,\"#f0f921\"]],\"diverging\":[[0,\"#8e0152\"],[0.1,\"#c51b7d\"],[0.2,\"#de77ae\"],[0.3,\"#f1b6da\"],[0.4,\"#fde0ef\"],[0.5,\"#f7f7f7\"],[0.6,\"#e6f5d0\"],[0.7,\"#b8e186\"],[0.8,\"#7fbc41\"],[0.9,\"#4d9221\"],[1,\"#276419\"]]},\"xaxis\":{\"gridcolor\":\"white\",\"linecolor\":\"white\",\"ticks\":\"\",\"title\":{\"standoff\":15},\"zerolinecolor\":\"white\",\"automargin\":true,\"zerolinewidth\":2},\"yaxis\":{\"gridcolor\":\"white\",\"linecolor\":\"white\",\"ticks\":\"\",\"title\":{\"standoff\":15},\"zerolinecolor\":\"white\",\"automargin\":true,\"zerolinewidth\":2},\"scene\":{\"xaxis\":{\"backgroundcolor\":\"#E5ECF6\",\"gridcolor\":\"white\",\"linecolor\":\"white\",\"showbackground\":true,\"ticks\":\"\",\"zerolinecolor\":\"white\",\"gridwidth\":2},\"yaxis\":{\"backgroundcolor\":\"#E5ECF6\",\"gridcolor\":\"white\",\"linecolor\":\"white\",\"showbackground\":true,\"ticks\":\"\",\"zerolinecolor\":\"white\",\"gridwidth\":2},\"zaxis\":{\"backgroundcolor\":\"#E5ECF6\",\"gridcolor\":\"white\",\"linecolor\":\"white\",\"showbackground\":true,\"ticks\":\"\",\"zerolinecolor\":\"white\",\"gridwidth\":2}},\"shapedefaults\":{\"line\":{\"color\":\"#2a3f5f\"}},\"annotationdefaults\":{\"arrowcolor\":\"#2a3f5f\",\"arrowhead\":0,\"arrowwidth\":1},\"geo\":{\"bgcolor\":\"white\",\"landcolor\":\"#E5ECF6\",\"subunitcolor\":\"white\",\"showland\":true,\"showlakes\":true,\"lakecolor\":\"white\"},\"title\":{\"x\":0.05},\"mapbox\":{\"style\":\"light\"}}},\"title\":{\"text\":\"Simple Line Plot\"},\"xaxis\":{\"title\":{\"text\":\"X-axis Label\"}},\"yaxis\":{\"title\":{\"text\":\"Y-axis Label\"}}},                        {\"responsive\": true}                    ).then(function(){\n",
              "                            \n",
              "var gd = document.getElementById('87303367-2d5e-4f23-8f23-7500fe87b225');\n",
              "var x = new MutationObserver(function (mutations, observer) {{\n",
              "        var display = window.getComputedStyle(gd).display;\n",
              "        if (!display || display === 'none') {{\n",
              "            console.log([gd, 'removed!']);\n",
              "            Plotly.purge(gd);\n",
              "            observer.disconnect();\n",
              "        }}\n",
              "}});\n",
              "\n",
              "// Listen for the removal of the full notebook cells\n",
              "var notebookContainer = gd.closest('#notebook-container');\n",
              "if (notebookContainer) {{\n",
              "    x.observe(notebookContainer, {childList: true});\n",
              "}}\n",
              "\n",
              "// Listen for the clearing of the current output cell\n",
              "var outputEl = gd.closest('.output');\n",
              "if (outputEl) {{\n",
              "    x.observe(outputEl, {childList: true});\n",
              "}}\n",
              "\n",
              "                        })                };                            </script>        </div>\n",
              "</body>\n",
              "</html>"
            ]
          },
          "metadata": {}
        }
      ]
    },
    {
      "cell_type": "code",
      "source": [
        "# Question 21: Using Plotly, create an interactive pie chart of randomly generated data, add labels and percentages, set the title as 'Interactive Pie Chart'"
      ],
      "metadata": {
        "id": "DdJ9IWOw-sK3"
      },
      "execution_count": null,
      "outputs": []
    },
    {
      "cell_type": "code",
      "source": [
        "import plotly.graph_objects as go\n",
        "import random\n",
        "\n",
        "# Generate random data for pie chart\n",
        "labels = ['Category A', 'Category B', 'Category C', 'Category D', 'Category E']\n",
        "values = [random.randint(10, 100) for _ in labels]\n",
        "\n",
        "# Create a Pie chart\n",
        "fig = go.Figure(data=[go.Pie(labels=labels, values=values,\n",
        "                             hoverinfo='label+percent', textinfo='label+percent')])\n",
        "\n",
        "# Update layout for title\n",
        "fig.update_layout(\n",
        "    title='Interactive Pie Chart'\n",
        ")\n",
        "\n",
        "# Show the plot\n",
        "fig.show()"
      ],
      "metadata": {
        "id": "LMAtipbB-sIO"
      },
      "execution_count": null,
      "outputs": []
    }
  ]
}