{
  "nbformat": 4,
  "nbformat_minor": 0,
  "metadata": {
    "colab": {
      "provenance": [],
      "authorship_tag": "ABX9TyN2HM3qyamQtTSBFnj2JX9B",
      "include_colab_link": true
    },
    "kernelspec": {
      "name": "python3",
      "display_name": "Python 3"
    },
    "language_info": {
      "name": "python"
    }
  },
  "cells": [
    {
      "cell_type": "markdown",
      "metadata": {
        "id": "view-in-github",
        "colab_type": "text"
      },
      "source": [
        "<a href=\"https://colab.research.google.com/github/rajan5639/pw_data_science/blob/main/py_assignment_4.ipynb\" target=\"_parent\"><img src=\"https://colab.research.google.com/assets/colab-badge.svg\" alt=\"Open In Colab\"/></a>"
      ]
    },
    {
      "cell_type": "code",
      "execution_count": null,
      "metadata": {
        "colab": {
          "base_uri": "https://localhost:8080/"
        },
        "id": "HWDpq2oRumAy",
        "outputId": "1697619e-f375-4b9c-a403-bdbf9d9a6a72"
      },
      "outputs": [
        {
          "output_type": "stream",
          "name": "stdout",
          "text": [
            "olleh\n"
          ]
        }
      ],
      "source": [
        "\n",
        "#reverse the string\n",
        "def reverse_string(s):\n",
        "    return s[::-1]\n",
        "\n",
        "# Example\n",
        "print(reverse_string(\"hello\"))  # Output: \"olleh\"\n"
      ]
    },
    {
      "cell_type": "code",
      "source": [
        "#✅ 2. Write a code to count the number of vowels in a string.\n",
        "\n",
        "\n",
        "def count_vowels(s):\n",
        "    vowels = 'aeiouAEIOU'\n",
        "    return sum(1 for char in s if char in vowels)\n",
        "\n",
        "# Example\n",
        "print(count_vowels(\"hello\"))  # Output: 2\n"
      ],
      "metadata": {
        "colab": {
          "base_uri": "https://localhost:8080/"
        },
        "id": "bpbgQ2LnuobM",
        "outputId": "e4725680-4096-40db-9eed-5b9ed4a93b19"
      },
      "execution_count": null,
      "outputs": [
        {
          "output_type": "stream",
          "name": "stdout",
          "text": [
            "2\n"
          ]
        }
      ]
    },
    {
      "cell_type": "code",
      "source": [
        "#✅ 3. Write a code to check if a given string is a palindrome or not.\n",
        "def is_palindrome(s):\n",
        "    return s == s[::-1]\n",
        "\n",
        "# Example\n",
        "print(is_palindrome(\"madam\"))  # Output: True\n"
      ],
      "metadata": {
        "colab": {
          "base_uri": "https://localhost:8080/"
        },
        "id": "8U0HLh0_uoXn",
        "outputId": "87a427c0-e86a-4708-d95b-ad0f77400c58"
      },
      "execution_count": null,
      "outputs": [
        {
          "output_type": "stream",
          "name": "stdout",
          "text": [
            "True\n"
          ]
        }
      ]
    },
    {
      "cell_type": "code",
      "source": [
        "#✅ 4. Write a code to check if two given strings are anagrams of each other.\n",
        "\n",
        "def are_anagrams(s1, s2):\n",
        "    return sorted(s1) == sorted(s2)\n",
        "\n",
        "# Example\n",
        "print(are_anagrams(\"listen\", \"silent\"))  # Output: True\n"
      ],
      "metadata": {
        "colab": {
          "base_uri": "https://localhost:8080/"
        },
        "id": "A2EHELpDuoVh",
        "outputId": "e17f4b3a-d7a8-42ed-90eb-4b4f76527519"
      },
      "execution_count": null,
      "outputs": [
        {
          "output_type": "stream",
          "name": "stdout",
          "text": [
            "True\n"
          ]
        }
      ]
    },
    {
      "cell_type": "code",
      "source": [
        "#✅ 5. Write a code to find all occurrences of a given substring within another string.\n",
        "\n",
        "def find_occurrences(text, sub):\n",
        "    indices = []\n",
        "    for i in range(len(text) - len(sub) + 1):\n",
        "        if text[i:i+len(sub)] == sub:\n",
        "            indices.append(i)\n",
        "    return indices\n",
        "\n",
        "# Example\n",
        "print(find_occurrences(\"banana\", \"ana\"))  # Output: [1, 3]\n"
      ],
      "metadata": {
        "colab": {
          "base_uri": "https://localhost:8080/"
        },
        "id": "tCsMHwKfuoTR",
        "outputId": "2c12261f-660f-4206-f9fc-63c7debb314a"
      },
      "execution_count": null,
      "outputs": [
        {
          "output_type": "stream",
          "name": "stdout",
          "text": [
            "[1, 3]\n"
          ]
        }
      ]
    },
    {
      "cell_type": "code",
      "source": [
        "#6. Write a code to perform basic string compression using the counts of repeated characters.\n",
        "\n",
        "def compress_string(s):\n",
        "    result = \"\"\n",
        "    count = 1\n",
        "    for i in range(1, len(s)):\n",
        "        if s[i] == s[i-1]:\n",
        "            count += 1\n",
        "        else:\n",
        "            result += s[i-1] + str(count)\n",
        "            count = 1\n",
        "    result += s[-1] + str(count)\n",
        "    return result\n",
        "print(compress_string(\"aaabbc\"))  # Output: \"a3b2c1\"\n"
      ],
      "metadata": {
        "colab": {
          "base_uri": "https://localhost:8080/"
        },
        "id": "y1D5Hu4nuoQq",
        "outputId": "e9f443ab-07a9-4c15-8f0b-afee7e8f2287"
      },
      "execution_count": null,
      "outputs": [
        {
          "output_type": "stream",
          "name": "stdout",
          "text": [
            "a3b2c1\n"
          ]
        }
      ]
    },
    {
      "cell_type": "code",
      "source": [
        "#7. Write a code to determine if a string has all unique characters.\n",
        "\n",
        "def all_unique(s):\n",
        "    return len(set(s)) == len(s)\n",
        "\n",
        "# Example\n",
        "print(all_unique(\"hello\"))  # Output: False\n",
        "print(all_unique(\"abc\"))    # Output: True"
      ],
      "metadata": {
        "colab": {
          "base_uri": "https://localhost:8080/"
        },
        "id": "zxUPwmYbvrEX",
        "outputId": "467b86a1-8232-4e2a-c1a6-48ac940f58b6"
      },
      "execution_count": null,
      "outputs": [
        {
          "output_type": "stream",
          "name": "stdout",
          "text": [
            "False\n",
            "True\n"
          ]
        }
      ]
    },
    {
      "cell_type": "code",
      "source": [
        "#8. Write a code to convert a given string to uppercase or lowercase.\n",
        "\n",
        "def convert_case(s):\n",
        "    return s.upper(), s.lower()\n",
        "\n",
        "# Example\n",
        "print(convert_case(\"Hello\"))  # Output: ('HELLO', 'hello')"
      ],
      "metadata": {
        "colab": {
          "base_uri": "https://localhost:8080/"
        },
        "id": "_EQ7Rqgbvy_n",
        "outputId": "a9196380-002e-4fba-802a-e5ba9ba12001"
      },
      "execution_count": null,
      "outputs": [
        {
          "output_type": "stream",
          "name": "stdout",
          "text": [
            "('HELLO', 'hello')\n"
          ]
        }
      ]
    },
    {
      "cell_type": "code",
      "source": [
        "\n",
        "#9. Write a code to count the number of words in a string.\n",
        "\n",
        "def count_words(s):\n",
        "    return len(s.split())\n",
        "\n",
        "# Example\n",
        "print(count_words(\"Hello world this is Python\"))  # Output: 5"
      ],
      "metadata": {
        "colab": {
          "base_uri": "https://localhost:8080/"
        },
        "id": "mrDZVut7v3aL",
        "outputId": "5909bf7a-dda1-4e80-8886-eaff621cd47c"
      },
      "execution_count": null,
      "outputs": [
        {
          "output_type": "stream",
          "name": "stdout",
          "text": [
            "5\n"
          ]
        }
      ]
    },
    {
      "cell_type": "code",
      "source": [
        "#10. Write a code to concatenate two strings without using the + operator.\n",
        "\n",
        "def concat_strings(a, b):\n",
        "    return \"{}{}\".format(a, b)\n",
        "\n",
        "# Example\n",
        "print(concat_strings(\"Hello\", \"World\"))  # Output: \"HelloWorld\""
      ],
      "metadata": {
        "colab": {
          "base_uri": "https://localhost:8080/"
        },
        "id": "52Dt9foGv8Dj",
        "outputId": "696dec80-a972-42a6-fabf-ff525ebc0293"
      },
      "execution_count": null,
      "outputs": [
        {
          "output_type": "stream",
          "name": "stdout",
          "text": [
            "HelloWorld\n"
          ]
        }
      ]
    },
    {
      "cell_type": "code",
      "source": [
        "#11. Write a code to remove all occurrences of a specific element from a list.\n",
        "\n",
        "def remove_element(lst, val):\n",
        "    return [x for x in lst if x != val]\n",
        "\n",
        "# Example\n",
        "print(remove_element([1, 2, 3, 2, 4], 2))  # Output: [1, 3, 4]"
      ],
      "metadata": {
        "colab": {
          "base_uri": "https://localhost:8080/"
        },
        "id": "Uxs2VcrrwSjk",
        "outputId": "7fc82219-e678-4a8c-981e-fbcd1b0f3b25"
      },
      "execution_count": null,
      "outputs": [
        {
          "output_type": "stream",
          "name": "stdout",
          "text": [
            "[1, 3, 4]\n"
          ]
        }
      ]
    },
    {
      "cell_type": "code",
      "source": [
        "#12. Implement a code to find the second largest number in a given list of integers.\n",
        "\n",
        "def second_largest(lst):\n",
        "    unique = list(set(lst))\n",
        "    unique.sort()\n",
        "    return unique[-2] if len(unique) >= 2 else None\n",
        "\n",
        "# Example\n",
        "print(second_largest([1, 2, 4, 3, 4]))  # Output: 3"
      ],
      "metadata": {
        "colab": {
          "base_uri": "https://localhost:8080/"
        },
        "id": "pbD1iKJXwSgQ",
        "outputId": "a1660a8c-a246-4209-ca08-b26b6abad909"
      },
      "execution_count": null,
      "outputs": [
        {
          "output_type": "stream",
          "name": "stdout",
          "text": [
            "3\n"
          ]
        }
      ]
    },
    {
      "cell_type": "code",
      "source": [
        "\n",
        "#13. Create a code to count the occurrences of each element in a list and return a dictionary with elements as keys and their counts as values.\n",
        "\n",
        "def count_elements(lst):\n",
        "    count_dict = {}\n",
        "    for item in lst:\n",
        "        count_dict[item] = count_dict.get(item, 0) + 1\n",
        "    return count_dict\n",
        "\n",
        "# Example\n",
        "print(count_elements([1, 2, 2, 3, 1, 1]))  # Output: {1: 3, 2: 2, 3: 1}"
      ],
      "metadata": {
        "colab": {
          "base_uri": "https://localhost:8080/"
        },
        "id": "9LVvPGRYwSeB",
        "outputId": "34a0893c-1bba-45cc-b56f-27da4011905f"
      },
      "execution_count": null,
      "outputs": [
        {
          "output_type": "stream",
          "name": "stdout",
          "text": [
            "{1: 3, 2: 2, 3: 1}\n"
          ]
        }
      ]
    },
    {
      "cell_type": "code",
      "source": [
        "#14. Write a code to reverse a list in-place without using any built-in reverse functions.\n",
        "\n",
        "def reverse_list(lst):\n",
        "    start, end = 0, len(lst) - 1\n",
        "    while start < end:\n",
        "        lst[start], lst[end] = lst[end], lst[start]\n",
        "        start += 1\n",
        "        end -= 1\n",
        "    return lst\n",
        "\n",
        "# Example\n",
        "print(reverse_list([1, 2, 3, 4]))  # Output: [4, 3, 2, 1]"
      ],
      "metadata": {
        "colab": {
          "base_uri": "https://localhost:8080/"
        },
        "id": "6Mu4NRBowSbM",
        "outputId": "823fe0b7-8427-40b1-f37c-fc34e593229f"
      },
      "execution_count": null,
      "outputs": [
        {
          "output_type": "stream",
          "name": "stdout",
          "text": [
            "[4, 3, 2, 1]\n"
          ]
        }
      ]
    },
    {
      "cell_type": "code",
      "source": [
        "\n",
        "#15. Implement a code to find and remove duplicates from a list while preserving the original order of elements.\n",
        "\n",
        "def remove_duplicates(lst):\n",
        "    seen = set()\n",
        "    result = []\n",
        "    for item in lst:\n",
        "        if item not in seen:\n",
        "            seen.add(item)\n",
        "            result.append(item)\n",
        "    return result\n",
        "\n",
        "# Example\n",
        "print(remove_duplicates([1, 2, 2, 3, 1, 4]))  # Output: [1, 2, 3, 4]"
      ],
      "metadata": {
        "colab": {
          "base_uri": "https://localhost:8080/"
        },
        "id": "WyWEnurtwSXF",
        "outputId": "0aa39751-8a9f-411c-8f69-4a3c490e93b8"
      },
      "execution_count": null,
      "outputs": [
        {
          "output_type": "stream",
          "name": "stdout",
          "text": [
            "[1, 2, 3, 4]\n"
          ]
        }
      ]
    },
    {
      "cell_type": "code",
      "source": [
        "\n",
        "#16. Create a code to check if a given list is sorted (either in ascending or descending order) or not.\n",
        "\n",
        "def is_sorted(lst):\n",
        "    return lst == sorted(lst) or lst == sorted(lst, reverse=True)\n",
        "\n",
        "# Example\n",
        "print(is_sorted([1, 2, 3]))     # Output: True\n",
        "print(is_sorted([3, 2, 1]))     # Output: True\n",
        "print(is_sorted([1, 3, 2]))     # Output: False"
      ],
      "metadata": {
        "colab": {
          "base_uri": "https://localhost:8080/"
        },
        "id": "m-gWWB7oxy9X",
        "outputId": "c0ddeba6-20fd-4b4a-a974-04cc9656bf7d"
      },
      "execution_count": null,
      "outputs": [
        {
          "output_type": "stream",
          "name": "stdout",
          "text": [
            "True\n",
            "True\n",
            "False\n"
          ]
        }
      ]
    },
    {
      "cell_type": "code",
      "source": [
        "#17. Write a code to merge two sorted lists into a single sorted list.\n",
        "\n",
        "def merge_sorted_lists(a, b):\n",
        "    return sorted(a + b)\n",
        "\n",
        "# Example\n",
        "print(merge_sorted_lists([1, 3, 5], [2, 4, 6]))  # Output: [1, 2, 3, 4, 5, 6]"
      ],
      "metadata": {
        "colab": {
          "base_uri": "https://localhost:8080/"
        },
        "id": "dx7Zp4qix3Bo",
        "outputId": "f4caea97-b23c-4582-9c01-e3ce2e42de7a"
      },
      "execution_count": null,
      "outputs": [
        {
          "output_type": "stream",
          "name": "stdout",
          "text": [
            "[1, 2, 3, 4, 5, 6]\n"
          ]
        }
      ]
    },
    {
      "cell_type": "code",
      "source": [
        "#18. Implement a code to find the intersection of two given lists.\n",
        "\n",
        "def intersection(a, b):\n",
        "    return list(set(a) & set(b))\n",
        "\n",
        "# Example\n",
        "print(intersection([1, 2, 3], [2, 3, 4]))  # Output: [2, 3]"
      ],
      "metadata": {
        "colab": {
          "base_uri": "https://localhost:8080/"
        },
        "id": "ahtS0bkCx6yf",
        "outputId": "2eea8682-4b87-4953-f07a-f863cd95ac48"
      },
      "execution_count": null,
      "outputs": [
        {
          "output_type": "stream",
          "name": "stdout",
          "text": [
            "[2, 3]\n"
          ]
        }
      ]
    },
    {
      "cell_type": "code",
      "source": [
        "#19. Create a code to find the union of two lists without duplicates.\n",
        "\n",
        "def union(a, b):\n",
        "    return list(set(a) | set(b))\n",
        "\n",
        "# Example\n",
        "print(union([1, 2], [2, 3]))  # Output: [1, 2, 3]"
      ],
      "metadata": {
        "colab": {
          "base_uri": "https://localhost:8080/"
        },
        "id": "WHLIduIbx-ty",
        "outputId": "a0b04363-7dcc-4402-e3e8-f71846ebfb4b"
      },
      "execution_count": null,
      "outputs": [
        {
          "output_type": "stream",
          "name": "stdout",
          "text": [
            "[1, 2, 3]\n"
          ]
        }
      ]
    },
    {
      "cell_type": "code",
      "source": [
        "\n",
        "#20. Write a code to shuffle a given list randomly without using any built-in shuffle functions.\n",
        "\n",
        "import random\n",
        "\n",
        "def manual_shuffle(lst):\n",
        "    shuffled = []\n",
        "    indices = list(range(len(lst)))\n",
        "    while indices:\n",
        "        idx = random.choice(indices)\n",
        "        shuffled.append(lst[idx])\n",
        "        indices.remove(idx)\n",
        "    return shuffled\n",
        "\n",
        "print(manual_shuffle([1, 2, 3, 4]))  # Output: Shuffled list like [3, 1, 4, 2]\n"
      ],
      "metadata": {
        "colab": {
          "base_uri": "https://localhost:8080/"
        },
        "id": "rScmFllTyCQn",
        "outputId": "f6987703-e38e-4e2d-d79a-de860d6f9b9d"
      },
      "execution_count": null,
      "outputs": [
        {
          "output_type": "stream",
          "name": "stdout",
          "text": [
            "[3, 4, 2, 1]\n"
          ]
        }
      ]
    },
    {
      "cell_type": "code",
      "source": [
        "# Example\n",
        "#21. Write a code that takes two tuples as input and returns a new tuple containing elements that are common to both input tuples.\n",
        "\n",
        "def common_tuple_elements(t1, t2):\n",
        "    return tuple(set(t1) & set(t2))\n",
        "\n",
        "# Example\n",
        "print(common_tuple_elements((1, 2, 3), (2, 3, 4)))  # Output: (2, 3)"
      ],
      "metadata": {
        "colab": {
          "base_uri": "https://localhost:8080/"
        },
        "id": "tuN3EdVLyILj",
        "outputId": "95258c3e-bd5a-4107-b65c-227f9c1d45a4"
      },
      "execution_count": null,
      "outputs": [
        {
          "output_type": "stream",
          "name": "stdout",
          "text": [
            "(2, 3)\n"
          ]
        }
      ]
    },
    {
      "cell_type": "code",
      "source": [
        "#22. Create a code that prompts the user to enter two sets of integers separated by commas. Then, print the intersection of these two sets.\n",
        "\n",
        "def intersection_from_input():\n",
        "    set1 = set(map(int, input(\"Enter elements of first set (comma-separated): \").split(',')))\n",
        "    set2 = set(map(int, input(\"Enter elements of second set (comma-separated): \").split(',')))\n",
        "    print(\"Intersection:\", set1 & set2)\n"
      ],
      "metadata": {
        "id": "RVbeISPPyQpe"
      },
      "execution_count": null,
      "outputs": []
    },
    {
      "cell_type": "code",
      "source": [
        "#24. Prompt user to input two sets of strings. Print elements in first set but not in second.\n",
        "\n",
        "def difference_of_sets():\n",
        "    set1 = set(input(\"Enter first set (comma-separated): \").split(\",\"))\n",
        "    set2 = set(input(\"Enter second set (comma-separated): \").split(\",\"))\n",
        "    print(\"Elements in first but not in second:\", set1 - set2)"
      ],
      "metadata": {
        "id": "KepfsYXsyV8S"
      },
      "execution_count": null,
      "outputs": []
    },
    {
      "cell_type": "code",
      "source": [
        "# Run: difference_of_sets()\n",
        "#25. Function takes a tuple and two integers (range); returns new tuple with elements from that range.\n",
        "\n",
        "def slice_tuple(tup, start, end):\n",
        "    return tup[start:end]\n",
        "\n",
        "# Example\n",
        "print(slice_tuple((10, 20, 30, 40, 50), 1, 4))  # Output: (20, 30, 40)"
      ],
      "metadata": {
        "colab": {
          "base_uri": "https://localhost:8080/"
        },
        "id": "RGyccH7TycNU",
        "outputId": "9b5ddf7b-bb66-4dd5-fe4a-dcf8f2b5b0e4"
      },
      "execution_count": null,
      "outputs": [
        {
          "output_type": "stream",
          "name": "stdout",
          "text": [
            "(20, 30, 40)\n"
          ]
        }
      ]
    },
    {
      "cell_type": "code",
      "source": [
        "#26. Prompt user to input two sets of characters. Print union.\n",
        "\n",
        "def union_of_sets():\n",
        "    set1 = set(input(\"Enter first set (chars): \"))\n",
        "    set2 = set(input(\"Enter second set (chars): \"))\n",
        "    print(\"Union:\", set1 | set2)\n",
        "\n",
        "union_of_sets()"
      ],
      "metadata": {
        "colab": {
          "base_uri": "https://localhost:8080/"
        },
        "id": "E9BTgdSDyhCK",
        "outputId": "6a59436f-6455-48f0-c179-02da3d2cbd9c"
      },
      "execution_count": null,
      "outputs": [
        {
          "output_type": "stream",
          "name": "stdout",
          "text": [
            "Enter first set (chars): d\n",
            "Enter second set (chars): d\n",
            "Union: {'d'}\n"
          ]
        }
      ]
    },
    {
      "cell_type": "code",
      "source": [
        "#27. Function takes a tuple of integers; return max and min using tuple unpacking.\n",
        "\n",
        "def max_min_tuple(tup):\n",
        "    return max(tup), min(tup)\n",
        "\n",
        "# Example\n",
        "print(max_min_tuple((3, 1, 7, 2)))  # Output: (7, 1)"
      ],
      "metadata": {
        "colab": {
          "base_uri": "https://localhost:8080/"
        },
        "id": "X9si4lcsyoKp",
        "outputId": "dabecef6-3ec6-4f6d-dadb-18782ede614e"
      },
      "execution_count": null,
      "outputs": [
        {
          "output_type": "stream",
          "name": "stdout",
          "text": [
            "(7, 1)\n"
          ]
        }
      ]
    },
    {
      "cell_type": "code",
      "source": [
        "#28. Create two sets of integers; print union, intersection, and difference.\n",
        "\n",
        "def set_operations():\n",
        "    a = set(map(int, input(\"Enter Set A: \").split(\",\")))\n",
        "    b = set(map(int, input(\"Enter Set B: \").split(\",\")))\n",
        "    print(\"Union:\", a | b)\n",
        "    print(\"Intersection:\", a & b)\n",
        "    print(\"Difference (A - B):\", a - b)\n",
        "set_operations()"
      ],
      "metadata": {
        "id": "LLmIffwryrls"
      },
      "execution_count": null,
      "outputs": []
    },
    {
      "cell_type": "code",
      "source": [
        "\n",
        "#29. Function takes a tuple and element; returns count of that element.\n",
        "\n",
        "def count_in_tuple(tup, el):\n",
        "    return tup.count(el)\n",
        "\n",
        "# Example\n",
        "print(count_in_tuple((1, 2, 3, 2, 4, 2), 2))  # Output: 3"
      ],
      "metadata": {
        "colab": {
          "base_uri": "https://localhost:8080/"
        },
        "id": "6g5ypTPQy5A1",
        "outputId": "f170548c-222b-4a9b-9e98-22fcd0715afc"
      },
      "execution_count": null,
      "outputs": [
        {
          "output_type": "stream",
          "name": "stdout",
          "text": [
            "3\n"
          ]
        }
      ]
    },
    {
      "cell_type": "code",
      "source": [
        "#30. Prompt user to enter 2 sets of strings; print symmetric difference.\n",
        "\n",
        "def symmetric_difference():\n",
        "    a = set(input(\"Enter Set A: \").split(\",\"))\n",
        "    b = set(input(\"Enter Set B: \").split(\",\"))\n",
        "    print(\"Symmetric Difference:\", a ^ b)\n",
        "\n",
        "symmetric_difference()"
      ],
      "metadata": {
        "colab": {
          "base_uri": "https://localhost:8080/"
        },
        "id": "xIaoZ2gby8mG",
        "outputId": "c61824d3-bc76-42fd-d67b-71f36147d9ee"
      },
      "execution_count": null,
      "outputs": [
        {
          "output_type": "stream",
          "name": "stdout",
          "text": [
            "Enter Set A: a\n",
            "Enter Set B: s\n",
            "Symmetric Difference: {'a', 's'}\n"
          ]
        }
      ]
    },
    {
      "cell_type": "code",
      "source": [
        "#31. Return dictionary where keys = unique words, values = frequency.\n",
        "\n",
        "def word_freq(words):\n",
        "    freq = {}\n",
        "    for word in words:\n",
        "        freq[word] = freq.get(word, 0) + 1\n",
        "    return freq\n",
        "\n",
        "# Example\n",
        "print(word_freq([\"apple\", \"banana\", \"apple\", \"orange\", \"banana\", \"banana\"]))"
      ],
      "metadata": {
        "colab": {
          "base_uri": "https://localhost:8080/"
        },
        "id": "-9dvI0ely8ip",
        "outputId": "d3c903bd-d930-4338-ae37-73e9b26514f2"
      },
      "execution_count": null,
      "outputs": [
        {
          "output_type": "stream",
          "name": "stdout",
          "text": [
            "{'apple': 2, 'banana': 3, 'orange': 1}\n"
          ]
        }
      ]
    },
    {
      "cell_type": "code",
      "source": [
        "#32. Merge two dictionaries; for common keys, add values.\n",
        "\n",
        "def merge_dicts(d1, d2):\n",
        "    result = d1.copy()\n",
        "    for key, val in d2.items():\n",
        "        if key in result:\n",
        "            result[key] += val\n",
        "        else:\n",
        "            result[key] = val\n",
        "    return result\n",
        "\n",
        "# Example\n",
        "print(merge_dicts({'a': 1, 'b': 2}, {'b': 3, 'c': 4}))"
      ],
      "metadata": {
        "id": "F8deLgB0zHqB",
        "outputId": "f61a60f7-18fd-41af-f2e3-71401b631b27",
        "colab": {
          "base_uri": "https://localhost:8080/"
        }
      },
      "execution_count": null,
      "outputs": [
        {
          "output_type": "stream",
          "name": "stdout",
          "text": [
            "{'a': 1, 'b': 5, 'c': 4}\n"
          ]
        }
      ]
    },
    {
      "cell_type": "code",
      "source": [],
      "metadata": {
        "id": "E0MoxLvouoN-"
      },
      "execution_count": null,
      "outputs": []
    },
    {
      "cell_type": "code",
      "source": [],
      "metadata": {
        "id": "eWGJXeBquoLH"
      },
      "execution_count": null,
      "outputs": []
    },
    {
      "cell_type": "code",
      "source": [],
      "metadata": {
        "id": "dDpY-nSruoIY"
      },
      "execution_count": null,
      "outputs": []
    },
    {
      "cell_type": "code",
      "source": [],
      "metadata": {
        "id": "v8mM2iNcuoFt"
      },
      "execution_count": null,
      "outputs": []
    },
    {
      "cell_type": "code",
      "source": [],
      "metadata": {
        "id": "C0R7-OVTuoCl"
      },
      "execution_count": null,
      "outputs": []
    },
    {
      "cell_type": "code",
      "source": [],
      "metadata": {
        "id": "8IHwxM4Xun_v"
      },
      "execution_count": null,
      "outputs": []
    },
    {
      "cell_type": "code",
      "source": [],
      "metadata": {
        "id": "1znL_HB_un9E"
      },
      "execution_count": null,
      "outputs": []
    },
    {
      "cell_type": "code",
      "source": [],
      "metadata": {
        "id": "WtE8o39Fun6h"
      },
      "execution_count": null,
      "outputs": []
    },
    {
      "cell_type": "code",
      "source": [],
      "metadata": {
        "id": "7LOOCgJuun32"
      },
      "execution_count": null,
      "outputs": []
    },
    {
      "cell_type": "code",
      "source": [],
      "metadata": {
        "id": "Ylm0-AGMun1H"
      },
      "execution_count": null,
      "outputs": []
    },
    {
      "cell_type": "code",
      "source": [],
      "metadata": {
        "id": "n0vZ3aExunyi"
      },
      "execution_count": null,
      "outputs": []
    },
    {
      "cell_type": "code",
      "source": [],
      "metadata": {
        "id": "qb5N04rRunwF"
      },
      "execution_count": null,
      "outputs": []
    },
    {
      "cell_type": "code",
      "source": [],
      "metadata": {
        "id": "cElT-Peyuntb"
      },
      "execution_count": null,
      "outputs": []
    },
    {
      "cell_type": "code",
      "source": [],
      "metadata": {
        "id": "Y2pmf9ihunqn"
      },
      "execution_count": null,
      "outputs": []
    },
    {
      "cell_type": "code",
      "source": [],
      "metadata": {
        "id": "xYJnPJoqunoK"
      },
      "execution_count": null,
      "outputs": []
    },
    {
      "cell_type": "code",
      "source": [],
      "metadata": {
        "id": "MMbL6NXDunlN"
      },
      "execution_count": null,
      "outputs": []
    },
    {
      "cell_type": "code",
      "source": [],
      "metadata": {
        "id": "pf8Lu9-Runi_"
      },
      "execution_count": null,
      "outputs": []
    },
    {
      "cell_type": "code",
      "source": [],
      "metadata": {
        "id": "JGVX8mxPungG"
      },
      "execution_count": null,
      "outputs": []
    },
    {
      "cell_type": "code",
      "source": [],
      "metadata": {
        "id": "d--u-9GLundX"
      },
      "execution_count": null,
      "outputs": []
    },
    {
      "cell_type": "code",
      "source": [],
      "metadata": {
        "id": "Aqm7ta9xunax"
      },
      "execution_count": null,
      "outputs": []
    },
    {
      "cell_type": "code",
      "source": [],
      "metadata": {
        "id": "0mZk3ov3unYI"
      },
      "execution_count": null,
      "outputs": []
    },
    {
      "cell_type": "code",
      "source": [],
      "metadata": {
        "id": "as1gPhsLunVm"
      },
      "execution_count": null,
      "outputs": []
    },
    {
      "cell_type": "code",
      "source": [],
      "metadata": {
        "id": "Mq80xiQpunS3"
      },
      "execution_count": null,
      "outputs": []
    },
    {
      "cell_type": "code",
      "source": [],
      "metadata": {
        "id": "j5VsvmgQunQG"
      },
      "execution_count": null,
      "outputs": []
    },
    {
      "cell_type": "code",
      "source": [],
      "metadata": {
        "id": "wYOvGoDuunNU"
      },
      "execution_count": null,
      "outputs": []
    },
    {
      "cell_type": "code",
      "source": [],
      "metadata": {
        "id": "LwIH8dtbunK1"
      },
      "execution_count": null,
      "outputs": []
    },
    {
      "cell_type": "code",
      "source": [],
      "metadata": {
        "id": "NZ7QbiWuunIH"
      },
      "execution_count": null,
      "outputs": []
    },
    {
      "cell_type": "code",
      "source": [],
      "metadata": {
        "id": "jOzRlvVounFo"
      },
      "execution_count": null,
      "outputs": []
    },
    {
      "cell_type": "code",
      "source": [],
      "metadata": {
        "id": "EICNBwCQunDC"
      },
      "execution_count": null,
      "outputs": []
    },
    {
      "cell_type": "code",
      "source": [],
      "metadata": {
        "id": "jFY2E3o6unAk"
      },
      "execution_count": null,
      "outputs": []
    },
    {
      "cell_type": "code",
      "source": [],
      "metadata": {
        "id": "7Dkb_m0-um-V"
      },
      "execution_count": null,
      "outputs": []
    },
    {
      "cell_type": "code",
      "source": [],
      "metadata": {
        "id": "7ggm1Feaum7u"
      },
      "execution_count": null,
      "outputs": []
    },
    {
      "cell_type": "code",
      "source": [],
      "metadata": {
        "id": "6pZ9nw4Wum5J"
      },
      "execution_count": null,
      "outputs": []
    },
    {
      "cell_type": "code",
      "source": [],
      "metadata": {
        "id": "-01xXzmQum2g"
      },
      "execution_count": null,
      "outputs": []
    },
    {
      "cell_type": "code",
      "source": [],
      "metadata": {
        "id": "fZoWfny5umz9"
      },
      "execution_count": null,
      "outputs": []
    },
    {
      "cell_type": "code",
      "source": [],
      "metadata": {
        "id": "zwbsIZIRumxX"
      },
      "execution_count": null,
      "outputs": []
    },
    {
      "cell_type": "code",
      "source": [],
      "metadata": {
        "id": "ULRzoYIVumu-"
      },
      "execution_count": null,
      "outputs": []
    },
    {
      "cell_type": "code",
      "source": [],
      "metadata": {
        "id": "zRrD5EdOumsP"
      },
      "execution_count": null,
      "outputs": []
    }
  ]
}