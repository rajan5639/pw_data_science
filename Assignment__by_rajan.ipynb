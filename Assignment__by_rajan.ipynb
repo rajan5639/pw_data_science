{
  "nbformat": 4,
  "nbformat_minor": 0,
  "metadata": {
    "colab": {
      "provenance": [],
      "authorship_tag": "ABX9TyPqtEKJnIShp15Vm5PGNNWN",
      "include_colab_link": true
    },
    "kernelspec": {
      "name": "python3",
      "display_name": "Python 3"
    },
    "language_info": {
      "name": "python"
    }
  },
  "cells": [
    {
      "cell_type": "markdown",
      "metadata": {
        "id": "view-in-github",
        "colab_type": "text"
      },
      "source": [
        "<a href=\"https://colab.research.google.com/github/rajan5639/pw_data_science/blob/main/Assignment__by_rajan.ipynb\" target=\"_parent\"><img src=\"https://colab.research.google.com/assets/colab-badge.svg\" alt=\"Open In Colab\"/></a>"
      ]
    },
    {
      "cell_type": "code",
      "execution_count": null,
      "metadata": {
        "id": "DvAUJ6B1kF5j"
      },
      "outputs": [],
      "source": []
    },
    {
      "cell_type": "code",
      "source": [
        "# Theoretical Questions – Logistic Regression Assignment (Detailed Answers)\n",
        "\n",
        "# 1. What is Logistic Regression, and how does it differ from Linear Regression?\n",
        "#    Logistic Regression is a supervised learning technique used to model the probability that a given input belongs to a particular category, most commonly one of two classes (for example, spam or not‑spam). It predicts a value between 0 and 1, which is interpreted as a probability, and then uses a threshold (often 0.5) to decide the final class label. Linear Regression, in contrast, is designed for numerical outputs that can take on any real value. Logistic Regression applies a sigmoid (also called logistic) transformation to a linear combination of input features so the output is bounded between 0 and 1. Linear Regression leaves the linear combination unchanged, so its output can be any real number.\n",
        "\n",
        "# 2. What is the mathematical equation of Logistic Regression?\n",
        "#    Let x = (x₁, x₂, …, xₙ) be the feature vector. The linear part is z = b₀ + b₁x₁ + b₂x₂ + … + bₙxₙ. The sigmoid (logistic) function is σ(z) = 1 / (1 + e^{–z}). The predicted probability that the target y equals 1 is P(y = 1 | x) = σ(z). When needed, the model is often written in log‑odds (logit) form: log(P / (1 – P)) = z.\n",
        "\n",
        "# 3. Why do we use the Sigmoid function in Logistic Regression?\n",
        "#    The sigmoid has three properties that make it ideal for classification. First, its output is strictly between 0 and 1, so it can be interpreted as a probability. Second, its curve is S‑shaped, which means very negative inputs map near 0, very positive inputs map near 1, and values near zero map near 0.5, giving a smooth probability transition around the decision boundary. Third, its derivative is easy to compute (σ(z)(1 – σ(z))), which makes gradient‑based optimisation efficient and numerically stable.\n",
        "\n",
        "# 4. What is the cost function of Logistic Regression?\n",
        "#    During training, Logistic Regression minimises the binary cross‑entropy (also called log‑loss). For a single example, the loss is –\\[y · log(p) + (1 – y) · log(1 – p)], where y is the true label (0 or 1) and p is the predicted probability. When p is confidently wrong (for example, p close to 0 when y = 1), the loss becomes very large, strongly penalising the model. Summing this loss over all training examples yields a convex objective that can be optimised reliably with gradient descent.\n",
        "\n",
        "# 5. What is Regularization in Logistic Regression? Why is it needed?\n",
        "#    Regularization adds an extra term to the loss function that discourages large coefficient values. The two most common forms are L1 (sum of absolute values of coefficients) and L2 (sum of squares of coefficients). By shrinking coefficients, regularization reduces model variance and the risk of over‑fitting, especially when the number of features is large or when features are highly correlated. In practice, regularization often improves generalisation to unseen data.\n",
        "\n",
        "# 6. Explain the difference between Lasso, Ridge, and Elastic Net regression.\n",
        "#    Lasso uses an L1 penalty. Because the penalty is proportional to |bⱼ|, many coefficients can be driven exactly to zero, yielding a sparse model and an implicit feature selection effect. Ridge uses an L2 penalty proportional to bⱼ². It shrinks all coefficients smoothly toward zero but rarely makes them exactly zero, so it keeps all features but with reduced magnitude. Elastic Net combines both penalties (α·L1 + (1–α)·L2). This blend can handle groups of correlated features better than either method alone while still allowing sparsity.\n",
        "\n",
        "# 7. When should we use Elastic Net instead of Lasso or Ridge?\n",
        "#    When there are groups of correlated predictors, Lasso may arbitrarily keep one and drop others, while Ridge tends to keep all with similar weights. Elastic Net encourages a grouping effect so correlated variables can enter or leave the model together, capturing shared predictive strength. It is also useful when the number of predictors exceeds the number of observations or when we suspect that only a subset of predictors is truly relevant but correlations are present.\n",
        "\n",
        "# 8. What is the impact of the regularization parameter (lambda) in Logistic Regression?\n",
        "#    Lambda (often written as C = 1/λ in many libraries) controls the strength of the penalty. A very small lambda means little regularization, leading to lower bias but potentially higher variance and over‑fitting. A very large lambda means strong regularization, which can oversimplify the model (high bias) but gives better generalisation if the unregularised model is too complex. Tuning lambda is a bias‑variance trade‑off exercise typically performed with cross‑validation.\n",
        "\n",
        "# 9. What are the key assumptions of Logistic Regression?\n",
        "#    • The dependent variable is binary (for standard Logistic Regression).  • The natural log of the odds (logit) is linearly related to the predictor variables.  • Observations are independent.  • There is little or no multicollinearity among predictors.  • Ideally the sample size is large, especially for maximum‑likelihood estimates to be reliable.  • Influential outliers are minimal, because they can distort the logit relationship.\n",
        "\n",
        "# 10. What are some alternatives to Logistic Regression for classification tasks?\n",
        "#     Decision Trees model non‑linear splits directly. Random Forests and Gradient Boosted Trees build ensembles of trees for higher accuracy. Support Vector Machines find a maximum‑margin hyperplane and can handle non‑linear relationships with kernels. K‑Nearest Neighbours is a simple instance‑based learner that can capture complex decision boundaries given sufficient data. Naïve Bayes applies Bayes’ theorem with conditional independence assumptions. Neural Networks learn multiple non‑linear layers and perform well when trained with sufficient data.\n",
        "\n",
        "# 11. What are Classification Evaluation Metrics?\n",
        "#     Accuracy measures proportion of correct predictions. Precision is the share of positive predictions that are correct. Recall (or sensitivity) is the share of actual positives identified. The F1 score is the harmonic mean of precision and recall, balancing both. The Area Under the Receiver Operating Characteristic Curve (ROC‑AUC) summarises the trade‑off between true positive rate and false positive rate across thresholds. The confusion matrix lists counts of true positives, true negatives, false positives, and false negatives, providing raw numbers for further calculations.\n",
        "\n",
        "# 12. How does class imbalance affect Logistic Regression?\n",
        "#     If one class heavily outweighs the other, the model can achieve high accuracy by simply predicting the majority class, yet still perform poorly on the minority class. The estimated decision boundary tends to shift toward the minority side, increasing false negatives. Remedies include resampling (oversample minority or undersample majority), generating synthetic minority samples (such as SMOTE), using class‑balanced loss functions, or supplying class weights so the minority class errors are penalised more.\n",
        "\n",
        "# 13. What is Hyperparameter Tuning in Logistic Regression?\n",
        "#     Hyperparameters are settings outside the fitted parameters, such as lambda, penalty type, or solver choice. Tuning selects values that optimise performance on validation data. Popular strategies include Grid Search, which exhaustively tries predefined combinations; Random Search, which samples from distributions; and Bayesian or evolutionary methods that guide the search efficiently. Cross‑validation is used to estimate generalisation error during the search and avoid over‑fitting to a single split.\n",
        "\n",
        "# 14. What are different solvers in Logistic Regression? Which one should be used?\n",
        "#     liblinear uses a coordinate‑descent algorithm and works well for small to medium datasets, supporting L1 and L2 penalties but not multinomial loss. newton‑cg and lbfgs are variants of Newton’s method suitable for larger datasets and support L2 penalty and multinomial loss. saga is a fast incremental algorithm that scales to large, sparse data and supports L1, L2, and Elastic Net penalties with multinomial loss. The best solver depends on dataset size, sparsity, and required penalty.\n",
        "\n",
        "# 15. How is Logistic Regression extended for multiclass classification?\n",
        "#     The One‑vs‑Rest strategy fits K separate binary models (one per class) and predicts the class whose model outputs the highest probability. Multinomial (Softmax) Logistic Regression trains one model that directly estimates the probabilities of all K classes simultaneously. In libraries like scikit‑learn, setting multi\\_class = \"multinomial\" with an appropriate solver yields the Softmax extension.\n",
        "\n",
        "# 16. What are the advantages and disadvantages of Logistic Regression?\n",
        "#     Advantages: easy to implement, coefficients are interpretable (each shows log‑odds impact), training is fast, output is probabilistic, and the underlying mathematics is convex so optimisation finds a global minimum. Disadvantages: assumes a linear log‑odds relationship, performance drops when relationships are highly non‑linear, sensitive to outliers and multicollinearity, and classification boundaries are by definition linear unless features are engineered.\n",
        "\n",
        "# 17. What are some use cases of Logistic Regression?\n",
        "#     Email providers use it for spam detection. Banks deploy it for credit default prediction because coefficients provide clear explanations for regulators. Hospitals apply it for disease risk screening such as predicting diabetes or heart disease from patient metrics. Telecom companies use it for customer churn forecasting, while marketing teams employ it to predict whether a visitor will click an advertisement or purchase a product.\n",
        "\n",
        "# 18. What is the difference between Softmax Regression and Logistic Regression?\n",
        "#     Logistic Regression handles binary targets and outputs a single probability p for class 1 (with 1 – p for class 0). Softmax Regression generalises the model to K > 2 classes by producing K probabilities that sum to one. The softmax function exponentiates each class score and normalises by the sum across classes, giving a full probability distribution so the predicted class is the one with the highest probability.\n",
        "\n",
        "# 19. How do we choose between One‑vs‑Rest (OvR) and Softmax for multiclass classification?\n",
        "#     OvR is conceptually simple, allows independent models (possibly with different regularisation), and can parallelise easily. It works well when classes are not mutually exclusive or when the dataset is small. Softmax handles class competition directly and often yields higher accuracy when classes are mutually exclusive and ample data is available. Softmax also produces coherent probability distributions. The final choice depends on dataset size, computational resources, and whether mutual exclusivity is desired.\n",
        "\n",
        "# 20. How do we interpret coefficients in Logistic Regression?\n",
        "#     Each coefficient bⱼ represents the expected change in the log‑odds of the outcome for a one‑unit increase in xⱼ, holding other variables constant. To convert this to odds, take the exponential: e^{bⱼ} is the multiplicative change in the odds. For example, if bⱼ = 0.7, then e^{0.7} ≈ 2.01, meaning the odds of the target being 1 roughly double per unit increase in xⱼ. A negative coefficient decreases the odds (e.g., bⱼ = –0.7 gives e^{–0.7} ≈ 0.50, halving the odds).\n",
        "# #"
      ],
      "metadata": {
        "id": "F7gkiSxgkLdK"
      },
      "execution_count": null,
      "outputs": []
    },
    {
      "cell_type": "code",
      "source": [],
      "metadata": {
        "id": "4_VRO-_tkRCe"
      },
      "execution_count": null,
      "outputs": []
    },
    {
      "cell_type": "code",
      "source": [],
      "metadata": {
        "id": "FDW5TMjEkQ_d"
      },
      "execution_count": null,
      "outputs": []
    },
    {
      "cell_type": "markdown",
      "source": [
        "#**Practial**"
      ],
      "metadata": {
        "id": "bPe0DcvClOjI"
      }
    },
    {
      "cell_type": "code",
      "source": [],
      "metadata": {
        "id": "pWYMinaYkQ8q"
      },
      "execution_count": null,
      "outputs": []
    },
    {
      "cell_type": "code",
      "source": [],
      "metadata": {
        "id": "agLUDQr1kQ6f"
      },
      "execution_count": null,
      "outputs": []
    },
    {
      "cell_type": "code",
      "source": [],
      "metadata": {
        "id": "l-mqbcDukQ41"
      },
      "execution_count": null,
      "outputs": []
    },
    {
      "cell_type": "code",
      "source": [],
      "metadata": {
        "id": "PlnO1Q4rkQ2x"
      },
      "execution_count": null,
      "outputs": []
    },
    {
      "cell_type": "code",
      "source": [],
      "metadata": {
        "id": "lMlUAUzNkQz8"
      },
      "execution_count": null,
      "outputs": []
    },
    {
      "cell_type": "code",
      "source": [
        "# Practical 1 - Basic Logistic Regression\n",
        "\n",
        "from sklearn.datasets import load_iris\n",
        "from sklearn.linear_model import LogisticRegression\n",
        "from sklearn.model_selection import train_test_split\n",
        "from sklearn.metrics import accuracy_score\n",
        "\n",
        "# Step 1: Load dataset\n",
        "iris = load_iris()\n",
        "X = iris.data\n",
        "y = iris.target\n",
        "\n",
        "# Step 2: Split the dataset into train and test sets\n",
        "X_train, X_test, y_train, y_test = train_test_split(X, y, test_size=0.2, random_state=42)\n",
        "\n",
        "# Step 3: Apply Logistic Regression\n",
        "model = LogisticRegression(max_iter=200)  # Increase max_iter to avoid convergence warning\n",
        "model.fit(X_train, y_train)\n",
        "\n",
        "# Step 4: Predict and calculate accuracy\n",
        "y_pred = model.predict(X_test)\n",
        "accuracy = accuracy_score(y_test, y_pred)\n",
        "\n",
        "print(\"Model Accuracy:\", accuracy)\n"
      ],
      "metadata": {
        "id": "itV0NKMGkQxy"
      },
      "execution_count": null,
      "outputs": []
    },
    {
      "cell_type": "code",
      "source": [
        "# Practical 2 - Logistic Regression with L1 Regularization (Lasso)\n",
        "\n",
        "from sklearn.datasets import load_iris\n",
        "from sklearn.linear_model import LogisticRegression\n",
        "from sklearn.model_selection import train_test_split\n",
        "from sklearn.metrics import accuracy_score\n",
        "\n",
        "# Step 1: Load dataset\n",
        "iris = load_iris()\n",
        "X = iris.data\n",
        "y = iris.target\n",
        "\n",
        "# Step 2: Split dataset\n",
        "X_train, X_test, y_train, y_test = train_test_split(X, y, test_size=0.2, random_state=42)\n",
        "\n",
        "# Step 3: Apply Logistic Regression with L1 regularization\n",
        "# Note: 'liblinear' solver supports L1 penalty\n",
        "model = LogisticRegression(penalty='l1', solver='liblinear', max_iter=200)\n",
        "model.fit(X_train, y_train)\n",
        "\n",
        "# Step 4: Predict and evaluate accuracy\n",
        "y_pred = model.predict(X_test)\n",
        "accuracy = accuracy_score(y_test, y_pred)\n",
        "\n",
        "print(\"L1 Regularized Model Accuracy:\", accuracy)\n"
      ],
      "metadata": {
        "id": "Q1trRBIZkQwS",
        "colab": {
          "base_uri": "https://localhost:8080/"
        },
        "outputId": "2c51314e-e1e5-41c3-9324-b9fc6ad44c80"
      },
      "execution_count": 1,
      "outputs": [
        {
          "output_type": "stream",
          "name": "stdout",
          "text": [
            "L1 Regularized Model Accuracy: 1.0\n"
          ]
        }
      ]
    },
    {
      "cell_type": "code",
      "source": [],
      "metadata": {
        "id": "jUpeMo2okQtJ"
      },
      "execution_count": null,
      "outputs": []
    },
    {
      "cell_type": "code",
      "source": [
        "# Practical 3 - Logistic Regression with L2 Regularization (Ridge)\n",
        "\n",
        "from sklearn.datasets import load_iris\n",
        "from sklearn.linear_model import LogisticRegression\n",
        "from sklearn.model_selection import train_test_split\n",
        "from sklearn.metrics import accuracy_score\n",
        "\n",
        "# Step 1: Load dataset\n",
        "iris = load_iris()\n",
        "X = iris.data\n",
        "y = iris.target\n",
        "\n",
        "# Step 2: Split dataset\n",
        "X_train, X_test, y_train, y_test = train_test_split(X, y, test_size=0.2, random_state=42)\n",
        "\n",
        "# Step 3: Train Logistic Regression with L2 Regularization\n",
        "model = LogisticRegression(penalty='l2', solver='lbfgs', max_iter=200)\n",
        "model.fit(X_train, y_train)\n",
        "\n",
        "# Step 4: Predict and calculate accuracy\n",
        "y_pred = model.predict(X_test)\n",
        "accuracy = accuracy_score(y_test, y_pred)\n",
        "\n",
        "# Step 5: Print accuracy and coefficients\n",
        "print(\"L2 Regularized Model Accuracy:\", accuracy)\n",
        "print(\"Model Coefficients:\\n\", model.coef_)\n"
      ],
      "metadata": {
        "id": "QV15_qGWkQqz",
        "colab": {
          "base_uri": "https://localhost:8080/"
        },
        "outputId": "6b0738e8-a3f5-42cf-da76-35a4f7f6e9b1"
      },
      "execution_count": 2,
      "outputs": [
        {
          "output_type": "stream",
          "name": "stdout",
          "text": [
            "L2 Regularized Model Accuracy: 1.0\n",
            "Model Coefficients:\n",
            " [[-0.39345607  0.96251768 -2.37512436 -0.99874594]\n",
            " [ 0.50843279 -0.25482714 -0.21301129 -0.77574766]\n",
            " [-0.11497673 -0.70769055  2.58813565  1.7744936 ]]\n"
          ]
        }
      ]
    },
    {
      "cell_type": "code",
      "source": [
        "# Practical 4 - Logistic Regression with Elastic Net Regularization\n",
        "\n",
        "from sklearn.datasets import load_iris\n",
        "from sklearn.linear_model import LogisticRegression\n",
        "from sklearn.model_selection import train_test_split\n",
        "from sklearn.metrics import accuracy_score\n",
        "\n",
        "# Step 1: Load dataset\n",
        "iris = load_iris()\n",
        "X = iris.data\n",
        "y = iris.target\n",
        "\n",
        "# Step 2: Train-test split\n",
        "X_train, X_test, y_train, y_test = train_test_split(X, y, test_size=0.2, random_state=42)\n",
        "\n",
        "# Step 3: Train model with Elastic Net Regularization\n",
        "model = LogisticRegression(\n",
        "    penalty='elasticnet',\n",
        "    solver='saga',            # saga is required for elasticnet\n",
        "    l1_ratio=0.5,             # balance between L1 and L2\n",
        "    max_iter=500\n",
        ")\n",
        "model.fit(X_train, y_train)\n",
        "\n",
        "# Step 4: Predict and evaluate\n",
        "y_pred = model.predict(X_test)\n",
        "accuracy = accuracy_score(y_test, y_pred)\n",
        "\n",
        "print(\"Elastic Net Regularized Model Accuracy:\", accuracy)\n"
      ],
      "metadata": {
        "id": "Ug8LY50ikQoA",
        "colab": {
          "base_uri": "https://localhost:8080/"
        },
        "outputId": "217f14ec-1a49-4443-f8ca-9c1fd85c1454"
      },
      "execution_count": 3,
      "outputs": [
        {
          "output_type": "stream",
          "name": "stdout",
          "text": [
            "Elastic Net Regularized Model Accuracy: 1.0\n"
          ]
        },
        {
          "output_type": "stream",
          "name": "stderr",
          "text": [
            "/usr/local/lib/python3.11/dist-packages/sklearn/linear_model/_sag.py:348: ConvergenceWarning: The max_iter was reached which means the coef_ did not converge\n",
            "  warnings.warn(\n"
          ]
        }
      ]
    },
    {
      "cell_type": "code",
      "source": [
        "# Practical 5 - Multiclass Logistic Regression using One-vs-Rest (OvR)\n",
        "\n",
        "from sklearn.datasets import load_iris\n",
        "from sklearn.linear_model import LogisticRegression\n",
        "from sklearn.model_selection import train_test_split\n",
        "from sklearn.metrics import accuracy_score\n",
        "\n",
        "# Step 1: Load dataset\n",
        "iris = load_iris()\n",
        "X = iris.data\n",
        "y = iris.target\n",
        "\n",
        "# Step 2: Train-test split\n",
        "X_train, X_test, y_train, y_test = train_test_split(X, y, test_size=0.2, random_state=42)\n",
        "\n",
        "# Step 3: Train Logistic Regression with multiclass OvR\n",
        "model = LogisticRegression(multi_class='ovr', solver='lbfgs', max_iter=200)\n",
        "model.fit(X_train, y_train)\n",
        "\n",
        "# Step 4: Predict and evaluate\n",
        "y_pred = model.predict(X_test)\n",
        "accuracy = accuracy_score(y_test, y_pred)\n",
        "\n",
        "print(\"Multiclass OvR Model Accuracy:\", accuracy)\n"
      ],
      "metadata": {
        "id": "ti1hYti2kQlu",
        "colab": {
          "base_uri": "https://localhost:8080/"
        },
        "outputId": "be7f9ae4-7467-4257-9e34-5193ef4c4b47"
      },
      "execution_count": 4,
      "outputs": [
        {
          "output_type": "stream",
          "name": "stdout",
          "text": [
            "Multiclass OvR Model Accuracy: 0.9666666666666667\n"
          ]
        },
        {
          "output_type": "stream",
          "name": "stderr",
          "text": [
            "/usr/local/lib/python3.11/dist-packages/sklearn/linear_model/_logistic.py:1256: FutureWarning: 'multi_class' was deprecated in version 1.5 and will be removed in 1.7. Use OneVsRestClassifier(LogisticRegression(..)) instead. Leave it to its default value to avoid this warning.\n",
            "  warnings.warn(\n"
          ]
        }
      ]
    },
    {
      "cell_type": "code",
      "source": [
        "# Practical 6 - Multinomial Logistic Regression\n",
        "\n",
        "from sklearn.datasets import load_iris\n",
        "from sklearn.linear_model import LogisticRegression\n",
        "from sklearn.model_selection import train_test_split\n",
        "from sklearn.metrics import accuracy_score\n",
        "\n",
        "# Step 1: Load dataset\n",
        "iris = load_iris()\n",
        "X = iris.data\n",
        "y = iris.target\n",
        "\n",
        "# Step 2: Split dataset\n",
        "X_train, X_test, y_train, y_test = train_test_split(X, y, test_size=0.2, random_state=42)\n",
        "\n",
        "# Step 3: Train Logistic Regression with Multinomial strategy\n",
        "model = LogisticRegression(multi_class='multinomial', solver='lbfgs', max_iter=200)\n",
        "model.fit(X_train, y_train)\n",
        "\n",
        "# Step 4: Predict and evaluate\n",
        "y_pred = model.predict(X_test)\n",
        "accuracy = accuracy_score(y_test, y_pred)\n",
        "\n",
        "print(\"Multinomial Logistic Regression Accuracy:\", accuracy)\n"
      ],
      "metadata": {
        "id": "rK7bj_EWkQjT",
        "colab": {
          "base_uri": "https://localhost:8080/"
        },
        "outputId": "8e8fc13b-cb65-4710-86d6-992ea24cf49f"
      },
      "execution_count": 5,
      "outputs": [
        {
          "output_type": "stream",
          "name": "stdout",
          "text": [
            "Multinomial Logistic Regression Accuracy: 1.0\n"
          ]
        },
        {
          "output_type": "stream",
          "name": "stderr",
          "text": [
            "/usr/local/lib/python3.11/dist-packages/sklearn/linear_model/_logistic.py:1247: FutureWarning: 'multi_class' was deprecated in version 1.5 and will be removed in 1.7. From then on, it will always use 'multinomial'. Leave it to its default value to avoid this warning.\n",
            "  warnings.warn(\n"
          ]
        }
      ]
    },
    {
      "cell_type": "code",
      "source": [
        "# Practical 7 - Visualize Confusion Matrix for Logistic Regression\n",
        "\n",
        "from sklearn.datasets import load_iris\n",
        "from sklearn.linear_model import LogisticRegression\n",
        "from sklearn.model_selection import train_test_split\n",
        "from sklearn.metrics import confusion_matrix, ConfusionMatrixDisplay\n",
        "import matplotlib.pyplot as plt\n",
        "\n",
        "# Step 1: Load dataset\n",
        "iris = load_iris()\n",
        "X = iris.data\n",
        "y = iris.target\n",
        "\n",
        "# Step 2: Split dataset\n",
        "X_train, X_test, y_train, y_test = train_test_split(X, y, test_size=0.2, random_state=42)\n",
        "\n",
        "# Step 3: Train logistic regression\n",
        "model = LogisticRegression(max_iter=200)\n",
        "model.fit(X_train, y_train)\n",
        "\n",
        "# Step 4: Predict\n",
        "y_pred = model.predict(X_test)\n",
        "\n",
        "# Step 5: Generate confusion matrix\n",
        "cm = confusion_matrix(y_test, y_pred)\n",
        "\n",
        "# Step 6: Display confusion matrix\n",
        "disp = ConfusionMatrixDisplay(confusion_matrix=cm, display_labels=iris.target_names)\n",
        "disp.plot(cmap='Blues')\n",
        "plt.title(\"Confusion Matrix - Logistic Regression\")\n",
        "plt.show()\n"
      ],
      "metadata": {
        "id": "6QlNtrcTkQhq",
        "colab": {
          "base_uri": "https://localhost:8080/",
          "height": 472
        },
        "outputId": "480e6a5e-7010-44ab-a74b-3a06af856c36"
      },
      "execution_count": 6,
      "outputs": [
        {
          "output_type": "display_data",
          "data": {
            "text/plain": [
              "<Figure size 640x480 with 2 Axes>"
            ],
            "image/png": "[encoded data removed]"
          },
          "metadata": {}
        }
      ]
    },
    {
      "cell_type": "code",
      "source": [
        "# Practical 8 - Plot ROC Curve for Logistic Regression (Binary Classification)\n",
        "\n",
        "from sklearn.datasets import load_iris\n",
        "from sklearn.linear_model import LogisticRegression\n",
        "from sklearn.model_selection import train_test_split\n",
        "from sklearn.metrics import roc_curve, roc_auc_score\n",
        "import matplotlib.pyplot as plt\n",
        "\n",
        "# Step 1: Load dataset and select only 2 classes (binary)\n",
        "iris = load_iris()\n",
        "X = iris.data\n",
        "y = iris.target\n",
        "\n",
        "# Use only class 0 and class 1 for binary classification\n",
        "binary_filter = y != 2\n",
        "X = X[binary_filter]\n",
        "y = y[binary_filter]\n",
        "\n",
        "# Step 2: Train-test split\n",
        "X_train, X_test, y_train, y_test = train_test_split(X, y, test_size=0.2, random_state=42)\n",
        "\n",
        "# Step 3: Train logistic regression\n",
        "model = LogisticRegression()\n",
        "model.fit(X_train, y_train)\n",
        "\n",
        "# Step 4: Predict probabilities\n",
        "y_scores = model.predict_proba(X_test)[:, 1]  # Probabilities for class 1\n",
        "\n",
        "# Step 5: Compute ROC curve\n",
        "fpr, tpr, thresholds = roc_curve(y_test, y_scores)\n",
        "auc = roc_auc_score(y_test, y_scores)\n",
        "\n",
        "# Step 6: Plot ROC curve\n",
        "plt.plot(fpr, tpr, label=f\"ROC Curve (AUC = {auc:.2f})\")\n",
        "plt.plot([0, 1], [0, 1], 'k--')  # Diagonal line\n",
        "plt.xlabel(\"False Positive Rate\")\n",
        "plt.ylabel(\"True Positive Rate\")\n",
        "plt.title(\"ROC Curve - Logistic Regression\")\n",
        "plt.legend()\n",
        "plt.grid()\n",
        "plt.show()\n"
      ],
      "metadata": {
        "id": "cjUmGWLukQg7",
        "colab": {
          "base_uri": "https://localhost:8080/",
          "height": 472
        },
        "outputId": "3bf2e622-00a4-4b24-eca7-e654bb06b381"
      },
      "execution_count": 7,
      "outputs": [
        {
          "output_type": "display_data",
          "data": {
            "text/plain": [
              "<Figure size 640x480 with 1 Axes>"
            ],
            "image/png": "[encoded data removed]"
          },
          "metadata": {}
        }
      ]
    },
    {
      "cell_type": "code",
      "source": [
        "# Practical 10 - Evaluate Logistic Regression using Classification Report & Confusion Matrix\n",
        "\n",
        "from sklearn.datasets import load_iris\n",
        "from sklearn.linear_model import LogisticRegression\n",
        "from sklearn.model_selection import train_test_split\n",
        "from sklearn.metrics import classification_report, confusion_matrix\n",
        "\n",
        "# Step 1: Load dataset\n",
        "iris = load_iris()\n",
        "X = iris.data\n",
        "y = iris.target\n",
        "\n",
        "# Step 2: Train-test split\n",
        "X_train, X_test, y_train, y_test = train_test_split(X, y, test_size=0.2, random_state=42)\n",
        "\n",
        "# Step 3: Train Logistic Regression\n",
        "model = LogisticRegression(max_iter=200)\n",
        "model.fit(X_train, y_train)\n",
        "\n",
        "# Step 4: Predict\n",
        "y_pred = model.predict(X_test)\n",
        "\n",
        "# Step 5: Evaluate with confusion matrix and classification report\n",
        "print(\"Confusion Matrix:\")\n",
        "print(confusion_matrix(y_test, y_pred))\n",
        "\n",
        "print(\"\\nClassification Report:\")\n",
        "print(classification_report(y_test, y_pred, target_names=iris.target_names))\n"
      ],
      "metadata": {
        "id": "LR2qE4sFkQdT",
        "colab": {
          "base_uri": "https://localhost:8080/"
        },
        "outputId": "0ba6fd9a-8c80-4305-a0bd-0f973cc3b2e1"
      },
      "execution_count": 8,
      "outputs": [
        {
          "output_type": "stream",
          "name": "stdout",
          "text": [
            "Confusion Matrix:\n",
            "[[10  0  0]\n",
            " [ 0  9  0]\n",
            " [ 0  0 11]]\n",
            "\n",
            "Classification Report:\n",
            "              precision    recall  f1-score   support\n",
            "\n",
            "      setosa       1.00      1.00      1.00        10\n",
            "  versicolor       1.00      1.00      1.00         9\n",
            "   virginica       1.00      1.00      1.00        11\n",
            "\n",
            "    accuracy                           1.00        30\n",
            "   macro avg       1.00      1.00      1.00        30\n",
            "weighted avg       1.00      1.00      1.00        30\n",
            "\n"
          ]
        }
      ]
    },
    {
      "cell_type": "code",
      "source": [
        "# Practical 11 - Hyperparameter Tuning for C in Logistic Regression\n",
        "\n",
        "from sklearn.datasets import load_iris\n",
        "from sklearn.linear_model import LogisticRegression\n",
        "from sklearn.model_selection import train_test_split\n",
        "from sklearn.metrics import accuracy_score\n",
        "\n",
        "# Step 1: Load dataset\n",
        "iris = load_iris()\n",
        "X = iris.data\n",
        "y = iris.target\n",
        "\n",
        "# Step 2: Train-test split\n",
        "X_train, X_test, y_train, y_test = train_test_split(X, y, test_size=0.2, random_state=42)\n",
        "\n",
        "# Step 3: Try multiple C values\n",
        "C_values = [0.01, 0.1, 1, 10, 100]\n",
        "\n",
        "print(\"C Value\\tModel Accuracy\")\n",
        "for c in C_values:\n",
        "    model = LogisticRegression(C=c, max_iter=200)\n",
        "    model.fit(X_train, y_train)\n",
        "    y_pred = model.predict(X_test)\n",
        "    acc = accuracy_score(y_test, y_pred)\n",
        "    print(f\"{c}\\t{acc:.4f}\")\n"
      ],
      "metadata": {
        "id": "OHfTPsH2kQaw",
        "colab": {
          "base_uri": "https://localhost:8080/"
        },
        "outputId": "c02ff7e5-1b5d-461c-ef99-c71508cd07a0"
      },
      "execution_count": 9,
      "outputs": [
        {
          "output_type": "stream",
          "name": "stdout",
          "text": [
            "C Value\tModel Accuracy\n",
            "0.01\t0.9333\n",
            "0.1\t1.0000\n",
            "1\t1.0000\n",
            "10\t1.0000\n",
            "100\t1.0000\n"
          ]
        }
      ]
    },
    {
      "cell_type": "code",
      "source": [
        "# Practical 12 - Feature Scaling with StandardScaler before Logistic Regression\n",
        "\n",
        "from sklearn.datasets import load_iris\n",
        "from sklearn.linear_model import LogisticRegression\n",
        "from sklearn.preprocessing import StandardScaler\n",
        "from sklearn.model_selection import train_test_split\n",
        "from sklearn.metrics import accuracy_score\n",
        "\n",
        "# Step 1: Load dataset\n",
        "iris = load_iris()\n",
        "X = iris.data\n",
        "y = iris.target\n",
        "\n",
        "# Step 2: Train-test split\n",
        "X_train, X_test, y_train, y_test = train_test_split(X, y, test_size=0.2, random_state=42)\n",
        "\n",
        "# Step 3: Apply feature scaling\n",
        "scaler = StandardScaler()\n",
        "X_train_scaled = scaler.fit_transform(X_train)\n",
        "X_test_scaled = scaler.transform(X_test)\n",
        "\n",
        "# Step 4: Train Logistic Regression\n",
        "model = LogisticRegression(max_iter=200)\n",
        "model.fit(X_train_scaled, y_train)\n",
        "\n",
        "# Step 5: Predict and evaluate\n",
        "y_pred = model.predict(X_test_scaled)\n",
        "accuracy = accuracy_score(y_test, y_pred)\n",
        "\n",
        "print(\"Accuracy after Feature Scaling:\", accuracy)\n"
      ],
      "metadata": {
        "id": "BtcQHjeDkQY-",
        "colab": {
          "base_uri": "https://localhost:8080/"
        },
        "outputId": "c0ac66d9-9cd0-4655-c6eb-93746586ac27"
      },
      "execution_count": 10,
      "outputs": [
        {
          "output_type": "stream",
          "name": "stdout",
          "text": [
            "Accuracy after Feature Scaling: 1.0\n"
          ]
        }
      ]
    },
    {
      "cell_type": "code",
      "source": [
        "# Practical 13 - K-Fold Cross-Validation with Logistic Regression\n",
        "\n",
        "from sklearn.datasets import load_iris\n",
        "from sklearn.linear_model import LogisticRegression\n",
        "from sklearn.model_selection import KFold, cross_val_score\n",
        "import numpy as np\n",
        "\n",
        "# Step 1: Load dataset\n",
        "iris = load_iris()\n",
        "X = iris.data\n",
        "y = iris.target\n",
        "\n",
        "# Step 2: Define model and KFold\n",
        "model = LogisticRegression(max_iter=200)\n",
        "kfold = KFold(n_splits=5, shuffle=True, random_state=42)\n",
        "\n",
        "# Step 3: Perform cross-validation\n",
        "scores = cross_val_score(model, X, y, cv=kfold)\n",
        "\n",
        "# Step 4: Print results\n",
        "print(\"Cross-validation scores:\", scores)\n",
        "print(\"Average accuracy:\", np.mean(scores))\n"
      ],
      "metadata": {
        "id": "dpZUXEZSkQXK",
        "colab": {
          "base_uri": "https://localhost:8080/"
        },
        "outputId": "81f0f42d-a672-43bd-e471-7f7aa416e121"
      },
      "execution_count": 11,
      "outputs": [
        {
          "output_type": "stream",
          "name": "stdout",
          "text": [
            "Cross-validation scores: [1.         1.         0.93333333 0.96666667 0.96666667]\n",
            "Average accuracy: 0.9733333333333334\n"
          ]
        }
      ]
    },
    {
      "cell_type": "code",
      "source": [
        "# Practical 15 - Save and Load Logistic Regression Model using joblib\n",
        "\n",
        "from sklearn.datasets import load_iris\n",
        "from sklearn.linear_model import LogisticRegression\n",
        "from sklearn.model_selection import train_test_split\n",
        "from sklearn.metrics import accuracy_score\n",
        "import joblib\n",
        "\n",
        "# Step 1: Load dataset\n",
        "iris = load_iris()\n",
        "X = iris.data\n",
        "y = iris.target\n",
        "\n",
        "# Step 2: Split dataset\n",
        "X_train, X_test, y_train, y_test = train_test_split(X, y, test_size=0.2, random_state=42)\n",
        "\n",
        "# Step 3: Train Logistic Regression model\n",
        "model = LogisticRegression(max_iter=200)\n",
        "model.fit(X_train, y_train)\n",
        "\n",
        "# Step 4: Save the model to a file\n",
        "joblib.dump(model, 'logistic_model.pkl')\n",
        "print(\"Model saved to logistic_model.pkl\")\n",
        "\n",
        "# Step 5: Load the model from the file\n",
        "loaded_model = joblib.load('logistic_model.pkl')\n",
        "\n",
        "# Step 6: Predict and evaluate\n",
        "y_pred = loaded_model.predict(X_test)\n",
        "accuracy = accuracy_score(y_test, y_pred)\n",
        "\n",
        "print(\"Loaded model accuracy:\", accuracy)\n"
      ],
      "metadata": {
        "id": "lvky7NndkQU_",
        "colab": {
          "base_uri": "https://localhost:8080/"
        },
        "outputId": "b21ee843-cc6a-4fcc-d9ba-e545cdc969d5"
      },
      "execution_count": 12,
      "outputs": [
        {
          "output_type": "stream",
          "name": "stdout",
          "text": [
            "Model saved to logistic_model.pkl\n",
            "Loaded model accuracy: 1.0\n"
          ]
        }
      ]
    },
    {
      "cell_type": "code",
      "source": [
        "# Practical 19 - Create and use a Pipeline with StandardScaler and Logistic Regression\n",
        "\n",
        "from sklearn.datasets import load_iris\n",
        "from sklearn.linear_model import LogisticRegression\n",
        "from sklearn.preprocessing import StandardScaler\n",
        "from sklearn.pipeline import Pipeline\n",
        "from sklearn.model_selection import train_test_split\n",
        "from sklearn.metrics import accuracy_score\n",
        "\n",
        "# Step 1: Load dataset\n",
        "iris = load_iris()\n",
        "X = iris.data\n",
        "y = iris.target\n",
        "\n",
        "# Step 2: Train-test split\n",
        "X_train, X_test, y_train, y_test = train_test_split(X, y, test_size=0.2, random_state=42)\n",
        "\n",
        "# Step 3: Create pipeline\n",
        "pipeline = Pipeline([\n",
        "    ('scaler', StandardScaler()),               # Step 1: Scale data\n",
        "    ('logreg', LogisticRegression(max_iter=200))  # Step 2: Train model\n",
        "])\n",
        "\n",
        "# Step 4: Train the pipeline\n",
        "pipeline.fit(X_train, y_train)\n",
        "\n",
        "# Step 5: Predict and evaluate\n",
        "y_pred = pipeline.predict(X_test)\n",
        "accuracy = accuracy_score(y_test, y_pred)\n",
        "\n",
        "print(\"Pipeline model accuracy:\", accuracy)\n"
      ],
      "metadata": {
        "id": "h9n5OQPhkQSx",
        "colab": {
          "base_uri": "https://localhost:8080/"
        },
        "outputId": "a237d57e-584c-477f-bfd5-0a22ddbd2557"
      },
      "execution_count": 14,
      "outputs": [
        {
          "output_type": "stream",
          "name": "stdout",
          "text": [
            "Pipeline model accuracy: 1.0\n"
          ]
        }
      ]
    },
    {
      "cell_type": "code",
      "source": [
        "# Practical 20 - Compare Logistic Regression With and Without Feature Scaling\n",
        "\n",
        "from sklearn.datasets import load_iris\n",
        "from sklearn.linear_model import LogisticRegression\n",
        "from sklearn.preprocessing import StandardScaler\n",
        "from sklearn.model_selection import train_test_split\n",
        "from sklearn.metrics import accuracy_score\n",
        "\n",
        "# Step 1: Load dataset\n",
        "iris = load_iris()\n",
        "X = iris.data\n",
        "y = iris.target\n",
        "\n",
        "# Step 2: Split the data\n",
        "X_train, X_test, y_train, y_test = train_test_split(X, y, test_size=0.2, random_state=42)\n",
        "\n",
        "# ----------------- Model WITHOUT Scaling -----------------\n",
        "model_no_scaling = LogisticRegression(max_iter=200)\n",
        "model_no_scaling.fit(X_train, y_train)\n",
        "y_pred_no_scaling = model_no_scaling.predict(X_test)\n",
        "acc_no_scaling = accuracy_score(y_test, y_pred_no_scaling)\n",
        "\n",
        "# ----------------- Model WITH Scaling -----------------\n",
        "scaler = StandardScaler()\n",
        "X_train_scaled = scaler.fit_transform(X_train)\n",
        "X_test_scaled = scaler.transform(X_test)\n",
        "\n",
        "model_scaled = LogisticRegression(max_iter=200)\n",
        "model_scaled.fit(X_train_scaled, y_train)\n",
        "y_pred_scaled = model_scaled.predict(X_test_scaled)\n",
        "acc_scaled = accuracy_score(y_test, y_pred_scaled)\n",
        "\n",
        "# ----------------- Results -----------------\n",
        "print(f\"Accuracy WITHOUT scaling: {acc_no_scaling:.4f}\")\n",
        "print(f\"Accuracy WITH scaling   : {acc_scaled:.4f}\")\n"
      ],
      "metadata": {
        "id": "6jIdyqHJkQQe",
        "colab": {
          "base_uri": "https://localhost:8080/"
        },
        "outputId": "8583fb37-ed23-47c0-8f92-219076c7430e"
      },
      "execution_count": 15,
      "outputs": [
        {
          "output_type": "stream",
          "name": "stdout",
          "text": [
            "Accuracy WITHOUT scaling: 1.0000\n",
            "Accuracy WITH scaling   : 1.0000\n"
          ]
        }
      ]
    },
    {
      "cell_type": "code",
      "source": [
        "# Practical 21 - Compare Logistic Regression solvers\n",
        "\n",
        "from sklearn.datasets import load_iris\n",
        "from sklearn.linear_model import LogisticRegression\n",
        "from sklearn.model_selection import train_test_split\n",
        "from sklearn.metrics import accuracy_score\n",
        "\n",
        "# Load dataset\n",
        "iris = load_iris()\n",
        "X = iris.data\n",
        "y = iris.target\n",
        "\n",
        "# Split dataset\n",
        "X_train, X_test, y_train, y_test = train_test_split(X, y, test_size=0.2, random_state=42)\n",
        "\n",
        "# Different solvers to compare\n",
        "solvers = ['liblinear', 'saga', 'lbfgs']\n",
        "\n",
        "for solver in solvers:\n",
        "    print(f\"\\nTraining with solver: {solver}\")\n",
        "    model = LogisticRegression(solver=solver, max_iter=200, multi_class='auto')\n",
        "    model.fit(X_train, y_train)\n",
        "    y_pred = model.predict(X_test)\n",
        "    acc = accuracy_score(y_test, y_pred)\n",
        "    print(f\"Accuracy with {solver}: {acc:.4f}\")\n"
      ],
      "metadata": {
        "id": "DCh6C03HkQPB",
        "colab": {
          "base_uri": "https://localhost:8080/"
        },
        "outputId": "74776c60-42ea-4c1b-a368-fbf3da852121"
      },
      "execution_count": 16,
      "outputs": [
        {
          "output_type": "stream",
          "name": "stdout",
          "text": [
            "\n",
            "Training with solver: liblinear\n",
            "Accuracy with liblinear: 1.0000\n",
            "\n",
            "Training with solver: saga\n",
            "Accuracy with saga: 1.0000\n",
            "\n",
            "Training with solver: lbfgs\n"
          ]
        },
        {
          "output_type": "stream",
          "name": "stderr",
          "text": [
            "/usr/local/lib/python3.11/dist-packages/sklearn/linear_model/_logistic.py:1247: FutureWarning: 'multi_class' was deprecated in version 1.5 and will be removed in 1.7. From then on, it will always use 'multinomial'. Leave it to its default value to avoid this warning.\n",
            "  warnings.warn(\n",
            "/usr/local/lib/python3.11/dist-packages/sklearn/linear_model/_logistic.py:1247: FutureWarning: 'multi_class' was deprecated in version 1.5 and will be removed in 1.7. From then on, it will always use 'multinomial'. Leave it to its default value to avoid this warning.\n",
            "  warnings.warn(\n",
            "/usr/local/lib/python3.11/dist-packages/sklearn/linear_model/_sag.py:348: ConvergenceWarning: The max_iter was reached which means the coef_ did not converge\n",
            "  warnings.warn(\n",
            "/usr/local/lib/python3.11/dist-packages/sklearn/linear_model/_logistic.py:1247: FutureWarning: 'multi_class' was deprecated in version 1.5 and will be removed in 1.7. From then on, it will always use 'multinomial'. Leave it to its default value to avoid this warning.\n",
            "  warnings.warn(\n"
          ]
        },
        {
          "output_type": "stream",
          "name": "stdout",
          "text": [
            "Accuracy with lbfgs: 1.0000\n"
          ]
        }
      ]
    },
    {
      "cell_type": "code",
      "source": [
        "# Practical 22 - Evaluate Logistic Regression using Matthews Correlation Coefficient (MCC)\n",
        "\n",
        "from sklearn.datasets import load_iris\n",
        "from sklearn.linear_model import LogisticRegression\n",
        "from sklearn.model_selection import train_test_split\n",
        "from sklearn.metrics import matthews_corrcoef\n",
        "\n",
        "# Load dataset (to simplify, convert to binary for MCC demo)\n",
        "iris = load_iris()\n",
        "X = iris.data\n",
        "y = (iris.target == 0).astype(int)  # Binary: Class 0 vs rest\n",
        "\n",
        "# Train-test split\n",
        "X_train, X_test, y_train, y_test = train_test_split(X, y, test_size=0.2, random_state=42)\n",
        "\n",
        "# Train model\n",
        "model = LogisticRegression(max_iter=200)\n",
        "model.fit(X_train, y_train)\n",
        "\n",
        "# Predict\n",
        "y_pred = model.predict(X_test)\n",
        "\n",
        "# Evaluate using MCC\n",
        "mcc = matthews_corrcoef(y_test, y_pred)\n",
        "print(\"Matthews Correlation Coefficient (MCC):\", mcc)\n"
      ],
      "metadata": {
        "id": "CA5SReKokQMh",
        "colab": {
          "base_uri": "https://localhost:8080/"
        },
        "outputId": "19a1f2e3-49c4-476e-9016-f715f97fc954"
      },
      "execution_count": 17,
      "outputs": [
        {
          "output_type": "stream",
          "name": "stdout",
          "text": [
            "Matthews Correlation Coefficient (MCC): 1.0\n"
          ]
        }
      ]
    },
    {
      "cell_type": "code",
      "source": [
        "# Practical 23 - Compare accuracy of Logistic Regression on raw vs standardized data\n",
        "\n",
        "from sklearn.datasets import load_iris\n",
        "from sklearn.linear_model import LogisticRegression\n",
        "from sklearn.preprocessing import StandardScaler\n",
        "from sklearn.model_selection import train_test_split\n",
        "from sklearn.metrics import accuracy_score\n",
        "\n",
        "# Step 1: Load dataset\n",
        "iris = load_iris()\n",
        "X = iris.data\n",
        "y = iris.target\n",
        "\n",
        "# Step 2: Split data\n",
        "X_train, X_test, y_train, y_test = train_test_split(X, y, test_size=0.2, random_state=42)\n",
        "\n",
        "# -------------------- RAW DATA --------------------\n",
        "model_raw = LogisticRegression(max_iter=200)\n",
        "model_raw.fit(X_train, y_train)\n",
        "y_pred_raw = model_raw.predict(X_test)\n",
        "acc_raw = accuracy_score(y_test, y_pred_raw)\n",
        "\n",
        "# -------------------- STANDARDIZED DATA --------------------\n",
        "scaler = StandardScaler()\n",
        "X_train_std = scaler.fit_transform(X_train)\n",
        "X_test_std = scaler.transform(X_test)\n",
        "\n",
        "model_std = LogisticRegression(max_iter=200)\n",
        "model_std.fit(X_train_std, y_train)\n",
        "y_pred_std = model_std.predict(X_test_std)\n",
        "acc_std = accuracy_score(y_test, y_pred_std)\n",
        "\n",
        "# -------------------- Results --------------------\n",
        "print(\"Accuracy on Raw Data        :\", acc_raw)\n",
        "print(\"Accuracy on Standardized Data:\", acc_std)\n"
      ],
      "metadata": {
        "id": "77Zrjce5kQJr",
        "colab": {
          "base_uri": "https://localhost:8080/"
        },
        "outputId": "33fe4110-b9ac-4a33-ac53-1e562813dfb8"
      },
      "execution_count": 18,
      "outputs": [
        {
          "output_type": "stream",
          "name": "stdout",
          "text": [
            "Accuracy on Raw Data        : 1.0\n",
            "Accuracy on Standardized Data: 1.0\n"
          ]
        }
      ]
    },
    {
      "cell_type": "code",
      "source": [
        "# Practical 24 - Find optimal C using GridSearchCV\n",
        "\n",
        "from sklearn.datasets import load_iris\n",
        "from sklearn.linear_model import LogisticRegression\n",
        "from sklearn.model_selection import GridSearchCV, train_test_split\n",
        "\n",
        "# Load data\n",
        "iris = load_iris()\n",
        "X = iris.data\n",
        "y = iris.target\n",
        "\n",
        "# Split dataset\n",
        "X_train, X_test, y_train, y_test = train_test_split(X, y, test_size=0.2, random_state=42)\n",
        "\n",
        "# Create model\n",
        "model = LogisticRegression(max_iter=200)\n",
        "\n",
        "# Define hyperparameter grid\n",
        "param_grid = {'C': [0.01, 0.1, 1, 10, 100]}\n",
        "\n",
        "# Use GridSearchCV to find best C\n",
        "grid = GridSearchCV(model, param_grid, cv=5)\n",
        "grid.fit(X_train, y_train)\n",
        "\n",
        "# Output results\n",
        "print(\"Best C value:\", grid.best_params_['C'])\n",
        "print(\"Best cross-validated accuracy:\", grid.best_score_)\n"
      ],
      "metadata": {
        "colab": {
          "base_uri": "https://localhost:8080/"
        },
        "id": "iNcOY0HuhYpx",
        "outputId": "b10b3d2f-3bb8-4a12-9147-bda6cdb0a6f7"
      },
      "execution_count": 19,
      "outputs": [
        {
          "output_type": "stream",
          "name": "stdout",
          "text": [
            "Best C value: 1\n",
            "Best cross-validated accuracy: 0.9666666666666666\n"
          ]
        }
      ]
    },
    {
      "cell_type": "code",
      "source": [],
      "metadata": {
        "id": "vz9_ENs3hYln"
      },
      "execution_count": null,
      "outputs": []
    },
    {
      "cell_type": "code",
      "source": [
        "# Practical 25 - Save and Load Logistic Regression using joblib\n",
        "\n",
        "from sklearn.datasets import load_iris\n",
        "from sklearn.linear_model import LogisticRegression\n",
        "from sklearn.model_selection import train_test_split\n",
        "import joblib\n",
        "\n",
        "# Step 1: Load data and train model\n",
        "iris = load_iris()\n",
        "X = iris.data\n",
        "y = iris.target\n",
        "X_train, X_test, y_train, y_test = train_test_split(X, y, test_size=0.2, random_state=42)\n",
        "\n",
        "model = LogisticRegression(max_iter=200)\n",
        "model.fit(X_train, y_train)\n",
        "\n",
        "# Step 2: Save model\n",
        "joblib.dump(model, \"logistic_model.pkl\")\n",
        "print(\"Model saved to logistic_model.pkl\")\n",
        "\n",
        "# Step 3: Load model and predict\n",
        "loaded_model = joblib.load(\"logistic_model.pkl\")\n",
        "y_pred = loaded_model.predict(X_test)\n",
        "\n",
        "# Step 4: Display predictions\n",
        "print(\"Predictions after loading model:\", y_pred)\n"
      ],
      "metadata": {
        "colab": {
          "base_uri": "https://localhost:8080/"
        },
        "id": "0veQypG6hYj2",
        "outputId": "95e8cb5e-6d0f-425f-a97e-409c5512ee0d"
      },
      "execution_count": 20,
      "outputs": [
        {
          "output_type": "stream",
          "name": "stdout",
          "text": [
            "Model saved to logistic_model.pkl\n",
            "Predictions after loading model: [1 0 2 1 1 0 1 2 1 1 2 0 0 0 0 1 2 1 1 2 0 2 0 2 2 2 2 2 0 0]\n"
          ]
        }
      ]
    },
    {
      "cell_type": "code",
      "source": [],
      "metadata": {
        "id": "069uS7V1hYip"
      },
      "execution_count": null,
      "outputs": []
    },
    {
      "cell_type": "code",
      "source": [],
      "metadata": {
        "id": "NJSJHWU_hYfs"
      },
      "execution_count": null,
      "outputs": []
    },
    {
      "cell_type": "code",
      "source": [],
      "metadata": {
        "id": "-MVRJyPYhYdd"
      },
      "execution_count": null,
      "outputs": []
    },
    {
      "cell_type": "code",
      "source": [],
      "metadata": {
        "id": "JOs1n1bEhYcQ"
      },
      "execution_count": null,
      "outputs": []
    },
    {
      "cell_type": "code",
      "source": [],
      "metadata": {
        "id": "7oBnyTrQhYZK"
      },
      "execution_count": null,
      "outputs": []
    },
    {
      "cell_type": "code",
      "source": [],
      "metadata": {
        "id": "ojYeRafzhYXa"
      },
      "execution_count": null,
      "outputs": []
    },
    {
      "cell_type": "code",
      "source": [],
      "metadata": {
        "id": "elfPQpEkhYWa"
      },
      "execution_count": null,
      "outputs": []
    },
    {
      "cell_type": "code",
      "source": [],
      "metadata": {
        "id": "k7y6lK6ZhYSn"
      },
      "execution_count": null,
      "outputs": []
    },
    {
      "cell_type": "markdown",
      "source": [],
      "metadata": {
        "id": "dbxi5CFXkK6y"
      }
    }
  ]
}