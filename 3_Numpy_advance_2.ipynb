{
  "cells": [
    {
      "cell_type": "markdown",
      "metadata": {
        "id": "view-in-github",
        "colab_type": "text"
      },
      "source": [
        "<a href=\"https://colab.research.google.com/github/rajan5639/pw_data_science/blob/main/3_Numpy_advance_2.ipynb\" target=\"_parent\"><img src=\"https://colab.research.google.com/assets/colab-badge.svg\" alt=\"Open In Colab\"/></a>"
      ]
    },
    {
      "cell_type": "code",
      "execution_count": null,
      "id": "7bf557a6-57f9-4e24-be43-9bc25b14f4ab",
      "metadata": {
        "id": "7bf557a6-57f9-4e24-be43-9bc25b14f4ab"
      },
      "outputs": [],
      "source": [
        "import numpy as np"
      ]
    },
    {
      "cell_type": "code",
      "execution_count": null,
      "id": "2d32fcd0-755e-4e4b-8a4c-4f63f17df955",
      "metadata": {
        "id": "2d32fcd0-755e-4e4b-8a4c-4f63f17df955"
      },
      "outputs": [],
      "source": [
        "arr1 = np.random.randint(1, 3, (3, 3))\n",
        "arr2 = np.random.randint(1, 3, (3, 3))"
      ]
    },
    {
      "cell_type": "code",
      "execution_count": null,
      "id": "8855656d-8adc-48e8-a6ca-0f58af9850ba",
      "metadata": {
        "id": "8855656d-8adc-48e8-a6ca-0f58af9850ba",
        "outputId": "9617f5e3-5410-46e3-95f3-8725568bbd4d"
      },
      "outputs": [
        {
          "data": {
            "text/plain": [
              "array([[2, 1, 2],\n",
              "       [1, 1, 1],\n",
              "       [2, 2, 1]])"
            ]
          },
          "execution_count": 3,
          "metadata": {},
          "output_type": "execute_result"
        }
      ],
      "source": [
        "arr2"
      ]
    },
    {
      "cell_type": "code",
      "execution_count": null,
      "id": "84dcff1b-99ef-4ed0-bb40-6ff079e9d2a5",
      "metadata": {
        "id": "84dcff1b-99ef-4ed0-bb40-6ff079e9d2a5",
        "outputId": "496bf890-64e2-4380-8adb-4b6abc84d600"
      },
      "outputs": [
        {
          "data": {
            "text/plain": [
              "array([[2, 2, 1],\n",
              "       [2, 2, 1],\n",
              "       [2, 2, 1]])"
            ]
          },
          "execution_count": 4,
          "metadata": {},
          "output_type": "execute_result"
        }
      ],
      "source": [
        "arr1"
      ]
    },
    {
      "cell_type": "code",
      "execution_count": 1,
      "id": "6049f46d-6d41-47ec-ba8c-bb5e4a882a82",
      "metadata": {
        "id": "6049f46d-6d41-47ec-ba8c-bb5e4a882a82",
        "outputId": "cd9c178e-bd12-4e0c-d025-0cc406882e5f",
        "colab": {
          "base_uri": "https://localhost:8080/",
          "height": 141
        }
      },
      "outputs": [
        {
          "output_type": "error",
          "ename": "NameError",
          "evalue": "name 'arr1' is not defined",
          "traceback": [
            "\u001b[0;31m---------------------------------------------------------------------------\u001b[0m",
            "\u001b[0;31mNameError\u001b[0m                                 Traceback (most recent call last)",
            "\u001b[0;32m<ipython-input-1-d18acb287791>\u001b[0m in \u001b[0;36m<cell line: 1>\u001b[0;34m()\u001b[0m\n\u001b[0;32m----> 1\u001b[0;31m \u001b[0marr1\u001b[0m\u001b[0;34m.\u001b[0m\u001b[0mflatten\u001b[0m\u001b[0;34m(\u001b[0m\u001b[0;34m)\u001b[0m \u001b[0;31m#Return a copy of the array collapsed into one dimension.\u001b[0m\u001b[0;34m\u001b[0m\u001b[0;34m\u001b[0m\u001b[0m\n\u001b[0m",
            "\u001b[0;31mNameError\u001b[0m: name 'arr1' is not defined"
          ]
        }
      ],
      "source": [
        "arr1.flatten() #Return a copy of the array collapsed into one dimension."
      ]
    },
    {
      "cell_type": "code",
      "execution_count": null,
      "id": "bd4dca35-af5a-4f98-bcaf-e73d0be174fd",
      "metadata": {
        "id": "bd4dca35-af5a-4f98-bcaf-e73d0be174fd"
      },
      "outputs": [],
      "source": [
        "#expand dimension\n",
        "arr = np.array([1, 2, 3, 4])"
      ]
    },
    {
      "cell_type": "code",
      "execution_count": null,
      "id": "6ab215a3-2e6e-42fc-810d-c7b81577daa2",
      "metadata": {
        "id": "6ab215a3-2e6e-42fc-810d-c7b81577daa2",
        "outputId": "f4a7f2e8-98f5-447a-f970-69419779c785"
      },
      "outputs": [
        {
          "data": {
            "text/plain": [
              "array([1, 2, 3, 4])"
            ]
          },
          "execution_count": 7,
          "metadata": {},
          "output_type": "execute_result"
        }
      ],
      "source": [
        "arr"
      ]
    },
    {
      "cell_type": "code",
      "execution_count": null,
      "id": "cb5b9828-9b28-4ace-8dbd-7d65ce1d9c99",
      "metadata": {
        "id": "cb5b9828-9b28-4ace-8dbd-7d65ce1d9c99",
        "outputId": "eb2c9013-da75-40c3-dc46-2068a4b3be91"
      },
      "outputs": [
        {
          "data": {
            "text/plain": [
              "1"
            ]
          },
          "execution_count": 8,
          "metadata": {},
          "output_type": "execute_result"
        }
      ],
      "source": [
        "arr.ndim"
      ]
    },
    {
      "cell_type": "code",
      "execution_count": null,
      "id": "36984301-94d3-474e-a962-e92de6283705",
      "metadata": {
        "id": "36984301-94d3-474e-a962-e92de6283705",
        "outputId": "d07af9ef-fd8f-4781-800e-ed48ade901c7"
      },
      "outputs": [
        {
          "data": {
            "text/plain": [
              "array([[1, 2, 3, 4]])"
            ]
          },
          "execution_count": 10,
          "metadata": {},
          "output_type": "execute_result"
        }
      ],
      "source": [
        "np.expand_dims(arr, axis=0) #increase the dimension by 1 in the provided axis, 0 means rows(x axis), 1 means column wise(y axis)"
      ]
    },
    {
      "cell_type": "code",
      "execution_count": null,
      "id": "2a3951e3-04be-4d2a-ba4d-2b5a86acfd27",
      "metadata": {
        "id": "2a3951e3-04be-4d2a-ba4d-2b5a86acfd27",
        "outputId": "834fed2e-b599-48d2-c8f2-07cce78434fb"
      },
      "outputs": [
        {
          "data": {
            "text/plain": [
              "array([[1],\n",
              "       [2],\n",
              "       [3],\n",
              "       [4]])"
            ]
          },
          "execution_count": 11,
          "metadata": {},
          "output_type": "execute_result"
        }
      ],
      "source": [
        "np.expand_dims(arr, axis=1)"
      ]
    },
    {
      "cell_type": "code",
      "execution_count": null,
      "id": "96123692-bc99-4cf9-9e25-338d36307f89",
      "metadata": {
        "id": "96123692-bc99-4cf9-9e25-338d36307f89",
        "outputId": "8c5a1575-d252-4478-b59c-d1f1048c4d7c"
      },
      "outputs": [
        {
          "data": {
            "text/plain": [
              "2"
            ]
          },
          "execution_count": 12,
          "metadata": {},
          "output_type": "execute_result"
        }
      ],
      "source": [
        "np.expand_dims(arr, axis=1).ndim"
      ]
    },
    {
      "cell_type": "code",
      "execution_count": null,
      "id": "211799ae-a9e0-4f36-9244-26efba0ce21a",
      "metadata": {
        "id": "211799ae-a9e0-4f36-9244-26efba0ce21a",
        "outputId": "6f51ff4d-e2ad-42ba-bf91-0f337ede94c0"
      },
      "outputs": [
        {
          "data": {
            "text/plain": [
              "array([[0., 0., 0., 0.],\n",
              "       [0., 0., 0., 0.],\n",
              "       [0., 0., 0., 0.]])"
            ]
          },
          "execution_count": 13,
          "metadata": {},
          "output_type": "execute_result"
        }
      ],
      "source": [
        "arr = np.zeros((3, 4))\n",
        "arr"
      ]
    },
    {
      "cell_type": "code",
      "execution_count": null,
      "id": "a5628006-2e19-42b2-98bf-1b7491fc0bab",
      "metadata": {
        "id": "a5628006-2e19-42b2-98bf-1b7491fc0bab",
        "outputId": "e5a31a34-90cb-43d6-f0dd-f4ce0419e608"
      },
      "outputs": [
        {
          "data": {
            "text/plain": [
              "array([[[0., 0., 0., 0.],\n",
              "        [0., 0., 0., 0.],\n",
              "        [0., 0., 0., 0.]]])"
            ]
          },
          "execution_count": 14,
          "metadata": {},
          "output_type": "execute_result"
        }
      ],
      "source": [
        "np.expand_dims(arr, axis = 0)"
      ]
    },
    {
      "cell_type": "code",
      "execution_count": null,
      "id": "95edd140-ea59-44c4-9337-9e8f4bfae64d",
      "metadata": {
        "id": "95edd140-ea59-44c4-9337-9e8f4bfae64d",
        "outputId": "ad76194d-f1be-49a6-f9cc-798990042424"
      },
      "outputs": [
        {
          "data": {
            "text/plain": [
              "3"
            ]
          },
          "execution_count": 15,
          "metadata": {},
          "output_type": "execute_result"
        }
      ],
      "source": [
        "np.expand_dims(arr, axis = 0).ndim"
      ]
    },
    {
      "cell_type": "code",
      "execution_count": null,
      "id": "93268025-4286-4fc2-8eed-a940eff86bf8",
      "metadata": {
        "id": "93268025-4286-4fc2-8eed-a940eff86bf8",
        "outputId": "9ebc0a80-e9e3-44d7-c86f-645f47e23ab6"
      },
      "outputs": [
        {
          "data": {
            "text/plain": [
              "array([[[0., 0., 0., 0.]],\n",
              "\n",
              "       [[0., 0., 0., 0.]],\n",
              "\n",
              "       [[0., 0., 0., 0.]]])"
            ]
          },
          "execution_count": 16,
          "metadata": {},
          "output_type": "execute_result"
        }
      ],
      "source": [
        "np.expand_dims(arr, axis = 1)"
      ]
    },
    {
      "cell_type": "code",
      "execution_count": null,
      "id": "0b5d518b-7053-4d6a-b6bf-e62b81f9f4c6",
      "metadata": {
        "id": "0b5d518b-7053-4d6a-b6bf-e62b81f9f4c6",
        "outputId": "bd746a62-d6bb-42c3-b9f8-df76c8f98292"
      },
      "outputs": [
        {
          "data": {
            "text/plain": [
              "3"
            ]
          },
          "execution_count": 17,
          "metadata": {},
          "output_type": "execute_result"
        }
      ],
      "source": [
        "np.expand_dims(arr, axis = 0).ndim"
      ]
    },
    {
      "cell_type": "code",
      "execution_count": null,
      "id": "aa74671f-04ca-4ad7-b971-9209306f6182",
      "metadata": {
        "id": "aa74671f-04ca-4ad7-b971-9209306f6182"
      },
      "outputs": [],
      "source": [
        "a = np.array([[1], [2], [3]])"
      ]
    },
    {
      "cell_type": "code",
      "execution_count": null,
      "id": "6fdf0db6-92a9-444d-b52d-6f00fb8d512b",
      "metadata": {
        "id": "6fdf0db6-92a9-444d-b52d-6f00fb8d512b",
        "outputId": "0766c464-1d34-477d-dbd5-66b2241f9902"
      },
      "outputs": [
        {
          "data": {
            "text/plain": [
              "array([[1],\n",
              "       [2],\n",
              "       [3]])"
            ]
          },
          "execution_count": 19,
          "metadata": {},
          "output_type": "execute_result"
        }
      ],
      "source": [
        "a"
      ]
    },
    {
      "cell_type": "code",
      "execution_count": null,
      "id": "89a47f24-ad92-4ed8-9359-b684d6ac5b51",
      "metadata": {
        "id": "89a47f24-ad92-4ed8-9359-b684d6ac5b51",
        "outputId": "2836ecc7-c94f-4cfc-e7c0-78a305b484b6"
      },
      "outputs": [
        {
          "data": {
            "text/plain": [
              "2"
            ]
          },
          "execution_count": 20,
          "metadata": {},
          "output_type": "execute_result"
        }
      ],
      "source": [
        "a.ndim"
      ]
    },
    {
      "cell_type": "code",
      "execution_count": null,
      "id": "9b352011-ea19-423c-b257-15183b94e5a6",
      "metadata": {
        "id": "9b352011-ea19-423c-b257-15183b94e5a6",
        "outputId": "4d04a510-21ab-40f7-976d-8056fb028ff0"
      },
      "outputs": [
        {
          "data": {
            "text/plain": [
              "array([1, 2, 3])"
            ]
          },
          "execution_count": 21,
          "metadata": {},
          "output_type": "execute_result"
        }
      ],
      "source": [
        "#squeezing the dimension by 1 dimension\n",
        "np.squeeze(a)#Remove axes of length one from `a`"
      ]
    },
    {
      "cell_type": "code",
      "execution_count": null,
      "id": "ae88e653-f6d8-45d8-8a26-04f51e34eb59",
      "metadata": {
        "id": "ae88e653-f6d8-45d8-8a26-04f51e34eb59",
        "outputId": "c2c60026-abd5-47e0-c7aa-c0356214b9a3"
      },
      "outputs": [
        {
          "data": {
            "text/plain": [
              "array([[1],\n",
              "       [2],\n",
              "       [3]])"
            ]
          },
          "execution_count": 22,
          "metadata": {},
          "output_type": "execute_result"
        }
      ],
      "source": [
        "a"
      ]
    },
    {
      "cell_type": "code",
      "execution_count": null,
      "id": "bd1e2ecf-4316-4259-9d7d-f78bafe33054",
      "metadata": {
        "id": "bd1e2ecf-4316-4259-9d7d-f78bafe33054",
        "outputId": "8b3d225b-0c6e-498b-c8f9-160d21c1e752"
      },
      "outputs": [
        {
          "data": {
            "text/plain": [
              "array([1, 1, 1, 1, 2, 2, 2, 2, 3, 3, 3, 3])"
            ]
          },
          "execution_count": 23,
          "metadata": {},
          "output_type": "execute_result"
        }
      ],
      "source": [
        "np.repeat(a, 4)"
      ]
    },
    {
      "cell_type": "code",
      "execution_count": null,
      "id": "b68f74bd-6b99-4b6b-bc32-95226dd64ae3",
      "metadata": {
        "id": "b68f74bd-6b99-4b6b-bc32-95226dd64ae3",
        "outputId": "450a2432-2a71-4fcb-beda-30b02b79128e"
      },
      "outputs": [
        {
          "data": {
            "text/plain": [
              "array([[2, 2, 1],\n",
              "       [2, 2, 1],\n",
              "       [2, 2, 1]])"
            ]
          },
          "execution_count": 24,
          "metadata": {},
          "output_type": "execute_result"
        }
      ],
      "source": [
        "arr1"
      ]
    },
    {
      "cell_type": "code",
      "execution_count": null,
      "id": "ac63bdc1-09d4-4e30-8c97-d48f3a03cbae",
      "metadata": {
        "id": "ac63bdc1-09d4-4e30-8c97-d48f3a03cbae",
        "outputId": "00848db5-d332-4060-f117-25944a20547f"
      },
      "outputs": [
        {
          "data": {
            "text/plain": [
              "array([2, 2, 2, 2, 1, 1, 2, 2, 2, 2, 1, 1, 2, 2, 2, 2, 1, 1])"
            ]
          },
          "execution_count": 25,
          "metadata": {},
          "output_type": "execute_result"
        }
      ],
      "source": [
        "np.repeat(arr1, 2)"
      ]
    },
    {
      "cell_type": "code",
      "execution_count": null,
      "id": "459d2da6-3813-4d7e-bcac-24efb8a7bc95",
      "metadata": {
        "id": "459d2da6-3813-4d7e-bcac-24efb8a7bc95",
        "outputId": "b2896833-dee9-4ef2-82b4-e141b95ff2e9"
      },
      "outputs": [
        {
          "data": {
            "text/plain": [
              "array([[2, 2, 1],\n",
              "       [2, 2, 1],\n",
              "       [2, 2, 1],\n",
              "       [2, 2, 1],\n",
              "       [2, 2, 1],\n",
              "       [2, 2, 1]])"
            ]
          },
          "execution_count": 26,
          "metadata": {},
          "output_type": "execute_result"
        }
      ],
      "source": [
        "np.repeat(arr1, 2, axis=0)"
      ]
    },
    {
      "cell_type": "code",
      "execution_count": null,
      "id": "ad480f1b-bf04-43c3-8503-c35d2890edd5",
      "metadata": {
        "id": "ad480f1b-bf04-43c3-8503-c35d2890edd5",
        "outputId": "c94f6f13-037a-493f-f7e5-01e4a9a6c055"
      },
      "outputs": [
        {
          "data": {
            "text/plain": [
              "array([[2, 1, 2],\n",
              "       [2, 1, 2],\n",
              "       [2, 1, 2],\n",
              "       [1, 1, 1],\n",
              "       [1, 1, 1],\n",
              "       [1, 1, 1],\n",
              "       [2, 2, 1],\n",
              "       [2, 2, 1],\n",
              "       [2, 2, 1]])"
            ]
          },
          "execution_count": 28,
          "metadata": {},
          "output_type": "execute_result"
        }
      ],
      "source": [
        "np.repeat(arr2, 3, axis=0)"
      ]
    },
    {
      "cell_type": "code",
      "execution_count": null,
      "id": "256796f1-7981-4495-971c-5f05aa95948c",
      "metadata": {
        "id": "256796f1-7981-4495-971c-5f05aa95948c",
        "outputId": "205dedee-fe16-427a-bc77-807c934cc499"
      },
      "outputs": [
        {
          "data": {
            "text/plain": [
              "array([[2, 2, 2, 1, 1, 1, 2, 2, 2],\n",
              "       [1, 1, 1, 1, 1, 1, 1, 1, 1],\n",
              "       [2, 2, 2, 2, 2, 2, 1, 1, 1]])"
            ]
          },
          "execution_count": 29,
          "metadata": {},
          "output_type": "execute_result"
        }
      ],
      "source": [
        "np.repeat(arr2, 3, axis=1)"
      ]
    },
    {
      "cell_type": "code",
      "execution_count": null,
      "id": "d71f6bc7-b9cf-4cf6-9e78-b8cafe3f5beb",
      "metadata": {
        "id": "d71f6bc7-b9cf-4cf6-9e78-b8cafe3f5beb",
        "outputId": "c9c4e07b-5775-4703-9b74-dd0b38317065"
      },
      "outputs": [
        {
          "data": {
            "text/plain": [
              "array([[1],\n",
              "       [2],\n",
              "       [3]])"
            ]
          },
          "execution_count": 30,
          "metadata": {},
          "output_type": "execute_result"
        }
      ],
      "source": [
        "a"
      ]
    },
    {
      "cell_type": "code",
      "execution_count": null,
      "id": "75f89e14-c2b7-4091-bc58-2cd925956c3f",
      "metadata": {
        "id": "75f89e14-c2b7-4091-bc58-2cd925956c3f",
        "outputId": "e9e82951-d762-48da-e16d-20b1efd028d7"
      },
      "outputs": [
        {
          "data": {
            "text/plain": [
              "array([[2],\n",
              "       [3],\n",
              "       [1]])"
            ]
          },
          "execution_count": 31,
          "metadata": {},
          "output_type": "execute_result"
        }
      ],
      "source": [
        "np.roll(a, -1) #shift place"
      ]
    },
    {
      "cell_type": "code",
      "execution_count": null,
      "id": "a322c400-60e4-4100-b3bd-a3943ee081de",
      "metadata": {
        "id": "a322c400-60e4-4100-b3bd-a3943ee081de",
        "outputId": "51bb13dc-df01-48c8-e275-3f51f4c57fa5"
      },
      "outputs": [
        {
          "data": {
            "text/plain": [
              "array([[3],\n",
              "       [1],\n",
              "       [2]])"
            ]
          },
          "execution_count": 32,
          "metadata": {},
          "output_type": "execute_result"
        }
      ],
      "source": [
        "np.roll(a, -2)"
      ]
    },
    {
      "cell_type": "code",
      "execution_count": null,
      "id": "366ed3fc-723e-41ed-85e6-9f445223ec9b",
      "metadata": {
        "id": "366ed3fc-723e-41ed-85e6-9f445223ec9b"
      },
      "outputs": [],
      "source": [
        "c = np.array([[1, 2], [3, 4], [5, 6], [7, 8]])"
      ]
    },
    {
      "cell_type": "code",
      "execution_count": null,
      "id": "2820d33a-6374-4def-a37b-f677c9ad5394",
      "metadata": {
        "id": "2820d33a-6374-4def-a37b-f677c9ad5394",
        "outputId": "6d998975-08f9-4ea6-eee3-97b8f89c8899"
      },
      "outputs": [
        {
          "data": {
            "text/plain": [
              "array([[1, 2],\n",
              "       [3, 4],\n",
              "       [5, 6],\n",
              "       [7, 8]])"
            ]
          },
          "execution_count": 36,
          "metadata": {},
          "output_type": "execute_result"
        }
      ],
      "source": [
        "c"
      ]
    },
    {
      "cell_type": "code",
      "execution_count": null,
      "id": "88d30056-565a-4e83-b5ec-ede9a9a4f4e4",
      "metadata": {
        "id": "88d30056-565a-4e83-b5ec-ede9a9a4f4e4",
        "outputId": "acf422af-0812-4d2e-d9d3-83a0ac18f9cc"
      },
      "outputs": [
        {
          "data": {
            "text/plain": [
              "array([[2, 3],\n",
              "       [4, 5],\n",
              "       [6, 7],\n",
              "       [8, 1]])"
            ]
          },
          "execution_count": 37,
          "metadata": {},
          "output_type": "execute_result"
        }
      ],
      "source": [
        "np.roll(c, -1)"
      ]
    },
    {
      "cell_type": "code",
      "execution_count": null,
      "id": "671cc6a9-e327-43fd-a1cd-7039dc486ea5",
      "metadata": {
        "id": "671cc6a9-e327-43fd-a1cd-7039dc486ea5",
        "outputId": "df33c585-f1b0-4715-eb0c-57a1b741668b"
      },
      "outputs": [
        {
          "data": {
            "text/plain": [
              "array([[1, 2],\n",
              "       [3, 4],\n",
              "       [5, 6],\n",
              "       [7, 8]])"
            ]
          },
          "execution_count": 39,
          "metadata": {},
          "output_type": "execute_result"
        }
      ],
      "source": [
        "c"
      ]
    },
    {
      "cell_type": "code",
      "execution_count": null,
      "id": "5a64cd26-e331-4c50-8c91-500303d752e2",
      "metadata": {
        "id": "5a64cd26-e331-4c50-8c91-500303d752e2",
        "outputId": "1557f43f-5a55-4471-8585-e516e2fa8c19"
      },
      "outputs": [
        {
          "data": {
            "text/plain": [
              "array([[7, 8],\n",
              "       [1, 2],\n",
              "       [3, 4],\n",
              "       [5, 6]])"
            ]
          },
          "execution_count": 38,
          "metadata": {},
          "output_type": "execute_result"
        }
      ],
      "source": [
        "np.roll(c, 2)"
      ]
    },
    {
      "cell_type": "code",
      "execution_count": null,
      "id": "01dd6c6a-976b-47b1-9f1c-68d445f6ecb6",
      "metadata": {
        "id": "01dd6c6a-976b-47b1-9f1c-68d445f6ecb6",
        "outputId": "fd8b9c8d-4746-4788-d4e1-c2b9796e303f"
      },
      "outputs": [
        {
          "data": {
            "text/plain": [
              "array([[5, 6],\n",
              "       [7, 8],\n",
              "       [1, 2],\n",
              "       [3, 4]])"
            ]
          },
          "execution_count": 40,
          "metadata": {},
          "output_type": "execute_result"
        }
      ],
      "source": [
        "np.roll(c, 2, axis=0)"
      ]
    },
    {
      "cell_type": "code",
      "execution_count": null,
      "id": "e3e5dcd1-3935-4cd4-a83a-aaac808e6787",
      "metadata": {
        "id": "e3e5dcd1-3935-4cd4-a83a-aaac808e6787",
        "outputId": "c1c1ea84-fc01-41b7-eb90-8550ed9bade8"
      },
      "outputs": [
        {
          "data": {
            "text/plain": [
              "array([[2, 2, 1],\n",
              "       [2, 2, 1],\n",
              "       [2, 2, 1]])"
            ]
          },
          "execution_count": 41,
          "metadata": {},
          "output_type": "execute_result"
        }
      ],
      "source": [
        "arr1"
      ]
    },
    {
      "cell_type": "code",
      "execution_count": null,
      "id": "d3398bf4-b70b-4b73-b0fa-a02547ef5976",
      "metadata": {
        "id": "d3398bf4-b70b-4b73-b0fa-a02547ef5976",
        "outputId": "5ff90b14-334b-45d4-c1fd-3aec7ff48f50"
      },
      "outputs": [
        {
          "data": {
            "text/plain": [
              "array([[2, 1, 2],\n",
              "       [1, 1, 1],\n",
              "       [2, 2, 1]])"
            ]
          },
          "execution_count": 42,
          "metadata": {},
          "output_type": "execute_result"
        }
      ],
      "source": [
        "arr2"
      ]
    },
    {
      "cell_type": "code",
      "execution_count": null,
      "id": "d122f233-dea6-4194-8c16-d6a82eb7fcd3",
      "metadata": {
        "id": "d122f233-dea6-4194-8c16-d6a82eb7fcd3",
        "outputId": "f87e0398-7fad-4d68-b3d1-ad8d3c50a704"
      },
      "outputs": [
        {
          "data": {
            "text/plain": [
              "array([[4, 3, 3],\n",
              "       [3, 3, 2],\n",
              "       [4, 4, 2]])"
            ]
          },
          "execution_count": 43,
          "metadata": {},
          "output_type": "execute_result"
        }
      ],
      "source": [
        "arr1+arr2"
      ]
    },
    {
      "cell_type": "code",
      "execution_count": null,
      "id": "48017e41-92f2-4947-83f5-f196fb615d2e",
      "metadata": {
        "id": "48017e41-92f2-4947-83f5-f196fb615d2e",
        "outputId": "a3d62572-3f47-4142-e133-232b77dac40c"
      },
      "outputs": [
        {
          "data": {
            "text/plain": [
              "array([[ 0,  1, -1],\n",
              "       [ 1,  1,  0],\n",
              "       [ 0,  0,  0]])"
            ]
          },
          "execution_count": 44,
          "metadata": {},
          "output_type": "execute_result"
        }
      ],
      "source": [
        "arr1-arr2"
      ]
    },
    {
      "cell_type": "code",
      "execution_count": null,
      "id": "0fe78ace-c315-4b9a-850b-619bff480615",
      "metadata": {
        "id": "0fe78ace-c315-4b9a-850b-619bff480615",
        "outputId": "94a11525-4b8b-429c-b715-fbe28d309dc2"
      },
      "outputs": [
        {
          "data": {
            "text/plain": [
              "array([[4, 2, 2],\n",
              "       [2, 2, 1],\n",
              "       [4, 4, 1]])"
            ]
          },
          "execution_count": 45,
          "metadata": {},
          "output_type": "execute_result"
        }
      ],
      "source": [
        "arr1 * arr2"
      ]
    },
    {
      "cell_type": "code",
      "execution_count": null,
      "id": "b0fe9974-aa89-4ba5-97f4-e645daba6fa6",
      "metadata": {
        "id": "b0fe9974-aa89-4ba5-97f4-e645daba6fa6",
        "outputId": "2561382c-b105-4829-928d-ed5f6bab6a26"
      },
      "outputs": [
        {
          "data": {
            "text/plain": [
              "array([[False,  True, False],\n",
              "       [ True,  True, False],\n",
              "       [False, False, False]])"
            ]
          },
          "execution_count": 46,
          "metadata": {},
          "output_type": "execute_result"
        }
      ],
      "source": [
        "arr1 > arr2"
      ]
    },
    {
      "cell_type": "code",
      "execution_count": null,
      "id": "6cdeec37-9d99-4ee4-81b5-fa34fc605a07",
      "metadata": {
        "id": "6cdeec37-9d99-4ee4-81b5-fa34fc605a07",
        "outputId": "b3b8bfc3-6225-432f-bff3-164d7bfd458f"
      },
      "outputs": [
        {
          "data": {
            "text/plain": [
              "array([[2, 2, 1],\n",
              "       [2, 2, 1],\n",
              "       [2, 2, 1]])"
            ]
          },
          "execution_count": 47,
          "metadata": {},
          "output_type": "execute_result"
        }
      ],
      "source": [
        "arr1"
      ]
    },
    {
      "cell_type": "code",
      "execution_count": null,
      "id": "f9ce5852-9139-46a4-bc50-04dd3e8170dc",
      "metadata": {
        "id": "f9ce5852-9139-46a4-bc50-04dd3e8170dc",
        "outputId": "fccfe003-ff95-4906-fcf3-6c4987ea971e"
      },
      "outputs": [
        {
          "data": {
            "text/plain": [
              "array([[-3, -3, -2],\n",
              "       [-3, -3, -2],\n",
              "       [-3, -3, -2]])"
            ]
          },
          "execution_count": 48,
          "metadata": {},
          "output_type": "execute_result"
        }
      ],
      "source": [
        "~arr1"
      ]
    },
    {
      "cell_type": "code",
      "execution_count": null,
      "id": "613e887d-aa35-431b-8d36-54d687574a0e",
      "metadata": {
        "id": "613e887d-aa35-431b-8d36-54d687574a0e"
      },
      "outputs": [],
      "source": [
        "#operations on numpy string array\n",
        "\n",
        "d = np.array([\"pw\", \"skills\"])"
      ]
    },
    {
      "cell_type": "code",
      "execution_count": null,
      "id": "2c2774b9-e32a-4748-8fda-ce76dfaa2be5",
      "metadata": {
        "id": "2c2774b9-e32a-4748-8fda-ce76dfaa2be5",
        "outputId": "c87c4b10-08ff-47da-8198-855e02d1312a"
      },
      "outputs": [
        {
          "data": {
            "text/plain": [
              "array(['pw', 'skills'], dtype='<U6')"
            ]
          },
          "execution_count": 50,
          "metadata": {},
          "output_type": "execute_result"
        }
      ],
      "source": [
        "d"
      ]
    },
    {
      "cell_type": "code",
      "execution_count": null,
      "id": "989b2347-07a5-4f45-b9fa-47946cbe5166",
      "metadata": {
        "id": "989b2347-07a5-4f45-b9fa-47946cbe5166",
        "outputId": "257bf1d4-0e33-4f43-c4d1-b9138507f89e"
      },
      "outputs": [
        {
          "data": {
            "text/plain": [
              "array(['PW', 'SKILLS'], dtype='<U6')"
            ]
          },
          "execution_count": 51,
          "metadata": {},
          "output_type": "execute_result"
        }
      ],
      "source": [
        "np.char.upper(d)"
      ]
    },
    {
      "cell_type": "code",
      "execution_count": null,
      "id": "673efb41-3be3-4206-865e-a0543874c1cb",
      "metadata": {
        "id": "673efb41-3be3-4206-865e-a0543874c1cb",
        "outputId": "e43f0458-f464-4e0e-baf0-70ca8b9fd18a"
      },
      "outputs": [
        {
          "data": {
            "text/plain": [
              "array(['Pw', 'Skills'], dtype='<U6')"
            ]
          },
          "execution_count": 52,
          "metadata": {},
          "output_type": "execute_result"
        }
      ],
      "source": [
        "np.char.capitalize(d)"
      ]
    },
    {
      "cell_type": "code",
      "execution_count": null,
      "id": "362e6421-59d2-4b2a-9bfd-db32ee740614",
      "metadata": {
        "id": "362e6421-59d2-4b2a-9bfd-db32ee740614"
      },
      "outputs": [],
      "source": [
        "#mathematical function"
      ]
    },
    {
      "cell_type": "code",
      "execution_count": null,
      "id": "a5c874a5-d08d-4be4-b6f1-d30950b28b98",
      "metadata": {
        "id": "a5c874a5-d08d-4be4-b6f1-d30950b28b98",
        "outputId": "b498abea-b6ba-4687-92d0-16c63fbcd4cc"
      },
      "outputs": [
        {
          "data": {
            "text/plain": [
              "array([[2, 2, 1],\n",
              "       [2, 2, 1],\n",
              "       [2, 2, 1]])"
            ]
          },
          "execution_count": 54,
          "metadata": {},
          "output_type": "execute_result"
        }
      ],
      "source": [
        "arr1"
      ]
    },
    {
      "cell_type": "code",
      "execution_count": null,
      "id": "d219cfcc-e894-4e92-b877-fb748cb04617",
      "metadata": {
        "id": "d219cfcc-e894-4e92-b877-fb748cb04617",
        "outputId": "28b6e395-8a42-42ae-8953-4b73d1ed71ce"
      },
      "outputs": [
        {
          "data": {
            "text/plain": [
              "array([[0.90929743, 0.90929743, 0.84147098],\n",
              "       [0.90929743, 0.90929743, 0.84147098],\n",
              "       [0.90929743, 0.90929743, 0.84147098]])"
            ]
          },
          "execution_count": 55,
          "metadata": {},
          "output_type": "execute_result"
        }
      ],
      "source": [
        "np.sin(arr1)"
      ]
    },
    {
      "cell_type": "code",
      "execution_count": null,
      "id": "4ae6d216-2058-40d5-b4eb-3d1738e3f8f3",
      "metadata": {
        "id": "4ae6d216-2058-40d5-b4eb-3d1738e3f8f3",
        "outputId": "e88f48e4-b5ee-4a7a-a6f8-0bab267716b9"
      },
      "outputs": [
        {
          "data": {
            "text/plain": [
              "array([[-0.41614684, -0.41614684,  0.54030231],\n",
              "       [-0.41614684, -0.41614684,  0.54030231],\n",
              "       [-0.41614684, -0.41614684,  0.54030231]])"
            ]
          },
          "execution_count": 56,
          "metadata": {},
          "output_type": "execute_result"
        }
      ],
      "source": [
        "np.cos(arr1)"
      ]
    },
    {
      "cell_type": "code",
      "execution_count": null,
      "id": "7cca2c8d-23b6-41fb-9009-dbd59fa8b9cb",
      "metadata": {
        "id": "7cca2c8d-23b6-41fb-9009-dbd59fa8b9cb",
        "outputId": "ba0b8856-a705-4b4c-e4d4-a805608fd6c0"
      },
      "outputs": [
        {
          "data": {
            "text/plain": [
              "array([[-2.18503986, -2.18503986,  1.55740772],\n",
              "       [-2.18503986, -2.18503986,  1.55740772],\n",
              "       [-2.18503986, -2.18503986,  1.55740772]])"
            ]
          },
          "execution_count": 57,
          "metadata": {},
          "output_type": "execute_result"
        }
      ],
      "source": [
        "np.tan(arr1)"
      ]
    },
    {
      "cell_type": "code",
      "execution_count": null,
      "id": "c057001d-6eb3-498b-beeb-8cac38cf7391",
      "metadata": {
        "id": "c057001d-6eb3-498b-beeb-8cac38cf7391",
        "outputId": "fdf398fb-84d2-484c-923c-639ceee18780"
      },
      "outputs": [
        {
          "data": {
            "text/plain": [
              "array([[0.30103, 0.30103, 0.     ],\n",
              "       [0.30103, 0.30103, 0.     ],\n",
              "       [0.30103, 0.30103, 0.     ]])"
            ]
          },
          "execution_count": 58,
          "metadata": {},
          "output_type": "execute_result"
        }
      ],
      "source": [
        "np.log10(arr1)"
      ]
    },
    {
      "cell_type": "code",
      "execution_count": null,
      "id": "443c3607-6c7e-44e1-af77-0cc2eb08f769",
      "metadata": {
        "id": "443c3607-6c7e-44e1-af77-0cc2eb08f769",
        "outputId": "ecd217e4-2c5a-4ae7-aab8-29a79cb9918d"
      },
      "outputs": [
        {
          "data": {
            "text/plain": [
              "array([[7.3890561 , 7.3890561 , 2.71828183],\n",
              "       [7.3890561 , 7.3890561 , 2.71828183],\n",
              "       [7.3890561 , 7.3890561 , 2.71828183]])"
            ]
          },
          "execution_count": 59,
          "metadata": {},
          "output_type": "execute_result"
        }
      ],
      "source": [
        "np.exp(arr1)"
      ]
    },
    {
      "cell_type": "code",
      "execution_count": null,
      "id": "8659949b-fb53-4bc6-8c4c-f3b43ae0efb9",
      "metadata": {
        "id": "8659949b-fb53-4bc6-8c4c-f3b43ae0efb9",
        "outputId": "feac3875-7869-4439-f8a7-9bb6ff3f4c0e"
      },
      "outputs": [
        {
          "data": {
            "text/plain": [
              "array([[8, 8, 1],\n",
              "       [8, 8, 1],\n",
              "       [8, 8, 1]])"
            ]
          },
          "execution_count": 60,
          "metadata": {},
          "output_type": "execute_result"
        }
      ],
      "source": [
        "np.power(arr1, 3)"
      ]
    },
    {
      "cell_type": "code",
      "execution_count": null,
      "id": "2009a827-555f-4e3d-a582-68b2e4ef5e15",
      "metadata": {
        "id": "2009a827-555f-4e3d-a582-68b2e4ef5e15",
        "outputId": "362e167d-390a-4f14-b3a3-e5eacbb53091"
      },
      "outputs": [
        {
          "data": {
            "text/plain": [
              "2"
            ]
          },
          "execution_count": 62,
          "metadata": {},
          "output_type": "execute_result"
        }
      ],
      "source": [
        "np.max(arr1)"
      ]
    },
    {
      "cell_type": "code",
      "execution_count": null,
      "id": "74b9aa14-d3ba-4ac0-9016-b7910b74182d",
      "metadata": {
        "id": "74b9aa14-d3ba-4ac0-9016-b7910b74182d",
        "outputId": "8fc2609f-0419-4ecf-eb33-4e096ebac244"
      },
      "outputs": [
        {
          "data": {
            "text/plain": [
              "array([[2, 2, 1],\n",
              "       [2, 2, 1],\n",
              "       [2, 2, 1]])"
            ]
          },
          "execution_count": 63,
          "metadata": {},
          "output_type": "execute_result"
        }
      ],
      "source": [
        "arr1"
      ]
    },
    {
      "cell_type": "code",
      "execution_count": null,
      "id": "d64ba3e7-0fdd-4455-92b8-9c2da7483c6c",
      "metadata": {
        "id": "d64ba3e7-0fdd-4455-92b8-9c2da7483c6c",
        "outputId": "4a575c59-1de9-4571-fbe4-dd1f12c57d7e"
      },
      "outputs": [
        {
          "data": {
            "text/plain": [
              "1.6666666666666667"
            ]
          },
          "execution_count": 64,
          "metadata": {},
          "output_type": "execute_result"
        }
      ],
      "source": [
        "np.mean(arr1)"
      ]
    },
    {
      "cell_type": "code",
      "execution_count": null,
      "id": "9d51e1a2-9fca-4e2d-b322-858936482b50",
      "metadata": {
        "id": "9d51e1a2-9fca-4e2d-b322-858936482b50",
        "outputId": "06a89d59-7b20-4cc2-8285-05c4f49a5335"
      },
      "outputs": [
        {
          "data": {
            "text/plain": [
              "1"
            ]
          },
          "execution_count": 65,
          "metadata": {},
          "output_type": "execute_result"
        }
      ],
      "source": [
        "np.min(arr1)"
      ]
    },
    {
      "cell_type": "code",
      "execution_count": null,
      "id": "7fab71dc-9d78-40d7-b409-9d7634e5450c",
      "metadata": {
        "id": "7fab71dc-9d78-40d7-b409-9d7634e5450c",
        "outputId": "c89e2ab8-842a-4698-d48d-b5fc1a73fedf"
      },
      "outputs": [
        {
          "data": {
            "text/plain": [
              "0.4714045207910317"
            ]
          },
          "execution_count": 66,
          "metadata": {},
          "output_type": "execute_result"
        }
      ],
      "source": [
        "np.std(arr1)"
      ]
    },
    {
      "cell_type": "code",
      "execution_count": null,
      "id": "242dd20f-1cc0-4bcd-a0df-60fa3c828c6e",
      "metadata": {
        "id": "242dd20f-1cc0-4bcd-a0df-60fa3c828c6e",
        "outputId": "32b3e2c5-e98a-42a9-a46c-fe33bada6c3f"
      },
      "outputs": [
        {
          "data": {
            "text/plain": [
              "0.2222222222222222"
            ]
          },
          "execution_count": 67,
          "metadata": {},
          "output_type": "execute_result"
        }
      ],
      "source": [
        "np.var(arr1)"
      ]
    },
    {
      "cell_type": "code",
      "execution_count": null,
      "id": "539cc7c5-1894-4638-9db0-fc6040fd08a6",
      "metadata": {
        "id": "539cc7c5-1894-4638-9db0-fc6040fd08a6",
        "outputId": "76954b52-5ea3-4163-95a9-8620b5a96673"
      },
      "outputs": [
        {
          "data": {
            "text/plain": [
              "array([[ 0,  1, -1],\n",
              "       [ 1,  1,  0],\n",
              "       [ 0,  0,  0]])"
            ]
          },
          "execution_count": 68,
          "metadata": {},
          "output_type": "execute_result"
        }
      ],
      "source": [
        "arr1-arr2"
      ]
    },
    {
      "cell_type": "code",
      "execution_count": null,
      "id": "1f17a9cd-c071-408f-82b6-07c4ba2eab22",
      "metadata": {
        "id": "1f17a9cd-c071-408f-82b6-07c4ba2eab22",
        "outputId": "5f5f3a10-4b9e-4113-946a-d7cda94db76a"
      },
      "outputs": [
        {
          "data": {
            "text/plain": [
              "array([[ 0,  1, -1],\n",
              "       [ 1,  1,  0],\n",
              "       [ 0,  0,  0]])"
            ]
          },
          "execution_count": 69,
          "metadata": {},
          "output_type": "execute_result"
        }
      ],
      "source": [
        "np.subtract(arr1, arr2)"
      ]
    },
    {
      "cell_type": "code",
      "execution_count": null,
      "id": "110b0f73-77fe-4c53-a507-92b77c9d9252",
      "metadata": {
        "id": "110b0f73-77fe-4c53-a507-92b77c9d9252",
        "outputId": "947508ed-aff9-46cb-e84f-cb8e30f559f8"
      },
      "outputs": [
        {
          "data": {
            "text/plain": [
              "array([[4, 2, 2],\n",
              "       [2, 2, 1],\n",
              "       [4, 4, 1]])"
            ]
          },
          "execution_count": 70,
          "metadata": {},
          "output_type": "execute_result"
        }
      ],
      "source": [
        "arr1*arr2"
      ]
    },
    {
      "cell_type": "code",
      "execution_count": null,
      "id": "8f7ad2f1-5332-4ae9-b09f-1200302286c4",
      "metadata": {
        "id": "8f7ad2f1-5332-4ae9-b09f-1200302286c4",
        "outputId": "88a6d005-6a8a-4fb1-f49a-acfd5e3409c2"
      },
      "outputs": [
        {
          "data": {
            "text/plain": [
              "array([[4, 2, 2],\n",
              "       [2, 2, 1],\n",
              "       [4, 4, 1]])"
            ]
          },
          "execution_count": 72,
          "metadata": {},
          "output_type": "execute_result"
        }
      ],
      "source": [
        "np.multiply(arr1, arr2)"
      ]
    },
    {
      "cell_type": "code",
      "execution_count": null,
      "id": "014fa7a5-fcdb-4812-9733-9e40154a9a8e",
      "metadata": {
        "id": "014fa7a5-fcdb-4812-9733-9e40154a9a8e",
        "outputId": "793539b2-1e61-4fe7-881f-4e3be44eefd8"
      },
      "outputs": [
        {
          "data": {
            "text/plain": [
              "array([[0, 0, 1],\n",
              "       [0, 0, 0],\n",
              "       [0, 0, 0]])"
            ]
          },
          "execution_count": 73,
          "metadata": {},
          "output_type": "execute_result"
        }
      ],
      "source": [
        "np.mod(arr1, arr2) #return element wise remainder"
      ]
    },
    {
      "cell_type": "code",
      "execution_count": null,
      "id": "7e9f828d-178b-4ae2-b723-b2e7ec82af58",
      "metadata": {
        "id": "7e9f828d-178b-4ae2-b723-b2e7ec82af58",
        "outputId": "2430bc9a-bf21-4f4f-fb4f-84438cfc7f28"
      },
      "outputs": [
        {
          "data": {
            "text/plain": [
              "array([[1.41421356, 1.41421356, 1.        ],\n",
              "       [1.41421356, 1.41421356, 1.        ],\n",
              "       [1.41421356, 1.41421356, 1.        ]])"
            ]
          },
          "execution_count": 74,
          "metadata": {},
          "output_type": "execute_result"
        }
      ],
      "source": [
        "np.sqrt(arr1)"
      ]
    },
    {
      "cell_type": "code",
      "execution_count": null,
      "id": "3c9c6e7c-ead5-4e0f-8355-f80620c44268",
      "metadata": {
        "id": "3c9c6e7c-ead5-4e0f-8355-f80620c44268"
      },
      "outputs": [],
      "source": [
        "#sorting and searching in numpy array\n",
        "e = np.array([5, 6, 1, 2])"
      ]
    },
    {
      "cell_type": "code",
      "execution_count": null,
      "id": "032c2e54-3df0-474a-8814-51c80320ba88",
      "metadata": {
        "id": "032c2e54-3df0-474a-8814-51c80320ba88",
        "outputId": "858b0915-b94a-40cf-fd2f-b7df7d2bdc95"
      },
      "outputs": [
        {
          "data": {
            "text/plain": [
              "array([5, 6, 1, 2])"
            ]
          },
          "execution_count": 76,
          "metadata": {},
          "output_type": "execute_result"
        }
      ],
      "source": [
        "e"
      ]
    },
    {
      "cell_type": "code",
      "execution_count": null,
      "id": "d512fb58-8c21-4e49-8775-688cd7a4c85d",
      "metadata": {
        "id": "d512fb58-8c21-4e49-8775-688cd7a4c85d",
        "outputId": "75f6ccc4-26d5-41eb-9830-22c813331f9e"
      },
      "outputs": [
        {
          "data": {
            "text/plain": [
              "array([1, 2, 5, 6])"
            ]
          },
          "execution_count": 77,
          "metadata": {},
          "output_type": "execute_result"
        }
      ],
      "source": [
        "np.sort(e) #Return a sorted copy of an array."
      ]
    },
    {
      "cell_type": "code",
      "execution_count": null,
      "id": "5d313f5f-8f32-4aee-8c65-429aa6b51519",
      "metadata": {
        "id": "5d313f5f-8f32-4aee-8c65-429aa6b51519",
        "outputId": "3613a221-865a-4b67-eff8-675c0db89fcb"
      },
      "outputs": [
        {
          "data": {
            "text/plain": [
              "array([  5, 199, 200,   6,   7,   8])"
            ]
          },
          "execution_count": 78,
          "metadata": {},
          "output_type": "execute_result"
        }
      ],
      "source": [
        "f = np.array([5, 199, 200, 6, 7, 8])\n",
        "f"
      ]
    },
    {
      "cell_type": "code",
      "execution_count": null,
      "id": "5e3fc176-943f-42f8-b21e-4d13f0fb67e1",
      "metadata": {
        "id": "5e3fc176-943f-42f8-b21e-4d13f0fb67e1",
        "outputId": "1ded7966-c079-42b6-9a3d-009fe1a05011"
      },
      "outputs": [
        {
          "data": {
            "text/plain": [
              "array([  5,   6,   7,   8, 199, 200])"
            ]
          },
          "execution_count": 79,
          "metadata": {},
          "output_type": "execute_result"
        }
      ],
      "source": [
        "np.sort(f)"
      ]
    },
    {
      "cell_type": "code",
      "execution_count": null,
      "id": "c17e92da-cdb8-45e1-831f-0e0d5ce09bba",
      "metadata": {
        "id": "c17e92da-cdb8-45e1-831f-0e0d5ce09bba",
        "outputId": "1534edce-8b5b-4528-f536-1dce7a0edd3d"
      },
      "outputs": [
        {
          "data": {
            "text/plain": [
              "6"
            ]
          },
          "execution_count": 80,
          "metadata": {},
          "output_type": "execute_result"
        }
      ],
      "source": [
        "np.searchsorted(f, 170) #Find indices where elements should be inserted to maintain order."
      ]
    },
    {
      "cell_type": "code",
      "execution_count": null,
      "id": "2d3daab4-931b-4990-b5b1-661d8cfd7309",
      "metadata": {
        "id": "2d3daab4-931b-4990-b5b1-661d8cfd7309",
        "outputId": "e3e2060c-4468-425a-88a2-df6025b9da79"
      },
      "outputs": [
        {
          "data": {
            "text/plain": [
              "array([  5, 199, 200,   0,   0,   0,   0,   6,   7,   8])"
            ]
          },
          "execution_count": 81,
          "metadata": {},
          "output_type": "execute_result"
        }
      ],
      "source": [
        "f = np.array([5, 199, 200,0, 0, 0, 0, 6, 7, 8])\n",
        "f"
      ]
    },
    {
      "cell_type": "code",
      "execution_count": null,
      "id": "01be724b-8d7b-43be-94b1-8bfcc7369e83",
      "metadata": {
        "id": "01be724b-8d7b-43be-94b1-8bfcc7369e83",
        "outputId": "fc3260f7-64cf-4dcd-9307-adc87105ec95"
      },
      "outputs": [
        {
          "data": {
            "text/plain": [
              "6"
            ]
          },
          "execution_count": 83,
          "metadata": {},
          "output_type": "execute_result"
        }
      ],
      "source": [
        "np.count_nonzero(f)"
      ]
    },
    {
      "cell_type": "code",
      "execution_count": null,
      "id": "321697f5-839e-489b-97ca-f46ad03c6435",
      "metadata": {
        "id": "321697f5-839e-489b-97ca-f46ad03c6435",
        "outputId": "86c8a037-2fd6-4ac0-d6ff-edef6f748927"
      },
      "outputs": [
        {
          "data": {
            "text/plain": [
              "array([  5, 199, 200,   6,   7,   8])"
            ]
          },
          "execution_count": 85,
          "metadata": {},
          "output_type": "execute_result"
        }
      ],
      "source": [
        "f[f>0]"
      ]
    },
    {
      "cell_type": "code",
      "execution_count": null,
      "id": "875a48dd-a3fd-4bf7-b7b4-9a5cdb5dadf5",
      "metadata": {
        "id": "875a48dd-a3fd-4bf7-b7b4-9a5cdb5dadf5",
        "outputId": "b17728a4-a06e-48ef-ae3f-8de2d782d0e7"
      },
      "outputs": [
        {
          "data": {
            "text/plain": [
              "(array([0, 1, 2, 7, 8, 9]),)"
            ]
          },
          "execution_count": 86,
          "metadata": {},
          "output_type": "execute_result"
        }
      ],
      "source": [
        "np.where(f>0) #same as above condition"
      ]
    },
    {
      "cell_type": "code",
      "execution_count": null,
      "id": "45b440ff-741f-4bb4-86c0-6aa1eb64b558",
      "metadata": {
        "id": "45b440ff-741f-4bb4-86c0-6aa1eb64b558",
        "outputId": "0ce88fd3-b6bb-4dc1-ce2d-1f32c42fccba"
      },
      "outputs": [
        {
          "data": {
            "text/plain": [
              "array([  5, 199, 200,   6,   7,   8])"
            ]
          },
          "execution_count": 87,
          "metadata": {},
          "output_type": "execute_result"
        }
      ],
      "source": [
        "np.extract(f>0, f) #same as above condition"
      ]
    },
    {
      "cell_type": "code",
      "execution_count": null,
      "id": "234aeb1e-2894-4312-9fff-58926b209e47",
      "metadata": {
        "id": "234aeb1e-2894-4312-9fff-58926b209e47",
        "outputId": "4dac3bb2-872a-46a7-bd48-d422148b0698"
      },
      "outputs": [
        {
          "data": {
            "text/plain": [
              "array([  5, 199, 200,   0,   0,   0,   0,   6,   7,   8])"
            ]
          },
          "execution_count": 88,
          "metadata": {},
          "output_type": "execute_result"
        }
      ],
      "source": [
        "f"
      ]
    },
    {
      "cell_type": "code",
      "execution_count": null,
      "id": "381edee1-2e3d-4c66-ac96-51c51c7e6d2a",
      "metadata": {
        "id": "381edee1-2e3d-4c66-ac96-51c51c7e6d2a",
        "outputId": "172dc4b0-872c-4cd6-e72f-abc7d99379b7"
      },
      "outputs": [
        {
          "data": {
            "text/plain": [
              "array([  360287970189639680, -4107282860161892352, -4035225266123964416,\n",
              "                          0,                    0,                    0,\n",
              "                          0,   432345564227567616,   504403158265495552,\n",
              "         576460752303423488])"
            ]
          },
          "execution_count": 89,
          "metadata": {},
          "output_type": "execute_result"
        }
      ],
      "source": [
        "f.byteswap() #Swap the bytes of the array elements"
      ]
    },
    {
      "cell_type": "code",
      "execution_count": null,
      "id": "337ca5ba-f8b2-45e6-bb31-ce0e5a2fdf5b",
      "metadata": {
        "id": "337ca5ba-f8b2-45e6-bb31-ce0e5a2fdf5b",
        "outputId": "043b431f-fb2b-4dd2-ec95-38734e87efd2"
      },
      "outputs": [
        {
          "data": {
            "text/plain": [
              "matrix([[0., 0., 0., 0., 0.]])"
            ]
          },
          "execution_count": 90,
          "metadata": {},
          "output_type": "execute_result"
        }
      ],
      "source": [
        "import numpy.matlib as nm\n",
        "nm.zeros(5)"
      ]
    },
    {
      "cell_type": "code",
      "execution_count": null,
      "id": "fdbff4a4-c2b9-46e4-a04f-35c2aeaa2784",
      "metadata": {
        "id": "fdbff4a4-c2b9-46e4-a04f-35c2aeaa2784",
        "outputId": "7ff128d4-c6ca-44cd-8b40-05af071a3ec4"
      },
      "outputs": [
        {
          "data": {
            "text/plain": [
              "matrix([[1., 1., 1., 1.],\n",
              "        [1., 1., 1., 1.],\n",
              "        [1., 1., 1., 1.]])"
            ]
          },
          "execution_count": 92,
          "metadata": {},
          "output_type": "execute_result"
        }
      ],
      "source": [
        "nm.ones((3, 4))"
      ]
    },
    {
      "cell_type": "code",
      "execution_count": null,
      "id": "311637cd-e7a7-4900-b14a-94085bd8c9ed",
      "metadata": {
        "id": "311637cd-e7a7-4900-b14a-94085bd8c9ed"
      },
      "outputs": [],
      "source": [
        "#numpy linear algebra(optonal)"
      ]
    },
    {
      "cell_type": "code",
      "execution_count": null,
      "id": "2b987811-28b7-4fad-813a-d194a6224f50",
      "metadata": {
        "id": "2b987811-28b7-4fad-813a-d194a6224f50",
        "outputId": "7664ddcf-b943-4da3-c1ea-f5b6e28d0dda"
      },
      "outputs": [
        {
          "data": {
            "text/plain": [
              "array([[2, 2, 1],\n",
              "       [2, 2, 1],\n",
              "       [2, 2, 1]])"
            ]
          },
          "execution_count": 94,
          "metadata": {},
          "output_type": "execute_result"
        }
      ],
      "source": [
        "arr1"
      ]
    },
    {
      "cell_type": "code",
      "execution_count": null,
      "id": "31a8ebc9-1e9b-485e-a7c9-34d7155d2605",
      "metadata": {
        "id": "31a8ebc9-1e9b-485e-a7c9-34d7155d2605",
        "outputId": "98d3a593-163c-46e0-c576-5f9ba4afd540"
      },
      "outputs": [
        {
          "data": {
            "text/plain": [
              "array([[2, 1, 2],\n",
              "       [1, 1, 1],\n",
              "       [2, 2, 1]])"
            ]
          },
          "execution_count": 95,
          "metadata": {},
          "output_type": "execute_result"
        }
      ],
      "source": [
        "arr2"
      ]
    },
    {
      "cell_type": "code",
      "execution_count": null,
      "id": "3a874d84-d4fd-4911-a442-ccf4b268646c",
      "metadata": {
        "id": "3a874d84-d4fd-4911-a442-ccf4b268646c",
        "outputId": "df909c64-cd47-472f-a57c-abe2cfaa0045"
      },
      "outputs": [
        {
          "data": {
            "text/plain": [
              "array([[8, 6, 7],\n",
              "       [8, 6, 7],\n",
              "       [8, 6, 7]])"
            ]
          },
          "execution_count": 96,
          "metadata": {},
          "output_type": "execute_result"
        }
      ],
      "source": [
        "arr1@arr2"
      ]
    },
    {
      "cell_type": "code",
      "execution_count": null,
      "id": "4e80397f-9cd4-4bd2-bf03-fadcbe9127cc",
      "metadata": {
        "id": "4e80397f-9cd4-4bd2-bf03-fadcbe9127cc",
        "outputId": "c0865081-9bd3-433f-bd90-eb133cc83e3c"
      },
      "outputs": [
        {
          "data": {
            "text/plain": [
              "array([[2, 2, 1],\n",
              "       [2, 2, 1],\n",
              "       [2, 2, 1]])"
            ]
          },
          "execution_count": 97,
          "metadata": {},
          "output_type": "execute_result"
        }
      ],
      "source": [
        "arr1"
      ]
    },
    {
      "cell_type": "code",
      "execution_count": null,
      "id": "aeab5f20-59e7-4b1f-8d48-f8a5e5fb4fe5",
      "metadata": {
        "id": "aeab5f20-59e7-4b1f-8d48-f8a5e5fb4fe5",
        "outputId": "adcc5245-4cbd-4d0c-a389-9699421f9253"
      },
      "outputs": [
        {
          "data": {
            "text/plain": [
              "0.0"
            ]
          },
          "execution_count": 98,
          "metadata": {},
          "output_type": "execute_result"
        }
      ],
      "source": [
        "np.linalg.det(arr1)"
      ]
    },
    {
      "cell_type": "code",
      "execution_count": null,
      "id": "bc8130cf-ef91-4329-bc30-ff53850624e2",
      "metadata": {
        "id": "bc8130cf-ef91-4329-bc30-ff53850624e2",
        "outputId": "6feb13bc-6842-431b-c1c7-5b932a4641cf"
      },
      "outputs": [
        {
          "data": {
            "text/plain": [
              "-1.0"
            ]
          },
          "execution_count": 99,
          "metadata": {},
          "output_type": "execute_result"
        }
      ],
      "source": [
        "np.linalg.det(arr2)"
      ]
    },
    {
      "cell_type": "code",
      "execution_count": null,
      "id": "cd6ae451-6cd8-4c66-9f4f-3df46287f789",
      "metadata": {
        "id": "cd6ae451-6cd8-4c66-9f4f-3df46287f789",
        "outputId": "fd160e9a-d18b-4d72-da9a-2eb488307524"
      },
      "outputs": [
        {
          "data": {
            "text/plain": [
              "array([[ 1., -3.,  1.],\n",
              "       [-1.,  2.,  0.],\n",
              "       [ 0.,  2., -1.]])"
            ]
          },
          "execution_count": 101,
          "metadata": {},
          "output_type": "execute_result"
        }
      ],
      "source": [
        "#in matrix you can not devide by another matrix, you have inverse\n",
        "np.linalg.inv(arr2)"
      ]
    },
    {
      "cell_type": "code",
      "execution_count": null,
      "id": "a9fb40e8-c449-412a-9578-229e5cdde1f7",
      "metadata": {
        "id": "a9fb40e8-c449-412a-9578-229e5cdde1f7",
        "outputId": "692ed545-8849-4cfd-e778-4b1985d8015c"
      },
      "outputs": [
        {
          "data": {
            "text/plain": [
              "array([[ 7. ,  5.3, -3. ],\n",
              "       [ 3. , -5. ,  2. ],\n",
              "       [ 5. ,  3. , -7. ]])"
            ]
          },
          "execution_count": 102,
          "metadata": {},
          "output_type": "execute_result"
        }
      ],
      "source": [
        "a = np.array([[7, 5.3, -3], [3, -5, 2], [5, 3, -7]])\n",
        "a"
      ]
    },
    {
      "cell_type": "code",
      "execution_count": null,
      "id": "fe571c51-1823-4972-8f75-b32936f592c4",
      "metadata": {
        "id": "fe571c51-1823-4972-8f75-b32936f592c4"
      },
      "outputs": [],
      "source": [
        "b = np.array([16, 8, 0])"
      ]
    },
    {
      "cell_type": "code",
      "execution_count": null,
      "id": "f5f8368b-13b9-4669-ba03-eae1bd4ac1f8",
      "metadata": {
        "id": "f5f8368b-13b9-4669-ba03-eae1bd4ac1f8",
        "outputId": "577f7ab8-1463-4e10-e3a6-820de291b22d"
      },
      "outputs": [
        {
          "data": {
            "text/plain": [
              "array([2.59630607, 0.84432718, 2.21635884])"
            ]
          },
          "execution_count": 104,
          "metadata": {},
          "output_type": "execute_result"
        }
      ],
      "source": [
        "np.linalg.solve(a, b)"
      ]
    },
    {
      "cell_type": "code",
      "execution_count": null,
      "id": "9d33e0cf-76be-4d9b-8306-608dde0cd933",
      "metadata": {
        "id": "9d33e0cf-76be-4d9b-8306-608dde0cd933"
      },
      "outputs": [],
      "source": []
    }
  ],
  "metadata": {
    "kernelspec": {
      "display_name": "Python 3 (ipykernel)",
      "language": "python",
      "name": "python3"
    },
    "language_info": {
      "codemirror_mode": {
        "name": "ipython",
        "version": 3
      },
      "file_extension": ".py",
      "mimetype": "text/x-python",
      "name": "python",
      "nbconvert_exporter": "python",
      "pygments_lexer": "ipython3",
      "version": "3.10.8"
    },
    "colab": {
      "provenance": [],
      "include_colab_link": true
    }
  },
  "nbformat": 4,
  "nbformat_minor": 5
}