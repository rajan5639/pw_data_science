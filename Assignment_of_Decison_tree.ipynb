{
  "nbformat": 4,
  "nbformat_minor": 0,
  "metadata": {
    "colab": {
      "provenance": [],
      "authorship_tag": "ABX9TyNFp+PHqyKJpbhqFifnwSVj",
      "include_colab_link": true
    },
    "kernelspec": {
      "name": "python3",
      "display_name": "Python 3"
    },
    "language_info": {
      "name": "python"
    }
  },
  "cells": [
    {
      "cell_type": "markdown",
      "metadata": {
        "id": "view-in-github",
        "colab_type": "text"
      },
      "source": [
        "<a href=\"https://colab.research.google.com/github/rajan5639/pw_data_science/blob/main/Assignment_of_Decison_tree.ipynb\" target=\"_parent\"><img src=\"https://colab.research.google.com/assets/colab-badge.svg\" alt=\"Open In Colab\"/></a>"
      ]
    },
    {
      "cell_type": "code",
      "execution_count": null,
      "metadata": {
        "id": "RYs7c-przVMt"
      },
      "outputs": [],
      "source": [
        "'''\n",
        "Q1 : What is a Decision Tree, and how does it work\n",
        "\n",
        "\n",
        "\n",
        "A Decision Tree is a supervised machine learning algorithm that can be used for both classification and regression tasks. It's a tree-like model where each internal node represents a feature (or attribute), each branch represents a decision rule, and each leaf node represents an outcome (or prediction). It is called a decision tree because, similar to a tree, it starts with a root and then branches off into different solutions, just like a tree would branch off into different limbs.\n",
        "\n",
        "How does it work?\n",
        "\n",
        "Start with the root node: The root node represents the entire dataset.\n",
        "\n",
        "Select the best feature: The algorithm selects the feature that best splits the data into subsets that are as pure as possible (i.e., subsets where the majority of instances belong to the same class).\n",
        "\n",
        "Create branches: Branches are created for each possible value of the selected feature.\n",
        "\n",
        "Repeat steps 2 and 3: The process is repeated for each subset of data until a stopping criterion is met (e.g., all instances in a subset belong to the same class, or a maximum depth is reached).\n",
        "\n",
        "Assign outcomes to leaf nodes: Each leaf node is assigned an outcome based on the majority class of the instances in that subset.\n",
        "\n",
        "In simpler terms, imagine you're playing a game of 20 Questions. You start with a broad question, and based on the answer, you ask more specific questions to narrow down the possibilities. A Decision Tree works in a similar way, using features to ask questions and split the data until it reaches a prediction.\n",
        "'''"
      ]
    },
    {
      "cell_type": "code",
      "source": [
        "'''\n",
        "What are impurity measures in Decision Trees\n",
        "\n",
        "\n",
        "In Decision Trees, impurity measures are used to assess the homogeneity of a node in the tree. A node is considered pure if all of its data points belong to the same class. The goal of the Decision Tree algorithm is to find splits that minimize impurity and create the purest possible nodes.\n",
        "\n",
        "Common Impurity Measures\n",
        "\n",
        "There are two main impurity measures commonly used in Decision Trees:\n",
        "\n",
        "Gini Impurity: This measure calculates the probability of misclassifying a randomly chosen element from a set. It ranges from 0 (pure node) to 1 (completely impure node). The formula for Gini impurity is:\n",
        "\n",
        "Gini Impurity = 1 - Σ(pᵢ)²\n",
        "Use code with caution\n",
        "where pᵢ is the probability of an element belonging to class i.\n",
        "\n",
        "Entropy: This measure quantifies the uncertainty or randomness in a set. It's based on information theory and ranges from 0 (pure node) to log₂(k) (completely impure node), where k is the number of classes. The formula for entropy is:\n",
        "\n",
        "Entropy = -Σ(pᵢ * log₂(pᵢ))\n",
        "Use code with caution\n",
        "where pᵢ is the probability of an element belonging to class i.\n",
        "\n",
        "How Impurity Measures are Used\n",
        "\n",
        "Feature Selection: Decision Trees use impurity measures to select the best feature to split a node. The feature that results in the greatest reduction in impurity is chosen. This reduction in impurity is often referred to as \"information gain.\"\n",
        "Tree Construction: The algorithm recursively splits nodes based on the selected features and their corresponding impurity measures, continuing until a stopping criterion is met (e.g., maximum depth, minimum samples per leaf).\n",
        "Evaluating Splits: Impurity measures help in evaluating the quality of a split by comparing the impurity of the parent node to the impurity of the child nodes.\n",
        "\n",
        "'''\n"
      ],
      "metadata": {
        "id": "M2Cd0ENd0il1"
      },
      "execution_count": null,
      "outputs": []
    },
    {
      "cell_type": "code",
      "source": [
        "#What is the mathematical formula for Gini Impurity\n",
        "\n",
        "'''\n",
        "Gini Impurity\n",
        "\n",
        "Gini Impurity is a measure of the probability of misclassifying a randomly chosen element from a set. It's used in Decision Trees to evaluate the quality of a split.\n",
        "\n",
        "Formula\n",
        "\n",
        "The formula for Gini Impurity is:\n",
        "\n",
        "\n",
        "Gini Impurity = 1 - Σ(pᵢ)²\n",
        "Use code with caution\n",
        "where:\n",
        "\n",
        "pᵢ is the probability of an element belonging to class i.\n",
        "The summation (Σ) is taken over all classes in the set.\n",
        "Explanation\n",
        "\n",
        "Probability of Belonging to a Class (pᵢ): For each class i in the set, you calculate the probability of a randomly selected element belonging to that class. This is typically done by dividing the number of elements in class i by the total number of elements in the set.\n",
        "\n",
        "Squaring the Probabilities (pᵢ²): You square the probability of each class.\n",
        "\n",
        "Summing the Squared Probabilities (Σ(pᵢ²)): You sum the squared probabilities of all the classes.\n",
        "\n",
        "Subtracting from 1 (1 - Σ(pᵢ²)): Finally, you subtract the sum of squared probabilities from 1.\n",
        "\n",
        "'''\n"
      ],
      "metadata": {
        "id": "dvNgKqwI0xrg"
      },
      "execution_count": null,
      "outputs": []
    },
    {
      "cell_type": "code",
      "source": [
        "#What is the mathematical formula for Entropy\n",
        "'''\n",
        "In Decision Trees, Entropy is a measure of the uncertainty or randomness in a set. It's based on information theory and is used to evaluate the quality of a split.\n",
        "\n",
        "Formula\n",
        "\n",
        "The formula for Entropy is:\n",
        "\n",
        "\n",
        "Entropy = -Σ(pᵢ * log₂(pᵢ))\n",
        "Use code with caution\n",
        "where:\n",
        "\n",
        "pᵢ is the probability of an element belonging to class i.\n",
        "The summation (Σ) is taken over all classes in the set.\n",
        "log₂ represents the logarithm base 2.\n",
        "Explanation\n",
        "\n",
        "Probability of Belonging to a Class (pᵢ): For each class i in the set, you calculate the probability of a randomly selected element belonging to that class. This is typically done by dividing the number of elements in class i by the total number of elements in the set.\n",
        "\n",
        "Calculating pᵢ * log₂(pᵢ): For each class, you multiply its probability by the logarithm base 2 of its probability.\n",
        "\n",
        "Summing the Results (Σ(pᵢ * log₂(pᵢ))): You sum the results from step 2 for all classes.\n",
        "\n",
        "Negating the Sum (-Σ(pᵢ * log₂(pᵢ))): Finally, you negate the sum to obtain the Entropy.\n",
        "\n",
        "'''\n"
      ],
      "metadata": {
        "id": "S_2c0c210xoA"
      },
      "execution_count": null,
      "outputs": []
    },
    {
      "cell_type": "code",
      "source": [
        "#What is Information Gain, and how is it used in Decision Trees\n",
        "\n",
        "'''\n",
        "Information Gain\n",
        "\n",
        "Information Gain is a concept used in Decision Trees to measure the reduction in entropy (or impurity) achieved by splitting a dataset based on a particular feature. In simpler terms, it quantifies how much information we gain about the target variable by knowing the value of a specific feature.\n",
        "\n",
        "How it Works\n",
        "\n",
        "Calculate Entropy of the Parent Node: First, we calculate the entropy of the entire dataset before any split is made. This represents the initial uncertainty or randomness in the target variable.\n",
        "\n",
        "Calculate Entropy of Child Nodes: Next, we consider splitting the dataset based on a specific feature. We calculate the entropy of each child node resulting from the split.\n",
        "\n",
        "Calculate Weighted Average Entropy: We calculate a weighted average of the child node entropies, where the weights are determined by the proportion of data points in each child node.\n",
        "\n",
        "Calculate Information Gain: Finally, we subtract the weighted average entropy of the child nodes from the entropy of the parent node. This difference represents the Information Gain achieved by the split\n",
        "\n",
        "'''\n"
      ],
      "metadata": {
        "id": "qhHT7_NC0xlh"
      },
      "execution_count": null,
      "outputs": []
    },
    {
      "cell_type": "code",
      "source": [
        "\n",
        "#What is the difference between Gini Impurity and Entropy\n",
        "\n",
        "'''\n",
        "Both Gini Impurity and Entropy are metrics used to measure the impurity or uncertainty of a node in a Decision Tree. They help the algorithm determine the best feature to split the data at each node, aiming to create the purest possible child nodes.\n",
        "\n",
        "Here's a breakdown of the key differences between the two:\n",
        "\n",
        "Gini Impurity\n",
        "\n",
        "Definition: Measures the probability of misclassifying a randomly chosen element from a set.\n",
        "Formula: Gini Impurity = 1 - Σ(pᵢ)² (where pᵢ is the probability of an element belonging to class i)\n",
        "Range: 0 (pure node) to 1 (completely impure node)\n",
        "Computation: Generally faster to calculate due to its linear nature.\n",
        "Focus: Emphasizes on creating splits that maximize the probability of correct classification.\n",
        "Entropy\n",
        "\n",
        "Definition: Measures the uncertainty or randomness in a set, based on information theory.\n",
        "Formula: Entropy = -Σ(pᵢ * log₂(pᵢ)) (where pᵢ is the probability of an element belonging to class i)\n",
        "Range: 0 (pure node) to log₂(k) (completely impure node, where k is the number of classes)\n",
        "Computation: Slightly more computationally intensive due to the logarithmic calculation.\n",
        "Focus: Aims to create splits that minimize the uncertainty or randomness in the data.\n",
        "\n",
        "'''\n"
      ],
      "metadata": {
        "id": "BORoJIzK1b1m"
      },
      "execution_count": null,
      "outputs": []
    },
    {
      "cell_type": "code",
      "source": [
        "#What is the mathematical explanation behind Decision Trees\n",
        "\n",
        "'''\n",
        "Recursive Partitioning: The dataset is recursively divided into subsets based on the values of features, aiming to create increasingly homogeneous subsets with respect to the target variable.\n",
        "\n",
        "Impurity Measures: Metrics like Gini Impurity or Entropy are used to quantify the impurity or uncertainty within a node. The goal is to find splits that minimize impurity and create purer child nodes.\n",
        "\n",
        "Information Gain: The difference in impurity between a parent node and its child nodes after a split is called Information Gain. It helps in selecting the best feature for splitting a node, prioritizing features that maximize Information Gain.\n",
        "\n",
        "Mathematical Formulation\n",
        "\n",
        "Let's consider a dataset D with n instances and m features. The target variable can have k distinct classes.\n",
        "\n",
        "Entropy of a Node: The entropy of a node S is calculated as:\n",
        "\n",
        "Entropy(S) = -Σ(pᵢ * log₂(pᵢ))\n",
        "\n",
        "\n",
        "'''\n",
        "\n"
      ],
      "metadata": {
        "id": "95mKTTkT1byM"
      },
      "execution_count": null,
      "outputs": []
    },
    {
      "cell_type": "code",
      "source": [
        "#What is Pre-Pruning in Decision Trees\n",
        "\n",
        "'''\n",
        "Pre-pruning, also known as early stopping, is a technique used in Decision Trees to prevent overfitting by stopping the tree growth before it becomes too complex. It involves setting constraints or limits during the tree construction process to avoid creating branches that might capture noise or irrelevant patterns in the training data.\n",
        "\n",
        "How it Works\n",
        "\n",
        "Pre-pruning is achieved by using various stopping criteria during tree construction.\n",
        "\n",
        "Maximum Depth: Limiting the maximum depth of the tree, preventing it from growing beyond a certain level.\n",
        "\n",
        "Minimum Samples Split: Specifying the minimum number of samples required to split an internal node. If a node has fewer samples than the threshold, it won't be split further.\n",
        "\n",
        "Minimum Samples Leaf: Setting the minimum number of samples required to be in a leaf node. If a split results in a child node with fewer samples than the threshold, the split is not performed.\n",
        "\n",
        "Maximum Leaf Nodes: Limiting the total number of leaf nodes in the tree.\n",
        "\n",
        "Maximum Features: Restricting the number of features considered for each split.\n",
        "\n",
        "Benefits of Pre-Pruning\n",
        "\n",
        "Reduces Overfitting: By stopping tree growth early, pre-pruning prevents the tree from becoming overly complex and capturing noise in the training data.\n",
        "Improves Generalization: A simpler tree obtained through pre-pruning is more likely to generalize well to unseen data.\n",
        "Reduces Computational Cost: Pre-pruning can reduce the computational cost of building and using the tree, as it limits the number of nodes and branches.\n",
        "Considerations\n",
        "\n",
        "Choosing appropriate pre-pruning parameters requires careful consideration and experimentation.\n",
        "Setting overly restrictive constraints can lead to underfitting, where the tree is too simple to capture the underlying patterns in the data.\n",
        "It's often recommended to use cross-validation to evaluate different pre-pruning settings and find the optimal balance between complexity and generalization.\n",
        "\n",
        "'''"
      ],
      "metadata": {
        "id": "HTZcUzKV1bv2"
      },
      "execution_count": null,
      "outputs": []
    },
    {
      "cell_type": "code",
      "source": [
        "#What is Post-Pruning in Decision Trees\n",
        "\n",
        "'''\n",
        "Post-pruning, also known as backward pruning, is a technique used in Decision Trees to reduce overfitting by removing or collapsing branches after the tree has been fully grown. It involves evaluating the performance of the tree on a validation set and selectively removing branches that do not contribute significantly to the overall accuracy or generalization ability.\n",
        "\n",
        "How it Works\n",
        "\n",
        "Grow the Full Tree: The Decision Tree is first allowed to grow to its full depth without any restrictions.\n",
        "\n",
        "Evaluate on Validation Set: The performance of the tree is assessed on a separate validation set, which is a portion of the training data not used for building the initial tree.\n",
        "\n",
        "Prune Branches: Based on the validation set performance, branches that do not improve or even decrease the accuracy are identified and removed. This can involve collapsing internal nodes into leaf nodes or removing entire subtrees.\n",
        "\n",
        "Stopping Criterion: The pruning process continues until a stopping criterion is met, such as achieving a desired level of accuracy on the validation set or reaching a minimum tree size.\n",
        "\n",
        "Types of Post-Pruning\n",
        "\n",
        "Cost Complexity Pruning: This method assigns a cost to each node based on its complexity and error rate. Branches with high costs and little contribution to accuracy are pruned.\n",
        "\n",
        "Reduced Error Pruning: This approach iteratively removes branches that lead to the most errors on the validation set.\n",
        "\n",
        "Minimum Error Pruning: This technique aims to find the subtree with the lowest error rate on the validation set\n",
        "'''"
      ],
      "metadata": {
        "id": "d-pva_h31bth"
      },
      "execution_count": null,
      "outputs": []
    },
    {
      "cell_type": "code",
      "source": [
        "#What is the difference between Pre-Pruning and Post-Pruning\n",
        "\n",
        "'''\n",
        "Both pre-pruning and post-pruning are techniques used to address overfitting in Decision Trees, but they differ in their approach and timing:\n",
        "\n",
        "Pre-Pruning\n",
        "\n",
        "Timing: Applied during the tree construction process.\n",
        "Approach: Stops tree growth early by imposing constraints on tree size or structure.\n",
        "Mechanism: Uses stopping criteria like maximum depth, minimum samples split, minimum samples leaf, maximum leaf nodes, or maximum features.\n",
        "Advantages:\n",
        "Reduces overfitting by preventing the tree from becoming too complex.\n",
        "Improves generalization performance on unseen data.\n",
        "Reduces computational cost by limiting tree size.\n",
        "Disadvantages:\n",
        "May lead to underfitting if constraints are too restrictive.\n",
        "Requires careful selection of pre-pruning parameters.\n",
        "Post-Pruning\n",
        "\n",
        "Timing: Applied after the tree has been fully grown.\n",
        "Approach: Removes or collapses branches that do not contribute significantly to accuracy.\n",
        "Mechanism: Evaluates tree performance on a validation set and prunes branches based on accuracy or complexity measures.\n",
        "Advantages:\n",
        "Allows the tree to initially grow to its full potential, potentially capturing more complex relationships.\n",
        "Often leads to more accurate models compared to pre-pruning.\n",
        "More flexible than pre-pruning as it adapts to the data.\n",
        "Disadvantages:\n",
        "Can be computationally more expensive than pre-pruning.\n",
        "Requires a separate validation set for pruning decisions\n",
        "'''\n"
      ],
      "metadata": {
        "id": "2uroLRQo1bqo"
      },
      "execution_count": null,
      "outputs": []
    },
    {
      "cell_type": "code",
      "source": [
        "#What is a Decision Tree Regressor\n",
        "\n",
        "'''\n",
        "A Decision Tree Regressor is a type of Decision Tree algorithm used for solving regression problems, where the target variable is continuous rather than categorical. It works by recursively partitioning the data into subsets based on features, aiming to create regions where the target variable values are as similar as possible.\n",
        "\n",
        "How it Works\n",
        "\n",
        "Tree Construction: Similar to classification trees, the regressor starts with the root node containing the entire dataset. It then selects the best feature and split point that minimizes the variance within the resulting child nodes. This process is repeated recursively until a stopping criterion is met (e.g., maximum depth, minimum samples per leaf).\n",
        "\n",
        "Prediction: To make a prediction for a new data point, the regressor traverses the tree based on the feature values of the data point until it reaches a leaf node. The predicted value is then the average (or median) of the target variable values in that leaf node.\n",
        "\n",
        "Key Differences from Classification Trees\n",
        "\n",
        "Target Variable: Regressors predict continuous values, while classification trees predict categorical values.\n",
        "Splitting Criterion: Regressors typically use variance reduction (e.g., mean squared error) as the splitting criterion, while classification trees use impurity measures (e.g., Gini impurity, entropy).\n",
        "Prediction: Regressors predict the average (or median) value in a leaf node, while classification trees predict the majority class.\n",
        "Advantages of Decision Tree Regressors\n",
        "\n",
        "Easy to Understand and Interpret: The tree structure provides a clear representation of the decision-making process.\n",
        "Handles Non-linear Relationships: Can capture complex non-linear relationships between features and the target variable.\n",
        "No Feature Scaling Required: Unlike some other regression algorithms, decision tree regressors do not require feature scaling.\n",
        "Handles Outliers: Relatively robust to outliers in the data\n",
        "\n",
        "'''\n"
      ],
      "metadata": {
        "id": "P0Xm8FTD1boa"
      },
      "execution_count": null,
      "outputs": []
    },
    {
      "cell_type": "code",
      "source": [],
      "metadata": {
        "id": "dTj6GYS51bmN"
      },
      "execution_count": null,
      "outputs": []
    },
    {
      "cell_type": "code",
      "source": [
        "# What are the advantages and disadvantages of Decision Trees\n",
        "\n",
        "'''\n",
        "Easy to Understand and Interpret: Decision Trees are easy to visualize and understand, making them transparent and interpretable. The tree structure clearly shows the decision-making process, allowing users to trace the path from input features to predictions.\n",
        "\n",
        "Handles Non-linear Relationships: Decision Trees can capture complex non-linear relationships between features and the target variable, unlike linear models that assume linearity. This flexibility allows them to model data with intricate patterns.\n",
        "\n",
        "No Feature Scaling Required: Decision Trees are not sensitive to the scale of features, so there's no need for feature scaling or normalization. This simplifies the data preparation process and makes them robust to variations in feature ranges.\n",
        "\n",
        "Handles Both Categorical and Numerical Data: Decision Trees can handle both categorical and numerical features, making them versatile for various datasets. They can seamlessly incorporate different data types without requiring extensive preprocessing.\n",
        "\n",
        "Handles Outliers: Decision Trees are relatively robust to outliers in the data. Outliers typically have less impact on the tree structure compared to other algorithms, as they are often isolated in separate branches.\n",
        "\n",
        "Feature Importance: Decision Trees can provide insights into the importance of different features in making predictions. By analyzing the tree structure and the features used for splitting, users can gain valuable information about the data.\n",
        "\n",
        "Fast Prediction: Once the tree is built, making predictions is very fast. It involves traversing the tree based on the input features, which is computationally efficient.\n",
        "\n",
        "Disadvantages of Decision Trees\n",
        "\n",
        "Prone to Overfitting: Decision Trees can easily overfit the training data, especially if they are allowed to grow too deep and complex. Overfitting leads to poor generalization performance on unseen data.\n",
        "\n",
        "Instability: Small changes in the data can lead to significant changes in the tree structure, making them unstable. This instability can affect the model's consistency and reliability.\n",
        "\n",
        "Bias towards Features with More Levels: Decision Trees can be biased towards features with more distinct values. Features with many levels tend to have higher information gain, leading to their preferential selection for splits.\n",
        "\n",
        "Difficulty in Capturing Complex Interactions: While Decision Trees can handle non-linear relationships, they might struggle to capture complex interactions between multiple features. They typically consider features individually rather than in combination.\n",
        "\n",
        "Greedy Approach: Decision Trees use a greedy approach for splitting nodes, selecting the best feature at each step without considering future splits. This approach might not always lead to the globally optimal tree structure.\n",
        "\n",
        "Not Ideal for Continuous Targets: While Decision Tree Regressors can handle continuous target variables, they might not be the best choice for highly complex regression problems. They tend to create piecewise constant predictions, which might not accurately capture smooth variations in the target.\n",
        "\n",
        "\n",
        "'''"
      ],
      "metadata": {
        "id": "7LUe9VqR1bjs"
      },
      "execution_count": null,
      "outputs": []
    },
    {
      "cell_type": "code",
      "source": [
        "#How does a Decision Tree handle missing values\n",
        "\n",
        "'''\n",
        "Decision Trees have inherent mechanisms for handling missing values during both training and prediction. Here are the common approaches:\n",
        "\n",
        "During Training\n",
        "\n",
        "Ignoring Missing Values: The simplest approach is to ignore instances with missing values for a particular feature when calculating impurity measures or information gain. This can lead to loss of information but is computationally efficient.\n",
        "\n",
        "Imputation with Most Frequent Value: For categorical features, missing values can be replaced with the most frequent value (mode) of that feature in the training data.\n",
        "\n",
        "Imputation with Mean/Median: For numerical features, missing values can be replaced with the mean or median value of that feature in the training data.\n",
        "\n",
        "Creating a Separate Category: For categorical features, a new category can be created to represent missing values. This allows the tree to learn patterns specific to missing data.\n",
        "\n",
        "Surrogate Splits: This approach involves finding a surrogate feature that is highly correlated with the feature containing missing values. When a missing value is encountered, the surrogate feature is used to make the split instead.\n",
        "\n",
        "During Prediction\n",
        "\n",
        "Using Surrogate Splits: If surrogate splits were used during training, the same approach is applied during prediction.\n",
        "\n",
        "Propagating Probabilities: If missing values are encountered during prediction, the tree can propagate the probabilities of different outcomes down multiple branches based on the available features. The final prediction is then a weighted average of the predictions from these branches.\n",
        "\n",
        "\n",
        "'''"
      ],
      "metadata": {
        "id": "gbAPqcLX1bhJ"
      },
      "execution_count": null,
      "outputs": []
    },
    {
      "cell_type": "code",
      "source": [],
      "metadata": {
        "id": "dIXtoPO11bes"
      },
      "execution_count": null,
      "outputs": []
    },
    {
      "cell_type": "code",
      "source": [
        "#How does a Decision Tree handle categorical features\n",
        "\n",
        "'''\n",
        "Handling Categorical Features in Decision Trees\n",
        "\n",
        "Decision Trees can handle categorical features without requiring one-hot encoding or other preprocessing steps. They achieve this through the following mechanisms:\n",
        "\n",
        "Binary Splits for Categorical Features: For a categorical feature with n distinct values, the Decision Tree algorithm considers all possible binary splits. It evaluates each split by calculating the impurity or information gain resulting from dividing the data into two subsets based on the presence or absence of a particular category.\n",
        "\n",
        "Multi-way Splits for Categorical Features: In some cases, the Decision Tree algorithm might create a multi-way split for a categorical feature, where each distinct value of the feature leads to a separate branch. This is more common when the categorical feature has a small number of distinct values.\n",
        "\n",
        "Impurity Measures for Categorical Features: Impurity measures like Gini impurity or entropy are used to evaluate the quality of splits for categorical features. These measures consider the distribution of different categories within each subset created by a split.\n",
        "\n",
        "Information Gain for Categorical Features: Information gain is used to select the best split for categorical features. The feature and split point that maximize the reduction in impurity (or maximize information gain) are chosen.\n",
        "'''\n"
      ],
      "metadata": {
        "id": "AYuK5tv51bcO"
      },
      "execution_count": null,
      "outputs": []
    },
    {
      "cell_type": "code",
      "source": [
        "# What are some real-world applications of Decision Trees\n",
        "\n",
        "'''\n",
        "Customer Relationship Management (CRM):\n",
        "\n",
        "Customer Churn Prediction: Identifying customers who are likely to churn (cancel their subscription or stop using a service) based on their past behavior and demographics.\n",
        "Customer Segmentation: Grouping customers into segments based on their characteristics and preferences to personalize marketing campaigns and product recommendations.\n",
        "Targeted Advertising: Optimizing advertising campaigns by targeting specific customer segments with relevant ads based on their interests and demographics.\n",
        "Healthcare:\n",
        "\n",
        "Disease Diagnosis: Assisting in diagnosing diseases based on patient symptoms, medical history, and test results.\n",
        "Treatment Recommendation: Recommending personalized treatment plans for patients based on their individual characteristics and disease severity.\n",
        "Risk Assessment: Identifying patients at high risk for certain diseases or complications to prioritize preventive care and early interventions.\n",
        "Finance:\n",
        "\n",
        "Credit Scoring: Evaluating the creditworthiness of loan applicants based on their financial history and demographics.\n",
        "Fraud Detection: Identifying fraudulent transactions by analyzing patterns and anomalies in financial data.\n",
        "Investment Strategies: Developing investment strategies by identifying promising stocks or bonds based on market trends and company performance.\n",
        "Marketing and Sales:\n",
        "\n",
        "Product Recommendation: Recommending products to customers based on their past purchases, browsing history, and preferences.\n",
        "Market Segmentation: Identifying distinct customer segments with similar needs and preferences to tailor marketing efforts.\n",
        "Pricing Optimization: Determining optimal pricing strategies for products or services by analyzing market demand and competitor pricing.\n",
        "Operations and Manufacturing:\n",
        "\n",
        "Quality Control: Identifying defects in manufactured products by analyzing sensor data and production parameters.\n",
        "Supply Chain Optimization: Optimizing inventory management and logistics by forecasting demand and predicting potential disruptions.\n",
        "Predictive Maintenance: Predicting equipment failures to schedule maintenance proactively and minimize downtime.\n",
        "Natural Language Processing (NLP):\n",
        "\n",
        "Sentiment Analysis: Classifying text into positive, negative, or neutral sentiments to understand customer feedback or public opinion.\n",
        "Text Classification: Categorizing text documents into predefined categories for spam filtering, topic identification, or document organization.\n",
        "Language Translation: Assisting in language translation by identifying grammatical structures and semantic relationships between words.\n",
        "Image Recognition:\n",
        "\n",
        "Object Detection: Identifying and classifying objects within images for applications like self-driving cars or medical imaging.\n",
        "Image Segmentation: Dividing an image into distinct regions based on object boundaries or pixel characteristics.\n",
        "Facial Recognition: Identifying individuals based on facial features for security or authentication purposes\n",
        "'''"
      ],
      "metadata": {
        "id": "vL3cut7u1bZt"
      },
      "execution_count": null,
      "outputs": []
    },
    {
      "cell_type": "markdown",
      "source": [
        "#**Practial**"
      ],
      "metadata": {
        "id": "7a_4Euz6Bicu"
      }
    },
    {
      "cell_type": "code",
      "source": [
        "#Write a Python program to train a Decision Tree Classifier on the Iris dataset and print the model accuracy\n",
        "\n",
        "from sklearn.datasets import load_iris\n",
        "from sklearn.model_selection import train_test_split\n",
        "from sklearn.tree import DecisionTreeClassifier\n",
        "from sklearn.metrics import accuracy_score\n",
        "\n",
        "# Load the Iris dataset\n",
        "iris = load_iris()\n",
        "X = iris.data\n",
        "y = iris.target\n",
        "\n",
        "# Split data into training and testing sets\n",
        "X_train, X_test, y_train, y_test = train_test_split(X, y, test_size=0.3, random_state=42)\n",
        "\n",
        "# Create a Decision Tree Classifier\n",
        "tree = DecisionTreeClassifier(random_state=42)\n",
        "\n",
        "# Train the model\n",
        "tree.fit(X_train, y_train)\n",
        "\n",
        "# Make predictions on the test set\n",
        "y_pred = tree.predict(X_test)\n",
        "\n",
        "# Calculate accuracy\n",
        "accuracy = accuracy_score(y_test, y_pred)\n",
        "\n",
        "# Print the accuracy\n",
        "print(f\"Accuracy: {accuracy}\")\n"
      ],
      "metadata": {
        "colab": {
          "base_uri": "https://localhost:8080/"
        },
        "id": "f_dYd4Sp1bXG",
        "outputId": "fd65edb7-a95c-41b1-be95-ec6ace3cb0d3"
      },
      "execution_count": 1,
      "outputs": [
        {
          "output_type": "stream",
          "name": "stdout",
          "text": [
            "Accuracy: 1.0\n"
          ]
        }
      ]
    },
    {
      "cell_type": "code",
      "source": [],
      "metadata": {
        "id": "patVFxGT1bUg"
      },
      "execution_count": null,
      "outputs": []
    },
    {
      "cell_type": "code",
      "source": [
        "#Write a Python program to train a Decision Tree Classifier using Gini Impurity as the criterion and print the feature importances\n",
        "\n",
        "from sklearn.datasets import load_iris\n",
        "from sklearn.model_selection import train_test_split\n",
        "from sklearn.tree import DecisionTreeClassifier\n",
        "\n",
        "# Load the Iris dataset\n",
        "iris = load_iris()\n",
        "X = iris.data\n",
        "y = iris.target\n",
        "\n",
        "# Split data into training and testing sets\n",
        "X_train, X_test, y_train, y_test = train_test_split(X, y, test_size=0.3, random_state=42)\n",
        "\n",
        "# Create a Decision Tree Classifier with Gini Impurity\n",
        "tree = DecisionTreeClassifier(criterion='gini', random_state=42)\n",
        "\n",
        "# Train the model\n",
        "tree.fit(X_train, y_train)\n",
        "\n",
        "# Get feature importances\n",
        "importances = tree.feature_importances_\n",
        "\n",
        "# Print feature importances\n",
        "for i, importance in enumerate(importances):\n",
        "    print(f\"Feature {i}: {iris.feature_names[i]}, Importance: {importance}\")"
      ],
      "metadata": {
        "colab": {
          "base_uri": "https://localhost:8080/"
        },
        "id": "3yRmSr821bR7",
        "outputId": "fc255ea4-da40-4826-e2d1-e189872080e8"
      },
      "execution_count": 2,
      "outputs": [
        {
          "output_type": "stream",
          "name": "stdout",
          "text": [
            "Feature 0: sepal length (cm), Importance: 0.0\n",
            "Feature 1: sepal width (cm), Importance: 0.01911001911001911\n",
            "Feature 2: petal length (cm), Importance: 0.8932635518001373\n",
            "Feature 3: petal width (cm), Importance: 0.08762642908984374\n"
          ]
        }
      ]
    },
    {
      "cell_type": "code",
      "source": [
        "#Write a Python program to train a Decision Tree Classifier using Entropy as the splitting criterion and print the model accuracy\n",
        "\n",
        "from sklearn.datasets import load_iris\n",
        "from sklearn.model_selection import train_test_split\n",
        "from sklearn.tree import DecisionTreeClassifier\n",
        "from sklearn.metrics import accuracy_score\n",
        "\n",
        "# Load the Iris dataset\n",
        "iris = load_iris()\n",
        "X = iris.data\n",
        "y = iris.target\n",
        "\n",
        "# Split data into training and testing sets\n",
        "X_train, X_test, y_train, y_test = train_test_split(X, y, test_size=0.3, random_state=42)\n",
        "\n",
        "# Create a Decision Tree Classifier with Entropy\n",
        "tree = DecisionTreeClassifier(criterion='entropy', random_state=42)\n",
        "\n",
        "# Train the model\n",
        "tree.fit(X_train, y_train)\n",
        "\n",
        "# Make predictions on the test set\n",
        "y_pred = tree.predict(X_test)\n",
        "\n",
        "# Calculate accuracy\n",
        "accuracy = accuracy_score(y_test, y_pred)\n",
        "\n",
        "# Print the accuracy\n",
        "print(f\"Accuracy: {accuracy}\")\n"
      ],
      "metadata": {
        "colab": {
          "base_uri": "https://localhost:8080/"
        },
        "id": "ekPeQjo_1bPV",
        "outputId": "909bdf89-b93f-4c17-ef04-508ca4bc9d06"
      },
      "execution_count": 4,
      "outputs": [
        {
          "output_type": "stream",
          "name": "stdout",
          "text": [
            "Accuracy: 0.9777777777777777\n"
          ]
        }
      ]
    },
    {
      "cell_type": "code",
      "source": [],
      "metadata": {
        "id": "7B2hWmmrCAJn"
      },
      "execution_count": null,
      "outputs": []
    },
    {
      "cell_type": "code",
      "source": [
        "\n",
        "\n",
        "#Write a Python program to train a Decision Tree Regressor on a housing dataset and evaluate using Mean Squared Error (MSE)\n",
        "\n",
        "# Instead of load_boston, use fetch_california_housing\n",
        "from sklearn.datasets import fetch_california_housing\n",
        "from sklearn.model_selection import train_test_split\n",
        "from sklearn.tree import DecisionTreeRegressor\n",
        "from sklearn.metrics import mean_squared_error\n",
        "\n",
        "# Load the California Housing dataset\n",
        "housing = fetch_california_housing()\n",
        "X = housing.data\n",
        "y = housing.target\n",
        "\n",
        "# Split data into training and testing sets\n",
        "X_train, X_test, y_train, y_test = train_test_split(X, y, test_size=0.3, random_state=42)\n",
        "\n",
        "# Create a Decision Tree Regressor\n",
        "regressor = DecisionTreeRegressor(random_state=42)\n",
        "\n",
        "# Train the model\n",
        "regressor.fit(X_train, y_train)\n",
        "\n",
        "# Make predictions on the test set\n",
        "y_pred = regressor.predict(X_test)\n",
        "\n",
        "# Calculate Mean Squared Error (MSE)\n",
        "mse = mean_squared_error(y_test, y_pred)\n",
        "\n",
        "# Print the MSE\n",
        "print(f\"Mean Squared Error (MSE): {mse}\")"
      ],
      "metadata": {
        "colab": {
          "base_uri": "https://localhost:8080/"
        },
        "id": "3aaTBx13CNj0",
        "outputId": "ccd65af5-284c-4ab5-942c-ae90a9cac5a4"
      },
      "execution_count": 6,
      "outputs": [
        {
          "output_type": "stream",
          "name": "stdout",
          "text": [
            "Mean Squared Error (MSE): 0.5280096503174904\n"
          ]
        }
      ]
    },
    {
      "cell_type": "code",
      "source": [
        "#Write a Python program to train a Decision Tree Classifier and visualize the tree using graphviz\n",
        "\n",
        "\n",
        "!pip install graphviz\n",
        "#Write a Python program to train a Decision Tree Classifier and visualize the tree using graphviz\n",
        "\n",
        "from sklearn.datasets import load_iris\n",
        "from sklearn.model_selection import train_test_split\n",
        "from sklearn.tree import DecisionTreeClassifier, export_graphviz\n",
        "import graphviz\n",
        "\n",
        "# Load the Iris dataset\n",
        "iris = load_iris()\n",
        "X = iris.data\n",
        "y = iris.target\n",
        "\n",
        "# Split data into training and testing sets\n",
        "X_train, X_test, y_train, y_test = train_test_split(X, y, test_size=0.3, random_state=42)\n",
        "\n",
        "# Create a Decision Tree Classifier\n",
        "tree = DecisionTreeClassifier(random_state=42)\n",
        "\n",
        "# Train the model\n",
        "tree.fit(X_train, y_train)\n",
        "\n",
        "# Export the tree to a DOT file\n",
        "dot_data = export_graphviz(tree, out_file=None,\n",
        "                           feature_names=iris.feature_names,\n",
        "                           class_names=iris.target_names,\n",
        "                           filled=True, rounded=True,\n",
        "                           special_characters=True)\n",
        "\n",
        "# Visualize the tree using graphviz\n",
        "graph = graphviz.Source(dot_data)\n",
        "graph.render(\"iris_decision_tree\") # Saves the tree as a PDF file\n",
        "graph"
      ],
      "metadata": {
        "colab": {
          "base_uri": "https://localhost:8080/",
          "height": 1000
        },
        "id": "XRGN-VP4CVEA",
        "outputId": "d530b33b-ea6b-4b17-bfdf-e98b27fe88af"
      },
      "execution_count": 8,
      "outputs": [
        {
          "output_type": "stream",
          "name": "stdout",
          "text": [
            "Requirement already satisfied: graphviz in /usr/local/lib/python3.11/dist-packages (0.20.3)\n"
          ]
        },
        {
          "output_type": "execute_result",
          "data": {
            "image/svg+xml": "<?xml version=\"1.0\" encoding=\"UTF-8\" standalone=\"no\"?>\n<!DOCTYPE svg PUBLIC \"-//W3C//DTD SVG 1.1//EN\"\n \"http://www.w3.org/Graphics/SVG/1.1/DTD/svg11.dtd\">\n<!-- Generated by graphviz version 2.43.0 (0)\n -->\n<!-- Title: Tree Pages: 1 -->\n<svg width=\"749pt\" height=\"790pt\"\n viewBox=\"0.00 0.00 749.00 790.00\" xmlns=\"http://www.w3.org/2000/svg\" xmlns:xlink=\"http://www.w3.org/1999/xlink\">\n<g id=\"graph0\" class=\"graph\" transform=\"scale(1 1) rotate(0) translate(4 786)\">\n<title>Tree</title>\n<polygon fill=\"white\" stroke=\"transparent\" points=\"-4,4 -4,-786 745,-786 745,4 -4,4\"/>\n<!-- 0 -->\n<g id=\"node1\" class=\"node\">\n<title>0</title>\n<path fill=\"#ffffff\" stroke=\"black\" d=\"M265,-782C265,-782 130,-782 130,-782 124,-782 118,-776 118,-770 118,-770 118,-711 118,-711 118,-705 124,-699 130,-699 130,-699 265,-699 265,-699 271,-699 277,-705 277,-711 277,-711 277,-770 277,-770 277,-776 271,-782 265,-782\"/>\n<text text-anchor=\"start\" x=\"126\" y=\"-766.8\" font-family=\"Helvetica,sans-Serif\" font-size=\"14.00\">petal length (cm) ≤ 2.45</text>\n<text text-anchor=\"start\" x=\"162\" y=\"-751.8\" font-family=\"Helvetica,sans-Serif\" font-size=\"14.00\">gini = 0.664</text>\n<text text-anchor=\"start\" x=\"152.5\" y=\"-736.8\" font-family=\"Helvetica,sans-Serif\" font-size=\"14.00\">samples = 105</text>\n<text text-anchor=\"start\" x=\"139.5\" y=\"-721.8\" font-family=\"Helvetica,sans-Serif\" font-size=\"14.00\">value = [31, 37, 37]</text>\n<text text-anchor=\"start\" x=\"145\" y=\"-706.8\" font-family=\"Helvetica,sans-Serif\" font-size=\"14.00\">class = versicolor</text>\n</g>\n<!-- 1 -->\n<g id=\"node2\" class=\"node\">\n<title>1</title>\n<path fill=\"#e58139\" stroke=\"black\" d=\"M166,-655.5C166,-655.5 73,-655.5 73,-655.5 67,-655.5 61,-649.5 61,-643.5 61,-643.5 61,-599.5 61,-599.5 61,-593.5 67,-587.5 73,-587.5 73,-587.5 166,-587.5 166,-587.5 172,-587.5 178,-593.5 178,-599.5 178,-599.5 178,-643.5 178,-643.5 178,-649.5 172,-655.5 166,-655.5\"/>\n<text text-anchor=\"start\" x=\"91.5\" y=\"-640.3\" font-family=\"Helvetica,sans-Serif\" font-size=\"14.00\">gini = 0.0</text>\n<text text-anchor=\"start\" x=\"78.5\" y=\"-625.3\" font-family=\"Helvetica,sans-Serif\" font-size=\"14.00\">samples = 31</text>\n<text text-anchor=\"start\" x=\"69\" y=\"-610.3\" font-family=\"Helvetica,sans-Serif\" font-size=\"14.00\">value = [31, 0, 0]</text>\n<text text-anchor=\"start\" x=\"76\" y=\"-595.3\" font-family=\"Helvetica,sans-Serif\" font-size=\"14.00\">class = setosa</text>\n</g>\n<!-- 0&#45;&gt;1 -->\n<g id=\"edge1\" class=\"edge\">\n<title>0&#45;&gt;1</title>\n<path fill=\"none\" stroke=\"black\" d=\"M170.44,-698.91C162.93,-687.65 154.78,-675.42 147.24,-664.11\"/>\n<polygon fill=\"black\" stroke=\"black\" points=\"150.07,-662.05 141.61,-655.67 144.25,-665.93 150.07,-662.05\"/>\n<text text-anchor=\"middle\" x=\"136.71\" y=\"-676.48\" font-family=\"Helvetica,sans-Serif\" font-size=\"14.00\">True</text>\n</g>\n<!-- 2 -->\n<g id=\"node3\" class=\"node\">\n<title>2</title>\n<path fill=\"#ffffff\" stroke=\"black\" d=\"M343,-663C343,-663 208,-663 208,-663 202,-663 196,-657 196,-651 196,-651 196,-592 196,-592 196,-586 202,-580 208,-580 208,-580 343,-580 343,-580 349,-580 355,-586 355,-592 355,-592 355,-651 355,-651 355,-657 349,-663 343,-663\"/>\n<text text-anchor=\"start\" x=\"204\" y=\"-647.8\" font-family=\"Helvetica,sans-Serif\" font-size=\"14.00\">petal length (cm) ≤ 4.75</text>\n<text text-anchor=\"start\" x=\"247.5\" y=\"-632.8\" font-family=\"Helvetica,sans-Serif\" font-size=\"14.00\">gini = 0.5</text>\n<text text-anchor=\"start\" x=\"234.5\" y=\"-617.8\" font-family=\"Helvetica,sans-Serif\" font-size=\"14.00\">samples = 74</text>\n<text text-anchor=\"start\" x=\"221\" y=\"-602.8\" font-family=\"Helvetica,sans-Serif\" font-size=\"14.00\">value = [0, 37, 37]</text>\n<text text-anchor=\"start\" x=\"223\" y=\"-587.8\" font-family=\"Helvetica,sans-Serif\" font-size=\"14.00\">class = versicolor</text>\n</g>\n<!-- 0&#45;&gt;2 -->\n<g id=\"edge2\" class=\"edge\">\n<title>0&#45;&gt;2</title>\n<path fill=\"none\" stroke=\"black\" d=\"M224.56,-698.91C230.43,-690.1 236.7,-680.7 242.76,-671.61\"/>\n<polygon fill=\"black\" stroke=\"black\" points=\"245.85,-673.28 248.49,-663.02 240.03,-669.4 245.85,-673.28\"/>\n<text text-anchor=\"middle\" x=\"253.39\" y=\"-683.84\" font-family=\"Helvetica,sans-Serif\" font-size=\"14.00\">False</text>\n</g>\n<!-- 3 -->\n<g id=\"node4\" class=\"node\">\n<title>3</title>\n<path fill=\"#3fe685\" stroke=\"black\" d=\"M252.5,-544C252.5,-544 130.5,-544 130.5,-544 124.5,-544 118.5,-538 118.5,-532 118.5,-532 118.5,-473 118.5,-473 118.5,-467 124.5,-461 130.5,-461 130.5,-461 252.5,-461 252.5,-461 258.5,-461 264.5,-467 264.5,-473 264.5,-473 264.5,-532 264.5,-532 264.5,-538 258.5,-544 252.5,-544\"/>\n<text text-anchor=\"start\" x=\"126.5\" y=\"-528.8\" font-family=\"Helvetica,sans-Serif\" font-size=\"14.00\">petal width (cm) ≤ 1.6</text>\n<text text-anchor=\"start\" x=\"156\" y=\"-513.8\" font-family=\"Helvetica,sans-Serif\" font-size=\"14.00\">gini = 0.059</text>\n<text text-anchor=\"start\" x=\"150.5\" y=\"-498.8\" font-family=\"Helvetica,sans-Serif\" font-size=\"14.00\">samples = 33</text>\n<text text-anchor=\"start\" x=\"141\" y=\"-483.8\" font-family=\"Helvetica,sans-Serif\" font-size=\"14.00\">value = [0, 32, 1]</text>\n<text text-anchor=\"start\" x=\"139\" y=\"-468.8\" font-family=\"Helvetica,sans-Serif\" font-size=\"14.00\">class = versicolor</text>\n</g>\n<!-- 2&#45;&gt;3 -->\n<g id=\"edge3\" class=\"edge\">\n<title>2&#45;&gt;3</title>\n<path fill=\"none\" stroke=\"black\" d=\"M246.36,-579.91C239.97,-571.01 233.15,-561.51 226.56,-552.33\"/>\n<polygon fill=\"black\" stroke=\"black\" points=\"229.27,-550.1 220.59,-544.02 223.58,-554.19 229.27,-550.1\"/>\n</g>\n<!-- 6 -->\n<g id=\"node7\" class=\"node\">\n<title>6</title>\n<path fill=\"#9254e9\" stroke=\"black\" d=\"M424.5,-544C424.5,-544 294.5,-544 294.5,-544 288.5,-544 282.5,-538 282.5,-532 282.5,-532 282.5,-473 282.5,-473 282.5,-467 288.5,-461 294.5,-461 294.5,-461 424.5,-461 424.5,-461 430.5,-461 436.5,-467 436.5,-473 436.5,-473 436.5,-532 436.5,-532 436.5,-538 430.5,-544 424.5,-544\"/>\n<text text-anchor=\"start\" x=\"290.5\" y=\"-528.8\" font-family=\"Helvetica,sans-Serif\" font-size=\"14.00\">petal width (cm) ≤ 1.75</text>\n<text text-anchor=\"start\" x=\"324\" y=\"-513.8\" font-family=\"Helvetica,sans-Serif\" font-size=\"14.00\">gini = 0.214</text>\n<text text-anchor=\"start\" x=\"318.5\" y=\"-498.8\" font-family=\"Helvetica,sans-Serif\" font-size=\"14.00\">samples = 41</text>\n<text text-anchor=\"start\" x=\"309\" y=\"-483.8\" font-family=\"Helvetica,sans-Serif\" font-size=\"14.00\">value = [0, 5, 36]</text>\n<text text-anchor=\"start\" x=\"311\" y=\"-468.8\" font-family=\"Helvetica,sans-Serif\" font-size=\"14.00\">class = virginica</text>\n</g>\n<!-- 2&#45;&gt;6 -->\n<g id=\"edge6\" class=\"edge\">\n<title>2&#45;&gt;6</title>\n<path fill=\"none\" stroke=\"black\" d=\"M304.64,-579.91C311.03,-571.01 317.85,-561.51 324.44,-552.33\"/>\n<polygon fill=\"black\" stroke=\"black\" points=\"327.42,-554.19 330.41,-544.02 321.73,-550.1 327.42,-554.19\"/>\n</g>\n<!-- 4 -->\n<g id=\"node5\" class=\"node\">\n<title>4</title>\n<path fill=\"#39e581\" stroke=\"black\" d=\"M109,-417.5C109,-417.5 12,-417.5 12,-417.5 6,-417.5 0,-411.5 0,-405.5 0,-405.5 0,-361.5 0,-361.5 0,-355.5 6,-349.5 12,-349.5 12,-349.5 109,-349.5 109,-349.5 115,-349.5 121,-355.5 121,-361.5 121,-361.5 121,-405.5 121,-405.5 121,-411.5 115,-417.5 109,-417.5\"/>\n<text text-anchor=\"start\" x=\"32.5\" y=\"-402.3\" font-family=\"Helvetica,sans-Serif\" font-size=\"14.00\">gini = 0.0</text>\n<text text-anchor=\"start\" x=\"19.5\" y=\"-387.3\" font-family=\"Helvetica,sans-Serif\" font-size=\"14.00\">samples = 32</text>\n<text text-anchor=\"start\" x=\"10\" y=\"-372.3\" font-family=\"Helvetica,sans-Serif\" font-size=\"14.00\">value = [0, 32, 0]</text>\n<text text-anchor=\"start\" x=\"8\" y=\"-357.3\" font-family=\"Helvetica,sans-Serif\" font-size=\"14.00\">class = versicolor</text>\n</g>\n<!-- 3&#45;&gt;4 -->\n<g id=\"edge4\" class=\"edge\">\n<title>3&#45;&gt;4</title>\n<path fill=\"none\" stroke=\"black\" d=\"M146.05,-460.91C132.83,-449.1 118.4,-436.22 105.23,-424.45\"/>\n<polygon fill=\"black\" stroke=\"black\" points=\"107.43,-421.72 97.64,-417.67 102.76,-426.94 107.43,-421.72\"/>\n</g>\n<!-- 5 -->\n<g id=\"node6\" class=\"node\">\n<title>5</title>\n<path fill=\"#8139e5\" stroke=\"black\" d=\"M240,-417.5C240,-417.5 151,-417.5 151,-417.5 145,-417.5 139,-411.5 139,-405.5 139,-405.5 139,-361.5 139,-361.5 139,-355.5 145,-349.5 151,-349.5 151,-349.5 240,-349.5 240,-349.5 246,-349.5 252,-355.5 252,-361.5 252,-361.5 252,-405.5 252,-405.5 252,-411.5 246,-417.5 240,-417.5\"/>\n<text text-anchor=\"start\" x=\"167.5\" y=\"-402.3\" font-family=\"Helvetica,sans-Serif\" font-size=\"14.00\">gini = 0.0</text>\n<text text-anchor=\"start\" x=\"158\" y=\"-387.3\" font-family=\"Helvetica,sans-Serif\" font-size=\"14.00\">samples = 1</text>\n<text text-anchor=\"start\" x=\"148.5\" y=\"-372.3\" font-family=\"Helvetica,sans-Serif\" font-size=\"14.00\">value = [0, 0, 1]</text>\n<text text-anchor=\"start\" x=\"147\" y=\"-357.3\" font-family=\"Helvetica,sans-Serif\" font-size=\"14.00\">class = virginica</text>\n</g>\n<!-- 3&#45;&gt;5 -->\n<g id=\"edge5\" class=\"edge\">\n<title>3&#45;&gt;5</title>\n<path fill=\"none\" stroke=\"black\" d=\"M192.89,-460.91C193.25,-450.2 193.65,-438.62 194.02,-427.78\"/>\n<polygon fill=\"black\" stroke=\"black\" points=\"197.52,-427.78 194.37,-417.67 190.53,-427.54 197.52,-427.78\"/>\n</g>\n<!-- 7 -->\n<g id=\"node8\" class=\"node\">\n<title>7</title>\n<path fill=\"#ffffff\" stroke=\"black\" d=\"M424,-425C424,-425 289,-425 289,-425 283,-425 277,-419 277,-413 277,-413 277,-354 277,-354 277,-348 283,-342 289,-342 289,-342 424,-342 424,-342 430,-342 436,-348 436,-354 436,-354 436,-413 436,-413 436,-419 430,-425 424,-425\"/>\n<text text-anchor=\"start\" x=\"285\" y=\"-409.8\" font-family=\"Helvetica,sans-Serif\" font-size=\"14.00\">petal length (cm) ≤ 4.95</text>\n<text text-anchor=\"start\" x=\"328.5\" y=\"-394.8\" font-family=\"Helvetica,sans-Serif\" font-size=\"14.00\">gini = 0.5</text>\n<text text-anchor=\"start\" x=\"319\" y=\"-379.8\" font-family=\"Helvetica,sans-Serif\" font-size=\"14.00\">samples = 8</text>\n<text text-anchor=\"start\" x=\"309.5\" y=\"-364.8\" font-family=\"Helvetica,sans-Serif\" font-size=\"14.00\">value = [0, 4, 4]</text>\n<text text-anchor=\"start\" x=\"304\" y=\"-349.8\" font-family=\"Helvetica,sans-Serif\" font-size=\"14.00\">class = versicolor</text>\n</g>\n<!-- 6&#45;&gt;7 -->\n<g id=\"edge7\" class=\"edge\">\n<title>6&#45;&gt;7</title>\n<path fill=\"none\" stroke=\"black\" d=\"M358.46,-460.91C358.25,-452.56 358.02,-443.67 357.8,-435.02\"/>\n<polygon fill=\"black\" stroke=\"black\" points=\"361.29,-434.93 357.54,-425.02 354.3,-435.11 361.29,-434.93\"/>\n</g>\n<!-- 14 -->\n<g id=\"node15\" class=\"node\">\n<title>14</title>\n<path fill=\"#853fe6\" stroke=\"black\" d=\"M601,-425C601,-425 466,-425 466,-425 460,-425 454,-419 454,-413 454,-413 454,-354 454,-354 454,-348 460,-342 466,-342 466,-342 601,-342 601,-342 607,-342 613,-348 613,-354 613,-354 613,-413 613,-413 613,-419 607,-425 601,-425\"/>\n<text text-anchor=\"start\" x=\"462\" y=\"-409.8\" font-family=\"Helvetica,sans-Serif\" font-size=\"14.00\">petal length (cm) ≤ 4.85</text>\n<text text-anchor=\"start\" x=\"498\" y=\"-394.8\" font-family=\"Helvetica,sans-Serif\" font-size=\"14.00\">gini = 0.059</text>\n<text text-anchor=\"start\" x=\"492.5\" y=\"-379.8\" font-family=\"Helvetica,sans-Serif\" font-size=\"14.00\">samples = 33</text>\n<text text-anchor=\"start\" x=\"483\" y=\"-364.8\" font-family=\"Helvetica,sans-Serif\" font-size=\"14.00\">value = [0, 1, 32]</text>\n<text text-anchor=\"start\" x=\"485\" y=\"-349.8\" font-family=\"Helvetica,sans-Serif\" font-size=\"14.00\">class = virginica</text>\n</g>\n<!-- 6&#45;&gt;14 -->\n<g id=\"edge14\" class=\"edge\">\n<title>6&#45;&gt;14</title>\n<path fill=\"none\" stroke=\"black\" d=\"M419.87,-460.91C434.31,-451.2 449.83,-440.76 464.63,-430.81\"/>\n<polygon fill=\"black\" stroke=\"black\" points=\"466.89,-433.51 473.24,-425.02 462.99,-427.7 466.89,-433.51\"/>\n</g>\n<!-- 8 -->\n<g id=\"node9\" class=\"node\">\n<title>8</title>\n<path fill=\"#39e581\" stroke=\"black\" d=\"M252,-298.5C252,-298.5 155,-298.5 155,-298.5 149,-298.5 143,-292.5 143,-286.5 143,-286.5 143,-242.5 143,-242.5 143,-236.5 149,-230.5 155,-230.5 155,-230.5 252,-230.5 252,-230.5 258,-230.5 264,-236.5 264,-242.5 264,-242.5 264,-286.5 264,-286.5 264,-292.5 258,-298.5 252,-298.5\"/>\n<text text-anchor=\"start\" x=\"175.5\" y=\"-283.3\" font-family=\"Helvetica,sans-Serif\" font-size=\"14.00\">gini = 0.0</text>\n<text text-anchor=\"start\" x=\"166\" y=\"-268.3\" font-family=\"Helvetica,sans-Serif\" font-size=\"14.00\">samples = 2</text>\n<text text-anchor=\"start\" x=\"156.5\" y=\"-253.3\" font-family=\"Helvetica,sans-Serif\" font-size=\"14.00\">value = [0, 2, 0]</text>\n<text text-anchor=\"start\" x=\"151\" y=\"-238.3\" font-family=\"Helvetica,sans-Serif\" font-size=\"14.00\">class = versicolor</text>\n</g>\n<!-- 7&#45;&gt;8 -->\n<g id=\"edge8\" class=\"edge\">\n<title>7&#45;&gt;8</title>\n<path fill=\"none\" stroke=\"black\" d=\"M303.42,-341.91C287.69,-329.88 270.5,-316.73 254.88,-304.79\"/>\n<polygon fill=\"black\" stroke=\"black\" points=\"256.94,-301.96 246.87,-298.67 252.69,-307.52 256.94,-301.96\"/>\n</g>\n<!-- 9 -->\n<g id=\"node10\" class=\"node\">\n<title>9</title>\n<path fill=\"#c09cf2\" stroke=\"black\" d=\"M424.5,-306C424.5,-306 294.5,-306 294.5,-306 288.5,-306 282.5,-300 282.5,-294 282.5,-294 282.5,-235 282.5,-235 282.5,-229 288.5,-223 294.5,-223 294.5,-223 424.5,-223 424.5,-223 430.5,-223 436.5,-229 436.5,-235 436.5,-235 436.5,-294 436.5,-294 436.5,-300 430.5,-306 424.5,-306\"/>\n<text text-anchor=\"start\" x=\"290.5\" y=\"-290.8\" font-family=\"Helvetica,sans-Serif\" font-size=\"14.00\">petal width (cm) ≤ 1.55</text>\n<text text-anchor=\"start\" x=\"324\" y=\"-275.8\" font-family=\"Helvetica,sans-Serif\" font-size=\"14.00\">gini = 0.444</text>\n<text text-anchor=\"start\" x=\"322\" y=\"-260.8\" font-family=\"Helvetica,sans-Serif\" font-size=\"14.00\">samples = 6</text>\n<text text-anchor=\"start\" x=\"312.5\" y=\"-245.8\" font-family=\"Helvetica,sans-Serif\" font-size=\"14.00\">value = [0, 2, 4]</text>\n<text text-anchor=\"start\" x=\"311\" y=\"-230.8\" font-family=\"Helvetica,sans-Serif\" font-size=\"14.00\">class = virginica</text>\n</g>\n<!-- 7&#45;&gt;9 -->\n<g id=\"edge9\" class=\"edge\">\n<title>7&#45;&gt;9</title>\n<path fill=\"none\" stroke=\"black\" d=\"M357.54,-341.91C357.75,-333.56 357.98,-324.67 358.2,-316.02\"/>\n<polygon fill=\"black\" stroke=\"black\" points=\"361.7,-316.11 358.46,-306.02 354.71,-315.93 361.7,-316.11\"/>\n</g>\n<!-- 10 -->\n<g id=\"node11\" class=\"node\">\n<title>10</title>\n<path fill=\"#8139e5\" stroke=\"black\" d=\"M254,-179.5C254,-179.5 165,-179.5 165,-179.5 159,-179.5 153,-173.5 153,-167.5 153,-167.5 153,-123.5 153,-123.5 153,-117.5 159,-111.5 165,-111.5 165,-111.5 254,-111.5 254,-111.5 260,-111.5 266,-117.5 266,-123.5 266,-123.5 266,-167.5 266,-167.5 266,-173.5 260,-179.5 254,-179.5\"/>\n<text text-anchor=\"start\" x=\"181.5\" y=\"-164.3\" font-family=\"Helvetica,sans-Serif\" font-size=\"14.00\">gini = 0.0</text>\n<text text-anchor=\"start\" x=\"172\" y=\"-149.3\" font-family=\"Helvetica,sans-Serif\" font-size=\"14.00\">samples = 3</text>\n<text text-anchor=\"start\" x=\"162.5\" y=\"-134.3\" font-family=\"Helvetica,sans-Serif\" font-size=\"14.00\">value = [0, 0, 3]</text>\n<text text-anchor=\"start\" x=\"161\" y=\"-119.3\" font-family=\"Helvetica,sans-Serif\" font-size=\"14.00\">class = virginica</text>\n</g>\n<!-- 9&#45;&gt;10 -->\n<g id=\"edge10\" class=\"edge\">\n<title>9&#45;&gt;10</title>\n<path fill=\"none\" stroke=\"black\" d=\"M307.46,-222.91C292.18,-210.99 275.49,-197.98 260.29,-186.12\"/>\n<polygon fill=\"black\" stroke=\"black\" points=\"262.06,-183.06 252.02,-179.67 257.75,-188.58 262.06,-183.06\"/>\n</g>\n<!-- 11 -->\n<g id=\"node12\" class=\"node\">\n<title>11</title>\n<path fill=\"#9cf2c0\" stroke=\"black\" d=\"M431,-187C431,-187 296,-187 296,-187 290,-187 284,-181 284,-175 284,-175 284,-116 284,-116 284,-110 290,-104 296,-104 296,-104 431,-104 431,-104 437,-104 443,-110 443,-116 443,-116 443,-175 443,-175 443,-181 437,-187 431,-187\"/>\n<text text-anchor=\"start\" x=\"292\" y=\"-171.8\" font-family=\"Helvetica,sans-Serif\" font-size=\"14.00\">petal length (cm) ≤ 5.45</text>\n<text text-anchor=\"start\" x=\"328\" y=\"-156.8\" font-family=\"Helvetica,sans-Serif\" font-size=\"14.00\">gini = 0.444</text>\n<text text-anchor=\"start\" x=\"326\" y=\"-141.8\" font-family=\"Helvetica,sans-Serif\" font-size=\"14.00\">samples = 3</text>\n<text text-anchor=\"start\" x=\"316.5\" y=\"-126.8\" font-family=\"Helvetica,sans-Serif\" font-size=\"14.00\">value = [0, 2, 1]</text>\n<text text-anchor=\"start\" x=\"311\" y=\"-111.8\" font-family=\"Helvetica,sans-Serif\" font-size=\"14.00\">class = versicolor</text>\n</g>\n<!-- 9&#45;&gt;11 -->\n<g id=\"edge11\" class=\"edge\">\n<title>9&#45;&gt;11</title>\n<path fill=\"none\" stroke=\"black\" d=\"M360.89,-222.91C361.17,-214.56 361.48,-205.67 361.77,-197.02\"/>\n<polygon fill=\"black\" stroke=\"black\" points=\"365.27,-197.13 362.11,-187.02 358.27,-196.9 365.27,-197.13\"/>\n</g>\n<!-- 12 -->\n<g id=\"node13\" class=\"node\">\n<title>12</title>\n<path fill=\"#39e581\" stroke=\"black\" d=\"M345,-68C345,-68 248,-68 248,-68 242,-68 236,-62 236,-56 236,-56 236,-12 236,-12 236,-6 242,0 248,0 248,0 345,0 345,0 351,0 357,-6 357,-12 357,-12 357,-56 357,-56 357,-62 351,-68 345,-68\"/>\n<text text-anchor=\"start\" x=\"268.5\" y=\"-52.8\" font-family=\"Helvetica,sans-Serif\" font-size=\"14.00\">gini = 0.0</text>\n<text text-anchor=\"start\" x=\"259\" y=\"-37.8\" font-family=\"Helvetica,sans-Serif\" font-size=\"14.00\">samples = 2</text>\n<text text-anchor=\"start\" x=\"249.5\" y=\"-22.8\" font-family=\"Helvetica,sans-Serif\" font-size=\"14.00\">value = [0, 2, 0]</text>\n<text text-anchor=\"start\" x=\"244\" y=\"-7.8\" font-family=\"Helvetica,sans-Serif\" font-size=\"14.00\">class = versicolor</text>\n</g>\n<!-- 11&#45;&gt;12 -->\n<g id=\"edge12\" class=\"edge\">\n<title>11&#45;&gt;12</title>\n<path fill=\"none\" stroke=\"black\" d=\"M338.55,-103.73C333.19,-94.97 327.52,-85.7 322.14,-76.91\"/>\n<polygon fill=\"black\" stroke=\"black\" points=\"325.08,-75 316.88,-68.3 319.11,-78.66 325.08,-75\"/>\n</g>\n<!-- 13 -->\n<g id=\"node14\" class=\"node\">\n<title>13</title>\n<path fill=\"#8139e5\" stroke=\"black\" d=\"M476,-68C476,-68 387,-68 387,-68 381,-68 375,-62 375,-56 375,-56 375,-12 375,-12 375,-6 381,0 387,0 387,0 476,0 476,0 482,0 488,-6 488,-12 488,-12 488,-56 488,-56 488,-62 482,-68 476,-68\"/>\n<text text-anchor=\"start\" x=\"403.5\" y=\"-52.8\" font-family=\"Helvetica,sans-Serif\" font-size=\"14.00\">gini = 0.0</text>\n<text text-anchor=\"start\" x=\"394\" y=\"-37.8\" font-family=\"Helvetica,sans-Serif\" font-size=\"14.00\">samples = 1</text>\n<text text-anchor=\"start\" x=\"384.5\" y=\"-22.8\" font-family=\"Helvetica,sans-Serif\" font-size=\"14.00\">value = [0, 0, 1]</text>\n<text text-anchor=\"start\" x=\"383\" y=\"-7.8\" font-family=\"Helvetica,sans-Serif\" font-size=\"14.00\">class = virginica</text>\n</g>\n<!-- 11&#45;&gt;13 -->\n<g id=\"edge13\" class=\"edge\">\n<title>11&#45;&gt;13</title>\n<path fill=\"none\" stroke=\"black\" d=\"M388.82,-103.73C394.26,-94.97 400.01,-85.7 405.48,-76.91\"/>\n<polygon fill=\"black\" stroke=\"black\" points=\"408.52,-78.64 410.82,-68.3 402.57,-74.95 408.52,-78.64\"/>\n</g>\n<!-- 15 -->\n<g id=\"node16\" class=\"node\">\n<title>15</title>\n<path fill=\"#c09cf2\" stroke=\"black\" d=\"M594,-306C594,-306 469,-306 469,-306 463,-306 457,-300 457,-294 457,-294 457,-235 457,-235 457,-229 463,-223 469,-223 469,-223 594,-223 594,-223 600,-223 606,-229 606,-235 606,-235 606,-294 606,-294 606,-300 600,-306 594,-306\"/>\n<text text-anchor=\"start\" x=\"465\" y=\"-290.8\" font-family=\"Helvetica,sans-Serif\" font-size=\"14.00\">sepal width (cm) ≤ 3.1</text>\n<text text-anchor=\"start\" x=\"496\" y=\"-275.8\" font-family=\"Helvetica,sans-Serif\" font-size=\"14.00\">gini = 0.444</text>\n<text text-anchor=\"start\" x=\"494\" y=\"-260.8\" font-family=\"Helvetica,sans-Serif\" font-size=\"14.00\">samples = 3</text>\n<text text-anchor=\"start\" x=\"484.5\" y=\"-245.8\" font-family=\"Helvetica,sans-Serif\" font-size=\"14.00\">value = [0, 1, 2]</text>\n<text text-anchor=\"start\" x=\"483\" y=\"-230.8\" font-family=\"Helvetica,sans-Serif\" font-size=\"14.00\">class = virginica</text>\n</g>\n<!-- 14&#45;&gt;15 -->\n<g id=\"edge15\" class=\"edge\">\n<title>14&#45;&gt;15</title>\n<path fill=\"none\" stroke=\"black\" d=\"M532.81,-341.91C532.66,-333.56 532.51,-324.67 532.36,-316.02\"/>\n<polygon fill=\"black\" stroke=\"black\" points=\"535.86,-315.96 532.19,-306.02 528.86,-316.08 535.86,-315.96\"/>\n</g>\n<!-- 18 -->\n<g id=\"node19\" class=\"node\">\n<title>18</title>\n<path fill=\"#8139e5\" stroke=\"black\" d=\"M729,-298.5C729,-298.5 636,-298.5 636,-298.5 630,-298.5 624,-292.5 624,-286.5 624,-286.5 624,-242.5 624,-242.5 624,-236.5 630,-230.5 636,-230.5 636,-230.5 729,-230.5 729,-230.5 735,-230.5 741,-236.5 741,-242.5 741,-242.5 741,-286.5 741,-286.5 741,-292.5 735,-298.5 729,-298.5\"/>\n<text text-anchor=\"start\" x=\"654.5\" y=\"-283.3\" font-family=\"Helvetica,sans-Serif\" font-size=\"14.00\">gini = 0.0</text>\n<text text-anchor=\"start\" x=\"641.5\" y=\"-268.3\" font-family=\"Helvetica,sans-Serif\" font-size=\"14.00\">samples = 30</text>\n<text text-anchor=\"start\" x=\"632\" y=\"-253.3\" font-family=\"Helvetica,sans-Serif\" font-size=\"14.00\">value = [0, 0, 30]</text>\n<text text-anchor=\"start\" x=\"634\" y=\"-238.3\" font-family=\"Helvetica,sans-Serif\" font-size=\"14.00\">class = virginica</text>\n</g>\n<!-- 14&#45;&gt;18 -->\n<g id=\"edge18\" class=\"edge\">\n<title>14&#45;&gt;18</title>\n<path fill=\"none\" stroke=\"black\" d=\"M585.19,-341.91C600.37,-329.99 616.95,-316.98 632.04,-305.12\"/>\n<polygon fill=\"black\" stroke=\"black\" points=\"634.56,-307.6 640.26,-298.67 630.24,-302.09 634.56,-307.6\"/>\n</g>\n<!-- 16 -->\n<g id=\"node17\" class=\"node\">\n<title>16</title>\n<path fill=\"#8139e5\" stroke=\"black\" d=\"M573,-179.5C573,-179.5 484,-179.5 484,-179.5 478,-179.5 472,-173.5 472,-167.5 472,-167.5 472,-123.5 472,-123.5 472,-117.5 478,-111.5 484,-111.5 484,-111.5 573,-111.5 573,-111.5 579,-111.5 585,-117.5 585,-123.5 585,-123.5 585,-167.5 585,-167.5 585,-173.5 579,-179.5 573,-179.5\"/>\n<text text-anchor=\"start\" x=\"500.5\" y=\"-164.3\" font-family=\"Helvetica,sans-Serif\" font-size=\"14.00\">gini = 0.0</text>\n<text text-anchor=\"start\" x=\"491\" y=\"-149.3\" font-family=\"Helvetica,sans-Serif\" font-size=\"14.00\">samples = 2</text>\n<text text-anchor=\"start\" x=\"481.5\" y=\"-134.3\" font-family=\"Helvetica,sans-Serif\" font-size=\"14.00\">value = [0, 0, 2]</text>\n<text text-anchor=\"start\" x=\"480\" y=\"-119.3\" font-family=\"Helvetica,sans-Serif\" font-size=\"14.00\">class = virginica</text>\n</g>\n<!-- 15&#45;&gt;16 -->\n<g id=\"edge16\" class=\"edge\">\n<title>15&#45;&gt;16</title>\n<path fill=\"none\" stroke=\"black\" d=\"M530.46,-222.91C530.18,-212.2 529.89,-200.62 529.61,-189.78\"/>\n<polygon fill=\"black\" stroke=\"black\" points=\"533.11,-189.57 529.35,-179.67 526.11,-189.75 533.11,-189.57\"/>\n</g>\n<!-- 17 -->\n<g id=\"node18\" class=\"node\">\n<title>17</title>\n<path fill=\"#39e581\" stroke=\"black\" d=\"M712,-179.5C712,-179.5 615,-179.5 615,-179.5 609,-179.5 603,-173.5 603,-167.5 603,-167.5 603,-123.5 603,-123.5 603,-117.5 609,-111.5 615,-111.5 615,-111.5 712,-111.5 712,-111.5 718,-111.5 724,-117.5 724,-123.5 724,-123.5 724,-167.5 724,-167.5 724,-173.5 718,-179.5 712,-179.5\"/>\n<text text-anchor=\"start\" x=\"635.5\" y=\"-164.3\" font-family=\"Helvetica,sans-Serif\" font-size=\"14.00\">gini = 0.0</text>\n<text text-anchor=\"start\" x=\"626\" y=\"-149.3\" font-family=\"Helvetica,sans-Serif\" font-size=\"14.00\">samples = 1</text>\n<text text-anchor=\"start\" x=\"616.5\" y=\"-134.3\" font-family=\"Helvetica,sans-Serif\" font-size=\"14.00\">value = [0, 1, 0]</text>\n<text text-anchor=\"start\" x=\"611\" y=\"-119.3\" font-family=\"Helvetica,sans-Serif\" font-size=\"14.00\">class = versicolor</text>\n</g>\n<!-- 15&#45;&gt;17 -->\n<g id=\"edge17\" class=\"edge\">\n<title>15&#45;&gt;17</title>\n<path fill=\"none\" stroke=\"black\" d=\"M577.3,-222.91C590.62,-211.1 605.15,-198.22 618.43,-186.45\"/>\n<polygon fill=\"black\" stroke=\"black\" points=\"620.92,-188.92 626.08,-179.67 616.28,-183.68 620.92,-188.92\"/>\n</g>\n</g>\n</svg>\n",
            "text/plain": [
              "<graphviz.sources.Source at 0x78d60d8ca0d0>"
            ]
          },
          "metadata": {},
          "execution_count": 8
        }
      ]
    },
    {
      "cell_type": "code",
      "source": [
        "#Write a Python program to train a Decision Tree Classifier with a maximum depth of 3 and compare its accuracy with a fully grown tree\n",
        "\n",
        "\n",
        "from sklearn.datasets import load_iris\n",
        "from sklearn.model_selection import train_test_split\n",
        "from sklearn.tree import DecisionTreeClassifier\n",
        "from sklearn.metrics import accuracy_score\n",
        "\n",
        "# Load the Iris dataset\n",
        "iris = load_iris()\n",
        "X = iris.data\n",
        "y = iris.target\n",
        "\n",
        "# Split data into training and testing sets\n",
        "X_train, X_test, y_train, y_test = train_test_split(X, y, test_size=0.3, random_state=42)\n",
        "\n",
        "# Create a Decision Tree Classifier with maximum depth of 3\n",
        "tree_depth3 = DecisionTreeClassifier(max_depth=3, random_state=42)\n",
        "\n",
        "# Train the model with depth 3\n",
        "tree_depth3.fit(X_train, y_train)\n",
        "\n",
        "# Make predictions on the test set (depth 3)\n",
        "y_pred_depth3 = tree_depth3.predict(X_test)\n",
        "\n",
        "# Calculate accuracy (depth 3)\n",
        "accuracy_depth3 = accuracy_score(y_test, y_pred_depth3)\n",
        "\n",
        "# Create a fully grown Decision Tree Classifier\n",
        "tree_full = DecisionTreeClassifier(random_state=42)  # No max_depth specified\n",
        "\n",
        "# Train the fully grown model\n",
        "tree_full.fit(X_train, y_train)\n",
        "\n",
        "# Make predictions on the test set (fully grown)\n",
        "y_pred_full = tree_full.predict(X_test)\n",
        "\n",
        "# Calculate accuracy (fully grown)\n",
        "accuracy_full = accuracy_score(y_test, y_pred_full)\n",
        "\n",
        "# Print the accuracies\n",
        "print(f\"Accuracy (Depth 3): {accuracy_depth3}\")\n",
        "print(f\"Accuracy (Fully Grown): {accuracy_full}\")"
      ],
      "metadata": {
        "colab": {
          "base_uri": "https://localhost:8080/"
        },
        "id": "0BrQMCRpCwRi",
        "outputId": "507dbec2-cb2a-4ee0-b89c-af12861803d9"
      },
      "execution_count": 9,
      "outputs": [
        {
          "output_type": "stream",
          "name": "stdout",
          "text": [
            "Accuracy (Depth 3): 1.0\n",
            "Accuracy (Fully Grown): 1.0\n"
          ]
        }
      ]
    },
    {
      "cell_type": "code",
      "source": [],
      "metadata": {
        "id": "FI2GM1pRC9lb"
      },
      "execution_count": null,
      "outputs": []
    },
    {
      "cell_type": "code",
      "source": [
        "\n"
      ],
      "metadata": {
        "id": "tQIoWn6IC9hw"
      },
      "execution_count": null,
      "outputs": []
    },
    {
      "cell_type": "code",
      "source": [
        "#Write a Python program to train a Decision Tree Classifier using min_samples_split=5 and compare its accuracy with a default tree\n",
        "\n",
        "from sklearn.datasets import load_iris\n",
        "from sklearn.model_selection import train_test_split\n",
        "from sklearn.tree import DecisionTreeClassifier\n",
        "from sklearn.metrics import accuracy_score\n",
        "\n",
        "# Load the Iris dataset\n",
        "iris = load_iris()\n",
        "X = iris.data\n",
        "y = iris.target\n",
        "\n",
        "# Split data into training and testing sets\n",
        "X_train, X_test, y_train, y_test = train_test_split(X, y, test_size=0.3, random_state=42)\n",
        "\n",
        "# Create a Decision Tree Classifier with min_samples_split=5\n",
        "tree_min_split = DecisionTreeClassifier(min_samples_split=5, random_state=42)\n",
        "\n",
        "# Train the model with min_samples_split=5\n",
        "tree_min_split.fit(X_train, y_train)\n",
        "\n",
        "# Make predictions on the test set (min_samples_split=5)\n",
        "y_pred_min_split = tree_min_split.predict(X_test)\n",
        "\n",
        "# Calculate accuracy (min_samples_split=5)\n",
        "accuracy_min_split = accuracy_score(y_test, y_pred_min_split)\n",
        "\n",
        "# Create a default Decision Tree Classifier\n",
        "tree_default = DecisionTreeClassifier(random_state=42)  # Default min_samples_split=2\n",
        "\n",
        "# Train the default model\n",
        "tree_default.fit(X_train, y_train)\n",
        "\n",
        "# Make predictions on the test set (default)\n",
        "y_pred_default = tree_default.predict(X_test)\n",
        "\n",
        "# Calculate accuracy (default)\n",
        "accuracy_default = accuracy_score(y_test, y_pred_default)\n",
        "\n",
        "# Print the accuracies\n",
        "print(f\"Accuracy (min_samples_split=5): {accuracy_min_split}\")\n",
        "print(f\"Accuracy (Default): {accuracy_default}\")\n"
      ],
      "metadata": {
        "colab": {
          "base_uri": "https://localhost:8080/"
        },
        "id": "ABoJWLprC9gB",
        "outputId": "b921e7ed-2706-43b0-f42c-94aa0736b555"
      },
      "execution_count": 10,
      "outputs": [
        {
          "output_type": "stream",
          "name": "stdout",
          "text": [
            "Accuracy (min_samples_split=5): 1.0\n",
            "Accuracy (Default): 1.0\n"
          ]
        }
      ]
    },
    {
      "cell_type": "code",
      "source": [],
      "metadata": {
        "id": "XY6Rvc9dC9eB"
      },
      "execution_count": null,
      "outputs": []
    },
    {
      "cell_type": "code",
      "source": [
        "#Write a Python program to apply feature scaling before training a Decision Tree Classifier and compare its accuracy with unscaled data\n",
        "\n",
        "from sklearn.datasets import load_iris\n",
        "from sklearn.model_selection import train_test_split\n",
        "from sklearn.tree import DecisionTreeClassifier\n",
        "from sklearn.metrics import accuracy_score\n",
        "from sklearn.preprocessing import StandardScaler\n",
        "\n",
        "# Load the Iris dataset\n",
        "iris = load_iris()\n",
        "X = iris.data\n",
        "y = iris.target\n",
        "\n",
        "# Split data into training and testing sets\n",
        "X_train, X_test, y_train, y_test = train_test_split(X, y, test_size=0.3, random_state=42)\n",
        "\n",
        "# Create and train a Decision Tree Classifier with unscaled data\n",
        "tree_unscaled = DecisionTreeClassifier(random_state=42)\n",
        "tree_unscaled.fit(X_train, y_train)\n",
        "y_pred_unscaled = tree_unscaled.predict(X_test)\n",
        "accuracy_unscaled = accuracy_score(y_test, y_pred_unscaled)\n",
        "\n",
        "# Apply feature scaling using StandardScaler\n",
        "scaler = StandardScaler()\n",
        "X_train_scaled = scaler.fit_transform(X_train)\n",
        "X_test_scaled = scaler.transform(X_test)\n",
        "\n",
        "# Create and train a Decision Tree Classifier with scaled data\n",
        "tree_scaled = DecisionTreeClassifier(random_state=42)\n",
        "tree_scaled.fit(X_train_scaled, y_train)\n",
        "y_pred_scaled = tree_scaled.predict(X_test_scaled)\n",
        "accuracy_scaled = accuracy_score(y_test, y_pred_scaled)\n",
        "\n",
        "# Print the accuracies\n",
        "print(f\"Accuracy (Unscaled Data): {accuracy_unscaled}\")\n",
        "print(f\"Accuracy (Scaled Data): {accuracy_scaled}\")\n"
      ],
      "metadata": {
        "colab": {
          "base_uri": "https://localhost:8080/"
        },
        "id": "InbKzwraC9cJ",
        "outputId": "25fc5c8b-39cb-49a8-9850-00bc07946585"
      },
      "execution_count": 11,
      "outputs": [
        {
          "output_type": "stream",
          "name": "stdout",
          "text": [
            "Accuracy (Unscaled Data): 1.0\n",
            "Accuracy (Scaled Data): 1.0\n"
          ]
        }
      ]
    },
    {
      "cell_type": "code",
      "source": [],
      "metadata": {
        "id": "AJJuIKncC9Zl"
      },
      "execution_count": null,
      "outputs": []
    },
    {
      "cell_type": "code",
      "source": [
        "#Write a Python program to train a Decision Tree Classifier using One-vs-Rest (OvR) strategy for multiclass classification\n",
        "\n",
        "\n",
        "from sklearn.datasets import load_iris\n",
        "from sklearn.model_selection import train_test_split\n",
        "from sklearn.tree import DecisionTreeClassifier\n",
        "from sklearn.multiclass import OneVsRestClassifier\n",
        "from sklearn.metrics import accuracy_score\n",
        "\n",
        "# Load the Iris dataset\n",
        "iris = load_iris()\n",
        "X = iris.data\n",
        "y = iris.target\n",
        "\n",
        "# Split data into training and testing sets\n",
        "X_train, X_test, y_train, y_test = train_test_split(X, y, test_size=0.3, random_state=42)\n",
        "\n",
        "# Create a Decision Tree Classifier\n",
        "base_tree = DecisionTreeClassifier(random_state=42)\n",
        "\n",
        "# Create an OvR classifier using the Decision Tree as the base estimator\n",
        "ovr_classifier = OneVsRestClassifier(base_tree)\n",
        "\n",
        "# Train the OvR classifier\n",
        "ovr_classifier.fit(X_train, y_train)\n",
        "\n",
        "# Make predictions on the test set\n",
        "y_pred = ovr_classifier.predict(X_test)\n",
        "\n",
        "# Calculate accuracy\n",
        "accuracy = accuracy_score(y_test, y_pred)\n",
        "\n",
        "# Print the accuracy\n",
        "print(f\"Accuracy (One-vs-Rest): {accuracy}\")"
      ],
      "metadata": {
        "colab": {
          "base_uri": "https://localhost:8080/"
        },
        "id": "IXqCUEXBC9XP",
        "outputId": "647a1d61-59ce-4089-bafc-9e3f62919eb3"
      },
      "execution_count": 12,
      "outputs": [
        {
          "output_type": "stream",
          "name": "stdout",
          "text": [
            "Accuracy (One-vs-Rest): 1.0\n"
          ]
        }
      ]
    },
    {
      "cell_type": "code",
      "source": [],
      "metadata": {
        "id": "T0FcxtKYC9U9"
      },
      "execution_count": null,
      "outputs": []
    },
    {
      "cell_type": "code",
      "source": [],
      "metadata": {
        "id": "53gG07BkC9Sx"
      },
      "execution_count": null,
      "outputs": []
    },
    {
      "cell_type": "code",
      "source": [],
      "metadata": {
        "id": "ZpqYToKqC9Qr"
      },
      "execution_count": null,
      "outputs": []
    },
    {
      "cell_type": "code",
      "source": [
        "#Write a Python program to train a Decision Tree Classifier and display the feature importance scores\n",
        "\n",
        "\n",
        "from sklearn.datasets import load_iris\n",
        "from sklearn.model_selection import train_test_split\n",
        "from sklearn.tree import DecisionTreeClassifier\n",
        "\n",
        "# Load the Iris dataset\n",
        "iris = load_iris()\n",
        "X = iris.data\n",
        "y = iris.target\n",
        "\n",
        "# Split data into training and testing sets\n",
        "X_train, X_test, y_train, y_test = train_test_split(X, y, test_size=0.3, random_state=42)\n",
        "\n",
        "# Create a Decision Tree Classifier\n",
        "tree = DecisionTreeClassifier(random_state=42)\n",
        "\n",
        "# Train the model\n",
        "tree.fit(X_train, y_train)\n",
        "\n",
        "# Get feature importances\n",
        "importances = tree.feature_importances_\n",
        "\n",
        "# Print feature importances along with their names\n",
        "for i, importance in enumerate(importances):\n",
        "    print(f\"Feature {iris.feature_names[i]}: {importance}\")"
      ],
      "metadata": {
        "colab": {
          "base_uri": "https://localhost:8080/"
        },
        "id": "JCJ2qkRcC9Oi",
        "outputId": "ad1980eb-bc49-4258-d3e1-0b3234a55a5a"
      },
      "execution_count": 13,
      "outputs": [
        {
          "output_type": "stream",
          "name": "stdout",
          "text": [
            "Feature sepal length (cm): 0.0\n",
            "Feature sepal width (cm): 0.01911001911001911\n",
            "Feature petal length (cm): 0.8932635518001373\n",
            "Feature petal width (cm): 0.08762642908984374\n"
          ]
        }
      ]
    },
    {
      "cell_type": "code",
      "source": [],
      "metadata": {
        "id": "Qyq805UXC9MV"
      },
      "execution_count": null,
      "outputs": []
    },
    {
      "cell_type": "code",
      "source": [
        "# Write a Python program to train a Decision Tree Regressor with max_depth=5 and compare its performance with an unrestricted tree\n",
        "\n",
        "\n",
        "from sklearn.datasets import fetch_california_housing\n",
        "from sklearn.model_selection import train_test_split\n",
        "from sklearn.tree import DecisionTreeRegressor\n",
        "from sklearn.metrics import mean_squared_error\n",
        "\n",
        "# Load the California Housing dataset\n",
        "housing = fetch_california_housing()\n",
        "X = housing.data\n",
        "y = housing.target\n",
        "\n",
        "# Split data into training and testing sets\n",
        "X_train, X_test, y_train, y_test = train_test_split(X, y, test_size=0.3, random_state=42)\n",
        "\n",
        "# Create a Decision Tree Regressor with max_depth=5\n",
        "regressor_depth5 = DecisionTreeRegressor(max_depth=5, random_state=42)\n",
        "\n",
        "# Train the model with max_depth=5\n",
        "regressor_depth5.fit(X_train, y_train)\n",
        "\n",
        "# Make predictions on the test set (max_depth=5)\n",
        "y_pred_depth5 = regressor_depth5.predict(X_test)\n",
        "\n",
        "# Calculate MSE (max_depth=5)\n",
        "mse_depth5 = mean_squared_error(y_test, y_pred_depth5)\n",
        "\n",
        "# Create an unrestricted Decision Tree Regressor\n",
        "regressor_unrestricted = DecisionTreeRegressor(random_state=42)  # No max_depth specified\n",
        "\n",
        "# Train the unrestricted model\n",
        "regressor_unrestricted.fit(X_train, y_train)\n",
        "\n",
        "# Make predictions on the test set (unrestricted)\n",
        "y_pred_unrestricted = regressor_unrestricted.predict(X_test)\n",
        "\n",
        "# Calculate MSE (unrestricted)\n",
        "mse_unrestricted = mean_squared_error(y_test, y_pred_unrestricted)\n",
        "\n",
        "# Print the MSE values\n",
        "print(f\"MSE (max_depth=5): {mse_depth5}\")\n",
        "print(f\"MSE (Unrestricted): {mse_unrestricted}\")\n",
        "\n"
      ],
      "metadata": {
        "colab": {
          "base_uri": "https://localhost:8080/"
        },
        "id": "h0LBSRubC9J_",
        "outputId": "e8be235a-4afd-4933-e117-96a7f6950061"
      },
      "execution_count": 14,
      "outputs": [
        {
          "output_type": "stream",
          "name": "stdout",
          "text": [
            "MSE (max_depth=5): 0.5210801561811793\n",
            "MSE (Unrestricted): 0.5280096503174904\n"
          ]
        }
      ]
    },
    {
      "cell_type": "code",
      "source": [],
      "metadata": {
        "id": "rxRHOGDtC9Hs"
      },
      "execution_count": null,
      "outputs": []
    },
    {
      "cell_type": "code",
      "source": [
        "#Write a Python program to train a Decision Tree Classifier, apply Cost Complexity Pruning (CCP), and visualize its effect on accuracy\n",
        "\n",
        "\n",
        "!pip install matplotlib\n",
        "import matplotlib.pyplot as plt\n",
        "from sklearn.datasets import load_iris\n",
        "from sklearn.model_selection import train_test_split\n",
        "from sklearn.tree import DecisionTreeClassifier\n",
        "from sklearn.metrics import accuracy_score\n",
        "from sklearn.tree import plot_tree\n",
        "\n",
        "# Load the Iris dataset\n",
        "iris = load_iris()\n",
        "X = iris.data\n",
        "y = iris.target\n",
        "\n",
        "# Split data into training and testing sets\n",
        "X_train, X_test, y_train, y_test = train_test_split(X, y, test_size=0.3, random_state=42)\n",
        "\n",
        "# Create a Decision Tree Classifier\n",
        "tree = DecisionTreeClassifier(random_state=42)\n",
        "\n",
        "# Train the model\n",
        "tree.fit(X_train, y_train)\n",
        "\n",
        "# Get the path to the tree\n",
        "path = tree.cost_complexity_pruning_path(X_train, y_train)\n",
        "ccp_alphas, impurities = path.ccp_alphas, path.impurities\n",
        "\n",
        "# Create a list to store the accuracies for different alpha values\n",
        "accuracies = []\n",
        "\n",
        "# Iterate over different alpha values\n",
        "for ccp_alpha in ccp_alphas:\n",
        "    # Create a new tree with the current alpha value\n",
        "    pruned_tree = DecisionTreeClassifier(random_state=42, ccp_alpha=ccp_alpha)\n",
        "\n",
        "    # Train the pruned tree\n",
        "    pruned_tree.fit(X_train, y_train)\n",
        "\n",
        "    # Make predictions on the test set\n",
        "    y_pred = pruned_tree.predict(X_test)\n",
        "\n",
        "    # Calculate accuracy and add it to the list\n",
        "    accuracy = accuracy_score(y_test, y_pred)\n",
        "    accuracies.append(accuracy)\n",
        "\n",
        "# Plot the accuracy vs alpha\n",
        "plt.figure(figsize=(10, 6))\n",
        "plt.plot(ccp_alphas, accuracies, marker='o', drawstyle=\"steps-post\")\n",
        "plt.xlabel(\"alpha\")\n",
        "\n"
      ],
      "metadata": {
        "colab": {
          "base_uri": "https://localhost:8080/",
          "height": 770
        },
        "id": "N7TqwrqDC9FX",
        "outputId": "7315dbf8-10d4-4d09-ff3e-f238404d7fbd"
      },
      "execution_count": 15,
      "outputs": [
        {
          "output_type": "stream",
          "name": "stdout",
          "text": [
            "Requirement already satisfied: matplotlib in /usr/local/lib/python3.11/dist-packages (3.10.0)\n",
            "Requirement already satisfied: contourpy>=1.0.1 in /usr/local/lib/python3.11/dist-packages (from matplotlib) (1.3.1)\n",
            "Requirement already satisfied: cycler>=0.10 in /usr/local/lib/python3.11/dist-packages (from matplotlib) (0.12.1)\n",
            "Requirement already satisfied: fonttools>=4.22.0 in /usr/local/lib/python3.11/dist-packages (from matplotlib) (4.56.0)\n",
            "Requirement already satisfied: kiwisolver>=1.3.1 in /usr/local/lib/python3.11/dist-packages (from matplotlib) (1.4.8)\n",
            "Requirement already satisfied: numpy>=1.23 in /usr/local/lib/python3.11/dist-packages (from matplotlib) (1.26.4)\n",
            "Requirement already satisfied: packaging>=20.0 in /usr/local/lib/python3.11/dist-packages (from matplotlib) (24.2)\n",
            "Requirement already satisfied: pillow>=8 in /usr/local/lib/python3.11/dist-packages (from matplotlib) (11.1.0)\n",
            "Requirement already satisfied: pyparsing>=2.3.1 in /usr/local/lib/python3.11/dist-packages (from matplotlib) (3.2.1)\n",
            "Requirement already satisfied: python-dateutil>=2.7 in /usr/local/lib/python3.11/dist-packages (from matplotlib) (2.8.2)\n",
            "Requirement already satisfied: six>=1.5 in /usr/local/lib/python3.11/dist-packages (from python-dateutil>=2.7->matplotlib) (1.17.0)\n"
          ]
        },
        {
          "output_type": "execute_result",
          "data": {
            "text/plain": [
              "Text(0.5, 0, 'alpha')"
            ]
          },
          "metadata": {},
          "execution_count": 15
        },
        {
          "output_type": "display_data",
          "data": {
            "text/plain": [
              "<Figure size 1000x600 with 1 Axes>"
            ],
            "image/png": "[encoded data removed]"
          },
          "metadata": {}
        }
      ]
    },
    {
      "cell_type": "code",
      "source": [],
      "metadata": {
        "id": "qgcSFmaEEQR8"
      },
      "execution_count": null,
      "outputs": []
    },
    {
      "cell_type": "code",
      "source": [
        "\n"
      ],
      "metadata": {
        "id": "2Q4aq1XLEUAk"
      },
      "execution_count": null,
      "outputs": []
    },
    {
      "cell_type": "code",
      "source": [
        "#Write a Python program to train a Decision Tree Classifier and evaluate its performance using Precision, Recall, and F1-Score\n",
        "\n",
        "\n",
        "from sklearn.datasets import load_iris\n",
        "from sklearn.model_selection import train_test_split\n",
        "from sklearn.tree import DecisionTreeClassifier\n",
        "from sklearn.metrics import classification_report\n",
        "\n",
        "# Load the Iris dataset\n",
        "iris = load_iris()\n",
        "X = iris.data\n",
        "y = iris.target\n",
        "\n",
        "# Split data into training and testing sets\n",
        "X_train, X_test, y_train, y_test = train_test_split(X, y, test_size=0.3, random_state=42)\n",
        "\n",
        "# Create a Decision Tree Classifier\n",
        "tree = DecisionTreeClassifier(random_state=42)\n",
        "\n",
        "# Train the model\n",
        "tree.fit(X_train, y_train)\n",
        "\n",
        "# Make predictions on the test set\n",
        "y_pred = tree.predict(X_test)\n",
        "\n",
        "# Generate the classification report\n",
        "report = classification_report(y_test, y_pred, target_names=iris.target_names)\n",
        "\n",
        "# Print the report\n",
        "print(report)\n"
      ],
      "metadata": {
        "colab": {
          "base_uri": "https://localhost:8080/"
        },
        "id": "2FZbOv39ET9J",
        "outputId": "58704ec6-af45-42b7-97e9-2e2505b1dd9c"
      },
      "execution_count": 16,
      "outputs": [
        {
          "output_type": "stream",
          "name": "stdout",
          "text": [
            "              precision    recall  f1-score   support\n",
            "\n",
            "      setosa       1.00      1.00      1.00        19\n",
            "  versicolor       1.00      1.00      1.00        13\n",
            "   virginica       1.00      1.00      1.00        13\n",
            "\n",
            "    accuracy                           1.00        45\n",
            "   macro avg       1.00      1.00      1.00        45\n",
            "weighted avg       1.00      1.00      1.00        45\n",
            "\n"
          ]
        }
      ]
    },
    {
      "cell_type": "code",
      "source": [
        "#Write a Python program to train a Decision Tree Classifier and visualize the confusion matrix using seaborn\n",
        "\n",
        "!pip install seaborn\n",
        "import seaborn as sns\n",
        "import matplotlib.pyplot as plt\n",
        "from sklearn.datasets import load_iris\n",
        "from sklearn.model_selection import train_test_split\n",
        "from sklearn.tree import DecisionTreeClassifier\n",
        "from sklearn.metrics import confusion_matrix\n",
        "\n",
        "# Load the Iris dataset\n",
        "iris = load_iris()\n",
        "X = iris.data\n",
        "y = iris.target\n",
        "\n",
        "# Split data into training and testing sets\n",
        "X_train, X_test, y_train, y_test = train_test_split(X, y, test_size=0.3, random_state=42)\n",
        "\n",
        "# Create a Decision Tree Classifier\n",
        "tree = DecisionTreeClassifier(random_state=42)\n",
        "\n",
        "# Train the model\n",
        "tree.fit(X_train, y_train)\n",
        "\n",
        "# Make predictions on the test set\n",
        "y_pred = tree.predict(X_test)\n",
        "\n",
        "# Calculate the confusion matrix\n",
        "cm = confusion_matrix(y_test, y_pred)\n",
        "\n",
        "# Visualize the confusion matrix using seaborn\n",
        "plt.figure(figsize=(8, 6))\n",
        "sns.heatmap(cm, annot=True, fmt=\"d\", cmap=\"Blues\",\n",
        "            xticklabels=iris.target_names, yticklabels=iris.target_names)\n",
        "plt.xlabel(\"Predicted\")\n",
        "plt.ylabel(\"Actual\")\n",
        "plt.title(\"Confusion Matrix\")\n",
        "plt.show()\n"
      ],
      "metadata": {
        "colab": {
          "base_uri": "https://localhost:8080/",
          "height": 844
        },
        "id": "H01-Em_PET7H",
        "outputId": "9f8e6485-62c1-4c67-9fb5-e814410a8669"
      },
      "execution_count": 17,
      "outputs": [
        {
          "output_type": "stream",
          "name": "stdout",
          "text": [
            "Requirement already satisfied: seaborn in /usr/local/lib/python3.11/dist-packages (0.13.2)\n",
            "Requirement already satisfied: numpy!=1.24.0,>=1.20 in /usr/local/lib/python3.11/dist-packages (from seaborn) (1.26.4)\n",
            "Requirement already satisfied: pandas>=1.2 in /usr/local/lib/python3.11/dist-packages (from seaborn) (2.2.2)\n",
            "Requirement already satisfied: matplotlib!=3.6.1,>=3.4 in /usr/local/lib/python3.11/dist-packages (from seaborn) (3.10.0)\n",
            "Requirement already satisfied: contourpy>=1.0.1 in /usr/local/lib/python3.11/dist-packages (from matplotlib!=3.6.1,>=3.4->seaborn) (1.3.1)\n",
            "Requirement already satisfied: cycler>=0.10 in /usr/local/lib/python3.11/dist-packages (from matplotlib!=3.6.1,>=3.4->seaborn) (0.12.1)\n",
            "Requirement already satisfied: fonttools>=4.22.0 in /usr/local/lib/python3.11/dist-packages (from matplotlib!=3.6.1,>=3.4->seaborn) (4.56.0)\n",
            "Requirement already satisfied: kiwisolver>=1.3.1 in /usr/local/lib/python3.11/dist-packages (from matplotlib!=3.6.1,>=3.4->seaborn) (1.4.8)\n",
            "Requirement already satisfied: packaging>=20.0 in /usr/local/lib/python3.11/dist-packages (from matplotlib!=3.6.1,>=3.4->seaborn) (24.2)\n",
            "Requirement already satisfied: pillow>=8 in /usr/local/lib/python3.11/dist-packages (from matplotlib!=3.6.1,>=3.4->seaborn) (11.1.0)\n",
            "Requirement already satisfied: pyparsing>=2.3.1 in /usr/local/lib/python3.11/dist-packages (from matplotlib!=3.6.1,>=3.4->seaborn) (3.2.1)\n",
            "Requirement already satisfied: python-dateutil>=2.7 in /usr/local/lib/python3.11/dist-packages (from matplotlib!=3.6.1,>=3.4->seaborn) (2.8.2)\n",
            "Requirement already satisfied: pytz>=2020.1 in /usr/local/lib/python3.11/dist-packages (from pandas>=1.2->seaborn) (2025.1)\n",
            "Requirement already satisfied: tzdata>=2022.7 in /usr/local/lib/python3.11/dist-packages (from pandas>=1.2->seaborn) (2025.1)\n",
            "Requirement already satisfied: six>=1.5 in /usr/local/lib/python3.11/dist-packages (from python-dateutil>=2.7->matplotlib!=3.6.1,>=3.4->seaborn) (1.17.0)\n"
          ]
        },
        {
          "output_type": "display_data",
          "data": {
            "text/plain": [
              "<Figure size 800x600 with 2 Axes>"
            ],
            "image/png": "[encoded data removed]"
          },
          "metadata": {}
        }
      ]
    },
    {
      "cell_type": "code",
      "source": [
        "#Write a Python program to train a Decision Tree Classifier and use GridSearchCV to find the optimal values for max_depth and min_samples_split.\n",
        "\n",
        "from sklearn.datasets import load_iris\n",
        "from sklearn.model_selection import train_test_split, GridSearchCV\n",
        "from sklearn.tree import DecisionTreeClassifier\n",
        "from sklearn.metrics import accuracy_score\n",
        "\n",
        "# Load the Iris dataset\n",
        "iris = load_iris()\n",
        "X = iris.data\n",
        "y = iris.target\n",
        "\n",
        "# Split data into training and testing sets\n",
        "X_train, X_test, y_train, y_test = train_test_split(X, y, test_size=0.3, random_state=42)\n",
        "\n",
        "# Create a Decision Tree Classifier\n",
        "tree = DecisionTreeClassifier(random_state=42)\n",
        "\n",
        "# Define the parameter grid to search\n",
        "param_grid = {\n",
        "    'max_depth': [2, 3, 4, 5, 6, 7, 8, 9, 10],\n",
        "    'min_samples_split': [2, 3, 4, 5, 6, 7, 8, 9, 10]\n",
        "}\n",
        "\n",
        "# Create a GridSearchCV object\n",
        "grid_search = GridSearchCV(tree, param_grid, cv=5, scoring='accuracy')\n",
        "\n",
        "# Fit the GridSearchCV to the training data\n",
        "grid_search.fit(X_train, y_train)\n",
        "\n",
        "# Get the best parameters and best score\n",
        "best_params = grid_search.best_params_\n",
        "best_score = grid_search.best_score_\n",
        "\n",
        "# Print the best parameters and score\n",
        "print(f\"Best Parameters: {best_params}\")\n",
        "print(f\"Best Score: {best_score}\")\n",
        "\n",
        "# Train a new model with the best parameters\n",
        "best_tree = DecisionTreeClassifier(**best_params, random_state=42)\n",
        "best_tree.fit(X_train, y_train)\n",
        "\n",
        "# Make predictions on the test set\n",
        "y_pred = best_tree.predict(X_test)\n",
        "\n",
        "# Calculate accuracy\n",
        "accuracy = accuracy_score(y_test, y_pred)\n",
        "\n",
        "# Print the accuracy\n",
        "print(f\"Accuracy on Test Set: {accuracy}\")"
      ],
      "metadata": {
        "colab": {
          "base_uri": "https://localhost:8080/"
        },
        "id": "UtdpW4B6ET40",
        "outputId": "f0fd3127-b48a-433f-9705-8a15c21689d9"
      },
      "execution_count": 19,
      "outputs": [
        {
          "output_type": "stream",
          "name": "stdout",
          "text": [
            "Best Parameters: {'max_depth': 4, 'min_samples_split': 6}\n",
            "Best Score: 0.9428571428571428\n",
            "Accuracy on Test Set: 1.0\n"
          ]
        }
      ]
    },
    {
      "cell_type": "code",
      "source": [],
      "metadata": {
        "id": "xNuOCxthET20"
      },
      "execution_count": null,
      "outputs": []
    },
    {
      "cell_type": "code",
      "source": [],
      "metadata": {
        "id": "eU_JN02_ET0t"
      },
      "execution_count": null,
      "outputs": []
    },
    {
      "cell_type": "code",
      "source": [],
      "metadata": {
        "id": "ljrMAA24ETyv"
      },
      "execution_count": null,
      "outputs": []
    },
    {
      "cell_type": "code",
      "source": [],
      "metadata": {
        "id": "t6UbPD6JETwm"
      },
      "execution_count": null,
      "outputs": []
    }
  ]
}