{
  "cells": [
    {
      "cell_type": "markdown",
      "metadata": {
        "id": "view-in-github",
        "colab_type": "text"
      },
      "source": [
        "<a href=\"https://colab.research.google.com/github/rajan5639/pw_data_science/blob/main/2_Numpy_advance_1.ipynb\" target=\"_parent\"><img src=\"https://colab.research.google.com/assets/colab-badge.svg\" alt=\"Open In Colab\"/></a>"
      ]
    },
    {
      "cell_type": "code",
      "execution_count": null,
      "id": "f116f7dc-7189-4929-9137-4ad823c69f9e",
      "metadata": {
        "id": "f116f7dc-7189-4929-9137-4ad823c69f9e"
      },
      "outputs": [],
      "source": [
        "import numpy as np"
      ]
    },
    {
      "cell_type": "code",
      "execution_count": null,
      "id": "1e234661-26f3-4496-b1f3-f8c7b10f3c7b",
      "metadata": {
        "id": "1e234661-26f3-4496-b1f3-f8c7b10f3c7b"
      },
      "outputs": [],
      "source": [
        "a = np.zeros(5) #Return a new array of given shape and type, filled with zeros."
      ]
    },
    {
      "cell_type": "code",
      "execution_count": null,
      "id": "2210719e-089c-4890-bb2e-890468b83b29",
      "metadata": {
        "id": "2210719e-089c-4890-bb2e-890468b83b29",
        "outputId": "b32f29ac-2fbf-4301-bbab-f2a439fabec3"
      },
      "outputs": [
        {
          "data": {
            "text/plain": [
              "1"
            ]
          },
          "execution_count": 4,
          "metadata": {},
          "output_type": "execute_result"
        }
      ],
      "source": [
        "a.ndim"
      ]
    },
    {
      "cell_type": "code",
      "execution_count": null,
      "id": "b1b57cfb-b5bb-4db7-b1be-cbded0df197b",
      "metadata": {
        "id": "b1b57cfb-b5bb-4db7-b1be-cbded0df197b",
        "outputId": "8bad492b-5fa0-4706-afbb-453614a622b7"
      },
      "outputs": [
        {
          "data": {
            "text/plain": [
              "array([0., 0., 0., 0., 0.])"
            ]
          },
          "execution_count": 5,
          "metadata": {},
          "output_type": "execute_result"
        }
      ],
      "source": [
        "a"
      ]
    },
    {
      "cell_type": "code",
      "execution_count": null,
      "id": "9bed1e26-db6b-4bb7-8677-d4f74c326f82",
      "metadata": {
        "id": "9bed1e26-db6b-4bb7-8677-d4f74c326f82",
        "outputId": "b6bd9965-63c9-4bf6-d509-57104f150dc4"
      },
      "outputs": [
        {
          "data": {
            "text/plain": [
              "array([0, 0, 0, 0, 0, 0, 0, 0, 0, 0])"
            ]
          },
          "execution_count": 6,
          "metadata": {},
          "output_type": "execute_result"
        }
      ],
      "source": [
        "np.zeros(10, dtype=int)"
      ]
    },
    {
      "cell_type": "code",
      "execution_count": null,
      "id": "cb7cdc7b-bd21-4369-89a5-a25030d4321b",
      "metadata": {
        "id": "cb7cdc7b-bd21-4369-89a5-a25030d4321b"
      },
      "outputs": [],
      "source": [
        "b = np.zeros((3, 4))"
      ]
    },
    {
      "cell_type": "code",
      "execution_count": null,
      "id": "4a80885d-14a5-4ff5-9515-e028b1e8b97b",
      "metadata": {
        "id": "4a80885d-14a5-4ff5-9515-e028b1e8b97b",
        "outputId": "f43168a1-07e4-4254-d809-93bbab06c7b0"
      },
      "outputs": [
        {
          "data": {
            "text/plain": [
              "array([[0., 0., 0., 0.],\n",
              "       [0., 0., 0., 0.],\n",
              "       [0., 0., 0., 0.]])"
            ]
          },
          "execution_count": 9,
          "metadata": {},
          "output_type": "execute_result"
        }
      ],
      "source": [
        "b"
      ]
    },
    {
      "cell_type": "code",
      "execution_count": null,
      "id": "dfa61fb0-bb84-4e43-9567-2f54b95a200a",
      "metadata": {
        "id": "dfa61fb0-bb84-4e43-9567-2f54b95a200a",
        "outputId": "4a181fef-eacb-4376-c5ea-4fab0bf8699c"
      },
      "outputs": [
        {
          "data": {
            "text/plain": [
              "2"
            ]
          },
          "execution_count": 10,
          "metadata": {},
          "output_type": "execute_result"
        }
      ],
      "source": [
        "b.ndim"
      ]
    },
    {
      "cell_type": "code",
      "execution_count": null,
      "id": "c3a9a9ec-b606-4518-b788-88790b3dfb4f",
      "metadata": {
        "id": "c3a9a9ec-b606-4518-b788-88790b3dfb4f",
        "outputId": "ba9863eb-8362-49fd-eca0-dcf6ac4cf96e"
      },
      "outputs": [
        {
          "data": {
            "text/plain": [
              "array([1., 1., 1., 1., 1.])"
            ]
          },
          "execution_count": 11,
          "metadata": {},
          "output_type": "execute_result"
        }
      ],
      "source": [
        "np.ones(5)"
      ]
    },
    {
      "cell_type": "code",
      "execution_count": null,
      "id": "a306e553-a0a6-4344-a91a-32e140624f36",
      "metadata": {
        "id": "a306e553-a0a6-4344-a91a-32e140624f36",
        "outputId": "dd844068-a351-4b8f-f4a1-63fdc85cf57c"
      },
      "outputs": [
        {
          "data": {
            "text/plain": [
              "array([1, 1, 1, 1, 1])"
            ]
          },
          "execution_count": 12,
          "metadata": {},
          "output_type": "execute_result"
        }
      ],
      "source": [
        "np.ones(5, dtype=int) #Return a new array of given shape and type, filled with ones"
      ]
    },
    {
      "cell_type": "code",
      "execution_count": null,
      "id": "352767ae-09a0-475b-be2d-0deca66ad6d2",
      "metadata": {
        "id": "352767ae-09a0-475b-be2d-0deca66ad6d2",
        "outputId": "20e035d4-eb58-4ca9-b68e-c87d357cfb4e"
      },
      "outputs": [
        {
          "data": {
            "text/plain": [
              "array([[1., 1., 1., 1.],\n",
              "       [1., 1., 1., 1.],\n",
              "       [1., 1., 1., 1.]])"
            ]
          },
          "execution_count": 13,
          "metadata": {},
          "output_type": "execute_result"
        }
      ],
      "source": [
        "np.ones((3, 4))"
      ]
    },
    {
      "cell_type": "code",
      "execution_count": null,
      "id": "ba524394-9fcc-4e03-84bf-82d24c99cb9d",
      "metadata": {
        "id": "ba524394-9fcc-4e03-84bf-82d24c99cb9d",
        "outputId": "30cc75a3-c59a-4cd6-8b4c-533daca29748"
      },
      "outputs": [
        {
          "ename": "AttributeError",
          "evalue": "module 'numpy' has no attribute 'twos'",
          "output_type": "error",
          "traceback": [
            "\u001b[0;31m---------------------------------------------------------------------------\u001b[0m",
            "\u001b[0;31mAttributeError\u001b[0m                            Traceback (most recent call last)",
            "Cell \u001b[0;32mIn[14], line 1\u001b[0m\n\u001b[0;32m----> 1\u001b[0m \u001b[43mnp\u001b[49m\u001b[38;5;241;43m.\u001b[39;49m\u001b[43mtwos\u001b[49m(\u001b[38;5;241m5\u001b[39m)\n",
            "File \u001b[0;32m/opt/conda/lib/python3.10/site-packages/numpy/__init__.py:311\u001b[0m, in \u001b[0;36m__getattr__\u001b[0;34m(attr)\u001b[0m\n\u001b[1;32m    308\u001b[0m     \u001b[38;5;28;01mfrom\u001b[39;00m \u001b[38;5;21;01m.\u001b[39;00m\u001b[38;5;21;01mtesting\u001b[39;00m \u001b[38;5;28;01mimport\u001b[39;00m Tester\n\u001b[1;32m    309\u001b[0m     \u001b[38;5;28;01mreturn\u001b[39;00m Tester\n\u001b[0;32m--> 311\u001b[0m \u001b[38;5;28;01mraise\u001b[39;00m \u001b[38;5;167;01mAttributeError\u001b[39;00m(\u001b[38;5;124m\"\u001b[39m\u001b[38;5;124mmodule \u001b[39m\u001b[38;5;132;01m{!r}\u001b[39;00m\u001b[38;5;124m has no attribute \u001b[39m\u001b[38;5;124m\"\u001b[39m\n\u001b[1;32m    312\u001b[0m                      \u001b[38;5;124m\"\u001b[39m\u001b[38;5;132;01m{!r}\u001b[39;00m\u001b[38;5;124m\"\u001b[39m\u001b[38;5;241m.\u001b[39mformat(\u001b[38;5;18m__name__\u001b[39m, attr))\n",
            "\u001b[0;31mAttributeError\u001b[0m: module 'numpy' has no attribute 'twos'"
          ]
        }
      ],
      "source": [
        "np.twos(5) #doesn't exist in numpy"
      ]
    },
    {
      "cell_type": "code",
      "execution_count": null,
      "id": "7e1ae9c0-5241-4dc1-a0f8-2b20e283c961",
      "metadata": {
        "id": "7e1ae9c0-5241-4dc1-a0f8-2b20e283c961",
        "outputId": "5cc5edc0-3b76-457c-89d9-36916b8d48cd"
      },
      "outputs": [
        {
          "data": {
            "text/plain": [
              "array([[2, 2, 2],\n",
              "       [2, 2, 2]])"
            ]
          },
          "execution_count": 15,
          "metadata": {},
          "output_type": "execute_result"
        }
      ],
      "source": [
        "np.array([[2, 2, 2,], [2, 2, 2]])"
      ]
    },
    {
      "cell_type": "code",
      "execution_count": null,
      "id": "09385907-4dda-4591-9d8c-725c5247d0ed",
      "metadata": {
        "id": "09385907-4dda-4591-9d8c-725c5247d0ed"
      },
      "outputs": [],
      "source": [
        "arr = np.zeros((3, 4))"
      ]
    },
    {
      "cell_type": "code",
      "execution_count": null,
      "id": "cb86d3fe-2640-44dc-ac9c-c148bc524a1a",
      "metadata": {
        "id": "cb86d3fe-2640-44dc-ac9c-c148bc524a1a",
        "outputId": "28fe2be1-7726-4d97-8386-c3aebe34a1cd"
      },
      "outputs": [
        {
          "data": {
            "text/plain": [
              "array([[0., 0., 0., 0.],\n",
              "       [0., 0., 0., 0.],\n",
              "       [0., 0., 0., 0.]])"
            ]
          },
          "execution_count": 18,
          "metadata": {},
          "output_type": "execute_result"
        }
      ],
      "source": [
        "arr"
      ]
    },
    {
      "cell_type": "code",
      "execution_count": null,
      "id": "e801bc5d-b586-4070-8110-04f8bb76d278",
      "metadata": {
        "id": "e801bc5d-b586-4070-8110-04f8bb76d278",
        "outputId": "7b04b452-2d48-45ac-a27c-8379e93674eb"
      },
      "outputs": [
        {
          "data": {
            "text/plain": [
              "2"
            ]
          },
          "execution_count": 19,
          "metadata": {},
          "output_type": "execute_result"
        }
      ],
      "source": [
        "arr.ndim"
      ]
    },
    {
      "cell_type": "code",
      "execution_count": null,
      "id": "c31828e3-56b7-44c3-b34e-cd137296c83f",
      "metadata": {
        "id": "c31828e3-56b7-44c3-b34e-cd137296c83f",
        "outputId": "3fee95d6-89e6-4367-c123-2a25f6f2ad88"
      },
      "outputs": [
        {
          "data": {
            "text/plain": [
              "array([0., 0., 0.])"
            ]
          },
          "execution_count": 21,
          "metadata": {},
          "output_type": "execute_result"
        }
      ],
      "source": [
        "#3 dimensionaly array\n",
        "np.zeros(3)"
      ]
    },
    {
      "cell_type": "code",
      "execution_count": null,
      "id": "81ed30ee-85df-470c-8820-440c670d30ec",
      "metadata": {
        "id": "81ed30ee-85df-470c-8820-440c670d30ec",
        "outputId": "b0067af4-5685-4304-ad49-14588ab72729"
      },
      "outputs": [
        {
          "data": {
            "text/plain": [
              "array([[0., 0., 0., 0.],\n",
              "       [0., 0., 0., 0.],\n",
              "       [0., 0., 0., 0.]])"
            ]
          },
          "execution_count": 22,
          "metadata": {},
          "output_type": "execute_result"
        }
      ],
      "source": [
        "np.zeros((3, 4))"
      ]
    },
    {
      "cell_type": "code",
      "execution_count": null,
      "id": "0f459c40-8801-4a30-a821-f71478b1694c",
      "metadata": {
        "id": "0f459c40-8801-4a30-a821-f71478b1694c"
      },
      "outputs": [],
      "source": [
        "arr = np.zeros((3, 3, 4))"
      ]
    },
    {
      "cell_type": "code",
      "execution_count": null,
      "id": "2856efba-953e-4735-8118-da81159cd894",
      "metadata": {
        "id": "2856efba-953e-4735-8118-da81159cd894",
        "outputId": "86803ebe-1a7f-4ffd-c9fd-543e3a17dafe"
      },
      "outputs": [
        {
          "data": {
            "text/plain": [
              "array([[[0., 0., 0., 0.],\n",
              "        [0., 0., 0., 0.],\n",
              "        [0., 0., 0., 0.]],\n",
              "\n",
              "       [[0., 0., 0., 0.],\n",
              "        [0., 0., 0., 0.],\n",
              "        [0., 0., 0., 0.]],\n",
              "\n",
              "       [[0., 0., 0., 0.],\n",
              "        [0., 0., 0., 0.],\n",
              "        [0., 0., 0., 0.]]])"
            ]
          },
          "execution_count": 28,
          "metadata": {},
          "output_type": "execute_result"
        }
      ],
      "source": [
        "arr"
      ]
    },
    {
      "cell_type": "code",
      "execution_count": null,
      "id": "5becd527-304f-4a0d-94f2-152f4968ce9f",
      "metadata": {
        "id": "5becd527-304f-4a0d-94f2-152f4968ce9f",
        "outputId": "7ca7ddce-1b6a-4a8c-8bc8-16e51de7e313"
      },
      "outputs": [
        {
          "data": {
            "text/plain": [
              "3"
            ]
          },
          "execution_count": 26,
          "metadata": {},
          "output_type": "execute_result"
        }
      ],
      "source": [
        "arr.ndim"
      ]
    },
    {
      "cell_type": "code",
      "execution_count": null,
      "id": "ab0f496f-82a4-4b10-bd69-4f3343750134",
      "metadata": {
        "id": "ab0f496f-82a4-4b10-bd69-4f3343750134",
        "outputId": "f3ba90bd-47bf-4200-ae0b-e367b23b8200"
      },
      "outputs": [
        {
          "data": {
            "text/plain": [
              "array([[[0., 0., 0.],\n",
              "        [0., 0., 0.],\n",
              "        [0., 0., 0.]]])"
            ]
          },
          "execution_count": 30,
          "metadata": {},
          "output_type": "execute_result"
        }
      ],
      "source": [
        "np.zeros((1, 3, 3))"
      ]
    },
    {
      "cell_type": "code",
      "execution_count": null,
      "id": "61e0ea7c-c193-41ae-aab6-beaca1dba515",
      "metadata": {
        "id": "61e0ea7c-c193-41ae-aab6-beaca1dba515"
      },
      "outputs": [],
      "source": [
        "b = np.zeros((1, 1, 3, 3))"
      ]
    },
    {
      "cell_type": "code",
      "execution_count": null,
      "id": "3eebdb48-ea36-4a15-8131-68ca77ea4428",
      "metadata": {
        "id": "3eebdb48-ea36-4a15-8131-68ca77ea4428",
        "outputId": "bd5a43b5-b6c1-4327-c478-7411e72b73a9"
      },
      "outputs": [
        {
          "data": {
            "text/plain": [
              "array([[[[0., 0., 0.],\n",
              "         [0., 0., 0.],\n",
              "         [0., 0., 0.]]]])"
            ]
          },
          "execution_count": 34,
          "metadata": {},
          "output_type": "execute_result"
        }
      ],
      "source": [
        "b"
      ]
    },
    {
      "cell_type": "code",
      "execution_count": null,
      "id": "72c70e8d-e99b-4fd3-b5b8-146eff910aa8",
      "metadata": {
        "id": "72c70e8d-e99b-4fd3-b5b8-146eff910aa8",
        "outputId": "0247a0a9-c254-41c1-8f67-ef6890d9283b"
      },
      "outputs": [
        {
          "data": {
            "text/plain": [
              "4"
            ]
          },
          "execution_count": 36,
          "metadata": {},
          "output_type": "execute_result"
        }
      ],
      "source": [
        "b.ndim"
      ]
    },
    {
      "cell_type": "code",
      "execution_count": null,
      "id": "856694e9-2628-4bc0-8bf1-d99c9b262260",
      "metadata": {
        "id": "856694e9-2628-4bc0-8bf1-d99c9b262260"
      },
      "outputs": [],
      "source": [
        "c = np.zeros((1, 1, 1, 3, 3))"
      ]
    },
    {
      "cell_type": "code",
      "execution_count": null,
      "id": "11c7f6ca-a4eb-4833-b0cc-2af43d4df1f6",
      "metadata": {
        "id": "11c7f6ca-a4eb-4833-b0cc-2af43d4df1f6",
        "outputId": "91921e60-67a9-4504-8801-ede619959512"
      },
      "outputs": [
        {
          "data": {
            "text/plain": [
              "array([[[[[0., 0., 0.],\n",
              "          [0., 0., 0.],\n",
              "          [0., 0., 0.]]]]])"
            ]
          },
          "execution_count": 38,
          "metadata": {},
          "output_type": "execute_result"
        }
      ],
      "source": [
        "c"
      ]
    },
    {
      "cell_type": "code",
      "execution_count": null,
      "id": "e83f5ab1-2238-4be9-8ce4-2cf2c011036a",
      "metadata": {
        "id": "e83f5ab1-2238-4be9-8ce4-2cf2c011036a",
        "outputId": "d8208486-b3f6-4ab9-8579-b912a7d6206e"
      },
      "outputs": [
        {
          "data": {
            "text/plain": [
              "5"
            ]
          },
          "execution_count": 39,
          "metadata": {},
          "output_type": "execute_result"
        }
      ],
      "source": [
        "c.ndim"
      ]
    },
    {
      "cell_type": "code",
      "execution_count": null,
      "id": "3f3afe8b-9e22-4ef7-bc63-57b7dc7cd323",
      "metadata": {
        "id": "3f3afe8b-9e22-4ef7-bc63-57b7dc7cd323"
      },
      "outputs": [],
      "source": [
        "arr = np.zeros((3, 4))"
      ]
    },
    {
      "cell_type": "code",
      "execution_count": null,
      "id": "3eb11fc8-192d-42a0-a36c-b3fa44212ba9",
      "metadata": {
        "id": "3eb11fc8-192d-42a0-a36c-b3fa44212ba9",
        "outputId": "272c392d-330d-4732-dfe1-a7167d918b20"
      },
      "outputs": [
        {
          "data": {
            "text/plain": [
              "array([[0., 0., 0., 0.],\n",
              "       [0., 0., 0., 0.],\n",
              "       [0., 0., 0., 0.]])"
            ]
          },
          "execution_count": 42,
          "metadata": {},
          "output_type": "execute_result"
        }
      ],
      "source": [
        "arr"
      ]
    },
    {
      "cell_type": "code",
      "execution_count": null,
      "id": "9b24c051-52d4-44e5-bd94-380ebe1f04da",
      "metadata": {
        "id": "9b24c051-52d4-44e5-bd94-380ebe1f04da",
        "outputId": "159636f6-b31c-435b-832e-dca0d0538408"
      },
      "outputs": [
        {
          "data": {
            "text/plain": [
              "array([[5., 5., 5., 5.],\n",
              "       [5., 5., 5., 5.],\n",
              "       [5., 5., 5., 5.]])"
            ]
          },
          "execution_count": 43,
          "metadata": {},
          "output_type": "execute_result"
        }
      ],
      "source": [
        "arr+5"
      ]
    },
    {
      "cell_type": "code",
      "execution_count": null,
      "id": "5459b174-a6cd-46b1-bfd0-133f6bdf11af",
      "metadata": {
        "id": "5459b174-a6cd-46b1-bfd0-133f6bdf11af"
      },
      "outputs": [],
      "source": [
        "a = arr+5"
      ]
    },
    {
      "cell_type": "code",
      "execution_count": null,
      "id": "f2834977-b9d9-4910-ab8d-0d7304bd7fee",
      "metadata": {
        "id": "f2834977-b9d9-4910-ab8d-0d7304bd7fee",
        "outputId": "aaaafddc-3c89-4d5d-93e7-e7e4a1f5dd68"
      },
      "outputs": [
        {
          "data": {
            "text/plain": [
              "array([[10., 10., 10., 10.],\n",
              "       [10., 10., 10., 10.],\n",
              "       [10., 10., 10., 10.]])"
            ]
          },
          "execution_count": 46,
          "metadata": {},
          "output_type": "execute_result"
        }
      ],
      "source": [
        "a * 2"
      ]
    },
    {
      "cell_type": "code",
      "execution_count": null,
      "id": "831afa1d-6414-4b03-a6c9-7450a15c4bc6",
      "metadata": {
        "id": "831afa1d-6414-4b03-a6c9-7450a15c4bc6",
        "outputId": "4953dfaf-45da-47d4-ca3c-56b28ea90e43"
      },
      "outputs": [
        {
          "data": {
            "text/plain": [
              "array([[5., 5., 5., 5.],\n",
              "       [5., 5., 5., 5.],\n",
              "       [5., 5., 5., 5.]])"
            ]
          },
          "execution_count": 47,
          "metadata": {},
          "output_type": "execute_result"
        }
      ],
      "source": [
        "a"
      ]
    },
    {
      "cell_type": "code",
      "execution_count": null,
      "id": "5c0a04e2-6563-4a98-976e-cbe7c174245c",
      "metadata": {
        "id": "5c0a04e2-6563-4a98-976e-cbe7c174245c",
        "outputId": "4b25cb08-f197-458e-9bae-2964f1029a47"
      },
      "outputs": [
        {
          "data": {
            "text/plain": [
              "array([[4., 4., 4., 4.],\n",
              "       [4., 4., 4., 4.],\n",
              "       [4., 4., 4., 4.]])"
            ]
          },
          "execution_count": 48,
          "metadata": {},
          "output_type": "execute_result"
        }
      ],
      "source": [
        "a - 1"
      ]
    },
    {
      "cell_type": "code",
      "execution_count": null,
      "id": "9d91965a-14c3-45d2-bda9-00c94a1a0eb0",
      "metadata": {
        "id": "9d91965a-14c3-45d2-bda9-00c94a1a0eb0",
        "outputId": "db235ed2-700d-4920-8470-ea83efeb0864"
      },
      "outputs": [
        {
          "data": {
            "text/plain": [
              "array([[1., 0., 0.],\n",
              "       [0., 1., 0.],\n",
              "       [0., 0., 1.]])"
            ]
          },
          "execution_count": 49,
          "metadata": {},
          "output_type": "execute_result"
        }
      ],
      "source": [
        "np.eye(3) #Return a 2-D array with ones on the diagonal and zeros elsewhere."
      ]
    },
    {
      "cell_type": "code",
      "execution_count": null,
      "id": "3decd01c-5875-46b2-b946-28565f9be21c",
      "metadata": {
        "id": "3decd01c-5875-46b2-b946-28565f9be21c",
        "outputId": "c25eac82-2ccd-4e9d-e3b7-1bb85adb4ece"
      },
      "outputs": [
        {
          "data": {
            "text/plain": [
              "array([[1, 0, 0],\n",
              "       [0, 1, 0],\n",
              "       [0, 0, 1]])"
            ]
          },
          "execution_count": 50,
          "metadata": {},
          "output_type": "execute_result"
        }
      ],
      "source": [
        "np.eye(3, dtype = int)"
      ]
    },
    {
      "cell_type": "code",
      "execution_count": null,
      "id": "23c3d819-66d9-4260-bf8e-26fe43a33c27",
      "metadata": {
        "id": "23c3d819-66d9-4260-bf8e-26fe43a33c27",
        "outputId": "5e92802f-016f-45bd-b8a8-fe50f978d406"
      },
      "outputs": [
        {
          "data": {
            "text/plain": [
              "array([[1., 0., 0., 0.],\n",
              "       [0., 1., 0., 0.],\n",
              "       [0., 0., 1., 0.],\n",
              "       [0., 0., 0., 1.]])"
            ]
          },
          "execution_count": 51,
          "metadata": {},
          "output_type": "execute_result"
        }
      ],
      "source": [
        "np.eye(4)"
      ]
    },
    {
      "cell_type": "code",
      "execution_count": null,
      "id": "7225413e-e807-4e09-938a-ca2051a6369d",
      "metadata": {
        "id": "7225413e-e807-4e09-938a-ca2051a6369d",
        "outputId": "ac2d20a8-62f8-4d75-c97b-33ad97bb867a"
      },
      "outputs": [
        {
          "data": {
            "text/plain": [
              "array([[4., 4., 4., 4.],\n",
              "       [4., 4., 4., 4.],\n",
              "       [4., 4., 4., 4.]])"
            ]
          },
          "execution_count": 53,
          "metadata": {},
          "output_type": "execute_result"
        }
      ],
      "source": [
        "np.empty((3, 4)) #Return a new array of given shape and type, without initializing entries.It means entries in the array can be anything random values"
      ]
    },
    {
      "cell_type": "code",
      "execution_count": null,
      "id": "749e271d-d456-41cd-b250-e28013f80ef3",
      "metadata": {
        "id": "749e271d-d456-41cd-b250-e28013f80ef3",
        "outputId": "8f07444b-7c15-4f8c-efd3-2c7c1b5677e7"
      },
      "outputs": [
        {
          "data": {
            "text/plain": [
              "2"
            ]
          },
          "execution_count": 54,
          "metadata": {},
          "output_type": "execute_result"
        }
      ],
      "source": [
        "#optional>> random module\n",
        "import random\n",
        "random.choice((1, 2, 3, 4, 5))"
      ]
    },
    {
      "cell_type": "code",
      "execution_count": null,
      "id": "222220ee-064d-47b0-91e0-0c385859810e",
      "metadata": {
        "id": "222220ee-064d-47b0-91e0-0c385859810e",
        "outputId": "f1a79553-8a71-4e0a-9621-9cd970b5f5a0"
      },
      "outputs": [
        {
          "data": {
            "text/plain": [
              "'j'"
            ]
          },
          "execution_count": 55,
          "metadata": {},
          "output_type": "execute_result"
        }
      ],
      "source": [
        "random.choice(\"Ajay\")"
      ]
    },
    {
      "cell_type": "code",
      "execution_count": null,
      "id": "31de3bc5-6ec9-46bd-8d75-46765cf38355",
      "metadata": {
        "id": "31de3bc5-6ec9-46bd-8d75-46765cf38355",
        "outputId": "f31f4149-63ae-43c5-f7b1-17774ec1c255"
      },
      "outputs": [
        {
          "data": {
            "text/plain": [
              "8"
            ]
          },
          "execution_count": 58,
          "metadata": {},
          "output_type": "execute_result"
        }
      ],
      "source": [
        "random.randrange(1, 10)"
      ]
    },
    {
      "cell_type": "code",
      "execution_count": null,
      "id": "55c29219-ae64-4ee3-9404-c1b405dc3aab",
      "metadata": {
        "id": "55c29219-ae64-4ee3-9404-c1b405dc3aab",
        "outputId": "d62caaeb-a402-40ab-89b0-49622c183e8f"
      },
      "outputs": [
        {
          "data": {
            "text/plain": [
              "0.9728985682750961"
            ]
          },
          "execution_count": 59,
          "metadata": {},
          "output_type": "execute_result"
        }
      ],
      "source": [
        "random.random() #a random no generated between 0(included) and 1(excluded)"
      ]
    },
    {
      "cell_type": "code",
      "execution_count": null,
      "id": "71f866d7-4b97-4d6b-9a90-aceaacdbaf04",
      "metadata": {
        "id": "71f866d7-4b97-4d6b-9a90-aceaacdbaf04",
        "outputId": "b0b5c9e9-0ec8-4f16-b1ae-65bcf4d70635"
      },
      "outputs": [
        {
          "data": {
            "text/plain": [
              "[1, 2, 3, 4, 5]"
            ]
          },
          "execution_count": 60,
          "metadata": {},
          "output_type": "execute_result"
        }
      ],
      "source": [
        "lis = [1, 2, 3, 4, 5]\n",
        "lis"
      ]
    },
    {
      "cell_type": "code",
      "execution_count": null,
      "id": "b2c16d95-c07b-4865-b67a-71b5cef66563",
      "metadata": {
        "id": "b2c16d95-c07b-4865-b67a-71b5cef66563"
      },
      "outputs": [],
      "source": [
        "random.shuffle(lis)"
      ]
    },
    {
      "cell_type": "code",
      "execution_count": null,
      "id": "d04adf4f-09cc-42d2-ad4c-4b3df2ce9644",
      "metadata": {
        "id": "d04adf4f-09cc-42d2-ad4c-4b3df2ce9644",
        "outputId": "3ee537e4-a263-45b0-c28f-123352689c03"
      },
      "outputs": [
        {
          "data": {
            "text/plain": [
              "[5, 4, 2, 3, 1]"
            ]
          },
          "execution_count": 62,
          "metadata": {},
          "output_type": "execute_result"
        }
      ],
      "source": [
        "lis"
      ]
    },
    {
      "cell_type": "code",
      "execution_count": null,
      "id": "cc2cf199-b390-4f6d-819c-466f673bfd64",
      "metadata": {
        "id": "cc2cf199-b390-4f6d-819c-466f673bfd64",
        "outputId": "443633c7-17cd-483f-92c3-edb01534e389"
      },
      "outputs": [
        {
          "data": {
            "text/plain": [
              "12.576954563249108"
            ]
          },
          "execution_count": 63,
          "metadata": {},
          "output_type": "execute_result"
        }
      ],
      "source": [
        "random.uniform(7, 14)"
      ]
    },
    {
      "cell_type": "code",
      "execution_count": null,
      "id": "2559263f-0cf9-4467-b72d-9410d9405443",
      "metadata": {
        "id": "2559263f-0cf9-4467-b72d-9410d9405443",
        "outputId": "0e3f3a20-3f50-4462-8c21-6a3f3cce4f59"
      },
      "outputs": [
        {
          "data": {
            "text/plain": [
              "array([], dtype=float64)"
            ]
          },
          "execution_count": 64,
          "metadata": {},
          "output_type": "execute_result"
        }
      ],
      "source": [
        "#random numbers related concept in numpy\n",
        "\n",
        "np.array([])"
      ]
    },
    {
      "cell_type": "code",
      "execution_count": null,
      "id": "13610a22-c23a-4e24-ae2d-c0212bc86840",
      "metadata": {
        "id": "13610a22-c23a-4e24-ae2d-c0212bc86840",
        "outputId": "2a7f5cb9-c0f3-4a19-d4e6-bcd02840179f"
      },
      "outputs": [
        {
          "data": {
            "text/plain": [
              "0.7168659820559915"
            ]
          },
          "execution_count": 65,
          "metadata": {},
          "output_type": "execute_result"
        }
      ],
      "source": [
        "np.random.random_sample()"
      ]
    },
    {
      "cell_type": "code",
      "execution_count": null,
      "id": "83c5d9be-e30b-4669-a806-df2037c3d893",
      "metadata": {
        "id": "83c5d9be-e30b-4669-a806-df2037c3d893",
        "outputId": "af52af85-aad7-4c92-9ce2-52fa36822b7f"
      },
      "outputs": [
        {
          "data": {
            "text/plain": [
              "array([0.85743581, 0.28005044, 0.48774049, 0.10342411, 0.41707208])"
            ]
          },
          "execution_count": 67,
          "metadata": {},
          "output_type": "execute_result"
        }
      ],
      "source": [
        "np.random.random_sample((5, )) #1 dim array of 5 random nos"
      ]
    },
    {
      "cell_type": "code",
      "execution_count": null,
      "id": "97fa0535-f686-435f-98af-e600ac71dcab",
      "metadata": {
        "id": "97fa0535-f686-435f-98af-e600ac71dcab",
        "outputId": "86a7f0da-9213-4d5e-c7ab-ce817ce781f2"
      },
      "outputs": [
        {
          "data": {
            "text/plain": [
              "array([0.39270155])"
            ]
          },
          "execution_count": 68,
          "metadata": {},
          "output_type": "execute_result"
        }
      ],
      "source": [
        "np.random.rand(1)"
      ]
    },
    {
      "cell_type": "code",
      "execution_count": null,
      "id": "3e93a914-5a59-48a9-9e69-96262c82e409",
      "metadata": {
        "id": "3e93a914-5a59-48a9-9e69-96262c82e409",
        "outputId": "e42e0c7b-0add-4895-cc4f-4ae8a83bcec8"
      },
      "outputs": [
        {
          "data": {
            "text/plain": [
              "array([[0.29561722, 0.23591216, 0.76403335],\n",
              "       [0.53960614, 0.22486023, 0.26366914]])"
            ]
          },
          "execution_count": 69,
          "metadata": {},
          "output_type": "execute_result"
        }
      ],
      "source": [
        "np.random.rand(2, 3)"
      ]
    },
    {
      "cell_type": "code",
      "execution_count": null,
      "id": "737428f1-19dc-4e08-8023-0da8c944a3a5",
      "metadata": {
        "id": "737428f1-19dc-4e08-8023-0da8c944a3a5",
        "outputId": "23eb0531-ed5e-4704-9a9f-7a105a084c53"
      },
      "outputs": [
        {
          "data": {
            "text/plain": [
              "array([[ 0.52726285,  0.45931722,  0.24064425],\n",
              "       [-0.83145839,  0.13407456,  0.11095632]])"
            ]
          },
          "execution_count": 70,
          "metadata": {},
          "output_type": "execute_result"
        }
      ],
      "source": [
        "np.random.randn(2, 3) #return a sample (or samples) from the \"standard normal\" distribution."
      ]
    },
    {
      "cell_type": "code",
      "execution_count": null,
      "id": "ebf74c05-07cd-446d-a0bb-9edd72ea2d46",
      "metadata": {
        "id": "ebf74c05-07cd-446d-a0bb-9edd72ea2d46",
        "outputId": "36f4fd91-a76b-4893-b7ca-9dde0468af03"
      },
      "outputs": [
        {
          "data": {
            "text/plain": [
              "array([[2, 4, 3, 1],\n",
              "       [4, 2, 1, 1],\n",
              "       [4, 1, 4, 1]])"
            ]
          },
          "execution_count": 72,
          "metadata": {},
          "output_type": "execute_result"
        }
      ],
      "source": [
        "np.random.randint(1, 5, size = (3, 4)) #start from 1 and end at 5-1 and give array of shape 3, 4"
      ]
    },
    {
      "cell_type": "code",
      "execution_count": null,
      "id": "c88fe0c9-ec3a-43a4-ba75-c3f5ac35e7fd",
      "metadata": {
        "id": "c88fe0c9-ec3a-43a4-ba75-c3f5ac35e7fd"
      },
      "outputs": [],
      "source": [
        "arr = np.random.randint(1, 5, size = (3, 4))"
      ]
    },
    {
      "cell_type": "code",
      "execution_count": null,
      "id": "8ca4518e-b813-42c1-bd90-53174b7d3c9a",
      "metadata": {
        "id": "8ca4518e-b813-42c1-bd90-53174b7d3c9a",
        "outputId": "6549e9fd-94f5-4c66-af4b-033e1929f938"
      },
      "outputs": [
        {
          "data": {
            "text/plain": [
              "2"
            ]
          },
          "execution_count": 74,
          "metadata": {},
          "output_type": "execute_result"
        }
      ],
      "source": [
        "arr.ndim"
      ]
    },
    {
      "cell_type": "code",
      "execution_count": null,
      "id": "314a2761-6a46-4e33-b76d-9aebdba00ba5",
      "metadata": {
        "id": "314a2761-6a46-4e33-b76d-9aebdba00ba5",
        "outputId": "62351fd1-9406-4993-ebbb-ee10def6f33f"
      },
      "outputs": [
        {
          "data": {
            "text/plain": [
              "(3, 4)"
            ]
          },
          "execution_count": 76,
          "metadata": {},
          "output_type": "execute_result"
        }
      ],
      "source": [
        "arr.shape"
      ]
    },
    {
      "cell_type": "code",
      "execution_count": null,
      "id": "85a3340d-c293-4c8a-a36b-0b2122943289",
      "metadata": {
        "id": "85a3340d-c293-4c8a-a36b-0b2122943289",
        "outputId": "46b74aeb-46f7-4d5b-8058-07557e0d7b6c"
      },
      "outputs": [
        {
          "data": {
            "text/plain": [
              "12"
            ]
          },
          "execution_count": 77,
          "metadata": {},
          "output_type": "execute_result"
        }
      ],
      "source": [
        "arr.size"
      ]
    },
    {
      "cell_type": "code",
      "execution_count": null,
      "id": "3fee8209-6d4a-4327-9f58-760325d8f0dd",
      "metadata": {
        "id": "3fee8209-6d4a-4327-9f58-760325d8f0dd",
        "outputId": "79be8233-62c5-4767-8c24-92f24c9f6f02"
      },
      "outputs": [
        {
          "data": {
            "text/plain": [
              "array([[2, 1, 1, 4],\n",
              "       [2, 3, 2, 3],\n",
              "       [4, 3, 3, 1]])"
            ]
          },
          "execution_count": 78,
          "metadata": {},
          "output_type": "execute_result"
        }
      ],
      "source": [
        "arr"
      ]
    },
    {
      "cell_type": "code",
      "execution_count": null,
      "id": "16dce6d0-c8b0-4b47-a01f-199657897898",
      "metadata": {
        "id": "16dce6d0-c8b0-4b47-a01f-199657897898"
      },
      "outputs": [],
      "source": [
        "#reshaping of array\n",
        "arr1 = arr.reshape(2, 6) #Returns an array containing the same data with a new shape."
      ]
    },
    {
      "cell_type": "code",
      "execution_count": null,
      "id": "47bb5af8-a18e-412a-8634-3e207647282c",
      "metadata": {
        "id": "47bb5af8-a18e-412a-8634-3e207647282c",
        "outputId": "c92cce70-7894-4f6e-d31f-07df6764af81"
      },
      "outputs": [
        {
          "data": {
            "text/plain": [
              "array([[2, 1, 1, 4, 2, 3],\n",
              "       [2, 3, 4, 3, 3, 1]])"
            ]
          },
          "execution_count": 81,
          "metadata": {},
          "output_type": "execute_result"
        }
      ],
      "source": [
        "arr1"
      ]
    },
    {
      "cell_type": "code",
      "execution_count": null,
      "id": "2062a4ed-5914-4f4d-8a5d-ab842c4c0529",
      "metadata": {
        "id": "2062a4ed-5914-4f4d-8a5d-ab842c4c0529",
        "outputId": "10f5b7a8-33de-4ccc-bc84-ee9d29266736"
      },
      "outputs": [
        {
          "data": {
            "text/plain": [
              "12"
            ]
          },
          "execution_count": 82,
          "metadata": {},
          "output_type": "execute_result"
        }
      ],
      "source": [
        "arr1.size"
      ]
    },
    {
      "cell_type": "code",
      "execution_count": null,
      "id": "341aeac7-de54-40e3-8f42-089ad070ec27",
      "metadata": {
        "id": "341aeac7-de54-40e3-8f42-089ad070ec27",
        "outputId": "78923916-84f7-45ca-d705-592c93cce49f"
      },
      "outputs": [
        {
          "data": {
            "text/plain": [
              "(2, 6)"
            ]
          },
          "execution_count": 83,
          "metadata": {},
          "output_type": "execute_result"
        }
      ],
      "source": [
        "arr1.shape"
      ]
    },
    {
      "cell_type": "code",
      "execution_count": null,
      "id": "82823ea2-ad4b-4dd0-add8-8d6c4d9eeb66",
      "metadata": {
        "id": "82823ea2-ad4b-4dd0-add8-8d6c4d9eeb66",
        "outputId": "99aa62c8-8d3c-448d-f94c-239e9cdc16a2"
      },
      "outputs": [
        {
          "data": {
            "text/plain": [
              "2"
            ]
          },
          "execution_count": 84,
          "metadata": {},
          "output_type": "execute_result"
        }
      ],
      "source": [
        "arr1.ndim"
      ]
    },
    {
      "cell_type": "code",
      "execution_count": null,
      "id": "eb46e294-7ffc-43c0-a9de-cd8de11ff048",
      "metadata": {
        "id": "eb46e294-7ffc-43c0-a9de-cd8de11ff048"
      },
      "outputs": [],
      "source": [
        "#array size will never change, always reshape parameter should be multiplication of original array size"
      ]
    },
    {
      "cell_type": "code",
      "execution_count": null,
      "id": "bb4fa389-340b-465d-b695-e8bd45acbbbb",
      "metadata": {
        "id": "bb4fa389-340b-465d-b695-e8bd45acbbbb",
        "outputId": "2a036984-5a92-4b95-ed63-96daf7a59312"
      },
      "outputs": [
        {
          "data": {
            "text/plain": [
              "array([[2, 1, 1, 4],\n",
              "       [2, 3, 2, 3],\n",
              "       [4, 3, 3, 1]])"
            ]
          },
          "execution_count": 86,
          "metadata": {},
          "output_type": "execute_result"
        }
      ],
      "source": [
        "arr"
      ]
    },
    {
      "cell_type": "code",
      "execution_count": null,
      "id": "87afeecd-6a59-45b4-833e-240f5fd3a893",
      "metadata": {
        "id": "87afeecd-6a59-45b4-833e-240f5fd3a893",
        "outputId": "075d1108-5fd1-47d5-c1c1-bbef3d3d49d1"
      },
      "outputs": [
        {
          "ename": "ValueError",
          "evalue": "cannot reshape array of size 12 into shape (3,2)",
          "output_type": "error",
          "traceback": [
            "\u001b[0;31m---------------------------------------------------------------------------\u001b[0m",
            "\u001b[0;31mValueError\u001b[0m                                Traceback (most recent call last)",
            "Cell \u001b[0;32mIn[87], line 1\u001b[0m\n\u001b[0;32m----> 1\u001b[0m \u001b[43marr\u001b[49m\u001b[38;5;241;43m.\u001b[39;49m\u001b[43mreshape\u001b[49m\u001b[43m(\u001b[49m\u001b[38;5;241;43m3\u001b[39;49m\u001b[43m,\u001b[49m\u001b[38;5;241;43m2\u001b[39;49m\u001b[43m)\u001b[49m\n",
            "\u001b[0;31mValueError\u001b[0m: cannot reshape array of size 12 into shape (3,2)"
          ]
        }
      ],
      "source": [
        "arr.reshape(3,2)"
      ]
    },
    {
      "cell_type": "code",
      "execution_count": null,
      "id": "acb288f9-5543-4ae6-86b7-cfc982f84f2c",
      "metadata": {
        "id": "acb288f9-5543-4ae6-86b7-cfc982f84f2c",
        "outputId": "3f24646d-96a2-451b-9090-66213dd38fa7"
      },
      "outputs": [
        {
          "ename": "ValueError",
          "evalue": "cannot reshape array of size 12 into shape (3,3)",
          "output_type": "error",
          "traceback": [
            "\u001b[0;31m---------------------------------------------------------------------------\u001b[0m",
            "\u001b[0;31mValueError\u001b[0m                                Traceback (most recent call last)",
            "Cell \u001b[0;32mIn[88], line 1\u001b[0m\n\u001b[0;32m----> 1\u001b[0m \u001b[43marr\u001b[49m\u001b[38;5;241;43m.\u001b[39;49m\u001b[43mreshape\u001b[49m\u001b[43m(\u001b[49m\u001b[38;5;241;43m3\u001b[39;49m\u001b[43m,\u001b[49m\u001b[38;5;241;43m3\u001b[39;49m\u001b[43m)\u001b[49m\n",
            "\u001b[0;31mValueError\u001b[0m: cannot reshape array of size 12 into shape (3,3)"
          ]
        }
      ],
      "source": [
        "arr.reshape(3,3)"
      ]
    },
    {
      "cell_type": "code",
      "execution_count": null,
      "id": "e2abdd50-2d7f-45c0-9767-35ca70ff3ef7",
      "metadata": {
        "id": "e2abdd50-2d7f-45c0-9767-35ca70ff3ef7",
        "outputId": "a25e7cb3-d415-4d16-f89f-0006c18b49f1"
      },
      "outputs": [
        {
          "data": {
            "text/plain": [
              "array([[2, 1, 1, 4],\n",
              "       [2, 3, 2, 3],\n",
              "       [4, 3, 3, 1]])"
            ]
          },
          "execution_count": 89,
          "metadata": {},
          "output_type": "execute_result"
        }
      ],
      "source": [
        "arr.reshape(3,4)"
      ]
    },
    {
      "cell_type": "code",
      "execution_count": null,
      "id": "89a71f26-543b-4259-b786-3a8bb2fde847",
      "metadata": {
        "id": "89a71f26-543b-4259-b786-3a8bb2fde847",
        "outputId": "f1f498b5-0118-4ed0-9321-ed9afd1fd6b6"
      },
      "outputs": [
        {
          "data": {
            "text/plain": [
              "array([[2, 1, 1],\n",
              "       [4, 2, 3],\n",
              "       [2, 3, 4],\n",
              "       [3, 3, 1]])"
            ]
          },
          "execution_count": 90,
          "metadata": {},
          "output_type": "execute_result"
        }
      ],
      "source": [
        "arr.reshape(4,3)"
      ]
    },
    {
      "cell_type": "code",
      "execution_count": null,
      "id": "ddace779-8ebc-4634-8335-c7ddb4aae68a",
      "metadata": {
        "id": "ddace779-8ebc-4634-8335-c7ddb4aae68a",
        "outputId": "fedd1887-1609-4e22-8154-7e515cbda32f"
      },
      "outputs": [
        {
          "data": {
            "text/plain": [
              "array([[2, 1, 1, 4, 2, 3, 2, 3, 4, 3, 3, 1]])"
            ]
          },
          "execution_count": 91,
          "metadata": {},
          "output_type": "execute_result"
        }
      ],
      "source": [
        "arr.reshape(1, 12)"
      ]
    },
    {
      "cell_type": "code",
      "execution_count": null,
      "id": "42e9bf96-6cea-45f8-9dc6-31b9fab3d818",
      "metadata": {
        "id": "42e9bf96-6cea-45f8-9dc6-31b9fab3d818",
        "outputId": "23bb4d72-08bd-4d47-cba7-26f03ed36d08"
      },
      "outputs": [
        {
          "data": {
            "text/plain": [
              "array([[2],\n",
              "       [1],\n",
              "       [1],\n",
              "       [4],\n",
              "       [2],\n",
              "       [3],\n",
              "       [2],\n",
              "       [3],\n",
              "       [4],\n",
              "       [3],\n",
              "       [3],\n",
              "       [1]])"
            ]
          },
          "execution_count": 92,
          "metadata": {},
          "output_type": "execute_result"
        }
      ],
      "source": [
        "arr.reshape(12, 1)"
      ]
    },
    {
      "cell_type": "code",
      "execution_count": null,
      "id": "2c10cf8d-f6dd-4612-9342-9af6588e6c6c",
      "metadata": {
        "id": "2c10cf8d-f6dd-4612-9342-9af6588e6c6c",
        "outputId": "2743522c-f939-4b9c-93da-7bf5fff13d53"
      },
      "outputs": [
        {
          "data": {
            "text/plain": [
              "array([[2, 1, 1],\n",
              "       [4, 2, 3],\n",
              "       [2, 3, 4],\n",
              "       [3, 3, 1]])"
            ]
          },
          "execution_count": 93,
          "metadata": {},
          "output_type": "execute_result"
        }
      ],
      "source": [
        "#case when you dont know in reshape what should be the row or column count\n",
        "#use any negative value for rows or columns\n",
        "arr.reshape(4,-1)"
      ]
    },
    {
      "cell_type": "code",
      "execution_count": null,
      "id": "3114a95c-1ec6-41e1-8d9f-7a20f88d0a26",
      "metadata": {
        "id": "3114a95c-1ec6-41e1-8d9f-7a20f88d0a26",
        "outputId": "82a77904-09fc-4026-a6d2-f1d59803dc2c"
      },
      "outputs": [
        {
          "data": {
            "text/plain": [
              "array([[2, 1, 1],\n",
              "       [4, 2, 3],\n",
              "       [2, 3, 4],\n",
              "       [3, 3, 1]])"
            ]
          },
          "execution_count": 94,
          "metadata": {},
          "output_type": "execute_result"
        }
      ],
      "source": [
        "arr.reshape(4,-100)"
      ]
    },
    {
      "cell_type": "code",
      "execution_count": null,
      "id": "54b053b5-c263-4e4d-b3cd-340628972eab",
      "metadata": {
        "id": "54b053b5-c263-4e4d-b3cd-340628972eab",
        "outputId": "fcacbddd-0f98-4534-9424-1cbbc325f532"
      },
      "outputs": [
        {
          "data": {
            "text/plain": [
              "array([[2, 1, 1, 4],\n",
              "       [2, 3, 2, 3],\n",
              "       [4, 3, 3, 1]])"
            ]
          },
          "execution_count": 95,
          "metadata": {},
          "output_type": "execute_result"
        }
      ],
      "source": [
        "arr.reshape(-1,4)"
      ]
    },
    {
      "cell_type": "code",
      "execution_count": null,
      "id": "f01c67a7-0716-443a-b76b-926410f0e4d7",
      "metadata": {
        "id": "f01c67a7-0716-443a-b76b-926410f0e4d7",
        "outputId": "3aa8e1d0-da3f-4536-c51f-10f3aeceb50e"
      },
      "outputs": [
        {
          "data": {
            "text/plain": [
              "array([[2, 1, 1, 4],\n",
              "       [2, 3, 2, 3],\n",
              "       [4, 3, 3, 1]])"
            ]
          },
          "execution_count": 96,
          "metadata": {},
          "output_type": "execute_result"
        }
      ],
      "source": [
        "arr"
      ]
    },
    {
      "cell_type": "code",
      "execution_count": null,
      "id": "d692d6d0-ea8d-4ec6-bbc1-e2d8ebc4a71b",
      "metadata": {
        "id": "d692d6d0-ea8d-4ec6-bbc1-e2d8ebc4a71b",
        "outputId": "060d25fd-a6d1-42fa-9249-4abbb9f659aa"
      },
      "outputs": [
        {
          "data": {
            "text/plain": [
              "array([[2, 1, 1, 4],\n",
              "       [2, 3, 2, 3],\n",
              "       [4, 3, 3, 1]])"
            ]
          },
          "execution_count": 98,
          "metadata": {},
          "output_type": "execute_result"
        }
      ],
      "source": [
        "arr.reshape(12, 1).base #to see the original array"
      ]
    },
    {
      "cell_type": "code",
      "execution_count": null,
      "id": "86235e04-ef4d-4dc9-bd4f-f3f14375d60a",
      "metadata": {
        "id": "86235e04-ef4d-4dc9-bd4f-f3f14375d60a",
        "outputId": "b3efe695-79ca-485b-cf99-2c8107bb65dd"
      },
      "outputs": [
        {
          "data": {
            "text/plain": [
              "array([[[2, 1, 1],\n",
              "        [4, 2, 3]],\n",
              "\n",
              "       [[2, 3, 4],\n",
              "        [3, 3, 1]]])"
            ]
          },
          "execution_count": 100,
          "metadata": {},
          "output_type": "execute_result"
        }
      ],
      "source": [
        "arr.reshape(2, 2, 3) #multiplication should be equals to arr size"
      ]
    },
    {
      "cell_type": "code",
      "execution_count": null,
      "id": "102ea452-19f5-4b7e-a520-3c88e9a8a2d1",
      "metadata": {
        "id": "102ea452-19f5-4b7e-a520-3c88e9a8a2d1",
        "outputId": "213fc8f7-e616-41ef-d6d6-354424fd219a"
      },
      "outputs": [
        {
          "data": {
            "text/plain": [
              "array([[[[2, 1, 1],\n",
              "         [4, 2, 3]],\n",
              "\n",
              "        [[2, 3, 4],\n",
              "         [3, 3, 1]]]])"
            ]
          },
          "execution_count": 101,
          "metadata": {},
          "output_type": "execute_result"
        }
      ],
      "source": [
        "arr.reshape(1, 2, 2, 3)"
      ]
    },
    {
      "cell_type": "code",
      "execution_count": null,
      "id": "ac7e0019-a2dc-4175-bfb9-cd3e5a052095",
      "metadata": {
        "id": "ac7e0019-a2dc-4175-bfb9-cd3e5a052095",
        "outputId": "095c3da2-4545-42f3-941c-1f4e6e21d54e"
      },
      "outputs": [
        {
          "data": {
            "text/plain": [
              "4"
            ]
          },
          "execution_count": 102,
          "metadata": {},
          "output_type": "execute_result"
        }
      ],
      "source": [
        "arr.reshape(1, 2, 2, 3).ndim"
      ]
    },
    {
      "cell_type": "code",
      "execution_count": null,
      "id": "4f1af5a4-87cb-49db-b0eb-934119267c20",
      "metadata": {
        "id": "4f1af5a4-87cb-49db-b0eb-934119267c20",
        "outputId": "524e6af6-1c9e-4df3-f052-4dbfe186cf35"
      },
      "outputs": [
        {
          "data": {
            "text/plain": [
              "array([[[2],\n",
              "        [1],\n",
              "        [1]],\n",
              "\n",
              "       [[4],\n",
              "        [2],\n",
              "        [3]],\n",
              "\n",
              "       [[2],\n",
              "        [3],\n",
              "        [4]],\n",
              "\n",
              "       [[3],\n",
              "        [3],\n",
              "        [1]]])"
            ]
          },
          "execution_count": 104,
          "metadata": {},
          "output_type": "execute_result"
        }
      ],
      "source": [
        "arr.reshape(4, 3, 1) #3 rows 1 column repeated 4 times in the third dimension"
      ]
    },
    {
      "cell_type": "code",
      "execution_count": null,
      "id": "62cdeb4d-4b38-44ee-94a9-7c770f985c8b",
      "metadata": {
        "id": "62cdeb4d-4b38-44ee-94a9-7c770f985c8b"
      },
      "outputs": [],
      "source": [
        "#conditions on array\n",
        "arr1=np.random.randint(1, 10, (5, 6))"
      ]
    },
    {
      "cell_type": "code",
      "execution_count": null,
      "id": "14010265-5406-447b-aae2-d668c718d0ab",
      "metadata": {
        "id": "14010265-5406-447b-aae2-d668c718d0ab",
        "outputId": "f4b0eda9-ca69-41e8-9b25-7383c716d4f9"
      },
      "outputs": [
        {
          "data": {
            "text/plain": [
              "array([[4, 9, 2, 5, 2, 2],\n",
              "       [4, 7, 3, 7, 8, 6],\n",
              "       [4, 4, 5, 8, 8, 3],\n",
              "       [7, 8, 3, 7, 9, 8],\n",
              "       [3, 6, 1, 7, 5, 4]])"
            ]
          },
          "execution_count": 106,
          "metadata": {},
          "output_type": "execute_result"
        }
      ],
      "source": [
        "arr1"
      ]
    },
    {
      "cell_type": "code",
      "execution_count": null,
      "id": "ff479d73-0911-4824-b0a4-f922612bad78",
      "metadata": {
        "id": "ff479d73-0911-4824-b0a4-f922612bad78",
        "outputId": "c86a0592-81e7-4443-e775-129be6cbcb95"
      },
      "outputs": [
        {
          "data": {
            "text/plain": [
              "(5, 6)"
            ]
          },
          "execution_count": 107,
          "metadata": {},
          "output_type": "execute_result"
        }
      ],
      "source": [
        "arr1.shape"
      ]
    },
    {
      "cell_type": "code",
      "execution_count": null,
      "id": "ab833dea-125d-42ed-b0f9-306d8155809d",
      "metadata": {
        "id": "ab833dea-125d-42ed-b0f9-306d8155809d",
        "outputId": "48d8a5d5-4513-4659-c6c7-00799668392a"
      },
      "outputs": [
        {
          "data": {
            "text/plain": [
              "30"
            ]
          },
          "execution_count": 108,
          "metadata": {},
          "output_type": "execute_result"
        }
      ],
      "source": [
        "arr1.size"
      ]
    },
    {
      "cell_type": "code",
      "execution_count": null,
      "id": "4d5287a3-84df-4909-8a73-2e7fa6e44329",
      "metadata": {
        "id": "4d5287a3-84df-4909-8a73-2e7fa6e44329",
        "outputId": "b8e6a58a-a368-4b05-b27c-7c2b73c7745a"
      },
      "outputs": [
        {
          "data": {
            "text/plain": [
              "2"
            ]
          },
          "execution_count": 109,
          "metadata": {},
          "output_type": "execute_result"
        }
      ],
      "source": [
        "arr1.ndim"
      ]
    },
    {
      "cell_type": "code",
      "execution_count": null,
      "id": "dd0f0995-ce40-41dd-96e7-a38640c55d41",
      "metadata": {
        "id": "dd0f0995-ce40-41dd-96e7-a38640c55d41",
        "outputId": "c331f833-fe4a-47ab-fd82-d3cb2d6df433"
      },
      "outputs": [
        {
          "data": {
            "text/plain": [
              "array([[4, 9, 2, 5, 2, 2],\n",
              "       [4, 7, 3, 7, 8, 6],\n",
              "       [4, 4, 5, 8, 8, 3],\n",
              "       [7, 8, 3, 7, 9, 8],\n",
              "       [3, 6, 1, 7, 5, 4]])"
            ]
          },
          "execution_count": 110,
          "metadata": {},
          "output_type": "execute_result"
        }
      ],
      "source": [
        "arr1"
      ]
    },
    {
      "cell_type": "code",
      "execution_count": null,
      "id": "b710e640-2331-4c4e-808c-25cf1c116f0f",
      "metadata": {
        "id": "b710e640-2331-4c4e-808c-25cf1c116f0f",
        "outputId": "63b0177d-e6cd-484d-d977-f6959ff67743"
      },
      "outputs": [
        {
          "data": {
            "text/plain": [
              "array([[ True,  True, False,  True, False, False],\n",
              "       [ True,  True, False,  True,  True,  True],\n",
              "       [ True,  True,  True,  True,  True, False],\n",
              "       [ True,  True, False,  True,  True,  True],\n",
              "       [False,  True, False,  True,  True,  True]])"
            ]
          },
          "execution_count": 111,
          "metadata": {},
          "output_type": "execute_result"
        }
      ],
      "source": [
        "arr1 > 3"
      ]
    },
    {
      "cell_type": "code",
      "execution_count": null,
      "id": "ce586a1b-cf90-47ba-8a46-e137c1ecc17a",
      "metadata": {
        "id": "ce586a1b-cf90-47ba-8a46-e137c1ecc17a",
        "outputId": "7511ba17-ce2a-4f0a-c0f4-d71bed01b17f"
      },
      "outputs": [
        {
          "data": {
            "text/plain": [
              "array([4, 9, 5, 4, 7, 7, 8, 6, 4, 4, 5, 8, 8, 7, 8, 7, 9, 8, 6, 7, 5, 4])"
            ]
          },
          "execution_count": 112,
          "metadata": {},
          "output_type": "execute_result"
        }
      ],
      "source": [
        "arr1[arr1 > 3] #select all the elements of arr1 where the condition is true"
      ]
    },
    {
      "cell_type": "code",
      "execution_count": null,
      "id": "a46ee76c-0cc5-418d-90d0-1e12e0acfda6",
      "metadata": {
        "id": "a46ee76c-0cc5-418d-90d0-1e12e0acfda6",
        "outputId": "1b7b2550-c817-4111-e5c2-5c29355945a8"
      },
      "outputs": [
        {
          "data": {
            "text/plain": [
              "array([2, 2, 2, 1])"
            ]
          },
          "execution_count": 113,
          "metadata": {},
          "output_type": "execute_result"
        }
      ],
      "source": [
        "arr1[arr1 < 3]"
      ]
    },
    {
      "cell_type": "code",
      "execution_count": null,
      "id": "c59b3075-fe21-4ab2-ba7e-1cde07ccd278",
      "metadata": {
        "id": "c59b3075-fe21-4ab2-ba7e-1cde07ccd278",
        "outputId": "c2e2d946-e041-4172-ffa6-d116434fa6cd"
      },
      "outputs": [
        {
          "data": {
            "text/plain": [
              "array([[4, 9, 2, 5, 2, 2],\n",
              "       [4, 7, 3, 7, 8, 6],\n",
              "       [4, 4, 5, 8, 8, 3],\n",
              "       [7, 8, 3, 7, 9, 8],\n",
              "       [3, 6, 1, 7, 5, 4]])"
            ]
          },
          "execution_count": 114,
          "metadata": {},
          "output_type": "execute_result"
        }
      ],
      "source": [
        "arr1"
      ]
    },
    {
      "cell_type": "code",
      "execution_count": null,
      "id": "9f5b74f6-afd2-474d-9d7c-b7514416308d",
      "metadata": {
        "id": "9f5b74f6-afd2-474d-9d7c-b7514416308d"
      },
      "outputs": [],
      "source": [
        "#to access elements in an arry"
      ]
    },
    {
      "cell_type": "code",
      "execution_count": null,
      "id": "cfcf6a40-8f21-452d-9166-cd7bd98e2de0",
      "metadata": {
        "id": "cfcf6a40-8f21-452d-9166-cd7bd98e2de0",
        "outputId": "ab246630-ebe7-4ddb-a03c-33aef3b1686a"
      },
      "outputs": [
        {
          "data": {
            "text/plain": [
              "array([4, 9, 2, 5, 2, 2])"
            ]
          },
          "execution_count": 116,
          "metadata": {},
          "output_type": "execute_result"
        }
      ],
      "source": [
        "arr1[0]"
      ]
    },
    {
      "cell_type": "code",
      "execution_count": null,
      "id": "1233db8c-0e2a-494f-8b38-cd755a48d629",
      "metadata": {
        "id": "1233db8c-0e2a-494f-8b38-cd755a48d629",
        "outputId": "dbe65a72-5579-4146-f890-fd7995aa79b4"
      },
      "outputs": [
        {
          "data": {
            "text/plain": [
              "3"
            ]
          },
          "execution_count": 118,
          "metadata": {},
          "output_type": "execute_result"
        }
      ],
      "source": [
        "arr1[1][2]"
      ]
    },
    {
      "cell_type": "code",
      "execution_count": null,
      "id": "b32624a0-c3e7-46c1-a74f-2d5014557e98",
      "metadata": {
        "id": "b32624a0-c3e7-46c1-a74f-2d5014557e98",
        "outputId": "c2244da4-9dc4-4b77-a463-356d17c572be"
      },
      "outputs": [
        {
          "data": {
            "text/plain": [
              "array([[4, 9, 2, 5, 2, 2],\n",
              "       [4, 7, 3, 7, 8, 6],\n",
              "       [4, 4, 5, 8, 8, 3],\n",
              "       [7, 8, 3, 7, 9, 8],\n",
              "       [3, 6, 1, 7, 5, 4]])"
            ]
          },
          "execution_count": 119,
          "metadata": {},
          "output_type": "execute_result"
        }
      ],
      "source": [
        "arr1"
      ]
    },
    {
      "cell_type": "code",
      "execution_count": null,
      "id": "cf23e1cc-997f-4662-be8e-aa09d6e29946",
      "metadata": {
        "id": "cf23e1cc-997f-4662-be8e-aa09d6e29946",
        "outputId": "27b8a7d5-6b64-45b7-bb6a-d0123ff372bd"
      },
      "outputs": [
        {
          "data": {
            "text/plain": [
              "8"
            ]
          },
          "execution_count": 120,
          "metadata": {},
          "output_type": "execute_result"
        }
      ],
      "source": [
        "arr1[3][1]"
      ]
    },
    {
      "cell_type": "code",
      "execution_count": null,
      "id": "a32a0d18-a4bb-485d-9ba0-51fc894cb65c",
      "metadata": {
        "id": "a32a0d18-a4bb-485d-9ba0-51fc894cb65c",
        "outputId": "8d09438a-68af-47e3-886d-7f923450e65b"
      },
      "outputs": [
        {
          "data": {
            "text/plain": [
              "array([[4, 9, 2, 5, 2, 2],\n",
              "       [4, 7, 3, 7, 8, 6],\n",
              "       [4, 4, 5, 8, 8, 3],\n",
              "       [7, 8, 3, 7, 9, 8],\n",
              "       [3, 6, 1, 7, 5, 4]])"
            ]
          },
          "execution_count": 121,
          "metadata": {},
          "output_type": "execute_result"
        }
      ],
      "source": [
        "arr1"
      ]
    },
    {
      "cell_type": "code",
      "execution_count": null,
      "id": "b2916a61-0b7e-4381-875d-4c2c6e355cd4",
      "metadata": {
        "id": "b2916a61-0b7e-4381-875d-4c2c6e355cd4",
        "outputId": "94a76153-e21d-4104-eb71-b463e03bf490"
      },
      "outputs": [
        {
          "data": {
            "text/plain": [
              "array([[4, 9, 2, 5, 2, 2],\n",
              "       [4, 7, 3, 7, 8, 6],\n",
              "       [4, 4, 5, 8, 8, 3]])"
            ]
          },
          "execution_count": 122,
          "metadata": {},
          "output_type": "execute_result"
        }
      ],
      "source": [
        "#from oth row to 2nd row\n",
        "arr1[0:3]"
      ]
    },
    {
      "cell_type": "code",
      "execution_count": null,
      "id": "4cda054e-7ae2-40f4-a315-0b5cefcb9709",
      "metadata": {
        "id": "4cda054e-7ae2-40f4-a315-0b5cefcb9709",
        "outputId": "1f349360-8690-48e0-cc32-be0d84f632fc"
      },
      "outputs": [
        {
          "data": {
            "text/plain": [
              "array([[4, 2],\n",
              "       [4, 3],\n",
              "       [4, 5]])"
            ]
          },
          "execution_count": 123,
          "metadata": {},
          "output_type": "execute_result"
        }
      ],
      "source": [
        "#0 to 2nd row and 0th and 2nd column\n",
        "arr1[0:3,[0, 2] ]"
      ]
    },
    {
      "cell_type": "code",
      "execution_count": null,
      "id": "06101ed7-3b58-4251-9fe3-0e5eeefa633f",
      "metadata": {
        "id": "06101ed7-3b58-4251-9fe3-0e5eeefa633f",
        "outputId": "5684f138-44dc-4a3e-8700-b3ab4032db7a"
      },
      "outputs": [
        {
          "data": {
            "text/plain": [
              "array([[4, 9, 2, 5, 2, 2],\n",
              "       [4, 7, 3, 7, 8, 6],\n",
              "       [4, 4, 5, 8, 8, 3],\n",
              "       [7, 8, 3, 7, 9, 8],\n",
              "       [3, 6, 1, 7, 5, 4]])"
            ]
          },
          "execution_count": 124,
          "metadata": {},
          "output_type": "execute_result"
        }
      ],
      "source": [
        "#slicing on both rows and columns together\n",
        "arr1"
      ]
    },
    {
      "cell_type": "code",
      "execution_count": null,
      "id": "0bfc8c8e-a963-4b69-897e-c81870467d9d",
      "metadata": {
        "id": "0bfc8c8e-a963-4b69-897e-c81870467d9d",
        "outputId": "9c87c1fe-eb37-4103-f32d-2483d46c68b1"
      },
      "outputs": [
        {
          "data": {
            "text/plain": [
              "array([[9, 2],\n",
              "       [7, 3],\n",
              "       [4, 5]])"
            ]
          },
          "execution_count": 127,
          "metadata": {},
          "output_type": "execute_result"
        }
      ],
      "source": [
        "arr1[0:3, 1:3]"
      ]
    },
    {
      "cell_type": "code",
      "execution_count": null,
      "id": "bd1d8233-8228-4002-8f61-02a42de64773",
      "metadata": {
        "id": "bd1d8233-8228-4002-8f61-02a42de64773",
        "outputId": "bb0cd8f7-f568-42aa-8580-095a84b657c5"
      },
      "outputs": [
        {
          "data": {
            "text/plain": [
              "array([[4, 9],\n",
              "       [4, 7],\n",
              "       [4, 4]])"
            ]
          },
          "execution_count": 128,
          "metadata": {},
          "output_type": "execute_result"
        }
      ],
      "source": [
        "arr1[0:3, [0, 1]]"
      ]
    },
    {
      "cell_type": "code",
      "execution_count": null,
      "id": "5ef9493a-046d-4c5f-b5e1-1c93aaf5d9d1",
      "metadata": {
        "id": "5ef9493a-046d-4c5f-b5e1-1c93aaf5d9d1",
        "outputId": "ee007b00-b996-4519-bdd9-cbd0bbb69677"
      },
      "outputs": [
        {
          "data": {
            "text/plain": [
              "array([9, 5])"
            ]
          },
          "execution_count": 130,
          "metadata": {},
          "output_type": "execute_result"
        }
      ],
      "source": [
        "arr1[0, [1, 3]]"
      ]
    },
    {
      "cell_type": "code",
      "execution_count": null,
      "id": "b039027a-a126-47e9-b23b-3289ceb9978f",
      "metadata": {
        "id": "b039027a-a126-47e9-b23b-3289ceb9978f",
        "outputId": "0c7a8e8b-0131-4639-922f-3cfdf5729d2f"
      },
      "outputs": [
        {
          "data": {
            "text/plain": [
              "array([[4, 8],\n",
              "       [7, 7]])"
            ]
          },
          "execution_count": 131,
          "metadata": {},
          "output_type": "execute_result"
        }
      ],
      "source": [
        "arr1[2:4, [0, 3]]"
      ]
    },
    {
      "cell_type": "code",
      "execution_count": null,
      "id": "1cdcb18d-7e80-4018-89e5-d95e91de5253",
      "metadata": {
        "id": "1cdcb18d-7e80-4018-89e5-d95e91de5253",
        "outputId": "762b0a8b-8a4d-4975-c7db-cdbc24a0ee50"
      },
      "outputs": [
        {
          "data": {
            "text/plain": [
              "array([[4, 4, 5, 8, 8, 3],\n",
              "       [7, 8, 3, 7, 9, 8],\n",
              "       [3, 6, 1, 7, 5, 4]])"
            ]
          },
          "execution_count": 132,
          "metadata": {},
          "output_type": "execute_result"
        }
      ],
      "source": [
        "arr1[2:5]"
      ]
    },
    {
      "cell_type": "code",
      "execution_count": null,
      "id": "968c3dc8-467a-40cc-9f65-2a197b2032eb",
      "metadata": {
        "id": "968c3dc8-467a-40cc-9f65-2a197b2032eb",
        "outputId": "abfb568d-0437-465f-daca-2e5612e3a8f1"
      },
      "outputs": [
        {
          "data": {
            "text/plain": [
              "array([[4, 4],\n",
              "       [7, 8],\n",
              "       [3, 6]])"
            ]
          },
          "execution_count": 133,
          "metadata": {},
          "output_type": "execute_result"
        }
      ],
      "source": [
        "arr1[2:5, 0:2]"
      ]
    },
    {
      "cell_type": "code",
      "execution_count": null,
      "id": "522e189a-2eb6-4f63-9c70-00626f5b78a6",
      "metadata": {
        "id": "522e189a-2eb6-4f63-9c70-00626f5b78a6"
      },
      "outputs": [],
      "source": [
        "#mathematical operations on two arrays\n",
        "arr1 = np.random.randint(1, 3, (3,3))\n",
        "arr2 = np.random.randint(1, 3, (3,3))"
      ]
    },
    {
      "cell_type": "code",
      "execution_count": null,
      "id": "fd96ce73-8a27-4954-9b1a-3deeec887f31",
      "metadata": {
        "id": "fd96ce73-8a27-4954-9b1a-3deeec887f31",
        "outputId": "34a48b36-bd2c-4257-d07c-6fa8368d2948"
      },
      "outputs": [
        {
          "data": {
            "text/plain": [
              "array([[2, 1, 2],\n",
              "       [1, 1, 1],\n",
              "       [1, 2, 2]])"
            ]
          },
          "execution_count": 136,
          "metadata": {},
          "output_type": "execute_result"
        }
      ],
      "source": [
        "arr1"
      ]
    },
    {
      "cell_type": "code",
      "execution_count": null,
      "id": "51812d10-e178-435d-93ee-5b557bce04dd",
      "metadata": {
        "id": "51812d10-e178-435d-93ee-5b557bce04dd",
        "outputId": "90f8c236-8863-4459-95f0-adb06e19ce0e"
      },
      "outputs": [
        {
          "data": {
            "text/plain": [
              "array([[1, 1, 2],\n",
              "       [1, 1, 2],\n",
              "       [2, 2, 2]])"
            ]
          },
          "execution_count": 137,
          "metadata": {},
          "output_type": "execute_result"
        }
      ],
      "source": [
        "arr2"
      ]
    },
    {
      "cell_type": "code",
      "execution_count": null,
      "id": "639a8863-05ae-4e46-9699-c43d00537a52",
      "metadata": {
        "id": "639a8863-05ae-4e46-9699-c43d00537a52",
        "outputId": "132f92bd-7873-47c5-fcbc-72324b354122"
      },
      "outputs": [
        {
          "data": {
            "text/plain": [
              "array([[3, 2, 4],\n",
              "       [2, 2, 3],\n",
              "       [3, 4, 4]])"
            ]
          },
          "execution_count": 138,
          "metadata": {},
          "output_type": "execute_result"
        }
      ],
      "source": [
        "arr1+arr2 #indexwise element addition"
      ]
    },
    {
      "cell_type": "code",
      "execution_count": null,
      "id": "dda8d641-c0c0-4998-aaa5-6787d5eac1bb",
      "metadata": {
        "id": "dda8d641-c0c0-4998-aaa5-6787d5eac1bb",
        "outputId": "28237bda-d76b-4424-af5b-98a1afbace2e"
      },
      "outputs": [
        {
          "data": {
            "text/plain": [
              "array([[ 1,  0,  0],\n",
              "       [ 0,  0, -1],\n",
              "       [-1,  0,  0]])"
            ]
          },
          "execution_count": 139,
          "metadata": {},
          "output_type": "execute_result"
        }
      ],
      "source": [
        "arr1-arr2"
      ]
    },
    {
      "cell_type": "code",
      "execution_count": null,
      "id": "f378faed-7133-4251-b4aa-540dccc2e76b",
      "metadata": {
        "id": "f378faed-7133-4251-b4aa-540dccc2e76b",
        "outputId": "a8784322-71ef-4396-b1a8-47bdb4ef564c"
      },
      "outputs": [
        {
          "data": {
            "text/plain": [
              "array([[2, 1, 4],\n",
              "       [1, 1, 2],\n",
              "       [2, 4, 4]])"
            ]
          },
          "execution_count": 140,
          "metadata": {},
          "output_type": "execute_result"
        }
      ],
      "source": [
        "arr1 * arr2 #index wise multiplication"
      ]
    },
    {
      "cell_type": "code",
      "execution_count": null,
      "id": "d33b6384-e59d-41a5-9172-34fa4f299008",
      "metadata": {
        "id": "d33b6384-e59d-41a5-9172-34fa4f299008",
        "outputId": "c9e8a952-1a7b-4457-d53a-b5c6bbe98c67"
      },
      "outputs": [
        {
          "data": {
            "text/plain": [
              "(array([[2, 1, 2],\n",
              "        [1, 1, 1],\n",
              "        [1, 2, 2]]),\n",
              " array([[1, 1, 2],\n",
              "        [1, 1, 2],\n",
              "        [2, 2, 2]]))"
            ]
          },
          "execution_count": 141,
          "metadata": {},
          "output_type": "execute_result"
        }
      ],
      "source": [
        "arr1, arr2"
      ]
    },
    {
      "cell_type": "code",
      "execution_count": null,
      "id": "e8a583f3-0331-4eae-8b47-66be269bbddc",
      "metadata": {
        "id": "e8a583f3-0331-4eae-8b47-66be269bbddc",
        "outputId": "cccac17a-7190-41e2-c64b-0c6ee00369b8"
      },
      "outputs": [
        {
          "data": {
            "text/plain": [
              "array([[2. , 1. , 1. ],\n",
              "       [1. , 1. , 0.5],\n",
              "       [0.5, 1. , 1. ]])"
            ]
          },
          "execution_count": 142,
          "metadata": {},
          "output_type": "execute_result"
        }
      ],
      "source": [
        "arr1/arr2 #index wise divison"
      ]
    },
    {
      "cell_type": "code",
      "execution_count": null,
      "id": "c556da28-b16a-439a-9a14-ad704e2eb4b3",
      "metadata": {
        "id": "c556da28-b16a-439a-9a14-ad704e2eb4b3",
        "outputId": "9db52d17-d428-478d-945a-79a60b125926"
      },
      "outputs": [
        {
          "ename": "ZeroDivisionError",
          "evalue": "division by zero",
          "output_type": "error",
          "traceback": [
            "\u001b[0;31m---------------------------------------------------------------------------\u001b[0m",
            "\u001b[0;31mZeroDivisionError\u001b[0m                         Traceback (most recent call last)",
            "Cell \u001b[0;32mIn[143], line 1\u001b[0m\n\u001b[0;32m----> 1\u001b[0m \u001b[38;5;241;43m4\u001b[39;49m\u001b[38;5;241;43m/\u001b[39;49m\u001b[38;5;241;43m0\u001b[39;49m\n",
            "\u001b[0;31mZeroDivisionError\u001b[0m: division by zero"
          ]
        }
      ],
      "source": [
        "4/0"
      ]
    },
    {
      "cell_type": "code",
      "execution_count": null,
      "id": "3642b72e-d4b5-47f8-a74e-6cb0be4100df",
      "metadata": {
        "id": "3642b72e-d4b5-47f8-a74e-6cb0be4100df",
        "outputId": "ddcc0b14-df5e-4ea8-ad16-45648734aa9f"
      },
      "outputs": [
        {
          "name": "stderr",
          "output_type": "stream",
          "text": [
            "/tmp/ipykernel_525/1510032488.py:1: RuntimeWarning: divide by zero encountered in divide\n",
            "  arr1/0\n"
          ]
        },
        {
          "data": {
            "text/plain": [
              "array([[inf, inf, inf],\n",
              "       [inf, inf, inf],\n",
              "       [inf, inf, inf]])"
            ]
          },
          "execution_count": 144,
          "metadata": {},
          "output_type": "execute_result"
        }
      ],
      "source": [
        "arr1/0"
      ]
    },
    {
      "cell_type": "code",
      "execution_count": null,
      "id": "6084f53b-2293-4b9f-9c76-c703456ed3c5",
      "metadata": {
        "id": "6084f53b-2293-4b9f-9c76-c703456ed3c5",
        "outputId": "cd94266f-26f9-44fa-a448-a151f6f6fe44"
      },
      "outputs": [
        {
          "data": {
            "text/plain": [
              "array([[2, 1, 2],\n",
              "       [1, 1, 1],\n",
              "       [1, 2, 2]])"
            ]
          },
          "execution_count": 145,
          "metadata": {},
          "output_type": "execute_result"
        }
      ],
      "source": [
        "arr1"
      ]
    },
    {
      "cell_type": "code",
      "execution_count": null,
      "id": "3a4605e1-7252-4000-b4a4-779c46c4598f",
      "metadata": {
        "id": "3a4605e1-7252-4000-b4a4-779c46c4598f"
      },
      "outputs": [],
      "source": [
        "#matrix multiplication >>matrix is a specialised 2-d array\n",
        "#matrix multiplication is different from index wise multiplication"
      ]
    },
    {
      "cell_type": "code",
      "execution_count": null,
      "id": "66198e30-b70e-4e4f-a04f-e0446a8068a1",
      "metadata": {
        "id": "66198e30-b70e-4e4f-a04f-e0446a8068a1",
        "outputId": "dc61a9bd-1a13-401f-8043-817aa61079bf"
      },
      "outputs": [
        {
          "data": {
            "text/plain": [
              "array([[ 7,  7, 10],\n",
              "       [ 4,  4,  6],\n",
              "       [ 7,  7, 10]])"
            ]
          },
          "execution_count": 147,
          "metadata": {},
          "output_type": "execute_result"
        }
      ],
      "source": [
        "arr1 @ arr2"
      ]
    },
    {
      "cell_type": "code",
      "execution_count": null,
      "id": "83a8724b-3ac5-4927-b557-993ef95b3c5a",
      "metadata": {
        "id": "83a8724b-3ac5-4927-b557-993ef95b3c5a",
        "outputId": "5fbdf0f5-f3ec-422b-e443-cdf9e327e400"
      },
      "outputs": [
        {
          "data": {
            "text/plain": [
              "array([[ 7,  7, 10],\n",
              "       [ 4,  4,  6],\n",
              "       [ 7,  7, 10]])"
            ]
          },
          "execution_count": 149,
          "metadata": {},
          "output_type": "execute_result"
        }
      ],
      "source": [
        "np.dot(arr1, arr2) #another way of matrix multiplication"
      ]
    },
    {
      "cell_type": "code",
      "execution_count": null,
      "id": "2d4e1615-074b-4cf7-84f0-3c7312bbebee",
      "metadata": {
        "id": "2d4e1615-074b-4cf7-84f0-3c7312bbebee",
        "outputId": "d1251123-17ec-494a-fbaf-6397a95cbb86"
      },
      "outputs": [
        {
          "data": {
            "text/plain": [
              "array([[2, 1, 4],\n",
              "       [1, 1, 2],\n",
              "       [2, 4, 4]])"
            ]
          },
          "execution_count": 148,
          "metadata": {},
          "output_type": "execute_result"
        }
      ],
      "source": [
        "arr1 * arr2"
      ]
    },
    {
      "cell_type": "code",
      "execution_count": null,
      "id": "50c38267-69f5-4ea5-980a-0d07d4a3f62c",
      "metadata": {
        "id": "50c38267-69f5-4ea5-980a-0d07d4a3f62c"
      },
      "outputs": [],
      "source": [
        "#broadcasting"
      ]
    },
    {
      "cell_type": "code",
      "execution_count": null,
      "id": "947b0c8f-75ab-4b10-be65-6b584c14db29",
      "metadata": {
        "id": "947b0c8f-75ab-4b10-be65-6b584c14db29"
      },
      "outputs": [],
      "source": [
        "arr = np.zeros((3, 4))"
      ]
    },
    {
      "cell_type": "code",
      "execution_count": null,
      "id": "b70a119a-00b3-4ce7-a642-823a6735351d",
      "metadata": {
        "id": "b70a119a-00b3-4ce7-a642-823a6735351d",
        "outputId": "369ccc62-931d-415f-a4cc-be9961f2266c"
      },
      "outputs": [
        {
          "data": {
            "text/plain": [
              "array([[0., 0., 0., 0.],\n",
              "       [0., 0., 0., 0.],\n",
              "       [0., 0., 0., 0.]])"
            ]
          },
          "execution_count": 151,
          "metadata": {},
          "output_type": "execute_result"
        }
      ],
      "source": [
        "arr"
      ]
    },
    {
      "cell_type": "code",
      "execution_count": null,
      "id": "e7f5bcaa-78e3-42b2-a93a-015c8841c4c0",
      "metadata": {
        "id": "e7f5bcaa-78e3-42b2-a93a-015c8841c4c0",
        "outputId": "bb016def-9539-4ee1-b9d1-3f3bc73418bf"
      },
      "outputs": [
        {
          "data": {
            "text/plain": [
              "array([[5., 5., 5., 5.],\n",
              "       [5., 5., 5., 5.],\n",
              "       [5., 5., 5., 5.]])"
            ]
          },
          "execution_count": 152,
          "metadata": {},
          "output_type": "execute_result"
        }
      ],
      "source": [
        "arr+5"
      ]
    },
    {
      "cell_type": "code",
      "execution_count": null,
      "id": "63b06b1f-5155-4367-9a91-0f9d2454c0bc",
      "metadata": {
        "id": "63b06b1f-5155-4367-9a91-0f9d2454c0bc",
        "outputId": "ff977d71-ee1f-4676-ee71-ef68f2ca43a3"
      },
      "outputs": [
        {
          "data": {
            "text/plain": [
              "array([[-5., -5., -5., -5.],\n",
              "       [-5., -5., -5., -5.],\n",
              "       [-5., -5., -5., -5.]])"
            ]
          },
          "execution_count": 153,
          "metadata": {},
          "output_type": "execute_result"
        }
      ],
      "source": [
        "arr-5"
      ]
    },
    {
      "cell_type": "code",
      "execution_count": null,
      "id": "9f7584bb-ce2f-4e82-8254-9a5608e38153",
      "metadata": {
        "id": "9f7584bb-ce2f-4e82-8254-9a5608e38153"
      },
      "outputs": [],
      "source": [
        "a = np.array([1, 2, 3, 4])"
      ]
    },
    {
      "cell_type": "code",
      "execution_count": null,
      "id": "820e1edf-0998-46ad-9538-078bbe55ba91",
      "metadata": {
        "id": "820e1edf-0998-46ad-9538-078bbe55ba91",
        "outputId": "e595a257-9771-4468-8de4-0f6a52b3ae16"
      },
      "outputs": [
        {
          "data": {
            "text/plain": [
              "array([1, 2, 3, 4])"
            ]
          },
          "execution_count": 155,
          "metadata": {},
          "output_type": "execute_result"
        }
      ],
      "source": [
        "a"
      ]
    },
    {
      "cell_type": "code",
      "execution_count": null,
      "id": "4526dbc6-1405-4607-8ad4-ccb50564451e",
      "metadata": {
        "id": "4526dbc6-1405-4607-8ad4-ccb50564451e",
        "outputId": "9e850576-6797-4472-954b-e719e6b47b08"
      },
      "outputs": [
        {
          "data": {
            "text/plain": [
              "array([[0., 0., 0., 0.],\n",
              "       [0., 0., 0., 0.],\n",
              "       [0., 0., 0., 0.]])"
            ]
          },
          "execution_count": 156,
          "metadata": {},
          "output_type": "execute_result"
        }
      ],
      "source": [
        "arr"
      ]
    },
    {
      "cell_type": "code",
      "execution_count": null,
      "id": "85c67b74-e7ce-47ce-8ba7-e056ac50406c",
      "metadata": {
        "id": "85c67b74-e7ce-47ce-8ba7-e056ac50406c",
        "outputId": "4db692aa-19a0-4d96-ea9a-b8b58113d1b3"
      },
      "outputs": [
        {
          "data": {
            "text/plain": [
              "array([[1., 2., 3., 4.],\n",
              "       [1., 2., 3., 4.],\n",
              "       [1., 2., 3., 4.]])"
            ]
          },
          "execution_count": 157,
          "metadata": {},
          "output_type": "execute_result"
        }
      ],
      "source": [
        "arr+a"
      ]
    },
    {
      "cell_type": "code",
      "execution_count": null,
      "id": "d0d193b0-89a5-4c7b-a8cc-064a5ae38d9e",
      "metadata": {
        "id": "d0d193b0-89a5-4c7b-a8cc-064a5ae38d9e"
      },
      "outputs": [],
      "source": [
        "a = np.array([[1, 2, 3, 4]])"
      ]
    },
    {
      "cell_type": "code",
      "execution_count": null,
      "id": "9c3638f3-fe14-41a3-8afc-69b7072c5d98",
      "metadata": {
        "id": "9c3638f3-fe14-41a3-8afc-69b7072c5d98"
      },
      "outputs": [],
      "source": [
        "#Transpose>> converting rows to columns and columns to rows"
      ]
    },
    {
      "cell_type": "code",
      "execution_count": null,
      "id": "67837ec7-e3a7-4a1d-8ee3-14a593e26d85",
      "metadata": {
        "id": "67837ec7-e3a7-4a1d-8ee3-14a593e26d85",
        "outputId": "e901b6d9-b587-4ace-9832-9f7bd7cdd926"
      },
      "outputs": [
        {
          "data": {
            "text/plain": [
              "array([[1, 2, 3, 4]])"
            ]
          },
          "execution_count": 164,
          "metadata": {},
          "output_type": "execute_result"
        }
      ],
      "source": [
        "a"
      ]
    },
    {
      "cell_type": "code",
      "execution_count": null,
      "id": "7c058fba-a61e-4020-993c-34c065708969",
      "metadata": {
        "id": "7c058fba-a61e-4020-993c-34c065708969",
        "outputId": "ea5b86e0-c5e2-44cb-8b39-b27d71a7f009"
      },
      "outputs": [
        {
          "data": {
            "text/plain": [
              "array([1, 2, 3, 4])"
            ]
          },
          "execution_count": 162,
          "metadata": {},
          "output_type": "execute_result"
        }
      ],
      "source": [
        "a.T"
      ]
    },
    {
      "cell_type": "code",
      "execution_count": null,
      "id": "11759103-97ee-427c-8b5d-588181dd8237",
      "metadata": {
        "id": "11759103-97ee-427c-8b5d-588181dd8237"
      },
      "outputs": [],
      "source": []
    }
  ],
  "metadata": {
    "kernelspec": {
      "display_name": "Python 3 (ipykernel)",
      "language": "python",
      "name": "python3"
    },
    "language_info": {
      "codemirror_mode": {
        "name": "ipython",
        "version": 3
      },
      "file_extension": ".py",
      "mimetype": "text/x-python",
      "name": "python",
      "nbconvert_exporter": "python",
      "pygments_lexer": "ipython3",
      "version": "3.10.8"
    },
    "colab": {
      "provenance": [],
      "include_colab_link": true
    }
  },
  "nbformat": 4,
  "nbformat_minor": 5
}